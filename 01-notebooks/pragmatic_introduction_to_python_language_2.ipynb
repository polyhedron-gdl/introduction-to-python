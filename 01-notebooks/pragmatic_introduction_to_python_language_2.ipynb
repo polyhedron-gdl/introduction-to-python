{
 "cells": [
  {
   "cell_type": "markdown",
   "metadata": {},
   "source": [
    "<table align=\"left\">\n",
    "  <td>\n",
    "    <a target=\"_blank\" href=\"https://colab.research.google.com/github/polyhedron-gdl/introduction-to-python/blob/main/notebooks/pragmatic_introduction_to_python_language_2.ipynb\">\n",
    "        <img src=\"https://www.tensorflow.org/images/colab_logo_32px.png\" />Run in Google Colab</a>\n",
    "  </td>\n",
    "</table>"
   ]
  },
  {
   "cell_type": "markdown",
   "metadata": {},
   "source": [
    "# Coding Practice for Beginners"
   ]
  },
  {
   "cell_type": "markdown",
   "metadata": {},
   "source": [
    "## What's the target\n",
    "\n",
    "With the following exercises, you will learn to:\n",
    "\n",
    "- declare variables\n",
    "- collect user input\n",
    "- store information\n",
    "- repeat an action through loops\n",
    "- write functions to repeat blocks of code\n",
    "\n",
    "This chapter continues to present programming concepts by example, in the context of a linguistic processing task. We will wait until later before exploring each Python construct systematically. Don't worry if you see an example that contains something unfamiliar; simply try it out and see what it does, and modify it by substituting some part of the code with a different text or word. This way you will associate a task with a programming idiom, and learn the hows and whys later."
   ]
  },
  {
   "cell_type": "markdown",
   "metadata": {},
   "source": [
    "## How to use these projects\n",
    "\n",
    "First, read through the instructions and make sure you understand what you've read. Try to say what you read in your own words.\n",
    "Attempt to solve it on your own without going through YouTube tutorials or Google search. Push yourself. This is the idea of **deliberate practice** from Behavioral Psychology.\n",
    "\n",
    "If you haven't made any progress at all, watch a YouTube tutorial where available then look through the example code. You can also search online to see more example tutorials and Python code for the same problem. After going through, go back and try to write the code by yourself without looking at the tutorial. Again, push yourself. \n",
    "\n",
    "Whatever you do, do not blindly copy out the code in the tutorial. You may finish quickly but the reality is you haven't learned anything. If you feel you're completely stuck after lots of attempts, take a break. When you step away, we know from Neuroscience research that your subconscious will continue the learning. This is because your mind has shifted from **focused mode** to **diffused mode**.\n",
    "\n",
    "Finally pat yourself on the back (honestly I don't known if this is a correct english phrase)\n",
    "\n",
    "Repeat, repeat, repeat... and if you want to know more about *Deliberate Practice* click [here](https://www.sciencedirect.com/topics/psychology/deliberate-practice). You can find the source of many, if not all, of this\n",
    "projects [here](https://www.upgrad.com/blog/python-projects-ideas-topics-beginners/#9_Desktop_Notifier_App).\n",
    "\n",
    "**Question**: Why does the blog author describe exaclty **42** projects?"
   ]
  },
  {
   "cell_type": "markdown",
   "metadata": {},
   "source": [
    "## Word count\n",
    "\n",
    "Ask the user what's on their mind. Then after the user responds, count the number of words in the sentence and print that as an output.\n",
    "\n",
    ">*Example*:\n",
    ">\n",
    "> Prompt: what's on your mind today?\n",
    "> Input: well, it's just a day for me to be an expert in coding\n",
    "> Output: oh nice, you just told me what's on your mind in 13 words!"
   ]
  },
  {
   "cell_type": "code",
   "execution_count": null,
   "metadata": {},
   "outputs": [],
   "source": [
    "answer = input(\"What's in your mind today?    \")"
   ]
  },
  {
   "cell_type": "code",
   "execution_count": null,
   "metadata": {},
   "outputs": [],
   "source": [
    "print((\"oh nice, you just told me what's on your mind in %s words!\") % str(len(answer.split())))"
   ]
  },
  {
   "cell_type": "markdown",
   "metadata": {},
   "source": [
    "To take this a step further, open a file that is handed to you, count the number of words in there, then print it out."
   ]
  },
  {
   "cell_type": "markdown",
   "metadata": {},
   "source": [
    "## What's my acronym?\n",
    "\n",
    "Ask the user to enter the full meaning of an organization or concept and you'll provide the acronym to the user. \n",
    "\n",
    "For example:\n",
    "\n",
    ">- Input -> As Soon As Possible. Output -> ASAP.\n",
    ">- Input -> World Health Organization. Output -> WHO.\n",
    ">- Input -> Absent Without Leave. Output -> AWOL."
   ]
  },
  {
   "cell_type": "code",
   "execution_count": null,
   "metadata": {},
   "outputs": [],
   "source": [
    "acronim = ''\n",
    "\n",
    "x = input(\"Insert your sentence : \")\n",
    "y = x.split()\n",
    "\n",
    "for s in y:\n",
    "    acronim = acronim + s[0].upper()"
   ]
  },
  {
   "cell_type": "code",
   "execution_count": null,
   "metadata": {},
   "outputs": [],
   "source": [
    "print(acronim)    "
   ]
  },
  {
   "cell_type": "markdown",
   "metadata": {},
   "source": [
    "## Leap Year\n",
    "\n",
    "### A little digression on time measure\n",
    "\n",
    "The date system currently in use is based on the Gregorian calendar, first established in 1582 by Pope Gregory XIII. This calendar was designed to correct the errors introduced by the less accurate Julian calendar. In the Gregorian calendar, a normal year consists of 365 days. Because the actual length of a sidereal year (the time required for the Earth to revolve once about the Sun) is actually 365.2425 days, a \"leap year\" of 366 days is used once every four years to eliminate the error caused by three normal (but short) years. Any year that is evenly divisible by 4 is a leap year: for example, 1988, 1992, and 1996 are leap years.\n",
    "\n",
    "However, there is still a small error that must be accounted for. To eliminate this error, the Gregorian calendar stipulates that a year that is evenly divisible by 100 (for example, 1900) is a leap year only if it is also evenly divisible by 400.\n",
    "\n",
    "For this reason, the following years **are not** leap years:\n",
    "\n",
    "*1700, 1800, 1900, 2100, 2200, 2300, 2500, 2600*\n",
    "\n",
    "This is because **they are evenly divisible by 100 but not by 400**.\n",
    "\n",
    "The following years **are** leap years: *1600, 2000, 2400*\n",
    "\n",
    "This is because **they are evenly divisible by both 100 and 400**.\n",
    "\n",
    "Ok, now let's do a simple python program to find leap years.\n",
    "\n",
    "To understand this example, you should have the knowledge of the following Python programming topics:\n",
    "\n",
    "- Python Operators\n",
    "- Python if...else Statement\n"
   ]
  },
  {
   "cell_type": "code",
   "execution_count": null,
   "metadata": {},
   "outputs": [],
   "source": [
    "# Python program to check if year is a leap year or not\n",
    "\n",
    "# To get year (integer input) from the user\n",
    "year = int(input(\"Enter a year: \"))\n",
    "\n",
    "if (year % 4) == 0:\n",
    "   if (year % 100) == 0:\n",
    "       if (year % 400) == 0:\n",
    "           print(\"{0} is a leap year\".format(year))\n",
    "       else:\n",
    "           print(\"{0} is not a leap year\".format(year))\n",
    "   else:\n",
    "       print(\"{0} is a leap year\".format(year))\n",
    "else:\n",
    "   print(\"{0} is not a leap year\".format(year))"
   ]
  },
  {
   "cell_type": "markdown",
   "metadata": {},
   "source": [
    "## Is it a Fibonacci number? \n",
    "\n",
    "You input a number and the function created checks whether the number belongs to the Fibonacci sequence or not. If you don't known what a Fibonacci number is and how to detect it, read [this page](https://en.wikipedia.org/wiki/Fibonacci_number#Recognizing_Fibonacci_numbers) to find out some suggestion."
   ]
  },
  {
   "cell_type": "code",
   "execution_count": null,
   "metadata": {},
   "outputs": [],
   "source": [
    "import math\n",
    "\n",
    "# A utility function that returns true if x is perfect square \n",
    "def isPerfectSquare(x): \n",
    "    s = int(math.sqrt(x)) \n",
    "    return s*s == x \n",
    "\n",
    "# Returns true if n is a Fibinacci Number, else false \n",
    "def isFibonacci(n): \n",
    "    # n is Fibinacci if one of 5*n*n + 4 or 5*n*n - 4 or both \n",
    "    # is a perferct square \n",
    "    return isPerfectSquare(5*n*n + 4) or isPerfectSquare(5*n*n - 4) \n",
    "\n",
    "# A utility function to test above functions \n",
    "for i in range(1,15): \n",
    "    print(i, isFibonacci(i)) "
   ]
  },
  {
   "cell_type": "markdown",
   "metadata": {},
   "source": [
    "## Guess the number\n",
    "\n",
    "You ask a user to guess a number between 1 and 50. If they guess outside that range, you prompt with an error encouraging them to choose a number within the proper range. Whenever they guess the wrong number you ask if they want to keep playing or if they'd like to quit.\n",
    "\n",
    "Finally, when the user eventually guesses the right number you congratulate them and show the number of attempts they had.\n",
    "\n",
    "\n",
    ">**random module**\n",
    ">\n",
    ">Sometimes we want the computer to pick a random number in a given range, pick a random element from a list, pick a random card >from a deck, flip a coin, etc. The random module provides access to functions that support these types of operations. One such >operation is random.randrange(a, b) method (returns a random integer between a and b) that we are going to use in order to >select one random number."
   ]
  },
  {
   "cell_type": "code",
   "execution_count": null,
   "metadata": {},
   "outputs": [],
   "source": [
    "import random \n",
    "\n",
    "number = random.randrange(1, 100)\n",
    "guess  = input(\"Guess a number between 1 and 100 : \")\n",
    "guess  = int(guess)\n",
    "\n",
    "number_of_guess = 0\n",
    "while guess != number:\n",
    "    if(guess < number):\n",
    "        print(\"You need to guess higher. Try again\")\n",
    "        guess  = int(input(\"Guess a number between 1 and 100 : \"))\n",
    "    if(guess > number):\n",
    "        print(\"You need to guess lower. Try again\")\n",
    "        guess  = int(input(\"Guess a number between 1 and 100 : \"))\n",
    "    number_of_guess = number_of_guess + 1\n",
    "    \n",
    "print(\"You find the correct number with \" + str(number_of_guess) + \" guesses\")"
   ]
  },
  {
   "cell_type": "markdown",
   "metadata": {},
   "source": [
    "## Guess the word\n",
    "\n",
    "### First Game\n",
    "\n",
    "In this game, there is a list of words present, out of which python interpreter will choose 1 random word. The user first has to input their names and then, will be asked to guess any characters. If the random word contains that character, it will be shown as the output(with correct placement) else the program will ask you to guess another character. User will be given 12 turns(can be changed accordingly) to guess the complete word.\n",
    "\n",
    ">To understand this example, you should have the knowledge of the following Python programming topics:\n",
    ">\n",
    ">- using random numbers\n",
    ">- using strings\n",
    ">- loops and conditional(If, else) statements."
   ]
  },
  {
   "cell_type": "markdown",
   "metadata": {},
   "source": [
    "see [Python Tutor](http://pythontutor.com/)"
   ]
  },
  {
   "cell_type": "code",
   "execution_count": null,
   "metadata": {},
   "outputs": [],
   "source": [
    "import random\n",
    "# library that we use in order to choose \n",
    "# on random words from a list of words\n",
    "\n",
    "name = input(\"What is your name? \")\n",
    "# Here the user is asked to enter the name first\n",
    "\n",
    "print(\"Good Luck ! \", name)\n",
    "\n",
    "words = ['rainbow', 'computer', 'science', 'python', 'player', 'condition', \\\n",
    "         'reverse', 'water', 'board', 'geeks'] \n",
    "\n",
    "# Function will choose one random\n",
    "# word from this list of words\n",
    "word = random.choice(words)\n",
    "\n",
    "\n",
    "print(\"Guess the characters\")\n",
    "\n",
    "guesses = ''\n",
    "\n",
    "# any number of turns can be used here\n",
    "turns = 12\n",
    "\n",
    "while turns > 0:\n",
    "    # counts the number of times a user fails\n",
    "    failed = 0\n",
    "    # all characters from the input\n",
    "    # word taking one at a time.\n",
    "    for char in word: \n",
    "        # comparing that character with\n",
    "        # the character in guesses\n",
    "        if char in guesses: \n",
    "            print(char,end='')\n",
    "        else: \n",
    "            print(\"?\",end='')\n",
    "            # for every failure 1 will be\n",
    "            # incremented in failure\n",
    "            failed += 1\n",
    "    print('\\n')        \n",
    "    if failed == 0:\n",
    "        # user will win the game if failure is 0\n",
    "        # and 'You Win' will be given as output\n",
    "        print(\"You Win\") \n",
    "        \n",
    "        # this print the correct word\n",
    "        print(\"The word is: \", word) \n",
    "        break\n",
    "    \n",
    "    # if user has input the wrong alphabet then\n",
    "    # it will ask user to enter another alphabet\n",
    "    guess = input(\"guess a character:\")\n",
    "    \n",
    "    # every input character will be stored in guesses \n",
    "    guesses += guess \n",
    "    \n",
    "    # check input with the character in word\n",
    "    if guess not in word:\n",
    "        turns -= 1\n",
    "        # if the character doesn’t match the word\n",
    "        # then “Wrong” will be given as output \n",
    "        print(\"Wrong\")\n",
    "        # this will print the number of\n",
    "        # turns left for the user\n",
    "        print(\"You have\", + turns, 'more guesses')\n",
    "        if turns == 0:\n",
    "            print(\"You Loose\")"
   ]
  },
  {
   "cell_type": "markdown",
   "metadata": {},
   "source": [
    "### Second Game\n",
    "\n",
    "In the next we still focus on the user having to guess a randomly choosen word but the game is different from the previous one. You can create a list from which the word would have to be guessed. I propose to save the list in a txt file that you can load at the beginning of the game. In the example below I create two differente files with the 1000 most common used words in english and italian.\n",
    "\n",
    "The game starts with only the first character of the randomly chosen word and a list of ' * ' for the remaining characters.   After this, every time the user have a guess, another character of the secret word, at random, is shown until the complete word is revealed. \n",
    "\n",
    "You can improve the game setting a cap on the number of guesses allowed.\n",
    "\n",
    ">To understand this example, you should have the knowledge of the following Python programming topics:\n",
    ">\n",
    ">- using random numbers\n",
    ">- reading txt files\n",
    ">- loops and conditional(If, else) statements\n",
    "\n",
    "Click [here](https://ipywidgets.readthedocs.io/en/latest/index.html) for the documentation of the widgets library."
   ]
  },
  {
   "cell_type": "code",
   "execution_count": null,
   "metadata": {},
   "outputs": [],
   "source": [
    "import ipywidgets as widgets\n",
    "\n",
    "language = widgets.Select(\n",
    "    options=['english', 'italian'],\n",
    "    value='english',\n",
    "    # rows=10,\n",
    "    description='language :',\n",
    "    disabled=False\n",
    ")\n",
    "display(language)"
   ]
  },
  {
   "cell_type": "code",
   "execution_count": null,
   "metadata": {},
   "outputs": [],
   "source": [
    "print(language.value)"
   ]
  },
  {
   "cell_type": "code",
   "execution_count": null,
   "metadata": {},
   "outputs": [],
   "source": [
    "# define path\n",
    "path       = './data/txt/'\n",
    "# takes ongly the first two letters of the chosen language\n",
    "suffix     = language.value[:2]\n",
    "# build complete file name\n",
    "file_name  = path + '1000_most_common_words_' + suffix + '.txt'\n",
    "\n",
    "with open(file_name, \"r\") as f:\n",
    "    words_list = f.readlines()\n",
    "\n",
    "# chose a random word from the list\n",
    "from random import randint\n",
    "\n",
    "item        = randint(0, len(words_list))\n",
    "secret_word = words_list[item].strip()\n",
    "start       = secret_word[0] + ('*' * (len(secret_word)-1))\n",
    "guess       = '' \n",
    "\n",
    "extracted   = []\n",
    "for l in range(1, len(secret_word)):\n",
    "    print(start)\n",
    "    temp      = list(start)\n",
    "    guess     = input('Your guess? ')\n",
    "    # if the guess is correct we print a message to the winner and\n",
    "    # stop the for loop with the instruction 'break' \n",
    "    if guess == secret_word:\n",
    "        print(\"You won! The secret word was : \" + secret_word)\n",
    "        break\n",
    "    # select a random integer between 1 and the secret word lenght    \n",
    "    k         = randint(1, len(secret_word)-1)\n",
    "    # we check if the random number has been already drawn, in this\n",
    "    # case it is saved in the extracted list, so we check if k is\n",
    "    # in extracted in that case we draw another number.\n",
    "    while k in extracted and l < len(secret_word) - 1:\n",
    "        k  = randint(1, len(secret_word)-1)\n",
    "        \n",
    "    temp[k]   = secret_word[k]\n",
    "    start     = ''.join(temp)\n",
    "    extracted.append(k)\n",
    "\n",
    "if l == len(secret_word)-1:\n",
    "    print(\"You lost! The secret word was : \" + secret_word)    "
   ]
  },
  {
   "cell_type": "markdown",
   "metadata": {},
   "source": [
    "## Rock, Paper, Scissors\n",
    "This is a popular game played between two people. Each player gets to form one of three shapes using their hand:\n",
    "\n",
    "- rock \n",
    "- paper \n",
    "- scissors \n",
    "\n",
    "below you can find a simple program that implements this game in python. However there is no check on input, please correct this gap!"
   ]
  },
  {
   "cell_type": "code",
   "execution_count": null,
   "metadata": {},
   "outputs": [],
   "source": [
    "from random import randint\n",
    "\n",
    "choice = [\"rock\",\"paper\",\"scissors\"]\n",
    "player = ''\n",
    "\n",
    "while player != 'end':\n",
    "    computer = choice[randint(0,2)]\n",
    "    \n",
    "    player = input(\"Your Choice: \").lower()\n",
    "    if(player != 'end'): \n",
    "       print(\"Computer Chose: \" + computer)\n",
    " \n",
    "    if player == computer:\n",
    "        print(\"Draw\")\n",
    "    elif player == \"rock\" and computer == \"paper\":\n",
    "        print(\"Computer Wins\")\n",
    "    elif player == \"rock\" and computer == \"scissors\":\n",
    "        print(\"Player Wins\")\n",
    "    elif player == \"paper\" and computer == \"rock\":\n",
    "        print(\"Player Wins\")\n",
    "    elif player == \"paper\" and computer == \"scissors\":\n",
    "        print(\"Computer Wins\")\n",
    "    elif player == \"scissors\" and computer  == \"rock\":\n",
    "        print(\"Computer Wins\")\n",
    "    elif player == \"scissors\" and computer == \"paper\":\n",
    "        print(\"Player Wins\")\n",
    "    elif player == \"end\":\n",
    "        print(\"Thank you for playing with this notebook!\")"
   ]
  },
  {
   "cell_type": "markdown",
   "metadata": {},
   "source": [
    "## Mad Libs Game\n",
    "\n",
    "The idea is very simple: ask the user for an input, this could be anything such as a name, an adjective, a pronoun or even an action. Once you get the input, you can rearrange it to build up your own story. **Primarily focused on strings, variables, and concatenation, this project will teach you how to manipulate user-inputted data**. Of course you need a template to start with, for example, in the [wikipedia mad libs page](https://en.wikipedia.org/wiki/Mad_Libs) you can find this one:\n",
    "<!--\n",
    "![image.png](attachment:image.png)\n",
    "-->"
   ]
  },
  {
   "cell_type": "code",
   "execution_count": null,
   "metadata": {},
   "outputs": [],
   "source": [
    "exclamation = input('Insert an exclamation      :')\n",
    "adverb      = input('Give me an adverb...       :')\n",
    "noun        = input('... and a noun, please     :')\n",
    "adjective   = input('and finally and adjective  :')\n",
    "\n",
    "mad = '%s! he said %s as he jumped into his convertible %s and drove off with his %s wife'\n",
    "\n",
    "mad = mad % (exclamation, adverb, noun, adjective)"
   ]
  },
  {
   "cell_type": "code",
   "execution_count": null,
   "metadata": {},
   "outputs": [],
   "source": [
    "print(mad)"
   ]
  },
  {
   "cell_type": "markdown",
   "metadata": {},
   "source": [
    "[Here](https://www.madlibs.com/printables/) you can find much more examples. You can download a pdf with the template of a Mad Lib and try to complete, for example ... "
   ]
  },
  {
   "cell_type": "code",
   "execution_count": null,
   "metadata": {},
   "outputs": [],
   "source": [
    "adj1 = 'adorable'\n",
    "adj2 = 'adventurous'\n",
    "adj3 = 'aggressive'\n",
    "noun1 = 'cat'\n",
    "noun2 = 'dog'\n",
    "plural1 = 'cars'\n",
    "plural2 = 'windows'\n",
    "plural3 = 'trains'\n",
    "plural4 = 'trees'\n",
    "game1 = 'dungeons and dragons'\n",
    "game2 = 'monopoli'\n",
    "ing_verb_1 = 'eating'\n",
    "ing_verb_2 = 'phishing'\n",
    "ing_verb_3 = 'sending'\n",
    "number     = '42'"
   ]
  },
  {
   "cell_type": "code",
   "execution_count": null,
   "metadata": {},
   "outputs": [],
   "source": [
    "template = 'A vacation is when you take a trip to some ' + adj1 + ' place '             + \\\n",
    "           'with your ' + adj2 + ' family. Usually you go to some place '               + \\\n",
    "           'that is near a/an ' + noun1 + ' or up on a/an ' + noun2 + '.'               + \\\n",
    "           'A good vacation place is one where you can ride ' + plural1 + ' '           + \\\n",
    "           'or play ' + game1 + ' or go hunting for ' + plural2 + '. I like '           + \\\n",
    "           'to spend my time ' + ing_verb_1 + ' or ' + ing_verb_2 + '. '                + \\\n",
    "           'When parents go on a vacation, they spend their time eating '               + \\\n",
    "           'three ' + plural3 + ' a day and fathers play ' + game2 + ', and mothers '   + \\\n",
    "           'sit around ' + ing_verb_3 + '. Parents '                                    + \\\n",
    "           'need vacations more than kids because parents are always very '             + \\\n",
    "           '' + adj3 + ' and because they have to work ' + number + ' '                 + \\\n",
    "           'hours every day all year making enough ' + plural4 + ' to pay '             + \\\n",
    "           'for the vacation.'\n",
    "\n",
    "print(template)"
   ]
  },
  {
   "cell_type": "markdown",
   "metadata": {},
   "source": [
    "## Biography info\n",
    "\n",
    "Ask a user for their personal information one question at a time. Then check that the information they entered is valid. Finally, print a summary of all the information they entered back to them.\n",
    "\n",
    ">*Example*: What is your name? If the user enters * you prompt them that the input is wrong, and ask them to enter a valid name.\n",
    "\n",
    "It mandatory that you check the validity of the input data! At the end, if the input data are ok, you should print a short summary, otherwise you should print an error message with a guess on the probable error."
   ]
  },
  {
   "cell_type": "code",
   "execution_count": 1,
   "metadata": {},
   "outputs": [
    {
     "name": "stdout",
     "output_type": "stream",
     "text": [
      "What's your name?                                         : Giovanni\n",
      "What's your surname?                                      : Della Lunga\n",
      "When were you born (enter date in format yyyy/mm/dd)?     : 1962/02/14\n",
      "Your email?                                               : giovanni.dellalunga@gmail\n"
     ]
    }
   ],
   "source": [
    "#\n",
    "# phase 1 collect infos\n",
    "#\n",
    "name     = input(\"What's your name?                                         : \")\n",
    "surname  = input(\"What's your surname?                                      : \")\n",
    "birth    = input(\"When were you born (enter date in format yyyy/mm/dd)?     : \")\n",
    "email    = input(\"Your email?                                               : \")\n"
   ]
  },
  {
   "cell_type": "markdown",
   "metadata": {},
   "source": [
    "### Check a date format\n",
    "\n",
    "First of all, we check if the date is valid or not. A date is called valid if it actually exists in the calendar. For checking the validity of the date, we will use one python module called ‘datetime’. This module doesn’t provide any dedicated method to check if a date is valid or not but we will use this module with a simple trick to find out if a date is valid or not. Before going into details, let me quickly introduce you to the datetime module.\n",
    "\n",
    "#### Python datetime module\n",
    "\n",
    "Python datetime module is one of the most useful modules to work with simple and complex time. We can import this module to a python program by using the ‘import datetime’ statement at the beginning of the program. This module provides a lot of different methods to work with time. For example, we can use this module to print the current time, add days to the current time, add hours to the current time, add minutes to the current time etc. ‘datetime’ module can work with ‘naive’ and ‘aware’ kind of date time objects. ‘aware’ objects can hold additional information with the date time value like daylight saving information etc. As I have explained above, it doesn’t provide any method to check the validity of a date. We will use its constructor to create one ‘datetime’ object using the user provided values. If the constructor fails, it will throw one error. We will assume that the input values are not valid in that case.\n",
    "\n",
    "#### The The Algorithm to use \n",
    "\n",
    "- Get the input from the user\n",
    "- Input should be in the form of yyyy/mm/dd\n",
    "- Extract the inputs in different variables. e.g. if the user input is 02/04/99, we will extract the numbers 02, 04, and 99 and store them in three different variables.\n",
    "- Use the constructor of ‘datetime’ module to check if the date is valid or not."
   ]
  },
  {
   "cell_type": "code",
   "execution_count": null,
   "metadata": {},
   "outputs": [],
   "source": [
    "import datetime\n",
    "\n",
    "inputDate = birth\n",
    "\n",
    "year, month, day = inputDate.split('/')\n",
    "\n",
    "isValidDate = True\n",
    "try :\n",
    "    datetime.datetime(int(year),int(month),int(day))\n",
    "except ValueError :\n",
    "    isValidDate = False\n",
    "\n",
    "if(isValidDate) :\n",
    "    print (\"Input date is valid ..\")\n",
    "else :\n",
    "    print (\"Input date is not valid..\")"
   ]
  },
  {
   "cell_type": "markdown",
   "metadata": {},
   "source": [
    "Let's transform this code into a function..."
   ]
  },
  {
   "cell_type": "code",
   "execution_count": null,
   "metadata": {},
   "outputs": [],
   "source": [
    "def check_date(inputDate):\n",
    "    year, month, day = inputDate.split('/')\n",
    "\n",
    "    isValidDate = True\n",
    "    try :\n",
    "        datetime.datetime(int(year),int(month),int(day))\n",
    "    except ValueError :\n",
    "        isValidDate = False\n",
    "    \n",
    "    return isValidDate"
   ]
  },
  {
   "cell_type": "code",
   "execution_count": null,
   "metadata": {},
   "outputs": [],
   "source": [
    "# \n",
    "# phase 2 check infos\n",
    "#\n",
    "correct     = True\n",
    "wrong_input = ''\n",
    "# check name\n",
    "name = name + ' ' + surname\n",
    "if(name.find('*') > 0 or len(name.strip()) == 0):\n",
    "    correct = False\n",
    "    wrong_input = 'name'\n",
    "    \n",
    "# check birth date\n",
    "if(not check_date(birth)):\n",
    "    correct = False\n",
    "    wrong_input = 'birth date'\n",
    "\n",
    "# check email\n",
    "# An email is a string (a subset of ASCII characters) separated into two parts \n",
    "# by @ symbol, a “personal_info” and a domain, that is personal_info@domain.\n",
    "if(email.find(\"@\") > 0):\n",
    "    items = email.split('@')\n",
    "    print(items[0], items[1])\n",
    "    if(items[1].find(\".\") < 0):\n",
    "        correct = False\n",
    "        wrong_input = 'e-mail address'\n",
    "else:\n",
    "    correct = False\n",
    "    wrong_input = 'e-mail address'"
   ]
  },
  {
   "cell_type": "code",
   "execution_count": 4,
   "metadata": {},
   "outputs": [
    {
     "name": "stdout",
     "output_type": "stream",
     "text": [
      "-1\n"
     ]
    }
   ],
   "source": [
    "nome = 'giovanni'\n",
    "print(nome.find('p'))"
   ]
  },
  {
   "cell_type": "code",
   "execution_count": null,
   "metadata": {},
   "outputs": [],
   "source": [
    "#\n",
    "# phase 3 print final results\n",
    "#\n",
    "if(correct):\n",
    "    print((\"Name          : %s %s\") % (name, surname))\n",
    "    print((\"Date of birth : %s\")    % birth)\n",
    "    print((\"Your e-mail   : %s\")    % email)\n",
    "else:\n",
    "    print('Error in input data. Please check your ' + wrong_input)"
   ]
  },
  {
   "cell_type": "markdown",
   "metadata": {},
   "source": [
    "Improve the validation phase checking if the input year is a leap year."
   ]
  },
  {
   "cell_type": "markdown",
   "metadata": {},
   "source": [
    "## Is it a palindrome?\n",
    "\n",
    "Ask the user to give you a few words. Then check if any of the words is a palindrome. A palindrome is a word that remains the same whether it's read forward or backward."
   ]
  },
  {
   "cell_type": "code",
   "execution_count": 5,
   "metadata": {},
   "outputs": [
    {
     "data": {
      "text/plain": [
       "[1, 2, 3, 4, 5, 6, 7, 8, 9, 10, 11, 12, 13, 14, 15, 16, 17, 18, 19, 20, 21]"
      ]
     },
     "execution_count": 5,
     "metadata": {},
     "output_type": "execute_result"
    }
   ],
   "source": [
    "# Python sequence slice addresses can be written as a[start:end:step] \n",
    "original_list = list(range(1,22))\n",
    "original_list"
   ]
  },
  {
   "cell_type": "code",
   "execution_count": 6,
   "metadata": {},
   "outputs": [
    {
     "name": "stdout",
     "output_type": "stream",
     "text": [
      "[3, 6, 9, 12, 15]\n"
     ]
    }
   ],
   "source": [
    "print(original_list[2:15:3])"
   ]
  },
  {
   "cell_type": "code",
   "execution_count": 8,
   "metadata": {},
   "outputs": [
    {
     "name": "stdout",
     "output_type": "stream",
     "text": [
      "[1, 5, 9, 13, 17, 21]\n"
     ]
    }
   ],
   "source": [
    "# When start and end are absent, the whole sequence is assumed and thus s[::k] means \"every k-th item\n",
    "print(original_list[::4])"
   ]
  },
  {
   "cell_type": "code",
   "execution_count": 10,
   "metadata": {},
   "outputs": [
    {
     "name": "stdout",
     "output_type": "stream",
     "text": [
      "[21, 20, 19, 18, 17, 16, 15, 14, 13, 12, 11, 10, 9, 8, 7, 6, 5, 4, 3, 2, 1]\n"
     ]
    }
   ],
   "source": [
    "# you can use negative step to reverse a list...\n",
    "print(original_list[::-1])"
   ]
  },
  {
   "cell_type": "code",
   "execution_count": 11,
   "metadata": {},
   "outputs": [
    {
     "name": "stdout",
     "output_type": "stream",
     "text": [
      "Enter a word : giovanni\n"
     ]
    }
   ],
   "source": [
    "word = input(\"Enter a word : \")"
   ]
  },
  {
   "cell_type": "code",
   "execution_count": 12,
   "metadata": {},
   "outputs": [
    {
     "name": "stdout",
     "output_type": "stream",
     "text": [
      "The word you have entered is not a palindrome!\n"
     ]
    }
   ],
   "source": [
    "reversed = word[::-1]\n",
    "\n",
    "if(word == reversed):\n",
    "    print(\"The word you have entered is a palindrome!\")\n",
    "else:\n",
    "    print(\"The word you have entered is not a palindrome!\")"
   ]
  },
  {
   "cell_type": "code",
   "execution_count": 13,
   "metadata": {},
   "outputs": [
    {
     "data": {
      "text/plain": [
       "['rotas', 'opera', 'tenet', 'arepo', 'sator']"
      ]
     },
     "execution_count": 13,
     "metadata": {},
     "output_type": "execute_result"
    }
   ],
   "source": [
    "text = \"sator arepo tenet opera rotas\"\n",
    "\n",
    "original_list = text.split()\n",
    "reversed_list = original_list[::-1]\n",
    "reversed_list"
   ]
  },
  {
   "cell_type": "code",
   "execution_count": 14,
   "metadata": {},
   "outputs": [
    {
     "name": "stdout",
     "output_type": "stream",
     "text": [
      "['sator', 'arepo', 'tenet', 'opera', 'rotas']\n",
      "\n",
      "The text you have entered is a palindrome!\n"
     ]
    }
   ],
   "source": [
    "check_palindrome = []\n",
    "for word in reversed_list:\n",
    "    check_palindrome.append(word[::-1])\n",
    "print(check_palindrome)\n",
    "\n",
    "if(check_palindrome == original_list):\n",
    "    print(\"\\nThe text you have entered is a palindrome!\")"
   ]
  },
  {
   "cell_type": "markdown",
   "metadata": {},
   "source": [
    "## Gematria\n",
    "\n",
    "Read up on [Gematria](http://en.wikipedia.org/wiki/Gematria), a method for assigning numbers to words, and for mapping between words having the same number to discover the hidden meaning of texts.\n",
    "\n",
    "Write a function gematria() that sums the numerical values of the letters of a word, according to the letter values in letter_vals:"
   ]
  },
  {
   "cell_type": "code",
   "execution_count": null,
   "metadata": {},
   "outputs": [],
   "source": [
    "letter_vals = {'a':1, 'b':2, 'c':3, 'd':4, 'e':5, 'f':80, 'g':3, 'h':8, \\\n",
    "               'i':10, 'j':10, 'k':20, 'l':30, 'm':40, 'n':50, 'o':70, 'p':80, 'q':100, \\\n",
    "               'r':200, 's':300, 't':400, 'u':6, 'v':6, 'w':800, 'x':60, 'y':10, 'z':7}"
   ]
  },
  {
   "cell_type": "code",
   "execution_count": 15,
   "metadata": {},
   "outputs": [],
   "source": [
    "def gematria(word):\n",
    "    letter_vals = {'a':1, 'b':2, 'c':3, 'd':4, 'e':5, 'f':80, 'g':3, 'h':8, \\\n",
    "                   'i':10, 'j':10, 'k':20, 'l':30, 'm':40, 'n':50, 'o':70, 'p':80, 'q':100, \\\n",
    "                   'r':200, 's':300, 't':400, 'u':6, 'v':6, 'w':800, 'x':60, 'y':10, 'z':7}\n",
    "    value = 0\n",
    "    for c in word:\n",
    "        if c in letter_vals.keys():\n",
    "            value += letter_vals[c]\n",
    "    \n",
    "    return value"
   ]
  },
  {
   "cell_type": "code",
   "execution_count": 16,
   "metadata": {},
   "outputs": [
    {
     "data": {
      "text/plain": [
       "391"
      ]
     },
     "execution_count": 16,
     "metadata": {},
     "output_type": "execute_result"
    }
   ],
   "source": [
    "gematria(\"ismaele\")"
   ]
  },
  {
   "cell_type": "code",
   "execution_count": 17,
   "metadata": {},
   "outputs": [
    {
     "data": {
      "text/plain": [
       "666"
      ]
     },
     "execution_count": 17,
     "metadata": {},
     "output_type": "execute_result"
    }
   ],
   "source": [
    "gematria(\"market\")"
   ]
  },
  {
   "cell_type": "code",
   "execution_count": 21,
   "metadata": {},
   "outputs": [],
   "source": [
    "if 'google.colab' in str(get_ipython()):\n",
    "    from google.colab import files\n",
    "    uploaded = files.upload()\n",
    "    path = ''\n",
    "else:\n",
    "    path = '../data/txt/'"
   ]
  },
  {
   "cell_type": "code",
   "execution_count": 22,
   "metadata": {},
   "outputs": [
    {
     "name": "stdout",
     "output_type": "stream",
     "text": [
      "107064\n"
     ]
    }
   ],
   "source": [
    "import nltk\n",
    "\n",
    "with open(path + \"mobydick.txt\", \"r\") as f:\n",
    "    book = f.read()\n",
    "\n",
    "nltk_tokens = nltk.word_tokenize(book)    \n",
    "nltk_tokens = [w.lower() for w in nltk_tokens if w.isalpha()]\n",
    "\n",
    "print(len(nltk_tokens))"
   ]
  },
  {
   "cell_type": "code",
   "execution_count": 23,
   "metadata": {},
   "outputs": [
    {
     "name": "stdout",
     "output_type": "stream",
     "text": [
      "philosophy\n",
      "inoffensive\n",
      "deliberated\n",
      "patagonian\n",
      "papers\n",
      "taller\n",
      "market\n",
      "radiant\n",
      "verdant\n",
      "retain\n",
      "perishing\n",
      "miraculous\n",
      "voracious\n",
      "upbraidings\n",
      "oarsmen\n",
      "extra\n"
     ]
    }
   ],
   "source": [
    "for w in list(set(nltk_tokens)):\n",
    "    v = gematria(w)\n",
    "    if v == 666:\n",
    "        print(w)"
   ]
  },
  {
   "cell_type": "markdown",
   "metadata": {},
   "source": [
    "## Conclusion and References\n",
    "\n",
    "- The documentation for the ipywidgets library is [here](https://ipywidgets.readthedocs.io/en/latest/index.html)\n",
    "- *42 Exciting Python Project Ideas & Topics for Beginners* by Rohit Sharma [link](https://www.upgrad.com/blog/python-projects-ideas-topics-beginners/#9_Desktop_Notifier_App)"
   ]
  }
 ],
 "metadata": {
  "kernelspec": {
   "display_name": "Python 3",
   "language": "python",
   "name": "python3"
  },
  "language_info": {
   "codemirror_mode": {
    "name": "ipython",
    "version": 3
   },
   "file_extension": ".py",
   "mimetype": "text/x-python",
   "name": "python",
   "nbconvert_exporter": "python",
   "pygments_lexer": "ipython3",
   "version": "3.7.4"
  },
  "toc": {
   "base_numbering": 1,
   "nav_menu": {},
   "number_sections": true,
   "sideBar": true,
   "skip_h1_title": false,
   "title_cell": "Table of Contents",
   "title_sidebar": "Contents",
   "toc_cell": false,
   "toc_position": {},
   "toc_section_display": true,
   "toc_window_display": false
  }
 },
 "nbformat": 4,
 "nbformat_minor": 4
}
