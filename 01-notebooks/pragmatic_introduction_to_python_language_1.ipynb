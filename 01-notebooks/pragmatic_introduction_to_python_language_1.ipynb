{
 "cells": [
  {
   "cell_type": "markdown",
   "metadata": {
    "id": "XbDsNPLG1HLm"
   },
   "source": [
    "# A Pragmatic Introduction to Python"
   ]
  },
  {
   "cell_type": "markdown",
   "metadata": {
    "id": "ZCSLsffX1HLv"
   },
   "source": [
    "## What is Python? <a class=\"anchor\" id=\"chapter1\"></a>"
   ]
  },
  {
   "cell_type": "markdown",
   "metadata": {
    "executionInfo": {
     "elapsed": 980,
     "status": "ok",
     "timestamp": 1609784892801,
     "user": {
      "displayName": "Giovanni Della Lunga",
      "photoUrl": "https://lh3.googleusercontent.com/a-/AOh14GjZMmrRhk516rS61n00A5uWTcwVcQ-EsWyndxzs-w=s64",
      "userId": "13927304036683734865"
     },
     "user_tz": -60
    },
    "id": "2XOp0G8vpvwb",
    "outputId": "5c2ff0cc-388b-421b-b606-6753f7b5e835"
   },
   "source": [
    "### The Python Interpreter <a class=\"anchor\" id=\"section_1_1\"></a>\n",
    "\n",
    "- Python is an interpreted language\n",
    "- The interpreter provides an interactive environment to play with the language"
   ]
  },
  {
   "cell_type": "markdown",
   "metadata": {
    "id": "2cN5ZCDe1qaP"
   },
   "source": [
    "### No Braces, only Spaces! <a class=\"anchor\" id=\"section_1_2\"></a>\n",
    "\n",
    "- Python uses indentation instead of braces to determine the scope of expressions\n",
    "\n",
    "- All lines must be indented the same amount to be part of the scope (or indented more if part of an inner scope)\n",
    "\n",
    "- This forces the programmer to use proper indentation since the indenting is part of the program!"
   ]
  },
  {
   "cell_type": "markdown",
   "metadata": {
    "id": "5bBSp_G63uCD"
   },
   "source": [
    "## Understanding Basic String Functions <a class=\"anchor\" id=\"chapter2\"></a>\n",
    "\n",
    "### What is a String? <a class=\"anchor\" id=\"section_2_1\"></a>\n",
    "\n",
    "A string is a basic unit of interaction between the world of computers and the\n",
    "world of humans. Initially, almost all raw data is stored as strings.\n",
    "\n",
    "The case conversion functions return a copy of the original string s: `lower()`\n",
    "converts all characters to lowercase; `upper()` converts all characters to uppercase;\n",
    "and `capitalize()` converts the first character to uppercase and all other\n",
    "characters to lowercase. These functions don’t affect non-alphabetic characters.\n",
    "Case conversion functions are an important element of normalization."
   ]
  },
  {
   "cell_type": "code",
   "execution_count": 1,
   "metadata": {
    "colab": {
     "base_uri": "https://localhost:8080/"
    },
    "executionInfo": {
     "elapsed": 3737,
     "status": "ok",
     "timestamp": 1613754165137,
     "user": {
      "displayName": "Darth Maul",
      "photoUrl": "https://lh3.googleusercontent.com/a-/AOh14Gh5xqmxd78KGBkmKiP4Zt50OzFOZWcHeKbnR3Gl=s64",
      "userId": "09460696119666831892"
     },
     "user_tz": -60
    },
    "id": "qonR_dECwziJ",
    "outputId": "31f2979f-42f6-4f48-ad58-4b58222e85f8"
   },
   "outputs": [
    {
     "name": "stdout",
     "output_type": "stream",
     "text": [
      "The clock strikes at midnight!\n"
     ]
    }
   ],
   "source": [
    "message = 'The clock strikes at midnight!'\n",
    "print(message)"
   ]
  },
  {
   "cell_type": "code",
   "execution_count": 2,
   "metadata": {
    "colab": {
     "base_uri": "https://localhost:8080/",
     "height": 129
    },
    "executionInfo": {
     "elapsed": 6955,
     "status": "error",
     "timestamp": 1613754168386,
     "user": {
      "displayName": "Darth Maul",
      "photoUrl": "https://lh3.googleusercontent.com/a-/AOh14Gh5xqmxd78KGBkmKiP4Zt50OzFOZWcHeKbnR3Gl=s64",
      "userId": "09460696119666831892"
     },
     "user_tz": -60
    },
    "id": "fqXyBVcuwziK",
    "outputId": "e56a7362-f03f-423f-98bb-a1a92e45b4bc"
   },
   "outputs": [
    {
     "ename": "SyntaxError",
     "evalue": "invalid syntax (<ipython-input-2-a11d809302bd>, line 1)",
     "output_type": "error",
     "traceback": [
      "\u001b[1;36m  File \u001b[1;32m\"<ipython-input-2-a11d809302bd>\"\u001b[1;36m, line \u001b[1;32m1\u001b[0m\n\u001b[1;33m    message = 'I am looking for someone to share in an adventure that I am arranging, and it's very difficult to find anyone.'\u001b[0m\n\u001b[1;37m                                                                                             ^\u001b[0m\n\u001b[1;31mSyntaxError\u001b[0m\u001b[1;31m:\u001b[0m invalid syntax\n"
     ]
    }
   ],
   "source": [
    "message = 'I am looking for someone to share in an adventure that I am arranging, and it's very difficult to find anyone.'"
   ]
  },
  {
   "cell_type": "code",
   "execution_count": 3,
   "metadata": {
    "id": "xk-W2HyewziK"
   },
   "outputs": [],
   "source": [
    "message = 'I am looking for someone to share in an adventure that I am arranging, and it\\'s very difficult to find anyone.'"
   ]
  },
  {
   "cell_type": "code",
   "execution_count": 4,
   "metadata": {
    "colab": {
     "base_uri": "https://localhost:8080/"
    },
    "executionInfo": {
     "elapsed": 6933,
     "status": "ok",
     "timestamp": 1613754168393,
     "user": {
      "displayName": "Darth Maul",
      "photoUrl": "https://lh3.googleusercontent.com/a-/AOh14Gh5xqmxd78KGBkmKiP4Zt50OzFOZWcHeKbnR3Gl=s64",
      "userId": "09460696119666831892"
     },
     "user_tz": -60
    },
    "id": "19ipWXW8wziL",
    "outputId": "4e9ca461-2ae3-40d2-8f49-fce39c7a8cae"
   },
   "outputs": [
    {
     "name": "stdout",
     "output_type": "stream",
     "text": [
      "I am looking for someone to share in an adventure that I am arranging, and it's very difficult to find anyone.\n"
     ]
    }
   ],
   "source": [
    "message = \"I am looking for someone to share in an adventure that I am arranging, and it's very difficult to find anyone.\"\n",
    "print(message)"
   ]
  },
  {
   "cell_type": "code",
   "execution_count": 6,
   "metadata": {
    "colab": {
     "base_uri": "https://localhost:8080/"
    },
    "executionInfo": {
     "elapsed": 6917,
     "status": "ok",
     "timestamp": 1613754168398,
     "user": {
      "displayName": "Darth Maul",
      "photoUrl": "https://lh3.googleusercontent.com/a-/AOh14Gh5xqmxd78KGBkmKiP4Zt50OzFOZWcHeKbnR3Gl=s64",
      "userId": "09460696119666831892"
     },
     "user_tz": -60
    },
    "id": "p6kxL-rJ1HLx",
    "outputId": "8658d8cf-934c-4307-bf71-6c2b701c8081"
   },
   "outputs": [
    {
     "name": "stdout",
     "output_type": "stream",
     "text": [
      "WHAT is A strange string?\n",
      "what is a strange string? WHAT IS A STRANGE STRING? What is a strange string?\n"
     ]
    }
   ],
   "source": [
    "message = 'WHAT is A strange string?'\n",
    "print(message)\n",
    "print(message.lower(), message.upper(), message.capitalize())"
   ]
  },
  {
   "cell_type": "markdown",
   "metadata": {
    "id": "ZDDHMivB1HLz"
   },
   "source": [
    "In Python `lower()`, `upper()` and `capitalize()` are examples of **methods**. But what is a **method**?\n",
    "\n",
    ">Before we get any farther into the Python language, we have to say a word about *objects*. We will not be teaching object oriented programming in this introduction, but you will encounter objects throughout Python (in fact, even seemingly simple things like ints and strings are actually objects in Python).\n",
    "\n",
    ">An object is like a **bundled \"thing\" that contains within itself both data and functions that operate on that data**. For example, strings in Python are objects that contain a set of characters and also various functions that operate on the set of characters. When bundled in an object, these functions are called \"methods\".\n",
    "\n",
    "Would you like to know more about **markdown** syntax? Click [here](https://www.markdownguide.org/basic-syntax/).\n",
    "\n",
    "Instead of the \"normal\" function(arguments) syntax, methods are called using the syntax `variable.method(arguments)`. \n",
    "\n",
    "\n",
    "The *predicate functions* return `True` or `False`, depending on whether the string s\n",
    "belongs to the appropriate class: `islower()` checks if all alphabetic characters are\n",
    "in lowercase; `isupper()` checks if all alphabetic characters are in uppercase; `isspace()`\n",
    "checks if all characters are spaces; isdigit() checks if all characters are decimal\n",
    "digits in the range 0–9; and `isalpha()`checks if all characters are alphabetic\n",
    "characters in the ranges a–z or A–Z. You will use these functions to recognize\n",
    "valid words, nonnegative integer numbers, punctuation, and the like."
   ]
  },
  {
   "cell_type": "code",
   "execution_count": 6,
   "metadata": {
    "colab": {
     "base_uri": "https://localhost:8080/"
    },
    "executionInfo": {
     "elapsed": 6902,
     "status": "ok",
     "timestamp": 1613754168401,
     "user": {
      "displayName": "Darth Maul",
      "photoUrl": "https://lh3.googleusercontent.com/a-/AOh14Gh5xqmxd78KGBkmKiP4Zt50OzFOZWcHeKbnR3Gl=s64",
      "userId": "09460696119666831892"
     },
     "user_tz": -60
    },
    "id": "bDDoPLdO1HL0",
    "outputId": "354deca7-9cf3-4c50-d212-62ea6a23bded"
   },
   "outputs": [
    {
     "name": "stdout",
     "output_type": "stream",
     "text": [
      "The string is an uppercase string\n"
     ]
    }
   ],
   "source": [
    "message = 'THIS IS A STRING'\n",
    "\n",
    "if(message.isupper()):\n",
    "    print('The string is an uppercase string')"
   ]
  },
  {
   "cell_type": "markdown",
   "metadata": {
    "id": "hPju4iiU1HL0"
   },
   "source": [
    "#### Conditional Statements <a class=\"anchor\" id=\"section_2_1_2\"></a>\n",
    "\n",
    "Python **if Statement** is used for decision-making operations. It contains a body of code which runs only when the condition given in the if statement is true. If the condition is false, then the optional else statement runs which contains some code for the else condition.\n",
    "\n",
    "**Python if Statement Syntax:**\n",
    "\n",
    "```python\n",
    "if expression:\n",
    " Statement\n",
    "else: \n",
    " Statement\n",
    "```"
   ]
  },
  {
   "cell_type": "code",
   "execution_count": 7,
   "metadata": {
    "colab": {
     "base_uri": "https://localhost:8080/"
    },
    "executionInfo": {
     "elapsed": 6884,
     "status": "ok",
     "timestamp": 1613754168403,
     "user": {
      "displayName": "Darth Maul",
      "photoUrl": "https://lh3.googleusercontent.com/a-/AOh14Gh5xqmxd78KGBkmKiP4Zt50OzFOZWcHeKbnR3Gl=s64",
      "userId": "09460696119666831892"
     },
     "user_tz": -60
    },
    "id": "e0KdALQI1HL1",
    "outputId": "d3537979-c21a-44ee-9455-a01110e14178"
   },
   "outputs": [
    {
     "name": "stdout",
     "output_type": "stream",
     "text": [
      "The string has not a definite case\n"
     ]
    }
   ],
   "source": [
    "message = 'THIS is a string'\n",
    "\n",
    "if(message.isupper()):\n",
    "    print('The string is an uppercase string')\n",
    "elif(message.islower()):    \n",
    "    print('The string is a lowercase string')\n",
    "else:\n",
    "    print('The string has not a definite case')    "
   ]
  },
  {
   "cell_type": "markdown",
   "metadata": {
    "id": "ZiTpcCmlwziN"
   },
   "source": [
    "#### Conditional Operators <a class=\"anchor\" id=\"section_2_1_2\"></a>\n",
    "\n",
    "An if statement is known as a control structure because it controls whether the code in the indented block will be run.\n",
    "\n",
    "Python supports a wide range of operators, such as < and >=, for testing the relationship\n",
    "between values. The full set of these relational operators are shown in the table below\n",
    "\n",
    "\n",
    "| Operator | Relationship                                   |\n",
    "|:---------|:-----------------------------------------------|\n",
    "| <        | Less than                                      |\n",
    "| <=       | Less than or equal to                          |\n",
    "| ==       | Equal to (note this is two \"=\" signs not one!) |\n",
    "| !=       | Not equal to                                   |\n",
    "| >        | Greater than                                   |\n",
    "| >=       | Greater than or equal to                       |"
   ]
  },
  {
   "cell_type": "markdown",
   "metadata": {
    "id": "IDJqO8wJ1HL2"
   },
   "source": [
    "### String Processing <a class=\"anchor\" id=\"section_2_2\"></a>\n",
    "\n",
    "The first step toward string processing is getting rid of unwanted whitespaces\n",
    "(including new lines and tabs). The functions `lstrip()` (left strip), `rstrip()` (right\n",
    "strip), and `strip()` remove all whitespaces at the beginning, at the end, or all\n",
    "around the string. (They don’t remove the inner spaces.)"
   ]
  },
  {
   "cell_type": "code",
   "execution_count": 8,
   "metadata": {
    "colab": {
     "base_uri": "https://localhost:8080/"
    },
    "executionInfo": {
     "elapsed": 6858,
     "status": "ok",
     "timestamp": 1613754168404,
     "user": {
      "displayName": "Darth Maul",
      "photoUrl": "https://lh3.googleusercontent.com/a-/AOh14Gh5xqmxd78KGBkmKiP4Zt50OzFOZWcHeKbnR3Gl=s64",
      "userId": "09460696119666831892"
     },
     "user_tz": -60
    },
    "id": "xEbl55BS1HL2",
    "outputId": "ca9e3361-df9c-4e52-f2a8-4a1dc13006d0"
   },
   "outputs": [
    {
     "name": "stdout",
     "output_type": "stream",
     "text": [
      "Hello world!\n"
     ]
    }
   ],
   "source": [
    "message = \"       Hello world!     \"\n",
    "print(message.strip())"
   ]
  },
  {
   "cell_type": "code",
   "execution_count": 9,
   "metadata": {
    "colab": {
     "base_uri": "https://localhost:8080/"
    },
    "executionInfo": {
     "elapsed": 6839,
     "status": "ok",
     "timestamp": 1613754168405,
     "user": {
      "displayName": "Darth Maul",
      "photoUrl": "https://lh3.googleusercontent.com/a-/AOh14Gh5xqmxd78KGBkmKiP4Zt50OzFOZWcHeKbnR3Gl=s64",
      "userId": "09460696119666831892"
     },
     "user_tz": -60
    },
    "id": "6swAMd0S6u5R",
    "outputId": "a04eba40-52b4-4b52-df59-890c79b56e82"
   },
   "outputs": [
    {
     "name": "stdout",
     "output_type": "stream",
     "text": [
      "       Hello world!     \n"
     ]
    }
   ],
   "source": [
    "print(message)"
   ]
  },
  {
   "cell_type": "code",
   "execution_count": 10,
   "metadata": {
    "colab": {
     "base_uri": "https://localhost:8080/"
    },
    "executionInfo": {
     "elapsed": 6821,
     "status": "ok",
     "timestamp": 1613754168409,
     "user": {
      "displayName": "Darth Maul",
      "photoUrl": "https://lh3.googleusercontent.com/a-/AOh14Gh5xqmxd78KGBkmKiP4Zt50OzFOZWcHeKbnR3Gl=s64",
      "userId": "09460696119666831892"
     },
     "user_tz": -60
    },
    "id": "xQdbstFa6zZD",
    "outputId": "a8929c65-e17c-4264-a290-63c361c0ddb5"
   },
   "outputs": [
    {
     "name": "stdout",
     "output_type": "stream",
     "text": [
      "Hello world!\n"
     ]
    }
   ],
   "source": [
    "message = message.strip()\n",
    "print(message)"
   ]
  },
  {
   "cell_type": "markdown",
   "metadata": {
    "id": "7iKTg3iB1HL2"
   },
   "source": [
    "**The + Operator**\n",
    "The `+` operator concatenates strings. It returns a string consisting of the operands joined together, as shown here:"
   ]
  },
  {
   "cell_type": "code",
   "execution_count": 11,
   "metadata": {
    "colab": {
     "base_uri": "https://localhost:8080/",
     "height": 35
    },
    "executionInfo": {
     "elapsed": 6801,
     "status": "ok",
     "timestamp": 1613754168410,
     "user": {
      "displayName": "Darth Maul",
      "photoUrl": "https://lh3.googleusercontent.com/a-/AOh14Gh5xqmxd78KGBkmKiP4Zt50OzFOZWcHeKbnR3Gl=s64",
      "userId": "09460696119666831892"
     },
     "user_tz": -60
    },
    "id": "VMBF-4zB1HL3",
    "outputId": "41c2e35c-a015-4e64-93c1-dca070885976"
   },
   "outputs": [
    {
     "data": {
      "text/plain": [
       "'abcdef'"
      ]
     },
     "execution_count": 11,
     "metadata": {},
     "output_type": "execute_result"
    }
   ],
   "source": [
    "\"abc\" + \"def\""
   ]
  },
  {
   "cell_type": "markdown",
   "metadata": {
    "id": "fZPbjKIA1HL3"
   },
   "source": [
    "It should be underlined that a 'string' is a sequence of characters (letters, digits, spaces, punctuation, new lines, etc.)\n",
    "\n",
    "#### For Loop <a class=\"anchor\" id=\"section_2_2_1\"></a>\n",
    "\n",
    "Another control structure is the `for` loop. Try the following:"
   ]
  },
  {
   "cell_type": "code",
   "execution_count": 12,
   "metadata": {
    "colab": {
     "base_uri": "https://localhost:8080/"
    },
    "executionInfo": {
     "elapsed": 6785,
     "status": "ok",
     "timestamp": 1613754168412,
     "user": {
      "displayName": "Darth Maul",
      "photoUrl": "https://lh3.googleusercontent.com/a-/AOh14Gh5xqmxd78KGBkmKiP4Zt50OzFOZWcHeKbnR3Gl=s64",
      "userId": "09460696119666831892"
     },
     "user_tz": -60
    },
    "id": "Wwyr_abP1HL4",
    "outputId": "9d229544-d81a-44fb-fcb7-b866ac288fdd"
   },
   "outputs": [
    {
     "name": "stdout",
     "output_type": "stream",
     "text": [
      "H\n",
      "e\n",
      "l\n",
      "l\n",
      "o\n",
      "w\n",
      "o\n",
      "r\n",
      "l\n",
      "d\n",
      "!\n"
     ]
    }
   ],
   "source": [
    "for c in message:\n",
    "    if c != ' ':\n",
    "        print(c)"
   ]
  },
  {
   "cell_type": "markdown",
   "metadata": {
    "id": "Dx8U4YeYPaXU"
   },
   "source": [
    "The function print put a \"new line\" character by default at the end of the printed string. If we want to change this predefined behaviour, we can explicitly specify the character to use at the end, or we can decide to use no character at all like in the following example: "
   ]
  },
  {
   "cell_type": "code",
   "execution_count": 13,
   "metadata": {
    "colab": {
     "base_uri": "https://localhost:8080/"
    },
    "executionInfo": {
     "elapsed": 6765,
     "status": "ok",
     "timestamp": 1613754168414,
     "user": {
      "displayName": "Darth Maul",
      "photoUrl": "https://lh3.googleusercontent.com/a-/AOh14Gh5xqmxd78KGBkmKiP4Zt50OzFOZWcHeKbnR3Gl=s64",
      "userId": "09460696119666831892"
     },
     "user_tz": -60
    },
    "id": "EDdecRxdPaXU",
    "outputId": "709d0deb-c483-448d-ceec-566a5b690e9a"
   },
   "outputs": [
    {
     "name": "stdout",
     "output_type": "stream",
     "text": [
      "Helloworld!"
     ]
    }
   ],
   "source": [
    "for c in message:\n",
    "    if c != ' ':\n",
    "        print(c, end='')"
   ]
  },
  {
   "cell_type": "markdown",
   "metadata": {
    "id": "-zXtLFQRwziR"
   },
   "source": [
    ">**Note on indentation:** Notice the indentation once we enter the for loop. Every idented statement after the for loop declaration is part of the for loop. This rule holds true for while loops, if statements, functions, etc. Required identation is one of the reasons Python is such a beautiful language to read.\n",
    "\n",
    "If you do not have consistent indentation you will get an IndentationError. Fortunately, most code editors will ensure your indentation is correction.\n",
    "\n",
    ">**NOTE** In Python the default is to use four (4) spaces for each indentation, most editros can be configured to follow this guide.\n",
    "\n",
    "You will notice also that `if` and `for` statements have a colon at the end of the line, before the indentation begins. In fact, all Python control structures end with a colon. The colon indicates that the current statement relates to the indented block that follows."
   ]
  },
  {
   "cell_type": "code",
   "execution_count": 14,
   "metadata": {
    "colab": {
     "base_uri": "https://localhost:8080/"
    },
    "executionInfo": {
     "elapsed": 6752,
     "status": "ok",
     "timestamp": 1613754168416,
     "user": {
      "displayName": "Darth Maul",
      "photoUrl": "https://lh3.googleusercontent.com/a-/AOh14Gh5xqmxd78KGBkmKiP4Zt50OzFOZWcHeKbnR3Gl=s64",
      "userId": "09460696119666831892"
     },
     "user_tz": -60
    },
    "id": "MnEmBJunwziS",
    "outputId": "6d2690f6-7b00-461a-ea3b-91f198cc9876"
   },
   "outputs": [
    {
     "name": "stdout",
     "output_type": "stream",
     "text": [
      "['this', 'is', 'a', 'wonderful', 'python', 'tutorial']\n",
      "0 this this\n",
      "1 is is\n",
      "2 a a\n",
      "3 wonderful wonderful\n",
      "4 python python\n",
      "5 tutorial tutorial\n"
     ]
    }
   ],
   "source": [
    "wordlist = ['this','is','a','wonderful','python','tutorial']\n",
    "# Often we want to loop over the indexes of a collection, not just the items\n",
    "print(wordlist)\n",
    "\n",
    "for i, word in enumerate(wordlist):\n",
    "    print(i, word, wordlist[i])"
   ]
  },
  {
   "cell_type": "code",
   "execution_count": 15,
   "metadata": {
    "colab": {
     "base_uri": "https://localhost:8080/"
    },
    "executionInfo": {
     "elapsed": 6739,
     "status": "ok",
     "timestamp": 1613754168417,
     "user": {
      "displayName": "Darth Maul",
      "photoUrl": "https://lh3.googleusercontent.com/a-/AOh14Gh5xqmxd78KGBkmKiP4Zt50OzFOZWcHeKbnR3Gl=s64",
      "userId": "09460696119666831892"
     },
     "user_tz": -60
    },
    "id": "E9eTZicbwziS",
    "outputId": "aade873d-1a52-49c6-becf-45a04250a774"
   },
   "outputs": [
    {
     "name": "stdout",
     "output_type": "stream",
     "text": [
      "1 2\n",
      "2 4\n",
      "3 8\n",
      "4 16\n",
      "5 32\n",
      "6 64\n",
      "7 128\n",
      "Reached a product of 128 at step number 7\n"
     ]
    }
   ],
   "source": [
    "# While loops are useful when you don't know how many steps you will need,\n",
    "# and want to stop once a certain condition is met.\n",
    "step = 0\n",
    "prod = 1\n",
    "while prod < 100:\n",
    "    step = step + 1\n",
    "    prod = prod * 2\n",
    "    print(step, prod)\n",
    "    \n",
    "print('Reached a product of', prod, 'at step number', step)"
   ]
  },
  {
   "cell_type": "markdown",
   "metadata": {
    "id": "07gSMY371HL4"
   },
   "source": [
    "#### String template <a class=\"anchor\" id=\"section_2_2_2\"></a>"
   ]
  },
  {
   "cell_type": "code",
   "execution_count": 16,
   "metadata": {
    "colab": {
     "base_uri": "https://localhost:8080/"
    },
    "executionInfo": {
     "elapsed": 6726,
     "status": "ok",
     "timestamp": 1613754168419,
     "user": {
      "displayName": "Darth Maul",
      "photoUrl": "https://lh3.googleusercontent.com/a-/AOh14Gh5xqmxd78KGBkmKiP4Zt50OzFOZWcHeKbnR3Gl=s64",
      "userId": "09460696119666831892"
     },
     "user_tz": -60
    },
    "id": "sCl18bfW1HL5",
    "outputId": "de1d0aea-5e1f-48a2-b364-26c64d5a63a7"
   },
   "outputs": [
    {
     "name": "stdout",
     "output_type": "stream",
     "text": [
      "Contract number 112 refers to Clark Kent\n",
      "Contract number 145 refers to Bruce T. P. Wayne\n"
     ]
    }
   ],
   "source": [
    "template = \"Contract number %s refers to %s\"\n",
    "\n",
    "print(template % (112, 'Clark Kent'))\n",
    "print(template % (145, 'Bruce T. P. Wayne'))"
   ]
  },
  {
   "cell_type": "markdown",
   "metadata": {
    "id": "k_RYb9Rn1HL5"
   },
   "source": [
    "#### Splitting <a class=\"anchor\" id=\"section_2_2_3\"></a>\n",
    "\n",
    "Often a string consists of several tokens, separated by delimiters such as\n",
    "spaces, colons, and commas. The function `split(delim='')` splits the string s into\n",
    "a list of substrings, using `delim` as the delimiter. If the delimiter isn’t specified,\n",
    "Python splits the string by all whitespaces and lumps all contiguous whitespaces\n",
    "together:"
   ]
  },
  {
   "cell_type": "code",
   "execution_count": 17,
   "metadata": {
    "colab": {
     "base_uri": "https://localhost:8080/"
    },
    "executionInfo": {
     "elapsed": 6713,
     "status": "ok",
     "timestamp": 1613754168421,
     "user": {
      "displayName": "Darth Maul",
      "photoUrl": "https://lh3.googleusercontent.com/a-/AOh14Gh5xqmxd78KGBkmKiP4Zt50OzFOZWcHeKbnR3Gl=s64",
      "userId": "09460696119666831892"
     },
     "user_tz": -60
    },
    "id": "raB6xDew1HL5",
    "outputId": "f65fe62e-8eef-499e-932b-1f70147d4e67"
   },
   "outputs": [
    {
     "name": "stdout",
     "output_type": "stream",
     "text": [
      "['One', 'Ring', 'to', 'rule', 'them', 'all,', 'One', 'ring', 'to', 'find', 'them,', 'One', 'ring', 'to', 'bring', 'them', 'all', 'and', 'in', 'the', 'darkness', 'bind', 'them']\n",
      "['One Ring to rule them all', ' One ring to find them', ' One ring to bring them all and in the darkness bind them']\n"
     ]
    }
   ],
   "source": [
    "sentence = \"One Ring to rule them all, One ring to find them, One ring to bring them all and in the darkness bind them\"\n",
    "print(sentence.split())\n",
    "print(sentence.split(sep=','))"
   ]
  },
  {
   "cell_type": "code",
   "execution_count": 18,
   "metadata": {
    "colab": {
     "base_uri": "https://localhost:8080/"
    },
    "executionInfo": {
     "elapsed": 6701,
     "status": "ok",
     "timestamp": 1613754168424,
     "user": {
      "displayName": "Darth Maul",
      "photoUrl": "https://lh3.googleusercontent.com/a-/AOh14Gh5xqmxd78KGBkmKiP4Zt50OzFOZWcHeKbnR3Gl=s64",
      "userId": "09460696119666831892"
     },
     "user_tz": -60
    },
    "id": "cWRNBR7B1HL6",
    "outputId": "03d0689c-6c61-4f6f-9730-3cbad467d4d0"
   },
   "outputs": [
    {
     "name": "stdout",
     "output_type": "stream",
     "text": [
      "['www', 'networksciencelab', 'com']\n"
     ]
    }
   ],
   "source": [
    "site  = 'www.networksciencelab.com'\n",
    "slist = site.split(sep='.')\n",
    "print(slist)"
   ]
  },
  {
   "cell_type": "code",
   "execution_count": 19,
   "metadata": {
    "colab": {
     "base_uri": "https://localhost:8080/"
    },
    "executionInfo": {
     "elapsed": 6690,
     "status": "ok",
     "timestamp": 1613754168428,
     "user": {
      "displayName": "Darth Maul",
      "photoUrl": "https://lh3.googleusercontent.com/a-/AOh14Gh5xqmxd78KGBkmKiP4Zt50OzFOZWcHeKbnR3Gl=s64",
      "userId": "09460696119666831892"
     },
     "user_tz": -60
    },
    "id": "Q_EhXhAY1HL6",
    "outputId": "914590b3-b612-4556-9228-bddc79340300"
   },
   "outputs": [
    {
     "name": "stdout",
     "output_type": "stream",
     "text": [
      "1st item of list:\n",
      "www\n",
      "2nd item of list:\n",
      "networksciencelab\n",
      "3rd item of list:\n",
      "com\n"
     ]
    }
   ],
   "source": [
    "print('1st item of list:')\n",
    "print(slist[0])\n",
    "print('2nd item of list:')\n",
    "print(slist[1])\n",
    "print('3rd item of list:')\n",
    "print(slist[2])"
   ]
  },
  {
   "cell_type": "code",
   "execution_count": 20,
   "metadata": {
    "colab": {
     "base_uri": "https://localhost:8080/"
    },
    "executionInfo": {
     "elapsed": 6675,
     "status": "ok",
     "timestamp": 1613754168429,
     "user": {
      "displayName": "Darth Maul",
      "photoUrl": "https://lh3.googleusercontent.com/a-/AOh14Gh5xqmxd78KGBkmKiP4Zt50OzFOZWcHeKbnR3Gl=s64",
      "userId": "09460696119666831892"
     },
     "user_tz": -60
    },
    "id": "IcTASo8C1HL6",
    "outputId": "b2612c8d-df2c-4c4f-cf86-082543218d71"
   },
   "outputs": [
    {
     "name": "stdout",
     "output_type": "stream",
     "text": [
      "1st item of list: www\n"
     ]
    }
   ],
   "source": [
    "print('1st item of list: ' + slist[0])"
   ]
  },
  {
   "cell_type": "markdown",
   "metadata": {
    "id": "kWNLvKWc1HL7"
   },
   "source": [
    "The sister function `join(ls)` joins a list of strings ls into one string, using the\n",
    "object string as the glue. You can recombine fragments with `join()`:"
   ]
  },
  {
   "cell_type": "code",
   "execution_count": 21,
   "metadata": {
    "colab": {
     "base_uri": "https://localhost:8080/",
     "height": 35
    },
    "executionInfo": {
     "elapsed": 6661,
     "status": "ok",
     "timestamp": 1613754168429,
     "user": {
      "displayName": "Darth Maul",
      "photoUrl": "https://lh3.googleusercontent.com/a-/AOh14Gh5xqmxd78KGBkmKiP4Zt50OzFOZWcHeKbnR3Gl=s64",
      "userId": "09460696119666831892"
     },
     "user_tz": -60
    },
    "id": "D1UbyVzU1HL7",
    "outputId": "317259bc-288e-48fa-a5ec-f53d9897b951"
   },
   "outputs": [
    {
     "data": {
      "text/plain": [
       "'wwwnetworksciencelabcom'"
      ]
     },
     "execution_count": 21,
     "metadata": {},
     "output_type": "execute_result"
    }
   ],
   "source": [
    "''.join(slist)"
   ]
  },
  {
   "cell_type": "code",
   "execution_count": 22,
   "metadata": {
    "colab": {
     "base_uri": "https://localhost:8080/",
     "height": 35
    },
    "executionInfo": {
     "elapsed": 6649,
     "status": "ok",
     "timestamp": 1613754168431,
     "user": {
      "displayName": "Darth Maul",
      "photoUrl": "https://lh3.googleusercontent.com/a-/AOh14Gh5xqmxd78KGBkmKiP4Zt50OzFOZWcHeKbnR3Gl=s64",
      "userId": "09460696119666831892"
     },
     "user_tz": -60
    },
    "id": "dFXt6P7X1HL7",
    "outputId": "b9e67257-7fb7-45c5-a34b-baf448dd8548"
   },
   "outputs": [
    {
     "data": {
      "text/plain": [
       "'www networksciencelab com'"
      ]
     },
     "execution_count": 22,
     "metadata": {},
     "output_type": "execute_result"
    }
   ],
   "source": [
    "' '.join(slist)"
   ]
  },
  {
   "cell_type": "code",
   "execution_count": 23,
   "metadata": {
    "colab": {
     "base_uri": "https://localhost:8080/",
     "height": 35
    },
    "executionInfo": {
     "elapsed": 6637,
     "status": "ok",
     "timestamp": 1613754168432,
     "user": {
      "displayName": "Darth Maul",
      "photoUrl": "https://lh3.googleusercontent.com/a-/AOh14Gh5xqmxd78KGBkmKiP4Zt50OzFOZWcHeKbnR3Gl=s64",
      "userId": "09460696119666831892"
     },
     "user_tz": -60
    },
    "id": "J45109h21HL8",
    "outputId": "b730df6b-29cf-449f-f0f5-f1f1db62180f"
   },
   "outputs": [
    {
     "data": {
      "text/plain": [
       "'www.networksciencelab.com'"
      ]
     },
     "execution_count": 23,
     "metadata": {},
     "output_type": "execute_result"
    }
   ],
   "source": [
    "'.'.join(slist)"
   ]
  },
  {
   "cell_type": "code",
   "execution_count": 24,
   "metadata": {
    "colab": {
     "base_uri": "https://localhost:8080/"
    },
    "executionInfo": {
     "elapsed": 6625,
     "status": "ok",
     "timestamp": 1613754168435,
     "user": {
      "displayName": "Darth Maul",
      "photoUrl": "https://lh3.googleusercontent.com/a-/AOh14Gh5xqmxd78KGBkmKiP4Zt50OzFOZWcHeKbnR3Gl=s64",
      "userId": "09460696119666831892"
     },
     "user_tz": -60
    },
    "id": "Grsj-oIZ1HL8",
    "outputId": "a6f53d65-abe6-432d-f8c8-357d3d7fc202"
   },
   "outputs": [
    {
     "name": "stdout",
     "output_type": "stream",
     "text": [
      "2020/10/10\n"
     ]
    }
   ],
   "source": [
    "date = '2020-10-10'\n",
    "date = date.split('-')\n",
    "date = '/'.join(date)\n",
    "\n",
    "print(date)"
   ]
  },
  {
   "cell_type": "code",
   "execution_count": 25,
   "metadata": {
    "colab": {
     "base_uri": "https://localhost:8080/"
    },
    "executionInfo": {
     "elapsed": 6611,
     "status": "ok",
     "timestamp": 1613754168436,
     "user": {
      "displayName": "Darth Maul",
      "photoUrl": "https://lh3.googleusercontent.com/a-/AOh14Gh5xqmxd78KGBkmKiP4Zt50OzFOZWcHeKbnR3Gl=s64",
      "userId": "09460696119666831892"
     },
     "user_tz": -60
    },
    "id": "_Qff5e941HL8",
    "outputId": "2bc6ae3c-7017-4a6c-e86f-9d9883da3833"
   },
   "outputs": [
    {
     "name": "stdout",
     "output_type": "stream",
     "text": [
      "2020/10/10\n"
     ]
    }
   ],
   "source": [
    "date = '2020-10-10'\n",
    "print(date.replace('-','/'))"
   ]
  },
  {
   "cell_type": "code",
   "execution_count": 26,
   "metadata": {
    "colab": {
     "base_uri": "https://localhost:8080/",
     "height": 35
    },
    "executionInfo": {
     "elapsed": 6599,
     "status": "ok",
     "timestamp": 1613754168439,
     "user": {
      "displayName": "Darth Maul",
      "photoUrl": "https://lh3.googleusercontent.com/a-/AOh14Gh5xqmxd78KGBkmKiP4Zt50OzFOZWcHeKbnR3Gl=s64",
      "userId": "09460696119666831892"
     },
     "user_tz": -60
    },
    "id": "Y-yMWruD1HL9",
    "outputId": "f3edc992-bacb-43a6-89b7-d78920aa494b"
   },
   "outputs": [
    {
     "data": {
      "text/plain": [
       "'This string has so many spaces!'"
      ]
     },
     "execution_count": 26,
     "metadata": {},
     "output_type": "execute_result"
    }
   ],
   "source": [
    "myString = 'This             string   has       so           many               spaces!'\n",
    "myString = ' '.join(myString.split())\n",
    "myString"
   ]
  },
  {
   "cell_type": "markdown",
   "metadata": {
    "id": "sCf9Jpfl1HL9"
   },
   "source": [
    "#### Searching <a class=\"anchor\" id=\"section_2_2_4\"></a>\n",
    "\n",
    "Search a specific substring"
   ]
  },
  {
   "cell_type": "code",
   "execution_count": 27,
   "metadata": {
    "id": "Ox1wAfg11HL9"
   },
   "outputs": [],
   "source": [
    "path = 'C:/folder1/folder2/folder3/filename.ext'"
   ]
  },
  {
   "cell_type": "code",
   "execution_count": 28,
   "metadata": {
    "colab": {
     "base_uri": "https://localhost:8080/"
    },
    "executionInfo": {
     "elapsed": 6601,
     "status": "ok",
     "timestamp": 1613754168458,
     "user": {
      "displayName": "Darth Maul",
      "photoUrl": "https://lh3.googleusercontent.com/a-/AOh14Gh5xqmxd78KGBkmKiP4Zt50OzFOZWcHeKbnR3Gl=s64",
      "userId": "09460696119666831892"
     },
     "user_tz": -60
    },
    "id": "KcvFTb171HL-",
    "outputId": "1029a78c-3eb3-4550-9db4-94ad10de9b3e"
   },
   "outputs": [
    {
     "name": "stdout",
     "output_type": "stream",
     "text": [
      "36\n"
     ]
    }
   ],
   "source": [
    "print(path.find('ext'))"
   ]
  },
  {
   "cell_type": "code",
   "execution_count": 29,
   "metadata": {
    "colab": {
     "base_uri": "https://localhost:8080/"
    },
    "executionInfo": {
     "elapsed": 6585,
     "status": "ok",
     "timestamp": 1613754168459,
     "user": {
      "displayName": "Darth Maul",
      "photoUrl": "https://lh3.googleusercontent.com/a-/AOh14Gh5xqmxd78KGBkmKiP4Zt50OzFOZWcHeKbnR3Gl=s64",
      "userId": "09460696119666831892"
     },
     "user_tz": -60
    },
    "id": "Cgw7GwjY1HL-",
    "outputId": "6bfea86d-e862-43ad-ea3b-8ab40a6cbc4d"
   },
   "outputs": [
    {
     "name": "stdout",
     "output_type": "stream",
     "text": [
      "4\n"
     ]
    }
   ],
   "source": [
    "print(path.count('/'))"
   ]
  },
  {
   "cell_type": "code",
   "execution_count": 30,
   "metadata": {
    "colab": {
     "base_uri": "https://localhost:8080/"
    },
    "executionInfo": {
     "elapsed": 6571,
     "status": "ok",
     "timestamp": 1613754168460,
     "user": {
      "displayName": "Darth Maul",
      "photoUrl": "https://lh3.googleusercontent.com/a-/AOh14Gh5xqmxd78KGBkmKiP4Zt50OzFOZWcHeKbnR3Gl=s64",
      "userId": "09460696119666831892"
     },
     "user_tz": -60
    },
    "id": "_-3wYbEP1HL_",
    "outputId": "436c15e2-bfae-41a3-ca37-c2a8885de569"
   },
   "outputs": [
    {
     "name": "stdout",
     "output_type": "stream",
     "text": [
      "['C:', 'folder1', 'folder2', 'folder3', 'filename.ext']\n"
     ]
    }
   ],
   "source": [
    "print(path.split('/'))"
   ]
  },
  {
   "cell_type": "markdown",
   "metadata": {
    "id": "oh7p0Ydn1HL_"
   },
   "source": [
    "## Choosing the Right Data Structure <a class=\"anchor\" id=\"chapter3\"></a>"
   ]
  },
  {
   "cell_type": "markdown",
   "metadata": {
    "id": "17WpMbY_4mtU"
   },
   "source": [
    "The most commonly used compound data structures in Python are:\n",
    "\n",
    "- **lists**,\n",
    "- **tuples**, \n",
    "- **sets**, and \n",
    "- **dictionaries**. \n",
    "\n",
    "All four of them are collections."
   ]
  },
  {
   "cell_type": "markdown",
   "metadata": {
    "id": "joTQRRV0vBDy"
   },
   "source": [
    "### Lists <a class=\"anchor\" id=\"section_3_1\"></a>\n",
    "\n",
    "Python implements lists as arrays. They have linear search time, which makes\n",
    "them impractical for storing large amounts of searchable data."
   ]
  },
  {
   "cell_type": "code",
   "execution_count": 31,
   "metadata": {
    "colab": {
     "base_uri": "https://localhost:8080/"
    },
    "executionInfo": {
     "elapsed": 1390,
     "status": "ok",
     "timestamp": 1614274042885,
     "user": {
      "displayName": "Darth Maul",
      "photoUrl": "https://lh3.googleusercontent.com/a-/AOh14Gh5xqmxd78KGBkmKiP4Zt50OzFOZWcHeKbnR3Gl=s64",
      "userId": "09460696119666831892"
     },
     "user_tz": -60
    },
    "id": "WND4m39LvBDz",
    "outputId": "49c03cd8-f83e-44d6-aa85-3fb4d02840f5"
   },
   "outputs": [
    {
     "name": "stdout",
     "output_type": "stream",
     "text": [
      "['blueberry', 'strawberry', 'pineapple'] <class 'list'>\n"
     ]
    }
   ],
   "source": [
    "# Lists are created with square bracket syntax\n",
    "a = ['blueberry', 'strawberry', 'pineapple']\n",
    "print(a, type(a))"
   ]
  },
  {
   "cell_type": "code",
   "execution_count": 32,
   "metadata": {
    "id": "j7uU6_XRvBD0"
   },
   "outputs": [],
   "source": [
    "a = [21, 32, 15, 34]"
   ]
  },
  {
   "cell_type": "code",
   "execution_count": 33,
   "metadata": {
    "colab": {
     "base_uri": "https://localhost:8080/"
    },
    "executionInfo": {
     "elapsed": 1005,
     "status": "ok",
     "timestamp": 1614274045332,
     "user": {
      "displayName": "Darth Maul",
      "photoUrl": "https://lh3.googleusercontent.com/a-/AOh14Gh5xqmxd78KGBkmKiP4Zt50OzFOZWcHeKbnR3Gl=s64",
      "userId": "09460696119666831892"
     },
     "user_tz": -60
    },
    "id": "box0aHE4vBD0",
    "outputId": "4a99b4de-bf72-4a22-f911-328c85f80326"
   },
   "outputs": [
    {
     "data": {
      "text/plain": [
       "4"
      ]
     },
     "execution_count": 33,
     "metadata": {},
     "output_type": "execute_result"
    }
   ],
   "source": [
    "len(a)"
   ]
  },
  {
   "cell_type": "code",
   "execution_count": 34,
   "metadata": {
    "colab": {
     "base_uri": "https://localhost:8080/"
    },
    "executionInfo": {
     "elapsed": 837,
     "status": "ok",
     "timestamp": 1614274046013,
     "user": {
      "displayName": "Darth Maul",
      "photoUrl": "https://lh3.googleusercontent.com/a-/AOh14Gh5xqmxd78KGBkmKiP4Zt50OzFOZWcHeKbnR3Gl=s64",
      "userId": "09460696119666831892"
     },
     "user_tz": -60
    },
    "id": "auo-glfQvBD0",
    "outputId": "2744d9b5-8703-4b53-daed-8392f12b0bda"
   },
   "outputs": [
    {
     "data": {
      "text/plain": [
       "21"
      ]
     },
     "execution_count": 34,
     "metadata": {},
     "output_type": "execute_result"
    }
   ],
   "source": [
    "a[0]  # list indexing is zero-based"
   ]
  },
  {
   "cell_type": "code",
   "execution_count": 35,
   "metadata": {
    "colab": {
     "base_uri": "https://localhost:8080/"
    },
    "executionInfo": {
     "elapsed": 966,
     "status": "ok",
     "timestamp": 1614274048048,
     "user": {
      "displayName": "Darth Maul",
      "photoUrl": "https://lh3.googleusercontent.com/a-/AOh14Gh5xqmxd78KGBkmKiP4Zt50OzFOZWcHeKbnR3Gl=s64",
      "userId": "09460696119666831892"
     },
     "user_tz": -60
    },
    "id": "52klyYAbvBD1",
    "outputId": "bd9cf00e-31de-4c60-b1ae-8b3d401f15fe"
   },
   "outputs": [
    {
     "data": {
      "text/plain": [
       "34"
      ]
     },
     "execution_count": 35,
     "metadata": {},
     "output_type": "execute_result"
    }
   ],
   "source": [
    "a[3]"
   ]
  },
  {
   "cell_type": "code",
   "execution_count": 36,
   "metadata": {
    "colab": {
     "base_uri": "https://localhost:8080/"
    },
    "executionInfo": {
     "elapsed": 957,
     "status": "ok",
     "timestamp": 1614274048753,
     "user": {
      "displayName": "Darth Maul",
      "photoUrl": "https://lh3.googleusercontent.com/a-/AOh14Gh5xqmxd78KGBkmKiP4Zt50OzFOZWcHeKbnR3Gl=s64",
      "userId": "09460696119666831892"
     },
     "user_tz": -60
    },
    "id": "H3o0atUZNC0B",
    "outputId": "95110e5b-29f5-4f66-ff8f-d972f3328f80"
   },
   "outputs": [
    {
     "name": "stdout",
     "output_type": "stream",
     "text": [
      "2\n",
      "4\n",
      "6\n",
      "8\n"
     ]
    }
   ],
   "source": [
    "for k in range(2, 10, 2):\n",
    "  print(k)"
   ]
  },
  {
   "cell_type": "code",
   "execution_count": 37,
   "metadata": {
    "colab": {
     "base_uri": "https://localhost:8080/"
    },
    "executionInfo": {
     "elapsed": 1348,
     "status": "ok",
     "timestamp": 1614274049890,
     "user": {
      "displayName": "Darth Maul",
      "photoUrl": "https://lh3.googleusercontent.com/a-/AOh14Gh5xqmxd78KGBkmKiP4Zt50OzFOZWcHeKbnR3Gl=s64",
      "userId": "09460696119666831892"
     },
     "user_tz": -60
    },
    "id": "ipUS2J7CvBD1",
    "outputId": "2adb9f19-acfd-4fc8-c092-58938c98b6ba"
   },
   "outputs": [
    {
     "name": "stdout",
     "output_type": "stream",
     "text": [
      "21\n",
      "32\n",
      "15\n",
      "34\n"
     ]
    }
   ],
   "source": [
    "for k in range(len(a)):\n",
    "    print(a[k])"
   ]
  },
  {
   "cell_type": "code",
   "execution_count": 38,
   "metadata": {
    "colab": {
     "base_uri": "https://localhost:8080/"
    },
    "executionInfo": {
     "elapsed": 1610,
     "status": "ok",
     "timestamp": 1614274051368,
     "user": {
      "displayName": "Darth Maul",
      "photoUrl": "https://lh3.googleusercontent.com/a-/AOh14Gh5xqmxd78KGBkmKiP4Zt50OzFOZWcHeKbnR3Gl=s64",
      "userId": "09460696119666831892"
     },
     "user_tz": -60
    },
    "id": "fuqlZvWhvBD1",
    "outputId": "82b6be31-552e-48f7-a4c9-3ab6631e965b"
   },
   "outputs": [
    {
     "name": "stdout",
     "output_type": "stream",
     "text": [
      "[0, 1, 2, 3, 4, 5, 6, 7, 8, 9]\n"
     ]
    }
   ],
   "source": [
    "print(list(range(10)))"
   ]
  },
  {
   "cell_type": "markdown",
   "metadata": {
    "id": "E2JPEOPGvBD1"
   },
   "source": [
    "Lists are *mutable*"
   ]
  },
  {
   "cell_type": "code",
   "execution_count": 39,
   "metadata": {
    "colab": {
     "base_uri": "https://localhost:8080/"
    },
    "executionInfo": {
     "elapsed": 1090,
     "status": "ok",
     "timestamp": 1614274122608,
     "user": {
      "displayName": "Darth Maul",
      "photoUrl": "https://lh3.googleusercontent.com/a-/AOh14Gh5xqmxd78KGBkmKiP4Zt50OzFOZWcHeKbnR3Gl=s64",
      "userId": "09460696119666831892"
     },
     "user_tz": -60
    },
    "id": "fzv8kAYCvBD3",
    "outputId": "920a0134-c858-4d34-9930-f20e9d3e9bc3"
   },
   "outputs": [
    {
     "data": {
      "text/plain": [
       "[21, 32, 42, 34]"
      ]
     },
     "execution_count": 39,
     "metadata": {},
     "output_type": "execute_result"
    }
   ],
   "source": [
    "a[2] = 42\n",
    "a"
   ]
  },
  {
   "cell_type": "code",
   "execution_count": 40,
   "metadata": {
    "colab": {
     "base_uri": "https://localhost:8080/"
    },
    "executionInfo": {
     "elapsed": 952,
     "status": "ok",
     "timestamp": 1614274137521,
     "user": {
      "displayName": "Darth Maul",
      "photoUrl": "https://lh3.googleusercontent.com/a-/AOh14Gh5xqmxd78KGBkmKiP4Zt50OzFOZWcHeKbnR3Gl=s64",
      "userId": "09460696119666831892"
     },
     "user_tz": -60
    },
    "id": "ZWnH7VmbvBD3",
    "outputId": "d46aefd3-e096-4809-90f6-c944eed9e641"
   },
   "outputs": [
    {
     "name": "stdout",
     "output_type": "stream",
     "text": [
      "[100, 101, 102, 103, 104, 105, 106, 107, 108, 109, 110, 111, 112, 113, 114, 115, 116, 117, 118, 119]\n"
     ]
    }
   ],
   "source": [
    "a = list(range(100,120))\n",
    "print(a)"
   ]
  },
  {
   "cell_type": "code",
   "execution_count": 41,
   "metadata": {
    "colab": {
     "base_uri": "https://localhost:8080/"
    },
    "executionInfo": {
     "elapsed": 817,
     "status": "ok",
     "timestamp": 1614274153855,
     "user": {
      "displayName": "Darth Maul",
      "photoUrl": "https://lh3.googleusercontent.com/a-/AOh14Gh5xqmxd78KGBkmKiP4Zt50OzFOZWcHeKbnR3Gl=s64",
      "userId": "09460696119666831892"
     },
     "user_tz": -60
    },
    "id": "Ei0xuj_BvBD4",
    "outputId": "b0f63945-099d-4bea-9ba6-9da9623a2ad9"
   },
   "outputs": [
    {
     "data": {
      "text/plain": [
       "119"
      ]
     },
     "execution_count": 41,
     "metadata": {},
     "output_type": "execute_result"
    }
   ],
   "source": [
    "a[-1]"
   ]
  },
  {
   "cell_type": "code",
   "execution_count": 42,
   "metadata": {
    "colab": {
     "base_uri": "https://localhost:8080/"
    },
    "executionInfo": {
     "elapsed": 4314,
     "status": "ok",
     "timestamp": 1613754179805,
     "user": {
      "displayName": "Darth Maul",
      "photoUrl": "https://lh3.googleusercontent.com/a-/AOh14Gh5xqmxd78KGBkmKiP4Zt50OzFOZWcHeKbnR3Gl=s64",
      "userId": "09460696119666831892"
     },
     "user_tz": -60
    },
    "id": "tYpCGDaGvBD4",
    "outputId": "57048082-2d02-4a5b-972f-c6899659a7ae"
   },
   "outputs": [
    {
     "data": {
      "text/plain": [
       "[105, 106, 107, 108, 109, 110, 111, 112, 113, 114, 115, 116, 117, 118, 119]"
      ]
     },
     "execution_count": 42,
     "metadata": {},
     "output_type": "execute_result"
    }
   ],
   "source": [
    "a[5:] # elements up to but excluding 5th item "
   ]
  },
  {
   "cell_type": "code",
   "execution_count": 43,
   "metadata": {
    "colab": {
     "base_uri": "https://localhost:8080/"
    },
    "executionInfo": {
     "elapsed": 5356,
     "status": "ok",
     "timestamp": 1613754181566,
     "user": {
      "displayName": "Darth Maul",
      "photoUrl": "https://lh3.googleusercontent.com/a-/AOh14Gh5xqmxd78KGBkmKiP4Zt50OzFOZWcHeKbnR3Gl=s64",
      "userId": "09460696119666831892"
     },
     "user_tz": -60
    },
    "id": "ANgRDUTIvBD4",
    "outputId": "ecd3d64a-b659-4846-9900-a2a38ebad7d1"
   },
   "outputs": [
    {
     "data": {
      "text/plain": [
       "[100, 101, 102, 103, 104]"
      ]
     },
     "execution_count": 43,
     "metadata": {},
     "output_type": "execute_result"
    }
   ],
   "source": [
    "a[:5] # elements starting from and including 5th item"
   ]
  },
  {
   "cell_type": "markdown",
   "metadata": {
    "id": "dEB4C49MvBD4"
   },
   "source": [
    "### Tuples <a class=\"anchor\" id=\"section_3_2\"></a>\n",
    "\n",
    "Tuples create a bit of confusion for beginners because they're very similar to lists, but they have some subtle conceptual differences. Nonetheless, tuples do appear when programming in Python, so it's important to know about them.\n",
    "\n",
    "Like lists, tuples are sequences of any type of object. **Unlike lists, they are immutable**. This means that:\n",
    "- Once constructed, they cannot be changed - i.e. you cannot append, insert or delete elements\n",
    "- Because they are immutable, they can be used as dictionary keys (lists cannot)\n",
    "\n",
    "You declare tuples using () instead of []"
   ]
  },
  {
   "cell_type": "code",
   "execution_count": 44,
   "metadata": {
    "colab": {
     "base_uri": "https://localhost:8080/"
    },
    "executionInfo": {
     "elapsed": 956,
     "status": "ok",
     "timestamp": 1614274394308,
     "user": {
      "displayName": "Darth Maul",
      "photoUrl": "https://lh3.googleusercontent.com/a-/AOh14Gh5xqmxd78KGBkmKiP4Zt50OzFOZWcHeKbnR3Gl=s64",
      "userId": "09460696119666831892"
     },
     "user_tz": -60
    },
    "id": "ErzWYfXCvBD5",
    "outputId": "808e78a8-4da3-4a1c-e796-bb37fbb20f31"
   },
   "outputs": [
    {
     "data": {
      "text/plain": [
       "99"
      ]
     },
     "execution_count": 44,
     "metadata": {},
     "output_type": "execute_result"
    }
   ],
   "source": [
    "a = (42, 34, 99)\n",
    "a[2]"
   ]
  },
  {
   "cell_type": "code",
   "execution_count": 45,
   "metadata": {
    "colab": {
     "base_uri": "https://localhost:8080/",
     "height": 163
    },
    "executionInfo": {
     "elapsed": 845,
     "status": "error",
     "timestamp": 1614274445446,
     "user": {
      "displayName": "Darth Maul",
      "photoUrl": "https://lh3.googleusercontent.com/a-/AOh14Gh5xqmxd78KGBkmKiP4Zt50OzFOZWcHeKbnR3Gl=s64",
      "userId": "09460696119666831892"
     },
     "user_tz": -60
    },
    "id": "YNRp_mwIQQ6W",
    "outputId": "c189c626-1069-4e21-d3b5-c99143ed1adb"
   },
   "outputs": [
    {
     "ename": "TypeError",
     "evalue": "'tuple' object does not support item assignment",
     "output_type": "error",
     "traceback": [
      "\u001b[1;31m---------------------------------------------------------------------------\u001b[0m",
      "\u001b[1;31mTypeError\u001b[0m                                 Traceback (most recent call last)",
      "\u001b[1;32m<ipython-input-45-ee672155748c>\u001b[0m in \u001b[0;36m<module>\u001b[1;34m\u001b[0m\n\u001b[1;32m----> 1\u001b[1;33m \u001b[0ma\u001b[0m\u001b[1;33m[\u001b[0m\u001b[1;36m2\u001b[0m\u001b[1;33m]\u001b[0m \u001b[1;33m=\u001b[0m \u001b[1;36m100\u001b[0m\u001b[1;33m\u001b[0m\u001b[1;33m\u001b[0m\u001b[0m\n\u001b[0m",
      "\u001b[1;31mTypeError\u001b[0m: 'tuple' object does not support item assignment"
     ]
    }
   ],
   "source": [
    "a[2] = 100"
   ]
  },
  {
   "cell_type": "code",
   "execution_count": 46,
   "metadata": {
    "colab": {
     "base_uri": "https://localhost:8080/"
    },
    "executionInfo": {
     "elapsed": 915,
     "status": "ok",
     "timestamp": 1614274482508,
     "user": {
      "displayName": "Darth Maul",
      "photoUrl": "https://lh3.googleusercontent.com/a-/AOh14Gh5xqmxd78KGBkmKiP4Zt50OzFOZWcHeKbnR3Gl=s64",
      "userId": "09460696119666831892"
     },
     "user_tz": -60
    },
    "id": "yxFl8152vBD5",
    "outputId": "da668415-b901-47ad-f6ab-6c906c9fb355"
   },
   "outputs": [
    {
     "name": "stdout",
     "output_type": "stream",
     "text": [
      "1\n",
      "2\n",
      "3\n"
     ]
    }
   ],
   "source": [
    "# another way of accessing the elements is to 'unpack' the tuple\n",
    "# this works with lists too, by the way\n",
    "x, y, z = (1, 2, 3)\n",
    "print(x)\n",
    "print(y)\n",
    "print(z)"
   ]
  },
  {
   "cell_type": "code",
   "execution_count": 47,
   "metadata": {
    "colab": {
     "base_uri": "https://localhost:8080/",
     "height": 163
    },
    "executionInfo": {
     "elapsed": 860,
     "status": "error",
     "timestamp": 1614274483671,
     "user": {
      "displayName": "Darth Maul",
      "photoUrl": "https://lh3.googleusercontent.com/a-/AOh14Gh5xqmxd78KGBkmKiP4Zt50OzFOZWcHeKbnR3Gl=s64",
      "userId": "09460696119666831892"
     },
     "user_tz": -60
    },
    "id": "jvhgQJEivBD5",
    "outputId": "0a91fcae-7c2f-4a21-b73a-4107e89a2842"
   },
   "outputs": [
    {
     "ename": "TypeError",
     "evalue": "'tuple' object does not support item assignment",
     "output_type": "error",
     "traceback": [
      "\u001b[1;31m---------------------------------------------------------------------------\u001b[0m",
      "\u001b[1;31mTypeError\u001b[0m                                 Traceback (most recent call last)",
      "\u001b[1;32m<ipython-input-47-520cdf962392>\u001b[0m in \u001b[0;36m<module>\u001b[1;34m\u001b[0m\n\u001b[1;32m----> 1\u001b[1;33m \u001b[0ma\u001b[0m\u001b[1;33m[\u001b[0m\u001b[1;36m2\u001b[0m\u001b[1;33m]\u001b[0m \u001b[1;33m=\u001b[0m \u001b[1;36m87\u001b[0m\u001b[1;33m\u001b[0m\u001b[1;33m\u001b[0m\u001b[0m\n\u001b[0m",
      "\u001b[1;31mTypeError\u001b[0m: 'tuple' object does not support item assignment"
     ]
    }
   ],
   "source": [
    "a[2] = 87"
   ]
  },
  {
   "cell_type": "markdown",
   "metadata": {
    "id": "Tws5C6iTvBD5"
   },
   "source": [
    "In general, they're often used instead of lists:\n",
    "- to group items when the position in the collection is critical, such as coord = (x,y)\n",
    "- when you want to make prevent accidental modification of the items, e.g:"
   ]
  },
  {
   "cell_type": "code",
   "execution_count": 48,
   "metadata": {
    "id": "ej7ksbDlvBD6"
   },
   "outputs": [],
   "source": [
    "days = ('Monday', 'Tuesday', 'Wednesday', 'Thursday', 'Friday', 'Saturday', 'Sunday')"
   ]
  },
  {
   "cell_type": "markdown",
   "metadata": {
    "id": "5FRFoqHI4zTQ"
   },
   "source": [
    "### Sets <a class=\"anchor\" id=\"section_3_3\"></a>\n",
    "\n",
    "Unlike lists and tuples, **sets** are not sequences: set items don’t have indexes.\n",
    "Sets can store at most one copy of an item and have sublinear *O(log(N))* search\n",
    "time. They are excellent for membership look-ups and eliminating duplicates\n",
    "(if you convert a list with duplicates to a set, the duplicates are gone):"
   ]
  },
  {
   "cell_type": "code",
   "execution_count": 49,
   "metadata": {
    "colab": {
     "base_uri": "https://localhost:8080/"
    },
    "executionInfo": {
     "elapsed": 820,
     "status": "ok",
     "timestamp": 1614274715011,
     "user": {
      "displayName": "Darth Maul",
      "photoUrl": "https://lh3.googleusercontent.com/a-/AOh14Gh5xqmxd78KGBkmKiP4Zt50OzFOZWcHeKbnR3Gl=s64",
      "userId": "09460696119666831892"
     },
     "user_tz": -60
    },
    "id": "OgnO6kVAvBD6",
    "outputId": "a33d8a8a-be2e-4401-e447-768237ebfaab"
   },
   "outputs": [
    {
     "name": "stdout",
     "output_type": "stream",
     "text": [
      "['One', 'Ring', 'to', 'rule', 'them', 'all,', 'One', 'ring', 'to', 'find', 'them,', 'One', 'ring', 'to', 'bring', 'them', 'all', 'and', 'in', 'the', 'darkness', 'bind', 'them']\n",
      "23\n"
     ]
    }
   ],
   "source": [
    "sentence = 'One Ring to rule them all, One ring to find them, One ring to bring them all and in the darkness bind them'\n",
    "myList = sentence.split()\n",
    "print(myList)\n",
    "print(len(myList))"
   ]
  },
  {
   "cell_type": "code",
   "execution_count": 50,
   "metadata": {
    "colab": {
     "base_uri": "https://localhost:8080/"
    },
    "executionInfo": {
     "elapsed": 1030,
     "status": "ok",
     "timestamp": 1614274737887,
     "user": {
      "displayName": "Darth Maul",
      "photoUrl": "https://lh3.googleusercontent.com/a-/AOh14Gh5xqmxd78KGBkmKiP4Zt50OzFOZWcHeKbnR3Gl=s64",
      "userId": "09460696119666831892"
     },
     "user_tz": -60
    },
    "id": "2mBIIZ4_vBD6",
    "outputId": "6af1b41d-bc2b-466a-dbc1-507ad576c748"
   },
   "outputs": [
    {
     "name": "stdout",
     "output_type": "stream",
     "text": [
      "{'darkness', 'the', 'them,', 'in', 'and', 'Ring', 'to', 'all,', 'find', 'them', 'ring', 'bring', 'rule', 'all', 'One', 'bind'}\n",
      "16\n"
     ]
    }
   ],
   "source": [
    "mySet = set(myList)\n",
    "print(mySet)\n",
    "print(len(mySet))"
   ]
  },
  {
   "cell_type": "markdown",
   "metadata": {
    "id": "ZSnEOg7a919m"
   },
   "source": []
  },
  {
   "cell_type": "code",
   "execution_count": 51,
   "metadata": {
    "colab": {
     "base_uri": "https://localhost:8080/"
    },
    "executionInfo": {
     "elapsed": 824,
     "status": "ok",
     "timestamp": 1614274774470,
     "user": {
      "displayName": "Darth Maul",
      "photoUrl": "https://lh3.googleusercontent.com/a-/AOh14Gh5xqmxd78KGBkmKiP4Zt50OzFOZWcHeKbnR3Gl=s64",
      "userId": "09460696119666831892"
     },
     "user_tz": -60
    },
    "id": "V3CMwG1Dwzih",
    "outputId": "97a03585-5763-44c4-aedb-b08e6c4be8c8"
   },
   "outputs": [
    {
     "name": "stdout",
     "output_type": "stream",
     "text": [
      "['One', 'Ring', 'all', 'all,', 'and', 'bind', 'bring', 'darkness', 'find', 'in', 'ring', 'rule', 'the', 'them', 'them,', 'to']\n"
     ]
    }
   ],
   "source": [
    "print(sorted(mySet))"
   ]
  },
  {
   "cell_type": "code",
   "execution_count": 55,
   "metadata": {
    "colab": {
     "base_uri": "https://localhost:8080/"
    },
    "executionInfo": {
     "elapsed": 1085,
     "status": "ok",
     "timestamp": 1614276005845,
     "user": {
      "displayName": "Darth Maul",
      "photoUrl": "https://lh3.googleusercontent.com/a-/AOh14Gh5xqmxd78KGBkmKiP4Zt50OzFOZWcHeKbnR3Gl=s64",
      "userId": "09460696119666831892"
     },
     "user_tz": -60
    },
    "id": "EW8JfUkkUumt",
    "outputId": "1f99a483-ac5a-4b65-81d1-d933615a53de"
   },
   "outputs": [
    {
     "data": {
      "text/plain": [
       "['one',\n",
       " 'ring',\n",
       " 'to',\n",
       " 'rule',\n",
       " 'them',\n",
       " 'all,',\n",
       " 'one',\n",
       " 'ring',\n",
       " 'to',\n",
       " 'find',\n",
       " 'them,',\n",
       " 'one',\n",
       " 'ring',\n",
       " 'to',\n",
       " 'bring',\n",
       " 'them',\n",
       " 'all',\n",
       " 'and',\n",
       " 'in',\n",
       " 'the',\n",
       " 'darkness',\n",
       " 'bind',\n",
       " 'them']"
      ]
     },
     "execution_count": 55,
     "metadata": {},
     "output_type": "execute_result"
    }
   ],
   "source": [
    "# creating a new list with lower case words from myList\n",
    "# first of all we define an empty list\n",
    "dummy = []\n",
    "for w in myList:\n",
    "  # we use the metod append to increment items number of dummy  \n",
    "  dummy.append(w.lower())\n",
    "\n",
    "dummy  "
   ]
  },
  {
   "cell_type": "code",
   "execution_count": 56,
   "metadata": {
    "colab": {
     "base_uri": "https://localhost:8080/"
    },
    "executionInfo": {
     "elapsed": 835,
     "status": "ok",
     "timestamp": 1614275875381,
     "user": {
      "displayName": "Darth Maul",
      "photoUrl": "https://lh3.googleusercontent.com/a-/AOh14Gh5xqmxd78KGBkmKiP4Zt50OzFOZWcHeKbnR3Gl=s64",
      "userId": "09460696119666831892"
     },
     "user_tz": -60
    },
    "id": "05geI5iHTOt8",
    "outputId": "cf1a90f3-0c75-4a81-a3c8-2c21bf03520d"
   },
   "outputs": [
    {
     "data": {
      "text/plain": [
       "['one',\n",
       " 'ring',\n",
       " 'to',\n",
       " 'rule',\n",
       " 'them',\n",
       " 'all,',\n",
       " 'one',\n",
       " 'ring',\n",
       " 'to',\n",
       " 'find',\n",
       " 'them,',\n",
       " 'one',\n",
       " 'ring',\n",
       " 'to',\n",
       " 'bring',\n",
       " 'them',\n",
       " 'all',\n",
       " 'and',\n",
       " 'in',\n",
       " 'the',\n",
       " 'darkness',\n",
       " 'bind',\n",
       " 'them']"
      ]
     },
     "execution_count": 56,
     "metadata": {},
     "output_type": "execute_result"
    }
   ],
   "source": [
    "# modify myList, in this case we can use the index \n",
    "for k, s in enumerate(myList):\n",
    "  myList[k] = s.lower()\n",
    "\n",
    "myList  "
   ]
  },
  {
   "cell_type": "code",
   "execution_count": 57,
   "metadata": {
    "id": "Gv8ntNlnS7Qb"
   },
   "outputs": [],
   "source": [
    "myList = [x.lower() for x in myList]"
   ]
  },
  {
   "cell_type": "code",
   "execution_count": 58,
   "metadata": {
    "colab": {
     "base_uri": "https://localhost:8080/"
    },
    "executionInfo": {
     "elapsed": 781,
     "status": "ok",
     "timestamp": 1614276170079,
     "user": {
      "displayName": "Darth Maul",
      "photoUrl": "https://lh3.googleusercontent.com/a-/AOh14Gh5xqmxd78KGBkmKiP4Zt50OzFOZWcHeKbnR3Gl=s64",
      "userId": "09460696119666831892"
     },
     "user_tz": -60
    },
    "id": "N3BS9Czpwzih",
    "outputId": "5f7bfb87-6398-469c-87a1-228f7545bfe1"
   },
   "outputs": [
    {
     "name": "stdout",
     "output_type": "stream",
     "text": [
      "['all', 'all,', 'and', 'bind', 'bring', 'darkness', 'find', 'in', 'one', 'ring', 'rule', 'the', 'them', 'them,', 'to']\n"
     ]
    }
   ],
   "source": [
    " # what is this instruction? What does it mean?\n",
    "mySet  = set(myList)\n",
    "print(sorted(mySet))"
   ]
  },
  {
   "cell_type": "markdown",
   "metadata": {
    "id": "IB8Q0Heswzii"
   },
   "source": [
    "**Exercise** - Find a way to remove the comma in final position of some words!\n",
    "\n",
    "<details>\n",
    "\n",
    "<summary>Answer</summary>\n",
    "\n",
    "A simple solution is the following:\n",
    "```python\n",
    "dummy=[]\n",
    "for word in myList:\n",
    "  if not ',' in word:\n",
    "    dummy.append(word.lower())\n",
    "```\n",
    "</details>"
   ]
  },
  {
   "cell_type": "code",
   "execution_count": 59,
   "metadata": {
    "colab": {
     "base_uri": "https://localhost:8080/"
    },
    "executionInfo": {
     "elapsed": 906,
     "status": "ok",
     "timestamp": 1614276583278,
     "user": {
      "displayName": "Darth Maul",
      "photoUrl": "https://lh3.googleusercontent.com/a-/AOh14Gh5xqmxd78KGBkmKiP4Zt50OzFOZWcHeKbnR3Gl=s64",
      "userId": "09460696119666831892"
     },
     "user_tz": -60
    },
    "id": "OD3vkpJmYPbR",
    "outputId": "cb576e41-f37f-4be2-b38f-a8a9a29694ee"
   },
   "outputs": [
    {
     "data": {
      "text/plain": [
       "['one',\n",
       " 'ring',\n",
       " 'to',\n",
       " 'rule',\n",
       " 'them',\n",
       " 'one',\n",
       " 'ring',\n",
       " 'to',\n",
       " 'find',\n",
       " 'one',\n",
       " 'ring',\n",
       " 'to',\n",
       " 'bring',\n",
       " 'them',\n",
       " 'all',\n",
       " 'and',\n",
       " 'in',\n",
       " 'the',\n",
       " 'darkness',\n",
       " 'bind',\n",
       " 'them']"
      ]
     },
     "execution_count": 59,
     "metadata": {},
     "output_type": "execute_result"
    }
   ],
   "source": [
    "dummy=[]\n",
    "for word in myList:\n",
    "  if not ',' in word:\n",
    "    dummy.append(word.lower())\n",
    "\n",
    "dummy    "
   ]
  },
  {
   "cell_type": "code",
   "execution_count": 60,
   "metadata": {
    "colab": {
     "base_uri": "https://localhost:8080/"
    },
    "executionInfo": {
     "elapsed": 1172,
     "status": "ok",
     "timestamp": 1614276677037,
     "user": {
      "displayName": "Darth Maul",
      "photoUrl": "https://lh3.googleusercontent.com/a-/AOh14Gh5xqmxd78KGBkmKiP4Zt50OzFOZWcHeKbnR3Gl=s64",
      "userId": "09460696119666831892"
     },
     "user_tz": -60
    },
    "id": "-ycJ7aFgwzii",
    "outputId": "643884c0-75d9-452e-b6be-d555df086ea4"
   },
   "outputs": [
    {
     "name": "stdout",
     "output_type": "stream",
     "text": [
      "['all', 'and', 'bind', 'bring', 'darkness', 'find', 'in', 'one', 'ring', 'rule', 'the', 'them', 'to']\n"
     ]
    }
   ],
   "source": [
    "myList = [word.lower() for word in myList if not ',' in word] \n",
    "mySet  = set(myList)\n",
    "print(sorted(mySet))"
   ]
  },
  {
   "cell_type": "markdown",
   "metadata": {
    "id": "UdNcK00yY3-M"
   },
   "source": []
  },
  {
   "cell_type": "code",
   "execution_count": 61,
   "metadata": {
    "colab": {
     "base_uri": "https://localhost:8080/"
    },
    "executionInfo": {
     "elapsed": 3698,
     "status": "ok",
     "timestamp": 1613754185962,
     "user": {
      "displayName": "Darth Maul",
      "photoUrl": "https://lh3.googleusercontent.com/a-/AOh14Gh5xqmxd78KGBkmKiP4Zt50OzFOZWcHeKbnR3Gl=s64",
      "userId": "09460696119666831892"
     },
     "user_tz": -60
    },
    "id": "QkHRQgf9vBD7",
    "outputId": "1604ecab-6428-4cc5-e363-7d1df89805df"
   },
   "outputs": [
    {
     "name": "stdout",
     "output_type": "stream",
     "text": [
      "word \"ring\" found in mySet\n"
     ]
    }
   ],
   "source": [
    "word = 'ring'\n",
    "if word in mySet:\n",
    "    print('word \"' + word + '\" found in mySet')"
   ]
  },
  {
   "cell_type": "markdown",
   "metadata": {
    "id": "Owkjbcc_vBD7"
   },
   "source": [
    "### Dictionaries <a class=\"anchor\" id=\"section_3_4\"></a>\n",
    "\n",
    "Dictionaries map keys to values. An object of data type number,\n",
    "Boolean, string or tuple can be a key, and different keys in the same dictionary\n",
    "can belong to different data types. There is no restriction on the data types\n",
    "of dictionary values.\n",
    "\n",
    "Dictionaries are the collection to use when you want to store and retrieve things by their names (or some other kind of key) instead of by their position in the collection. A good example is a set of model parameters, each of which has a name and a value. Dictionaries are declared using {}.\n",
    "\n",
    "You can create a dictionary from a list of `(key, value)` tuples, and you can use\n",
    "a built-in class constructor `enumerate(seq)` to create a dictionary where the key\n",
    "is the sequence number of an item in `seq`:"
   ]
  },
  {
   "cell_type": "code",
   "execution_count": 62,
   "metadata": {
    "colab": {
     "base_uri": "https://localhost:8080/"
    },
    "executionInfo": {
     "elapsed": 1371,
     "status": "ok",
     "timestamp": 1614277387324,
     "user": {
      "displayName": "Darth Maul",
      "photoUrl": "https://lh3.googleusercontent.com/a-/AOh14Gh5xqmxd78KGBkmKiP4Zt50OzFOZWcHeKbnR3Gl=s64",
      "userId": "09460696119666831892"
     },
     "user_tz": -60
    },
    "id": "qUocwOigaf9H",
    "outputId": "76a5fe02-686a-4c8a-8160-3adb46678b89"
   },
   "outputs": [
    {
     "name": "stdout",
     "output_type": "stream",
     "text": [
      "0 alpha\n",
      "1 bravo\n",
      "2 charlie\n",
      "3 delta\n"
     ]
    }
   ],
   "source": [
    "seq = [\"alpha\", \"bravo\", \"charlie\", \"delta\"]\n",
    "\n",
    "for k,v in enumerate(seq):\n",
    "  print(k,v)"
   ]
  },
  {
   "cell_type": "code",
   "execution_count": 63,
   "metadata": {
    "colab": {
     "base_uri": "https://localhost:8080/"
    },
    "executionInfo": {
     "elapsed": 636,
     "status": "ok",
     "timestamp": 1614277387771,
     "user": {
      "displayName": "Darth Maul",
      "photoUrl": "https://lh3.googleusercontent.com/a-/AOh14Gh5xqmxd78KGBkmKiP4Zt50OzFOZWcHeKbnR3Gl=s64",
      "userId": "09460696119666831892"
     },
     "user_tz": -60
    },
    "id": "h-O67GiEvBD7",
    "outputId": "d3501a9e-ab05-4489-9d7c-1a7d8c7ddb9c"
   },
   "outputs": [
    {
     "data": {
      "text/plain": [
       "{0: 'alpha', 1: 'bravo', 2: 'charlie', 3: 'delta'}"
      ]
     },
     "execution_count": 63,
     "metadata": {},
     "output_type": "execute_result"
    }
   ],
   "source": [
    "dict(enumerate(seq))"
   ]
  },
  {
   "cell_type": "code",
   "execution_count": 64,
   "metadata": {
    "colab": {
     "base_uri": "https://localhost:8080/"
    },
    "executionInfo": {
     "elapsed": 1183,
     "status": "ok",
     "timestamp": 1614277457224,
     "user": {
      "displayName": "Darth Maul",
      "photoUrl": "https://lh3.googleusercontent.com/a-/AOh14Gh5xqmxd78KGBkmKiP4Zt50OzFOZWcHeKbnR3Gl=s64",
      "userId": "09460696119666831892"
     },
     "user_tz": -60
    },
    "id": "lHdvE6MyvBD7",
    "outputId": "5d12b0a7-36f5-431c-f595-dc51ab7c323f"
   },
   "outputs": [
    {
     "name": "stdout",
     "output_type": "stream",
     "text": [
      "option strike = 90\n"
     ]
    }
   ],
   "source": [
    "parameters = {'stock' : 100, 'strike' : 90, 'volatility' : 0.2, 'rate' : 0.1, 'maturity' : 1}\n",
    "print('option strike = ' + str(parameters['strike']))"
   ]
  },
  {
   "cell_type": "code",
   "execution_count": 65,
   "metadata": {
    "colab": {
     "base_uri": "https://localhost:8080/",
     "height": 163
    },
    "executionInfo": {
     "elapsed": 976,
     "status": "error",
     "timestamp": 1614277507942,
     "user": {
      "displayName": "Darth Maul",
      "photoUrl": "https://lh3.googleusercontent.com/a-/AOh14Gh5xqmxd78KGBkmKiP4Zt50OzFOZWcHeKbnR3Gl=s64",
      "userId": "09460696119666831892"
     },
     "user_tz": -60
    },
    "id": "8UBiTbWkvBD8",
    "outputId": "24d43443-269c-44ef-8d7f-e06f17bf1b7b"
   },
   "outputs": [
    {
     "ename": "KeyError",
     "evalue": "'Volatility'",
     "output_type": "error",
     "traceback": [
      "\u001b[1;31m---------------------------------------------------------------------------\u001b[0m",
      "\u001b[1;31mKeyError\u001b[0m                                  Traceback (most recent call last)",
      "\u001b[1;32m<ipython-input-65-c26c87bd023a>\u001b[0m in \u001b[0;36m<module>\u001b[1;34m\u001b[0m\n\u001b[1;32m----> 1\u001b[1;33m \u001b[0mprint\u001b[0m\u001b[1;33m(\u001b[0m\u001b[1;34m'asset volatility = '\u001b[0m \u001b[1;33m+\u001b[0m \u001b[0mstr\u001b[0m\u001b[1;33m(\u001b[0m\u001b[0mparameters\u001b[0m\u001b[1;33m[\u001b[0m\u001b[1;34m'Volatility'\u001b[0m\u001b[1;33m]\u001b[0m\u001b[1;33m)\u001b[0m\u001b[1;33m)\u001b[0m\u001b[1;33m\u001b[0m\u001b[1;33m\u001b[0m\u001b[0m\n\u001b[0m",
      "\u001b[1;31mKeyError\u001b[0m: 'Volatility'"
     ]
    }
   ],
   "source": [
    "print('asset volatility = ' + str(parameters['Volatility']))"
   ]
  },
  {
   "cell_type": "code",
   "execution_count": 66,
   "metadata": {
    "colab": {
     "base_uri": "https://localhost:8080/"
    },
    "executionInfo": {
     "elapsed": 1163,
     "status": "ok",
     "timestamp": 1614277529723,
     "user": {
      "displayName": "Darth Maul",
      "photoUrl": "https://lh3.googleusercontent.com/a-/AOh14Gh5xqmxd78KGBkmKiP4Zt50OzFOZWcHeKbnR3Gl=s64",
      "userId": "09460696119666831892"
     },
     "user_tz": -60
    },
    "id": "TsgtyvD-vBD8",
    "outputId": "6b5a1cea-7051-42bc-bac2-39e9fc71213d"
   },
   "outputs": [
    {
     "name": "stdout",
     "output_type": "stream",
     "text": [
      "dict_keys(['stock', 'strike', 'volatility', 'rate', 'maturity'])\n"
     ]
    }
   ],
   "source": [
    "print(parameters.keys())"
   ]
  },
  {
   "cell_type": "code",
   "execution_count": 67,
   "metadata": {
    "colab": {
     "base_uri": "https://localhost:8080/"
    },
    "executionInfo": {
     "elapsed": 1173,
     "status": "ok",
     "timestamp": 1614277595106,
     "user": {
      "displayName": "Darth Maul",
      "photoUrl": "https://lh3.googleusercontent.com/a-/AOh14Gh5xqmxd78KGBkmKiP4Zt50OzFOZWcHeKbnR3Gl=s64",
      "userId": "09460696119666831892"
     },
     "user_tz": -60
    },
    "id": "vw1G8bk2vBD8",
    "outputId": "fec9b17a-b2b2-4e36-8d4a-7b0c08902847"
   },
   "outputs": [
    {
     "name": "stdout",
     "output_type": "stream",
     "text": [
      "dict_keys(['stock', 'strike', 'volatility', 'rate', 'maturity', 'exercise'])\n"
     ]
    }
   ],
   "source": [
    "parameters['exercise'] = 'european'\n",
    "print(parameters.keys())"
   ]
  },
  {
   "cell_type": "code",
   "execution_count": 68,
   "metadata": {
    "colab": {
     "base_uri": "https://localhost:8080/"
    },
    "executionInfo": {
     "elapsed": 1510,
     "status": "ok",
     "timestamp": 1614277611196,
     "user": {
      "displayName": "Darth Maul",
      "photoUrl": "https://lh3.googleusercontent.com/a-/AOh14Gh5xqmxd78KGBkmKiP4Zt50OzFOZWcHeKbnR3Gl=s64",
      "userId": "09460696119666831892"
     },
     "user_tz": -60
    },
    "id": "ckP_ZPUDvBD8",
    "outputId": "453a7881-cfba-4fe1-cc1a-300aa58e8f28"
   },
   "outputs": [
    {
     "name": "stdout",
     "output_type": "stream",
     "text": [
      "european\n"
     ]
    }
   ],
   "source": [
    "print(parameters['exercise'])"
   ]
  },
  {
   "cell_type": "code",
   "execution_count": 69,
   "metadata": {
    "colab": {
     "base_uri": "https://localhost:8080/"
    },
    "executionInfo": {
     "elapsed": 909,
     "status": "ok",
     "timestamp": 1614277653150,
     "user": {
      "displayName": "Darth Maul",
      "photoUrl": "https://lh3.googleusercontent.com/a-/AOh14Gh5xqmxd78KGBkmKiP4Zt50OzFOZWcHeKbnR3Gl=s64",
      "userId": "09460696119666831892"
     },
     "user_tz": -60
    },
    "id": "-VmBUlSGwzik",
    "outputId": "4b3df576-e2bf-4f9c-db70-366c0a061a1b"
   },
   "outputs": [
    {
     "name": "stdout",
     "output_type": "stream",
     "text": [
      "stock\n",
      "strike\n",
      "volatility\n",
      "rate\n",
      "maturity\n",
      "exercise\n"
     ]
    }
   ],
   "source": [
    "# iterate over a dictionary (keys, by default)\n",
    "for k in parameters:\n",
    "    print(k)"
   ]
  },
  {
   "cell_type": "code",
   "execution_count": 70,
   "metadata": {
    "colab": {
     "base_uri": "https://localhost:8080/"
    },
    "executionInfo": {
     "elapsed": 944,
     "status": "ok",
     "timestamp": 1614277673775,
     "user": {
      "displayName": "Darth Maul",
      "photoUrl": "https://lh3.googleusercontent.com/a-/AOh14Gh5xqmxd78KGBkmKiP4Zt50OzFOZWcHeKbnR3Gl=s64",
      "userId": "09460696119666831892"
     },
     "user_tz": -60
    },
    "id": "QW0d4WpGwzik",
    "outputId": "b7702e3c-9777-46ca-a82c-62bb1882c07e"
   },
   "outputs": [
    {
     "name": "stdout",
     "output_type": "stream",
     "text": [
      "stock 100\n",
      "strike 90\n",
      "volatility 0.2\n",
      "rate 0.1\n",
      "maturity 1\n",
      "exercise european\n"
     ]
    }
   ],
   "source": [
    "# iterate over a dictionary by key and value\n",
    "for k, v in parameters.items():\n",
    "    print(k, v)"
   ]
  },
  {
   "cell_type": "code",
   "execution_count": 71,
   "metadata": {
    "colab": {
     "base_uri": "https://localhost:8080/"
    },
    "executionInfo": {
     "elapsed": 1051,
     "status": "ok",
     "timestamp": 1614277684776,
     "user": {
      "displayName": "Darth Maul",
      "photoUrl": "https://lh3.googleusercontent.com/a-/AOh14Gh5xqmxd78KGBkmKiP4Zt50OzFOZWcHeKbnR3Gl=s64",
      "userId": "09460696119666831892"
     },
     "user_tz": -60
    },
    "id": "b0IdLcJxPaXm",
    "outputId": "10f00bcc-6d3b-495e-9de2-899dc1911e36"
   },
   "outputs": [
    {
     "name": "stdout",
     "output_type": "stream",
     "text": [
      "dict_keys(['stock', 'strike', 'volatility', 'rate', 'maturity', 'exercise'])\n"
     ]
    }
   ],
   "source": [
    "print(parameters.keys())"
   ]
  },
  {
   "cell_type": "code",
   "execution_count": 72,
   "metadata": {
    "colab": {
     "base_uri": "https://localhost:8080/"
    },
    "executionInfo": {
     "elapsed": 1266,
     "status": "ok",
     "timestamp": 1614277686276,
     "user": {
      "displayName": "Darth Maul",
      "photoUrl": "https://lh3.googleusercontent.com/a-/AOh14Gh5xqmxd78KGBkmKiP4Zt50OzFOZWcHeKbnR3Gl=s64",
      "userId": "09460696119666831892"
     },
     "user_tz": -60
    },
    "id": "iP5rtmLhPaXn",
    "outputId": "2f1dd21d-197b-4dc5-a6a7-37101665ca97"
   },
   "outputs": [
    {
     "name": "stdout",
     "output_type": "stream",
     "text": [
      "dict_values([100, 90, 0.2, 0.1, 1, 'european'])\n"
     ]
    }
   ],
   "source": [
    "print(parameters.values())"
   ]
  },
  {
   "cell_type": "markdown",
   "metadata": {
    "id": "3OVgEUowvBD9"
   },
   "source": [
    "Another smart way to create a dictionary from a sequence of keys (`kseq`) and\n",
    "a sequence of values (`vsec`) is through a built-in class constructor, `zip(kseq, vseq)`\n",
    "(the sequences must be of the same length): "
   ]
  },
  {
   "cell_type": "code",
   "execution_count": 73,
   "metadata": {
    "colab": {
     "base_uri": "https://localhost:8080/"
    },
    "executionInfo": {
     "elapsed": 933,
     "status": "ok",
     "timestamp": 1614277899124,
     "user": {
      "displayName": "Darth Maul",
      "photoUrl": "https://lh3.googleusercontent.com/a-/AOh14Gh5xqmxd78KGBkmKiP4Zt50OzFOZWcHeKbnR3Gl=s64",
      "userId": "09460696119666831892"
     },
     "user_tz": -60
    },
    "id": "fM6CQXvPvBD9",
    "outputId": "9e3cc98d-c4e4-4145-f7c7-7c50347e159b"
   },
   "outputs": [
    {
     "name": "stdout",
     "output_type": "stream",
     "text": [
      "{'cherries': 0.4, 'raspberries': 0.4, 'blueberries': 0.8, 'strawberries': 0.5, 'lemon': 0.6, 'lime': 0.7, 'apple': 0.3, 'orange': 0.4, 'banana': 0.5}\n"
     ]
    }
   ],
   "source": [
    "kseq   = ['cherries','raspberries','blueberries','strawberries','lemon','lime','apple','orange','banana']\n",
    "vseq   = [.4, .4, .8, .5, .6, .7, .3, .4, .5]\n",
    "prices =dict(zip(kseq, vseq))\n",
    "print(prices)"
   ]
  },
  {
   "cell_type": "code",
   "execution_count": 74,
   "metadata": {
    "colab": {
     "base_uri": "https://localhost:8080/"
    },
    "executionInfo": {
     "elapsed": 5340,
     "status": "ok",
     "timestamp": 1613754197451,
     "user": {
      "displayName": "Darth Maul",
      "photoUrl": "https://lh3.googleusercontent.com/a-/AOh14Gh5xqmxd78KGBkmKiP4Zt50OzFOZWcHeKbnR3Gl=s64",
      "userId": "09460696119666831892"
     },
     "user_tz": -60
    },
    "id": "0P-Ex4NJvBD9",
    "outputId": "106f7497-24f0-448f-b365-1ac43004bf34"
   },
   "outputs": [
    {
     "name": "stdout",
     "output_type": "stream",
     "text": [
      "I owe the grocer $3.30\n"
     ]
    }
   ],
   "source": [
    "my_purchase = {'apple': 1,    'banana': 6}\n",
    "\n",
    "grocery_bill = 0.0\n",
    "for fruit in my_purchase:\n",
    "    grocery_bill += prices[fruit] *  my_purchase[fruit]\n",
    "\n",
    "print ('I owe the grocer $%.2f' % grocery_bill)"
   ]
  },
  {
   "cell_type": "code",
   "execution_count": 75,
   "metadata": {
    "colab": {
     "base_uri": "https://localhost:8080/"
    },
    "executionInfo": {
     "elapsed": 5091,
     "status": "ok",
     "timestamp": 1613754197451,
     "user": {
      "displayName": "Darth Maul",
      "photoUrl": "https://lh3.googleusercontent.com/a-/AOh14Gh5xqmxd78KGBkmKiP4Zt50OzFOZWcHeKbnR3Gl=s64",
      "userId": "09460696119666831892"
     },
     "user_tz": -60
    },
    "id": "5HCWR3FGvBD9",
    "outputId": "b6c62411-2c37-47ff-cae8-9b12ed9d0401"
   },
   "outputs": [
    {
     "name": "stdout",
     "output_type": "stream",
     "text": [
      "I owe the grocer $7.40\n"
     ]
    }
   ],
   "source": [
    "my_purchase = {'strawberries': 10,    'orange': 6}\n",
    "\n",
    "another_bill = sum(prices[fruit] * my_purchase[fruit] for fruit in my_purchase)\n",
    "print ('I owe the grocer $%.2f' % another_bill)"
   ]
  },
  {
   "cell_type": "markdown",
   "metadata": {
    "id": "svjBSUxDv8hu"
   },
   "source": [
    "**Using a Dictionary to count different occurencies of characters**"
   ]
  },
  {
   "cell_type": "code",
   "execution_count": 76,
   "metadata": {
    "colab": {
     "base_uri": "https://localhost:8080/"
    },
    "executionInfo": {
     "elapsed": 3596,
     "status": "ok",
     "timestamp": 1613754197452,
     "user": {
      "displayName": "Darth Maul",
      "photoUrl": "https://lh3.googleusercontent.com/a-/AOh14Gh5xqmxd78KGBkmKiP4Zt50OzFOZWcHeKbnR3Gl=s64",
      "userId": "09460696119666831892"
     },
     "user_tz": -60
    },
    "id": "eEhfDOdOv8hv",
    "outputId": "0b4b234d-d251-44a2-b263-06403ffa536c"
   },
   "outputs": [
    {
     "name": "stdout",
     "output_type": "stream",
     "text": [
      "{'I': 1, 'n': 8, ' ': 48, 't': 8, 'h': 6, 'o': 5, 's': 10, 'e': 27, 'd': 2, 'a': 15, 'y': 3, 'p': 3, 'i': 5, 'r': 22, 'w': 7, 'b': 1, 'v': 1, ',': 3, 'k': 1, 'g': 1, 'm': 8, 'l': 9, 'f': 4, 'u': 6, 'c': 2, 'A': 2, 'C': 2, '.': 1}\n"
     ]
    }
   ],
   "source": [
    "famous_quote = \"In those days spirits were brave, the stakes were high, men were real men, women were real women \\\n",
    "                and small furry creatures from Alpha Centauri were real small furry creatures from Alpha Centauri.\"\n",
    "\n",
    "hashmap = {}\n",
    "for c in famous_quote:\n",
    "    if c in hashmap:\n",
    "        hashmap[c] += 1\n",
    "    else: \n",
    "        hashmap[c]  = 1\n",
    "\n",
    "print(hashmap)"
   ]
  },
  {
   "cell_type": "markdown",
   "metadata": {
    "id": "pOiwtxlLwzil"
   },
   "source": [
    "**Generate a random list of characters**"
   ]
  },
  {
   "cell_type": "code",
   "execution_count": 77,
   "metadata": {
    "id": "tbmP-87kwzim"
   },
   "outputs": [],
   "source": [
    "import string      # import??????????? what does it means?????\n",
    "import random\n",
    "\n",
    "random.choice(string.ascii_letters)\n",
    "\n",
    "letters = []\n",
    "for k in range(100):\n",
    "    letters.append(random.choice(string.ascii_letters))"
   ]
  },
  {
   "cell_type": "markdown",
   "metadata": {
    "id": "RwxnqIgtwzim"
   },
   "source": [
    "**Exercise** Given an array of symbols.\n",
    "- A pair (i,j) is called good if item[i] == item[j] and i < j.\n",
    "- Return the number of good pairs.\n",
    "\n",
    "*Example* \n",
    "\n",
    "- Input: nums = [1,2,3,1,1,3]\n",
    "- Output: 4\n",
    "- Explanation: There are 4 good pairs (0,3), (0,4), (3,4), (2,5) 0-indexed.\n",
    "\n",
    "[link to the original problem](https://leetcode.com/problems/number-of-good-pairs/)\n",
    "\n",
    "The first instinct that comes to mind is to use a nested for loop (aka, brutal force) to iterate over the sequence and return the count number in the end."
   ]
  },
  {
   "cell_type": "code",
   "execution_count": 78,
   "metadata": {
    "colab": {
     "base_uri": "https://localhost:8080/"
    },
    "executionInfo": {
     "elapsed": 5573,
     "status": "ok",
     "timestamp": 1613754202849,
     "user": {
      "displayName": "Darth Maul",
      "photoUrl": "https://lh3.googleusercontent.com/a-/AOh14Gh5xqmxd78KGBkmKiP4Zt50OzFOZWcHeKbnR3Gl=s64",
      "userId": "09460696119666831892"
     },
     "user_tz": -60
    },
    "id": "7lbd34KHwzim",
    "outputId": "945452a5-ac96-47f1-bc4e-7fbd29dc39c5"
   },
   "outputs": [
    {
     "name": "stdout",
     "output_type": "stream",
     "text": [
      "90\n",
      "0.0\n"
     ]
    }
   ],
   "source": [
    "import time\n",
    "\n",
    "def good_pair_1(nums):\n",
    "    count = 0 \n",
    "    for i in range(len(nums)):\n",
    "        for j in range(i+1,len(nums)):\n",
    "            if nums[i] == nums[j]:\n",
    "                count+=1\n",
    "    return count\n",
    "\n",
    "# test case \n",
    "nums = [1,2,3,1,1,3]\n",
    "start = time.time()\n",
    "n = good_pair_1(letters)\n",
    "end = time.time()\n",
    "\n",
    "print(n)\n",
    "print(end-start)"
   ]
  },
  {
   "cell_type": "markdown",
   "metadata": {
    "id": "R1Hw8V-Vwzim"
   },
   "source": [
    "It works but slowly. One for loop is enough and not to mention a nested for loop, which has an O(N²) time complexity! "
   ]
  },
  {
   "cell_type": "code",
   "execution_count": 79,
   "metadata": {
    "colab": {
     "base_uri": "https://localhost:8080/"
    },
    "executionInfo": {
     "elapsed": 114451,
     "status": "ok",
     "timestamp": 1613754766548,
     "user": {
      "displayName": "Darth Maul",
      "photoUrl": "https://lh3.googleusercontent.com/a-/AOh14Gh5xqmxd78KGBkmKiP4Zt50OzFOZWcHeKbnR3Gl=s64",
      "userId": "09460696119666831892"
     },
     "user_tz": -60
    },
    "id": "C5BDvaSiwzim",
    "outputId": "893c1f6c-b0f3-4c86-98c5-e38f6ca6af4b"
   },
   "outputs": [
    {
     "name": "stdout",
     "output_type": "stream",
     "text": [
      "4900 : 1.63747501373291026"
     ]
    }
   ],
   "source": [
    "import sys\n",
    "\n",
    "x = range(100,5000,100)\n",
    "t = []\n",
    "\n",
    "for l in x:\n",
    "    letters = []\n",
    "    for k in range(l):\n",
    "        letters.append(random.choice(string.ascii_letters))\n",
    "\n",
    "    start = time.time()\n",
    "    m = good_pair_1(letters)\n",
    "    end   = time.time()\n",
    "    t.append(end-start)    \n",
    "    \n",
    "    sys.stdout.write(\"\\r\" + str(l) + ' : ' + str(end-start))\n",
    "    sys.stdout.flush()"
   ]
  },
  {
   "cell_type": "code",
   "execution_count": 80,
   "metadata": {
    "colab": {
     "base_uri": "https://localhost:8080/",
     "height": 282
    },
    "executionInfo": {
     "elapsed": 114437,
     "status": "ok",
     "timestamp": 1613754766551,
     "user": {
      "displayName": "Darth Maul",
      "photoUrl": "https://lh3.googleusercontent.com/a-/AOh14Gh5xqmxd78KGBkmKiP4Zt50OzFOZWcHeKbnR3Gl=s64",
      "userId": "09460696119666831892"
     },
     "user_tz": -60
    },
    "id": "iAX_xuJSwzin",
    "outputId": "ef17feea-4607-434a-f064-773c3af0563f"
   },
   "outputs": [
    {
     "data": {
      "text/plain": [
       "[<matplotlib.lines.Line2D at 0x273b0ebc248>]"
      ]
     },
     "execution_count": 80,
     "metadata": {},
     "output_type": "execute_result"
    },
    {
     "data": {
      "image/png": "[encoded data removed]",
      "text/plain": [
       "<Figure size 432x288 with 1 Axes>"
      ]
     },
     "metadata": {
      "needs_background": "light"
     },
     "output_type": "display_data"
    }
   ],
   "source": [
    "%matplotlib inline\n",
    "\n",
    "import matplotlib\n",
    "from matplotlib import pyplot as plt\n",
    "\n",
    "plt.plot(x,t)"
   ]
  },
  {
   "cell_type": "markdown",
   "metadata": {
    "id": "Ug38S5Iqwzin"
   },
   "source": [
    "We will have a running time problem if the number of iteration is large. In this case, a dictionary is a better data type to store the data because of its key-value pair attribute. Beginners may know what a dictionary is but rarely be able to utilize the key-value feature.\n",
    "We treat the elements as the key and the occurrences as the value: increasing the value by 1 for each new encounter and set to 1 if it is the first time."
   ]
  },
  {
   "cell_type": "code",
   "execution_count": 81,
   "metadata": {
    "colab": {
     "base_uri": "https://localhost:8080/"
    },
    "executionInfo": {
     "elapsed": 2998,
     "status": "ok",
     "timestamp": 1613754786430,
     "user": {
      "displayName": "Darth Maul",
      "photoUrl": "https://lh3.googleusercontent.com/a-/AOh14Gh5xqmxd78KGBkmKiP4Zt50OzFOZWcHeKbnR3Gl=s64",
      "userId": "09460696119666831892"
     },
     "user_tz": -60
    },
    "id": "yl6Siyefwzin",
    "outputId": "a3ca6af0-c975-4ac0-b8aa-3cc60f402d35"
   },
   "outputs": [
    {
     "name": "stdout",
     "output_type": "stream",
     "text": [
      "229845\n",
      "0.002999544143676758\n"
     ]
    }
   ],
   "source": [
    "def good_pair_2(nums):\n",
    "    hashmap = {}\n",
    "    count   = 0 \n",
    "    for num in nums:              # read elements from nums sequentially \n",
    "        if num in hashmap:\n",
    "            count += hashmap[num]\n",
    "            hashmap[num] += 1\n",
    "        else: \n",
    "            hashmap[num]  = 1\n",
    "    return count \n",
    "\n",
    "start = time.time()\n",
    "m = good_pair_2(letters)\n",
    "end   = time.time()\n",
    "\n",
    "print(m)\n",
    "print(end-start)"
   ]
  },
  {
   "cell_type": "code",
   "execution_count": 82,
   "metadata": {
    "colab": {
     "base_uri": "https://localhost:8080/"
    },
    "executionInfo": {
     "elapsed": 2716,
     "status": "ok",
     "timestamp": 1613754796984,
     "user": {
      "displayName": "Darth Maul",
      "photoUrl": "https://lh3.googleusercontent.com/a-/AOh14Gh5xqmxd78KGBkmKiP4Zt50OzFOZWcHeKbnR3Gl=s64",
      "userId": "09460696119666831892"
     },
     "user_tz": -60
    },
    "id": "eQwUTa7Ywzin",
    "outputId": "2ff54e23-856c-4c50-81b1-9288a303fa33"
   },
   "outputs": [
    {
     "name": "stdout",
     "output_type": "stream",
     "text": [
      "4900 : 0.0019993782043457034"
     ]
    }
   ],
   "source": [
    "import sys\n",
    "\n",
    "x = range(100,5000,100)\n",
    "t = []\n",
    "\n",
    "for l in x:\n",
    "    letters = []\n",
    "    for k in range(l):\n",
    "        letters.append(random.choice(string.ascii_letters))\n",
    "\n",
    "    start = time.time()\n",
    "    m = good_pair_2(letters)\n",
    "    end   = time.time()\n",
    "    t.append(end-start)    \n",
    "    \n",
    "    sys.stdout.write(\"\\r\" + str(l) + ' : ' + str(end-start))\n",
    "    sys.stdout.flush()"
   ]
  },
  {
   "cell_type": "code",
   "execution_count": 83,
   "metadata": {
    "colab": {
     "base_uri": "https://localhost:8080/",
     "height": 282
    },
    "executionInfo": {
     "elapsed": 3740,
     "status": "ok",
     "timestamp": 1613754805018,
     "user": {
      "displayName": "Darth Maul",
      "photoUrl": "https://lh3.googleusercontent.com/a-/AOh14Gh5xqmxd78KGBkmKiP4Zt50OzFOZWcHeKbnR3Gl=s64",
      "userId": "09460696119666831892"
     },
     "user_tz": -60
    },
    "id": "FM6Qh7gQwzio",
    "outputId": "ff310114-2312-4627-9e76-9d2679dd4132"
   },
   "outputs": [
    {
     "data": {
      "text/plain": [
       "[<matplotlib.lines.Line2D at 0x273b111ac88>]"
      ]
     },
     "execution_count": 83,
     "metadata": {},
     "output_type": "execute_result"
    },
    {
     "data": {
      "image/png": "[encoded data removed]",
      "text/plain": [
       "<Figure size 432x288 with 1 Axes>"
      ]
     },
     "metadata": {
      "needs_background": "light"
     },
     "output_type": "display_data"
    }
   ],
   "source": [
    "plt.plot(x,t)"
   ]
  },
  {
   "cell_type": "markdown",
   "metadata": {
    "id": "h6YI55m7vBD-"
   },
   "source": [
    ">**List Generator**\n",
    ">\n",
    ">Python implements `enumerate(seq)`, `zip(kseq, vseq)` and `range()` as *list generators*. List generators provide an iterator >interface, which\n",
    ">makes it possible to use them in for loops. Unlike a real list, a list generator\n",
    ">produces the next element in a lazy way, only as needed. Generators facilitate\n",
    ">working with large lists and even permit “infinite” lists. Remember that you can explicitly\n",
    ">coerce a generator to a list by calling the `list()` function."
   ]
  },
  {
   "cell_type": "markdown",
   "metadata": {
    "id": "oc9UwDTavBD-"
   },
   "source": [
    "### List Comprehension <a class=\"anchor\" id=\"section_3_5\"></a>\n",
    "\n",
    "List comprehension is an expression that transforms a collection (not necessarily\n",
    "a list) into a list. It is used to apply the same operation to all or some\n",
    "list elements, such as converting all elements to uppercase or raising them\n",
    "all to a power.\n",
    "\n",
    "The transformation process looks like this:\n",
    "1. The expression iterates over the collection and visits the items from the collection.\n",
    "2. An optional Boolean expression (default True) is evaluated for each item.\n",
    "3. If the Boolean expression is True, the loop expression is evaluated for the current item, and its value is appended to the result list.\n",
    "4. If the Boolean expression is False, the item is ignored.\n",
    "\n",
    "Here are some trivial list comprehensions:"
   ]
  },
  {
   "cell_type": "code",
   "execution_count": 84,
   "metadata": {
    "colab": {
     "base_uri": "https://localhost:8080/"
    },
    "executionInfo": {
     "elapsed": 1197,
     "status": "ok",
     "timestamp": 1609942550925,
     "user": {
      "displayName": "Giovanni Della Lunga",
      "photoUrl": "https://lh3.googleusercontent.com/a-/AOh14GjZMmrRhk516rS61n00A5uWTcwVcQ-EsWyndxzs-w=s64",
      "userId": "13927304036683734865"
     },
     "user_tz": -60
    },
    "id": "M6FK1jv9vBD-",
    "outputId": "7fed88d5-1e5e-49c3-a1f0-9155f4a24b8b"
   },
   "outputs": [
    {
     "data": {
      "text/plain": [
       "[0.34, -12, 34, 0.32, -0.928, 32, 0.76543, -22.6, 556, 3214, -6, 0.43, 0, -5]"
      ]
     },
     "execution_count": 84,
     "metadata": {},
     "output_type": "execute_result"
    }
   ],
   "source": [
    "myList = [.34, -12,34,.32,-.928,32,.76543,-22.6, 556,3214,-6,.43, 0, -5]\n",
    "# Copy myList; same as myList.copy() or myList[:], but less efficient\n",
    "[x for x in myList]"
   ]
  },
  {
   "cell_type": "code",
   "execution_count": 85,
   "metadata": {
    "colab": {
     "base_uri": "https://localhost:8080/"
    },
    "executionInfo": {
     "elapsed": 913,
     "status": "ok",
     "timestamp": 1609942551496,
     "user": {
      "displayName": "Giovanni Della Lunga",
      "photoUrl": "https://lh3.googleusercontent.com/a-/AOh14GjZMmrRhk516rS61n00A5uWTcwVcQ-EsWyndxzs-w=s64",
      "userId": "13927304036683734865"
     },
     "user_tz": -60
    },
    "id": "pSqg0AJ7vBD-",
    "outputId": "c3e47902-b241-45cd-8780-f333a59743e2"
   },
   "outputs": [
    {
     "data": {
      "text/plain": [
       "[0.34, 34, 0.32, 32, 0.76543, 556, 3214, 0.43, 0]"
      ]
     },
     "execution_count": 85,
     "metadata": {},
     "output_type": "execute_result"
    }
   ],
   "source": [
    "# Extract non-negative items\n",
    "[x for x in myList if x >= 0]"
   ]
  },
  {
   "cell_type": "code",
   "execution_count": 86,
   "metadata": {
    "colab": {
     "base_uri": "https://localhost:8080/"
    },
    "executionInfo": {
     "elapsed": 607,
     "status": "ok",
     "timestamp": 1609942551964,
     "user": {
      "displayName": "Giovanni Della Lunga",
      "photoUrl": "https://lh3.googleusercontent.com/a-/AOh14GjZMmrRhk516rS61n00A5uWTcwVcQ-EsWyndxzs-w=s64",
      "userId": "13927304036683734865"
     },
     "user_tz": -60
    },
    "id": "wp_m3Y7wvBD_",
    "outputId": "595392de-7b4e-424f-c05a-63ea269132ca"
   },
   "outputs": [
    {
     "data": {
      "text/plain": [
       "[0.11560000000000002,\n",
       " 144,\n",
       " 1156,\n",
       " 0.1024,\n",
       " 0.8611840000000001,\n",
       " 1024,\n",
       " 0.5858830849000001,\n",
       " 510.76000000000005,\n",
       " 309136,\n",
       " 10329796,\n",
       " 36,\n",
       " 0.18489999999999998,\n",
       " 0,\n",
       " 25]"
      ]
     },
     "execution_count": 86,
     "metadata": {},
     "output_type": "execute_result"
    }
   ],
   "source": [
    "# Build a list of squares\n",
    "[x**2 for x in myList]"
   ]
  },
  {
   "cell_type": "code",
   "execution_count": 87,
   "metadata": {
    "colab": {
     "base_uri": "https://localhost:8080/"
    },
    "executionInfo": {
     "elapsed": 1020,
     "status": "ok",
     "timestamp": 1609942553393,
     "user": {
      "displayName": "Giovanni Della Lunga",
      "photoUrl": "https://lh3.googleusercontent.com/a-/AOh14GjZMmrRhk516rS61n00A5uWTcwVcQ-EsWyndxzs-w=s64",
      "userId": "13927304036683734865"
     },
     "user_tz": -60
    },
    "id": "ZKQEsm7-vBD_",
    "outputId": "c2f51cb1-fefc-414a-a9ee-c67c91eebd8e"
   },
   "outputs": [
    {
     "data": {
      "text/plain": [
       "[2.941176470588235,\n",
       " -0.08333333333333333,\n",
       " 0.029411764705882353,\n",
       " 3.125,\n",
       " -1.0775862068965516,\n",
       " 0.03125,\n",
       " 1.3064551951190833,\n",
       " -0.04424778761061947,\n",
       " 0.0017985611510791368,\n",
       " 0.00031113876789047915,\n",
       " -0.16666666666666666,\n",
       " 2.3255813953488373,\n",
       " -0.2]"
      ]
     },
     "execution_count": 87,
     "metadata": {},
     "output_type": "execute_result"
    }
   ],
   "source": [
    "# Build a list of valid reciprocals\n",
    "[1/x for x in myList if x != 0]"
   ]
  },
  {
   "cell_type": "markdown",
   "metadata": {
    "id": "WOe8IxMPvBEB"
   },
   "source": [
    "## Working with Files <a class=\"anchor\" id=\"chapter4\"></a>\n",
    "\n",
    "Reading/Writing files are key tasks in data analysis. The Python Standard library has two methods you can use: write() e read(). Tese methods are appled to a built-in class you can create using the open() function, taking in input the file name and some additional arguments. Two arguments worth to be mentioned are the mode argument and encoding argument. Mode can be one of the following\n",
    "\n",
    "  Mode  | Meaning\n",
    "  ------------- | -------------\n",
    "  'r' | open for reading (default)\n",
    "  'w' | open for writing, truncating the file first\n",
    "  'x' | open for exclusive creation, failing if the file already exists\n",
    "  'a' | open for writing, appending to the end of the file if it exists\n",
    "  'b' | binary mode\n",
    "  't' | text mode (default)\n",
    "  '+' | open a disk file for updating (reading and writing)\n",
    "  \n",
    "Encoding is the name of the encoding used to decode or encode the file. The default encoding is platform dependent, to check it run the following lines"
   ]
  },
  {
   "cell_type": "code",
   "execution_count": 88,
   "metadata": {
    "id": "-4d1Dz9Nwzip",
    "outputId": "64b07590-7b24-4c2d-efa8-eb3d82bd5414"
   },
   "outputs": [
    {
     "data": {
      "text/plain": [
       "'cp1252'"
      ]
     },
     "execution_count": 88,
     "metadata": {},
     "output_type": "execute_result"
    }
   ],
   "source": [
    "import locale\n",
    "locale.getpreferredencoding()"
   ]
  },
  {
   "cell_type": "markdown",
   "metadata": {
    "id": "zWed5akqwziq"
   },
   "source": [
    "**BE AWARE**: Nowadays it is recommended to use UTF-8 encoding but you may work with text files with a different encoding and you may need to convert them in UTF-8 to represent them homogeneously in your system. The module [codecs](https://docs.python.org/3/library/codecs.html#module-codecs) is very helpful in this case. \n",
    "\n",
    "For the time being, we don't want to go too much in detail on this topic, you can read a gentle [introduction to character sets here](https://www.joelonsoftware.com/2003/10/08/the-absolute-minimum-every-software-developer-absolutely-positively-must-know-about-unicode-and-character-sets-no-excuses/)."
   ]
  },
  {
   "cell_type": "code",
   "execution_count": 89,
   "metadata": {
    "id": "_tBWGiHv1rIj"
   },
   "outputs": [],
   "source": [
    "if 'google.colab' in str(get_ipython()):\n",
    "    from google.colab import files\n",
    "    uploaded = files.upload()\n",
    "    path = ''\n",
    "else:\n",
    "    path = './data/txt/'"
   ]
  },
  {
   "cell_type": "markdown",
   "metadata": {
    "id": "DMRhujnwPaXt"
   },
   "source": [
    "If you want to know more about upload files in colab read [this](https://towardsdatascience.com/3-ways-to-load-csv-files-into-colab-7c14fcbdcb92) article."
   ]
  },
  {
   "cell_type": "code",
   "execution_count": 1,
   "metadata": {
    "colab": {
     "base_uri": "https://localhost:8080/"
    },
    "executionInfo": {
     "elapsed": 18231,
     "status": "ok",
     "timestamp": 1613143747547,
     "user": {
      "displayName": "Darth Maul",
      "photoUrl": "https://lh3.googleusercontent.com/a-/AOh14Gh5xqmxd78KGBkmKiP4Zt50OzFOZWcHeKbnR3Gl=s64",
      "userId": "09460696119666831892"
     },
     "user_tz": -60
    },
    "id": "RanKDfk4vBEB",
    "outputId": "9a3fbcbe-d669-4ea5-ecd8-f71798e6b64e"
   },
   "outputs": [],
   "source": [
    "f = open(path + \"beginning.txt\", \"r\")\n",
    "print(f.read())\n",
    "f.close()"
   ]
  },
  {
   "cell_type": "markdown",
   "metadata": {
    "id": "YPnD2JAAvBEC"
   },
   "source": [
    "In the above approaches, every time the file is opened it is needed to be closed explicitly. If one forgets to close the file, it may introduce several bugs in the code, i.e. many changes in files do not go into effect until the file is properly closed. To prevent this `with` statement can be used. `with` statement in Python is used in exception handling to make the code cleaner and much more readable. It simplifies the management of common resources like file streams. Observe the following code example on how the use of with statement makes code cleaner. There is no need to call `file.close()` when using `with` statement. The `with` statement itself ensures proper acquisition and release of resources."
   ]
  },
  {
   "cell_type": "code",
   "execution_count": 91,
   "metadata": {
    "colab": {
     "base_uri": "https://localhost:8080/"
    },
    "executionInfo": {
     "elapsed": 489,
     "status": "ok",
     "timestamp": 1613143756362,
     "user": {
      "displayName": "Darth Maul",
      "photoUrl": "https://lh3.googleusercontent.com/a-/AOh14Gh5xqmxd78KGBkmKiP4Zt50OzFOZWcHeKbnR3Gl=s64",
      "userId": "09460696119666831892"
     },
     "user_tz": -60
    },
    "id": "ypJwpGRTvBEC",
    "outputId": "8ee5e3c2-300d-41da-dab1-ac59a0097d3a"
   },
   "outputs": [
    {
     "name": "stdout",
     "output_type": "stream",
     "text": [
      "Galadriel: (speaking partly in Elvish)\n",
      "(I amar prestar aen.)\n",
      "The world is changed.\n",
      "(Han matho ne nen.)\n",
      "I feel it in the water.\n",
      "(Han mathon ned cae.)\n",
      "I feel it in the earth.\n",
      "(A han noston ned gwilith.)\n",
      "I smell it in the air.\n",
      "Much that once was is lost, for none now live who remember it.\n",
      "It began with the forging of the Great Rings. Three were given to the Elves, immortal, wisest and fairest of all beings. Seven to the Dwarf-Lords, great miners and craftsmen of the mountain halls. And nine, nine rings were gifted to the race of Men, who above all else desire power. For within these rings was bound the strength and the will to govern each race. But they were all of them deceived, for another ring was made. Deep in the land of Mordor, in the Fires of Mount Doom, the Dark Lord Sauron forged a master ring, and into this ring he poured his cruelty, his malice and his will to dominate all life.\n",
      "One ring to rule them all.\n",
      "One by one, the free lands of Middle-Earth fell to the power of the Ring, but there were some who resisted. A last alliance of men and elves marched against the armies of Mordor, and on the very slopes of Mount Doom, they fought for the freedom of Middle-Earth. Victory was near, but the power of the ring could not be undone. It was in this moment, when all hope had faded, that Isildur, son of the king, took up his fatherâ€™s sword.\n",
      "Sauron, enemy of the free peoples of Middle-Earth, was defeated. The Ring passed to Isildur, who had this one chance to destroy evil forever, but the hearts of men are easily corrupted. And the ring of power has a will of its own. It betrayed Isildur, to his death.\n",
      "And some things that should not have been forgotten were lost. History became legend. Legend became myth. And for two and a half thousand years, the ring passed out of all knowledge. Until, when chance came, it ensnared another bearer.\n",
      "It came to the creature Gollum, who took it deep into the tunnels of the Misty Mountains. And there it consumed him. The ring gave to Gollum unnatural long life. For five hundred years it poisoned his mind, and in the gloom of Gollumâ€™s cave, it waited. Darkness crept back into the forests of the world. Rumor grew of a shadow in the East, whispers of a nameless fear, and the Ring of Power perceived its time had come. It abandoned Gollum, but then something happened that the Ring did not intend. It was picked up by the most unlikely creature imaginable: a hobbit, Bilbo Baggins, of the Shire.\n",
      "For the time will soon come when hobbits will shape the fortunes of all.\n"
     ]
    }
   ],
   "source": [
    "with open(path + \"beginning.txt\", \"r\") as f:\n",
    "    for x in f:\n",
    "      x = x.strip()  \n",
    "      if x: print(x)"
   ]
  },
  {
   "cell_type": "markdown",
   "metadata": {
    "id": "bJ1j4WiGPaXu"
   },
   "source": [
    "### Processing CVS Files\n",
    "\n",
    "A CSV file consists of columns representing variables and rows representing\n",
    "records. (Data scientists with a statistical background often call them observations.)\n",
    "The fields in a record are typically separated by commas, but other\n",
    "delimiters, such as tabs (tab-separated values), colons, semicolons, and\n",
    "vertical bars, are also common.\n",
    "\n",
    "For convenience, the Python module csv provides a CSV reader and a CSV\n",
    "writer. Both objects take a previously opened text file handle as the first\n",
    "parameter (in the example, the file is opened with the newline='' option to avoid\n",
    "the need to strip the lines). You may provide the delimiter and the quote\n",
    "character, if needed, through the optional parameters delimiter and quotechar.\n",
    "Other optional parameters control the escape character, the line terminator,"
   ]
  },
  {
   "cell_type": "code",
   "execution_count": 92,
   "metadata": {
    "id": "WwkuvG0CPaXv"
   },
   "outputs": [],
   "source": [
    "if 'google.colab' in str(get_ipython()):\n",
    "    from google.colab import files\n",
    "    uploaded = files.upload()\n",
    "    path = ''\n",
    "else:\n",
    "    path = './data/csv/'"
   ]
  },
  {
   "cell_type": "code",
   "execution_count": 93,
   "metadata": {
    "id": "U4Lc_vhJPaXv",
    "outputId": "527546a4-3482-4801-ddd8-0d8b744d3760"
   },
   "outputs": [
    {
     "ename": "NameError",
     "evalue": "name 'csv' is not defined",
     "output_type": "error",
     "traceback": [
      "\u001b[1;31m---------------------------------------------------------------------------\u001b[0m",
      "\u001b[1;31mNameError\u001b[0m                                 Traceback (most recent call last)",
      "\u001b[1;32m<ipython-input-93-779bff26e8c1>\u001b[0m in \u001b[0;36m<module>\u001b[1;34m\u001b[0m\n\u001b[0;32m      1\u001b[0m \u001b[1;32mwith\u001b[0m \u001b[0mopen\u001b[0m\u001b[1;33m(\u001b[0m\u001b[0mpath\u001b[0m \u001b[1;33m+\u001b[0m \u001b[1;34m\"countryriskdata.csv\"\u001b[0m\u001b[1;33m)\u001b[0m \u001b[1;32mas\u001b[0m \u001b[0minfile\u001b[0m\u001b[1;33m:\u001b[0m\u001b[1;33m\u001b[0m\u001b[1;33m\u001b[0m\u001b[0m\n\u001b[1;32m----> 2\u001b[1;33m     \u001b[0mreader\u001b[0m \u001b[1;33m=\u001b[0m \u001b[0mcsv\u001b[0m\u001b[1;33m.\u001b[0m\u001b[0mreader\u001b[0m\u001b[1;33m(\u001b[0m\u001b[0minfile\u001b[0m\u001b[1;33m,\u001b[0m \u001b[0mdelimiter\u001b[0m\u001b[1;33m=\u001b[0m\u001b[1;34m','\u001b[0m\u001b[1;33m)\u001b[0m\u001b[1;33m\u001b[0m\u001b[1;33m\u001b[0m\u001b[0m\n\u001b[0m",
      "\u001b[1;31mNameError\u001b[0m: name 'csv' is not defined"
     ]
    }
   ],
   "source": [
    "with open(path + \"countryriskdata.csv\") as infile:\n",
    "    reader = csv.reader(infile, delimiter=',')"
   ]
  },
  {
   "cell_type": "markdown",
   "metadata": {
    "id": "c53P5TNEPaXv"
   },
   "source": [
    "We forget to include the \"csv\" module ... "
   ]
  },
  {
   "cell_type": "code",
   "execution_count": 94,
   "metadata": {
    "id": "eYGH3xxBPaXv"
   },
   "outputs": [],
   "source": [
    "import csv\n",
    "\n",
    "with open(path + \"countryriskdata.csv\") as infile:\n",
    "    data = list(csv.reader(infile, delimiter=','))"
   ]
  },
  {
   "cell_type": "markdown",
   "metadata": {
    "id": "DdZorl4WPaXv"
   },
   "source": [
    "Examine `data[0]`, which is the first record in the file. It must contain the column\n",
    "header of interest:"
   ]
  },
  {
   "cell_type": "code",
   "execution_count": 95,
   "metadata": {
    "id": "wlwtPPH-PaXw",
    "outputId": "18298f2d-05fb-40ab-b22b-bf43b3d8edd2"
   },
   "outputs": [
    {
     "name": "stdout",
     "output_type": "stream",
     "text": [
      "['Country', 'Abbrev', 'Corruption', 'Peace', 'Legal', 'GDP Growth']\n"
     ]
    }
   ],
   "source": [
    "print(data[0])"
   ]
  },
  {
   "cell_type": "code",
   "execution_count": 96,
   "metadata": {
    "id": "i6Wh2Rx7PaXw",
    "outputId": "d9123f45-6b60-43db-fd01-1d0f2082ef48"
   },
   "outputs": [
    {
     "name": "stdout",
     "output_type": "stream",
     "text": [
      "4\n"
     ]
    }
   ],
   "source": [
    "legalIndex = data[0].index('Legal')\n",
    "print(legalIndex)"
   ]
  },
  {
   "cell_type": "markdown",
   "metadata": {
    "id": "baWDjeC2vBEC"
   },
   "source": [
    "## Functions <a class=\"anchor\" id=\"chapter5\"></a>"
   ]
  },
  {
   "cell_type": "markdown",
   "metadata": {
    "id": "ZpJ5ThgTvBEC"
   },
   "source": [
    "### What is a Function? <a class=\"anchor\" id=\"section_5_1\"></a>\n",
    "\n",
    "A function is a block of organized, reusable code that is used to perform a single, related action. Functions provide better modularity for your application and a high degree of code reusing. These will be very familiar to anyone who has programmed in any language, and work like you would expect."
   ]
  },
  {
   "cell_type": "code",
   "execution_count": 97,
   "metadata": {
    "colab": {
     "base_uri": "https://localhost:8080/"
    },
    "executionInfo": {
     "elapsed": 502,
     "status": "ok",
     "timestamp": 1613143758333,
     "user": {
      "displayName": "Darth Maul",
      "photoUrl": "https://lh3.googleusercontent.com/a-/AOh14Gh5xqmxd78KGBkmKiP4Zt50OzFOZWcHeKbnR3Gl=s64",
      "userId": "09460696119666831892"
     },
     "user_tz": -60
    },
    "id": "WRojQ_eoC71J",
    "outputId": "9ab91e52-3e55-471f-8800-8f455168b5de"
   },
   "outputs": [
    {
     "name": "stdout",
     "output_type": "stream",
     "text": [
      "<class 'int'>\n",
      "5\n",
      "3\n"
     ]
    }
   ],
   "source": [
    "# There are thousands of functions that operate on things\n",
    "print(type(3)) #type() function\n",
    "print(len('hello')) #len() function\n",
    "print(round(3.3))#round() funcction"
   ]
  },
  {
   "cell_type": "code",
   "execution_count": 98,
   "metadata": {
    "id": "tnuPZhmSC71J"
   },
   "outputs": [],
   "source": [
    "#to find out what a function does you can type it's name followed by a question mark\n",
    "round?"
   ]
  },
  {
   "cell_type": "code",
   "execution_count": 99,
   "metadata": {
    "executionInfo": {
     "elapsed": 6469,
     "status": "ok",
     "timestamp": 1613143766297,
     "user": {
      "displayName": "Darth Maul",
      "photoUrl": "https://lh3.googleusercontent.com/a-/AOh14Gh5xqmxd78KGBkmKiP4Zt50OzFOZWcHeKbnR3Gl=s64",
      "userId": "09460696119666831892"
     },
     "user_tz": -60
    },
    "id": "EaQOwH2_C71J",
    "outputId": "4cef72bc-c4b9-4cab-93f7-f1af0792082a"
   },
   "outputs": [
    {
     "name": "stdout",
     "output_type": "stream",
     "text": [
      "Object `log` not found.\n"
     ]
    }
   ],
   "source": [
    "# Not every function is available if you don't have imported it\n",
    "log?"
   ]
  },
  {
   "cell_type": "code",
   "execution_count": 100,
   "metadata": {
    "colab": {
     "base_uri": "https://localhost:8080/"
    },
    "executionInfo": {
     "elapsed": 5414,
     "status": "ok",
     "timestamp": 1613143766309,
     "user": {
      "displayName": "Darth Maul",
      "photoUrl": "https://lh3.googleusercontent.com/a-/AOh14Gh5xqmxd78KGBkmKiP4Zt50OzFOZWcHeKbnR3Gl=s64",
      "userId": "09460696119666831892"
     },
     "user_tz": -60
    },
    "id": "KP1m3hmtC71K",
    "outputId": "f088cb28-a22d-4133-bf10-3b9b0043de12"
   },
   "outputs": [
    {
     "ename": "NameError",
     "evalue": "name 'log' is not defined",
     "output_type": "error",
     "traceback": [
      "\u001b[1;31m---------------------------------------------------------------------------\u001b[0m",
      "\u001b[1;31mNameError\u001b[0m                                 Traceback (most recent call last)",
      "\u001b[1;32m<ipython-input-100-9be882efc3b0>\u001b[0m in \u001b[0;36m<module>\u001b[1;34m\u001b[0m\n\u001b[0;32m      1\u001b[0m \u001b[1;31m# this will cause an error because the log function has not been 'imported' yet\u001b[0m\u001b[1;33m\u001b[0m\u001b[1;33m\u001b[0m\u001b[1;33m\u001b[0m\u001b[0m\n\u001b[1;32m----> 2\u001b[1;33m \u001b[0mlog\u001b[0m\u001b[1;33m(\u001b[0m\u001b[1;36m3\u001b[0m\u001b[1;33m)\u001b[0m\u001b[1;33m\u001b[0m\u001b[1;33m\u001b[0m\u001b[0m\n\u001b[0m",
      "\u001b[1;31mNameError\u001b[0m: name 'log' is not defined"
     ]
    }
   ],
   "source": [
    "# this will cause an error because the log function has not been 'imported' yet\n",
    "log(3)"
   ]
  },
  {
   "cell_type": "markdown",
   "metadata": {
    "id": "Pq3RWyexC71K"
   },
   "source": [
    "Many useful functions are not in the Python 'standard library', but in external packages which you can download or build by yourself. These need to be imported into your Python notebook (or program) before they can be used. "
   ]
  },
  {
   "cell_type": "code",
   "execution_count": 2,
   "metadata": {
    "colab": {
     "base_uri": "https://localhost:8080/"
    },
    "executionInfo": {
     "elapsed": 484,
     "status": "ok",
     "timestamp": 1613143769811,
     "user": {
      "displayName": "Darth Maul",
      "photoUrl": "https://lh3.googleusercontent.com/a-/AOh14Gh5xqmxd78KGBkmKiP4Zt50OzFOZWcHeKbnR3Gl=s64",
      "userId": "09460696119666831892"
     },
     "user_tz": -60
    },
    "id": "V19F3wmtC71K",
    "outputId": "376e227f-0fd1-41d5-c6b4-5abdab203250"
   },
   "outputs": [],
   "source": [
    "# log() function is defined in math module\n",
    "\n",
    "import math\n",
    "\n",
    "#to show the module function (and methods)\n",
    "#dir(math)"
   ]
  },
  {
   "cell_type": "code",
   "execution_count": 102,
   "metadata": {
    "colab": {
     "base_uri": "https://localhost:8080/"
    },
    "executionInfo": {
     "elapsed": 510,
     "status": "ok",
     "timestamp": 1613143771029,
     "user": {
      "displayName": "Darth Maul",
      "photoUrl": "https://lh3.googleusercontent.com/a-/AOh14Gh5xqmxd78KGBkmKiP4Zt50OzFOZWcHeKbnR3Gl=s64",
      "userId": "09460696119666831892"
     },
     "user_tz": -60
    },
    "id": "FtNM3RorC71K",
    "outputId": "aa8effb7-fede-4d28-87b5-ac5e88222348"
   },
   "outputs": [
    {
     "data": {
      "text/plain": [
       "1.0986122886681098"
      ]
     },
     "execution_count": 102,
     "metadata": {},
     "output_type": "execute_result"
    }
   ],
   "source": [
    "math.log(3)"
   ]
  },
  {
   "cell_type": "code",
   "execution_count": 103,
   "metadata": {
    "colab": {
     "base_uri": "https://localhost:8080/"
    },
    "executionInfo": {
     "elapsed": 347,
     "status": "ok",
     "timestamp": 1613143771659,
     "user": {
      "displayName": "Darth Maul",
      "photoUrl": "https://lh3.googleusercontent.com/a-/AOh14Gh5xqmxd78KGBkmKiP4Zt50OzFOZWcHeKbnR3Gl=s64",
      "userId": "09460696119666831892"
     },
     "user_tz": -60
    },
    "id": "6JQ27YHkC71L",
    "outputId": "c13273ae-db3e-417a-e725-8a4356991aee"
   },
   "outputs": [
    {
     "name": "stdout",
     "output_type": "stream",
     "text": [
      "1.0986122886681098\n",
      "20.085536923187668\n"
     ]
    }
   ],
   "source": [
    "# we don't want to write 'math.' every time\n",
    "# we can use the 'from <module> import <function1>, <function2>, ...' syntax\n",
    "\n",
    "from math import log, exp\n",
    "print(log(3))\n",
    "print(exp(3))"
   ]
  },
  {
   "cell_type": "markdown",
   "metadata": {
    "id": "BDsDQHAXC71L"
   },
   "source": [
    "### Let's define some new  Functions <a class=\"anchor\" id=\"section_5_2\"></a>\n",
    "\n",
    "First of all upload an entire book into a single variable"
   ]
  },
  {
   "cell_type": "code",
   "execution_count": 104,
   "metadata": {
    "id": "V_ol1rk_3K40"
   },
   "outputs": [],
   "source": [
    "if 'google.colab' in str(get_ipython()):\n",
    "    from google.colab import files\n",
    "    uploaded = files.upload()\n",
    "    path = ''\n",
    "else:\n",
    "    path = './data/txt/'"
   ]
  },
  {
   "cell_type": "code",
   "execution_count": 105,
   "metadata": {
    "id": "8j8l2ybqwzit"
   },
   "outputs": [],
   "source": [
    "with open(path + \"carroll-alice.txt\", \"r\") as f:\n",
    "    alice = f.read()"
   ]
  },
  {
   "cell_type": "code",
   "execution_count": 106,
   "metadata": {
    "id": "A0bSlbmDwzit"
   },
   "outputs": [],
   "source": [
    "def lexical_diversity(text):\n",
    "    return len(text)/len(set(text))"
   ]
  },
  {
   "cell_type": "markdown",
   "metadata": {
    "id": "fkPLbJnewzit"
   },
   "source": [
    "In the definition of `lexical diversity()`, we specify a parameter labeled `text`. This\n",
    "parameter is a sort of “placeholder” for the actual text whose lexical diversity we want to\n",
    "compute, and reoccurs in the block of code that will run when the function is used, in\n",
    "line. "
   ]
  },
  {
   "cell_type": "code",
   "execution_count": 107,
   "metadata": {
    "colab": {
     "base_uri": "https://localhost:8080/"
    },
    "executionInfo": {
     "elapsed": 458,
     "status": "ok",
     "timestamp": 1613143817924,
     "user": {
      "displayName": "Darth Maul",
      "photoUrl": "https://lh3.googleusercontent.com/a-/AOh14Gh5xqmxd78KGBkmKiP4Zt50OzFOZWcHeKbnR3Gl=s64",
      "userId": "09460696119666831892"
     },
     "user_tz": -60
    },
    "id": "h7Qtg5TGwzit",
    "outputId": "5461c69b-a36e-4c82-c857-f1b304da5951"
   },
   "outputs": [
    {
     "name": "stdout",
     "output_type": "stream",
     "text": [
      "1978.013698630137\n"
     ]
    }
   ],
   "source": [
    "print(lexical_diversity(alice))"
   ]
  },
  {
   "cell_type": "markdown",
   "metadata": {
    "id": "ZEIYRqwFwziu"
   },
   "source": [
    "Uhmmmm ... there is something strange... let's see why ..."
   ]
  },
  {
   "cell_type": "code",
   "execution_count": 108,
   "metadata": {
    "colab": {
     "base_uri": "https://localhost:8080/"
    },
    "executionInfo": {
     "elapsed": 524,
     "status": "ok",
     "timestamp": 1613143820285,
     "user": {
      "displayName": "Darth Maul",
      "photoUrl": "https://lh3.googleusercontent.com/a-/AOh14Gh5xqmxd78KGBkmKiP4Zt50OzFOZWcHeKbnR3Gl=s64",
      "userId": "09460696119666831892"
     },
     "user_tz": -60
    },
    "id": "DIpMct7awziu",
    "outputId": "2f7f78a3-3408-4e18-cd0b-becc2276d1f0"
   },
   "outputs": [
    {
     "data": {
      "text/plain": [
       "73"
      ]
     },
     "execution_count": 108,
     "metadata": {},
     "output_type": "execute_result"
    }
   ],
   "source": [
    "len(set(alice))"
   ]
  },
  {
   "cell_type": "code",
   "execution_count": 109,
   "metadata": {
    "colab": {
     "base_uri": "https://localhost:8080/"
    },
    "executionInfo": {
     "elapsed": 487,
     "status": "ok",
     "timestamp": 1613143821430,
     "user": {
      "displayName": "Darth Maul",
      "photoUrl": "https://lh3.googleusercontent.com/a-/AOh14Gh5xqmxd78KGBkmKiP4Zt50OzFOZWcHeKbnR3Gl=s64",
      "userId": "09460696119666831892"
     },
     "user_tz": -60
    },
    "id": "ASkDch6uwziu",
    "outputId": "c400bf5d-ff25-4060-cae2-2c492f30d65f"
   },
   "outputs": [
    {
     "name": "stdout",
     "output_type": "stream",
     "text": [
      "{'D', '\"', 'J', 'W', 'h', '8', '5', ',', 'i', 'N', 'u', 'G', 'L', 'M', 'A', 'I', '6', ')', '!', 'b', 'U', 'x', 'v', 'Q', 'S', '?', 'n', '-', 'f', 'a', 'c', 'j', 'X', ';', ']', 'V', 'z', \"'\", 'p', 'y', '\\n', 'o', 'e', 'r', 'g', ' ', 'H', 't', '(', 'q', 'F', 'T', 'E', 'm', 'Z', '1', 'B', '[', 'w', 'k', 'O', 's', 'd', 'K', 'R', '_', 'P', '.', ':', 'Y', 'C', '*', 'l'}"
     ]
    }
   ],
   "source": [
    "print(set(alice), end='')"
   ]
  },
  {
   "cell_type": "markdown",
   "metadata": {
    "id": "CQIZij8owziu"
   },
   "source": [
    "#### Tokenization <a class=\"anchor\" id=\"section_5_2_1\"></a>\n",
    "\n",
    "In computer science, lexical analysis, lexing or [tokenization](https://en.wikipedia.org/wiki/Lexical_analysis#Tokenization) is the process of converting a sequence of characters (such as in a computer program or web page) into a sequence of tokens (strings with an assigned and thus identified meaning). A program that performs lexical analysis may be termed a lexer, tokenizer, or scanner, although scanner is also a term for the first stage of a lexer."
   ]
  },
  {
   "cell_type": "code",
   "execution_count": 110,
   "metadata": {
    "colab": {
     "base_uri": "https://localhost:8080/"
    },
    "executionInfo": {
     "elapsed": 659,
     "status": "ok",
     "timestamp": 1613143823865,
     "user": {
      "displayName": "Darth Maul",
      "photoUrl": "https://lh3.googleusercontent.com/a-/AOh14Gh5xqmxd78KGBkmKiP4Zt50OzFOZWcHeKbnR3Gl=s64",
      "userId": "09460696119666831892"
     },
     "user_tz": -60
    },
    "id": "ZVFlU0RYwziv",
    "outputId": "5ce7ce9a-a7a4-4b29-dff1-58566c52865b"
   },
   "outputs": [
    {
     "data": {
      "text/plain": [
       "str"
      ]
     },
     "execution_count": 110,
     "metadata": {},
     "output_type": "execute_result"
    }
   ],
   "source": [
    "type(alice)"
   ]
  },
  {
   "cell_type": "code",
   "execution_count": 3,
   "metadata": {
    "colab": {
     "base_uri": "https://localhost:8080/"
    },
    "executionInfo": {
     "elapsed": 1984,
     "status": "ok",
     "timestamp": 1613144013564,
     "user": {
      "displayName": "Darth Maul",
      "photoUrl": "https://lh3.googleusercontent.com/a-/AOh14Gh5xqmxd78KGBkmKiP4Zt50OzFOZWcHeKbnR3Gl=s64",
      "userId": "09460696119666831892"
     },
     "user_tz": -60
    },
    "id": "GHTE5-itwziv",
    "outputId": "ed1a1f64-3872-4c24-b019-b4698edfb327"
   },
   "outputs": [
    {
     "name": "stderr",
     "output_type": "stream",
     "text": [
      "[nltk_data] Error loading punkt: <urlopen error [Errno 11001]\n",
      "[nltk_data]     getaddrinfo failed>\n"
     ]
    },
    {
     "ename": "NameError",
     "evalue": "name 'alice' is not defined",
     "output_type": "error",
     "traceback": [
      "\u001b[1;31m---------------------------------------------------------------------------\u001b[0m",
      "\u001b[1;31mNameError\u001b[0m                                 Traceback (most recent call last)",
      "\u001b[1;32m<ipython-input-3-73c3d37788dd>\u001b[0m in \u001b[0;36m<module>\u001b[1;34m\u001b[0m\n\u001b[0;32m      2\u001b[0m \u001b[0mnltk\u001b[0m\u001b[1;33m.\u001b[0m\u001b[0mdownload\u001b[0m\u001b[1;33m(\u001b[0m\u001b[1;34m'punkt'\u001b[0m\u001b[1;33m)\u001b[0m\u001b[1;33m\u001b[0m\u001b[1;33m\u001b[0m\u001b[0m\n\u001b[0;32m      3\u001b[0m \u001b[1;33m\u001b[0m\u001b[0m\n\u001b[1;32m----> 4\u001b[1;33m \u001b[0mnltk_tokens\u001b[0m \u001b[1;33m=\u001b[0m \u001b[0mnltk\u001b[0m\u001b[1;33m.\u001b[0m\u001b[0mword_tokenize\u001b[0m\u001b[1;33m(\u001b[0m\u001b[0malice\u001b[0m\u001b[1;33m)\u001b[0m\u001b[1;33m\u001b[0m\u001b[1;33m\u001b[0m\u001b[0m\n\u001b[0m\u001b[0;32m      5\u001b[0m \u001b[1;31m#print (nltk_tokens)\u001b[0m\u001b[1;33m\u001b[0m\u001b[1;33m\u001b[0m\u001b[1;33m\u001b[0m\u001b[0m\n",
      "\u001b[1;31mNameError\u001b[0m: name 'alice' is not defined"
     ]
    }
   ],
   "source": [
    "import nltk\n",
    "nltk.download('punkt')\n",
    "\n",
    "nltk_tokens = nltk.word_tokenize(alice)\n",
    "#print (nltk_tokens)"
   ]
  },
  {
   "cell_type": "code",
   "execution_count": 112,
   "metadata": {
    "colab": {
     "base_uri": "https://localhost:8080/"
    },
    "executionInfo": {
     "elapsed": 513,
     "status": "ok",
     "timestamp": 1613144027670,
     "user": {
      "displayName": "Darth Maul",
      "photoUrl": "https://lh3.googleusercontent.com/a-/AOh14Gh5xqmxd78KGBkmKiP4Zt50OzFOZWcHeKbnR3Gl=s64",
      "userId": "09460696119666831892"
     },
     "user_tz": -60
    },
    "id": "rw4Iblyfwziv",
    "outputId": "1ca5aa79-de55-4ea5-917f-75fd749473a1"
   },
   "outputs": [
    {
     "name": "stdout",
     "output_type": "stream",
     "text": [
      "10.51585557299843\n"
     ]
    }
   ],
   "source": [
    "print(lexical_diversity(nltk_tokens))"
   ]
  },
  {
   "cell_type": "code",
   "execution_count": 113,
   "metadata": {
    "colab": {
     "base_uri": "https://localhost:8080/"
    },
    "executionInfo": {
     "elapsed": 500,
     "status": "ok",
     "timestamp": 1613144029745,
     "user": {
      "displayName": "Darth Maul",
      "photoUrl": "https://lh3.googleusercontent.com/a-/AOh14Gh5xqmxd78KGBkmKiP4Zt50OzFOZWcHeKbnR3Gl=s64",
      "userId": "09460696119666831892"
     },
     "user_tz": -60
    },
    "id": "5sHj-tO-wziw",
    "outputId": "6cedc1c8-07d6-4138-d8be-662f6e214e70"
   },
   "outputs": [
    {
     "data": {
      "text/plain": [
       "3185"
      ]
     },
     "execution_count": 113,
     "metadata": {},
     "output_type": "execute_result"
    }
   ],
   "source": [
    "len(set(nltk_tokens))"
   ]
  },
  {
   "cell_type": "code",
   "execution_count": null,
   "metadata": {
    "id": "1lGPoTfFwziw"
   },
   "outputs": [],
   "source": [
    "#print(set(nltk_tokens))"
   ]
  },
  {
   "cell_type": "markdown",
   "metadata": {
    "id": "2yOQ1C3Wwziw"
   },
   "source": [
    "To recap, we use or *call* a function such as `lexical_diversity()` by typing its name,\n",
    "followed by an open parenthesis, the name of the text, and then a close parenthesis.\n",
    "These parentheses will show up often; their role is to separate the name of a task—such\n",
    "as `lexical_diversity` from the data that the task is to be performed on—such as\n",
    "`nltk_tokens`. The data value that we place in the parentheses when we call a function is an\n",
    "**argument** to the function."
   ]
  },
  {
   "cell_type": "code",
   "execution_count": 115,
   "metadata": {
    "colab": {
     "base_uri": "https://localhost:8080/"
    },
    "executionInfo": {
     "elapsed": 494,
     "status": "ok",
     "timestamp": 1613144059121,
     "user": {
      "displayName": "Darth Maul",
      "photoUrl": "https://lh3.googleusercontent.com/a-/AOh14Gh5xqmxd78KGBkmKiP4Zt50OzFOZWcHeKbnR3Gl=s64",
      "userId": "09460696119666831892"
     },
     "user_tz": -60
    },
    "id": "gWE0v96kwziw",
    "outputId": "f73b40b8-b13b-4960-94db-06b11946dfb3"
   },
   "outputs": [
    {
     "data": {
      "text/plain": [
       "['WAISTCOAT-POCKET',\n",
       " 'waistcoat-pocket',\n",
       " 'bread-and-butter',\n",
       " 'bread-and-butter',\n",
       " 'bread-and-butter',\n",
       " 'bread-and-butter',\n",
       " 'bread-and-butter',\n",
       " 'bread-and-butter']"
      ]
     },
     "execution_count": 115,
     "metadata": {},
     "output_type": "execute_result"
    }
   ],
   "source": [
    "strange_words = [w for w in nltk_tokens if len(w) > 15]\n",
    "strange_words"
   ]
  },
  {
   "cell_type": "markdown",
   "metadata": {
    "id": "d9Jd_VbH428L"
   },
   "source": [
    "Try to make an advanced search with google with both \"waistcoat-pocket\" and \"bread-and-butter\" ... "
   ]
  },
  {
   "cell_type": "markdown",
   "metadata": {
    "id": "UBlV7XBEPaX3"
   },
   "source": [
    "# Conclusion \n",
    "\n",
    "Of course there's more to learn in Python, but these are standard things you need to know and they'll be good enough for you to jump into beginner projects. There's that tempting feeling that you need to finish lots of Python tutorials before you work on any project. Don't do it.\n",
    "\n",
    "Many fall into the trap of learning back to back Python tutorials waiting to feel super ready. Instead, learn the basics first. Next, build some tiny projects. Then return to learning with more tutorials. Trust me, you can finish 100 Python tutorials and still feel you're not ready to build any projects. Studying alone is not enough for this reason in the next notebook you will find 10 exercises. Good luck."
   ]
  },
  {
   "cell_type": "markdown",
   "metadata": {
    "id": "cqoQhfRMPaX3"
   },
   "source": [
    "# Credits & References\n",
    "\n",
    "*Steven Bird, Ewan Klein and Edward Loper*, **Natural Language Processing with Python**, O'REILLY\n",
    "\n",
    "*Andrea Gigli*, **Python Course for Data Science** [here the link to github](https://github.com/andrgig/Data-Science-for-Management/blob/master/1.%20Python%20Intro%20for%20Data%20Science.ipynb)\n"
   ]
  }
 ],
 "metadata": {
  "colab": {
   "collapsed_sections": [],
   "name": "pragmatic_introduction_to_python_language_1.ipynb",
   "provenance": [],
   "toc_visible": true
  },
  "kernelspec": {
   "display_name": "Python 3 (ipykernel)",
   "language": "python",
   "name": "python3"
  },
  "language_info": {
   "codemirror_mode": {
    "name": "ipython",
    "version": 3
   },
   "file_extension": ".py",
   "mimetype": "text/x-python",
   "name": "python",
   "nbconvert_exporter": "python",
   "pygments_lexer": "ipython3",
   "version": "3.10.9"
  },
  "toc": {
   "base_numbering": 1,
   "nav_menu": {},
   "number_sections": true,
   "sideBar": true,
   "skip_h1_title": false,
   "title_cell": "Table of Contents",
   "title_sidebar": "Contents",
   "toc_cell": false,
   "toc_position": {},
   "toc_section_display": true,
   "toc_window_display": false
  }
 },
 "nbformat": 4,
 "nbformat_minor": 1
}
