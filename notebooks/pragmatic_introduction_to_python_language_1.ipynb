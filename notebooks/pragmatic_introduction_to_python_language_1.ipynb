{
 "cells": [
  {
   "cell_type": "markdown",
   "metadata": {
    "id": "XbDsNPLG1HLm"
   },
   "source": [
    "# A Pragmatic Introduction to Python"
   ]
  },
  {
   "cell_type": "markdown",
   "metadata": {
    "id": "ZCSLsffX1HLv"
   },
   "source": [
    "## What is Python? <a class=\"anchor\" id=\"chapter1\"></a>"
   ]
  },
  {
   "cell_type": "markdown",
   "metadata": {
    "executionInfo": {
     "elapsed": 980,
     "status": "ok",
     "timestamp": 1609784892801,
     "user": {
      "displayName": "Giovanni Della Lunga",
      "photoUrl": "https://lh3.googleusercontent.com/a-/AOh14GjZMmrRhk516rS61n00A5uWTcwVcQ-EsWyndxzs-w=s64",
      "userId": "13927304036683734865"
     },
     "user_tz": -60
    },
    "id": "2XOp0G8vpvwb",
    "outputId": "5c2ff0cc-388b-421b-b606-6753f7b5e835"
   },
   "source": [
    "### The Python Interpreter <a class=\"anchor\" id=\"section_1_1\"></a>\n",
    "\n",
    "- Python is an interpreted language\n",
    "- The interpreter provides an interactive environment to play with the language"
   ]
  },
  {
   "cell_type": "markdown",
   "metadata": {
    "id": "2cN5ZCDe1qaP"
   },
   "source": [
    "### No Braces, only Spaces! <a class=\"anchor\" id=\"section_1_2\"></a>\n",
    "\n",
    "- Python uses indentation instead of braces to determine the scope of expressions\n",
    "\n",
    "- All lines must be indented the same amount to be part of the scope (or indented more if part of an inner scope)\n",
    "\n",
    "- This forces the programmer to use proper indentation since the indenting is part of the program!"
   ]
  },
  {
   "cell_type": "markdown",
   "metadata": {
    "id": "5bBSp_G63uCD"
   },
   "source": [
    "## Understanding Basic String Functions <a class=\"anchor\" id=\"chapter2\"></a>\n",
    "\n",
    "### What is a String? <a class=\"anchor\" id=\"section_2_1\"></a>\n",
    "\n",
    "A string is a basic unit of interaction between the world of computers and the\n",
    "world of humans. Initially, almost all raw data is stored as strings.\n",
    "\n",
    "The case conversion functions return a copy of the original string s: `lower()`\n",
    "converts all characters to lowercase; `upper()` converts all characters to uppercase;\n",
    "and `capitalize()` converts the first character to uppercase and all other\n",
    "characters to lowercase. These functions don’t affect non-alphabetic characters.\n",
    "Case conversion functions are an important element of normalization."
   ]
  },
  {
   "cell_type": "code",
   "execution_count": 1,
   "metadata": {
    "colab": {
     "base_uri": "https://localhost:8080/"
    },
    "executionInfo": {
     "elapsed": 3737,
     "status": "ok",
     "timestamp": 1613754165137,
     "user": {
      "displayName": "Darth Maul",
      "photoUrl": "https://lh3.googleusercontent.com/a-/AOh14Gh5xqmxd78KGBkmKiP4Zt50OzFOZWcHeKbnR3Gl=s64",
      "userId": "09460696119666831892"
     },
     "user_tz": -60
    },
    "id": "qonR_dECwziJ",
    "outputId": "31f2979f-42f6-4f48-ad58-4b58222e85f8"
   },
   "outputs": [
    {
     "name": "stdout",
     "output_type": "stream",
     "text": [
      "The clock strikes at midnight!\n"
     ]
    }
   ],
   "source": [
    "message = 'The clock strikes at midnight!'\n",
    "print(message)"
   ]
  },
  {
   "cell_type": "code",
   "execution_count": 2,
   "metadata": {
    "colab": {
     "base_uri": "https://localhost:8080/",
     "height": 129
    },
    "executionInfo": {
     "elapsed": 6955,
     "status": "error",
     "timestamp": 1613754168386,
     "user": {
      "displayName": "Darth Maul",
      "photoUrl": "https://lh3.googleusercontent.com/a-/AOh14Gh5xqmxd78KGBkmKiP4Zt50OzFOZWcHeKbnR3Gl=s64",
      "userId": "09460696119666831892"
     },
     "user_tz": -60
    },
    "id": "fqXyBVcuwziK",
    "outputId": "e56a7362-f03f-423f-98bb-a1a92e45b4bc"
   },
   "outputs": [
    {
     "ename": "SyntaxError",
     "evalue": "invalid syntax (<ipython-input-2-a11d809302bd>, line 1)",
     "output_type": "error",
     "traceback": [
      "\u001b[1;36m  File \u001b[1;32m\"<ipython-input-2-a11d809302bd>\"\u001b[1;36m, line \u001b[1;32m1\u001b[0m\n\u001b[1;33m    message = 'I am looking for someone to share in an adventure that I am arranging, and it's very difficult to find anyone.'\u001b[0m\n\u001b[1;37m                                                                                             ^\u001b[0m\n\u001b[1;31mSyntaxError\u001b[0m\u001b[1;31m:\u001b[0m invalid syntax\n"
     ]
    }
   ],
   "source": [
    "message = 'I am looking for someone to share in an adventure that I am arranging, and it's very difficult to find anyone.'"
   ]
  },
  {
   "cell_type": "code",
   "execution_count": 3,
   "metadata": {
    "id": "xk-W2HyewziK"
   },
   "outputs": [],
   "source": [
    "message = 'I am looking for someone to share in an adventure that I am arranging, and it\\'s very difficult to find anyone.'"
   ]
  },
  {
   "cell_type": "code",
   "execution_count": 4,
   "metadata": {
    "colab": {
     "base_uri": "https://localhost:8080/"
    },
    "executionInfo": {
     "elapsed": 6933,
     "status": "ok",
     "timestamp": 1613754168393,
     "user": {
      "displayName": "Darth Maul",
      "photoUrl": "https://lh3.googleusercontent.com/a-/AOh14Gh5xqmxd78KGBkmKiP4Zt50OzFOZWcHeKbnR3Gl=s64",
      "userId": "09460696119666831892"
     },
     "user_tz": -60
    },
    "id": "19ipWXW8wziL",
    "outputId": "4e9ca461-2ae3-40d2-8f49-fce39c7a8cae"
   },
   "outputs": [
    {
     "name": "stdout",
     "output_type": "stream",
     "text": [
      "I am looking for someone to share in an adventure that I am arranging, and it's very difficult to find anyone.\n"
     ]
    }
   ],
   "source": [
    "message = \"I am looking for someone to share in an adventure that I am arranging, and it's very difficult to find anyone.\"\n",
    "print(message)"
   ]
  },
  {
   "cell_type": "code",
   "execution_count": 5,
   "metadata": {
    "colab": {
     "base_uri": "https://localhost:8080/"
    },
    "executionInfo": {
     "elapsed": 6917,
     "status": "ok",
     "timestamp": 1613754168398,
     "user": {
      "displayName": "Darth Maul",
      "photoUrl": "https://lh3.googleusercontent.com/a-/AOh14Gh5xqmxd78KGBkmKiP4Zt50OzFOZWcHeKbnR3Gl=s64",
      "userId": "09460696119666831892"
     },
     "user_tz": -60
    },
    "id": "p6kxL-rJ1HLx",
    "outputId": "8658d8cf-934c-4307-bf71-6c2b701c8081"
   },
   "outputs": [
    {
     "name": "stdout",
     "output_type": "stream",
     "text": [
      "WHAT is A string?\n",
      "what is a string? WHAT IS A STRING? What is a string?\n"
     ]
    }
   ],
   "source": [
    "message = 'WHAT is A string?'\n",
    "print(message)\n",
    "print(message.lower(), message.upper(), message.capitalize())"
   ]
  },
  {
   "cell_type": "markdown",
   "metadata": {
    "id": "ZDDHMivB1HLz"
   },
   "source": [
    "In Python `lower()`, `upper()` and `capitalize()` are examples of **methods**. But what is a **method**?\n",
    "\n",
    ">Before we get any farther into the Python language, we have to say a word about *objects*. We will not be teaching object oriented programming in this introduction, but you will encounter objects throughout Python (in fact, even seemingly simple things like ints and strings are actually objects in Python).\n",
    "\n",
    ">An object is like a **bundled \"thing\" that contains within itself both data and functions that operate on that data**. For example, strings in Python are objects that contain a set of characters and also various functions that operate on the set of characters. When bundled in an object, these functions are called \"methods\".\n",
    "\n",
    "Would you like to know more about **markdown** syntax? Click [here](https://www.markdownguide.org/basic-syntax/).\n",
    "\n",
    "Instead of the \"normal\" function(arguments) syntax, methods are called using the syntax `variable.method(arguments)`. \n",
    "\n",
    "\n",
    "The *predicate functions* return `True` or `False`, depending on whether the string s\n",
    "belongs to the appropriate class: `islower()` checks if all alphabetic characters are\n",
    "in lowercase; `isupper()` checks if all alphabetic characters are in uppercase; `isspace()`\n",
    "checks if all characters are spaces; isdigit() checks if all characters are decimal\n",
    "digits in the range 0–9; and `isalpha()`checks if all characters are alphabetic\n",
    "characters in the ranges a–z or A–Z. You will use these functions to recognize\n",
    "valid words, nonnegative integer numbers, punctuation, and the like."
   ]
  },
  {
   "cell_type": "code",
   "execution_count": 6,
   "metadata": {
    "colab": {
     "base_uri": "https://localhost:8080/"
    },
    "executionInfo": {
     "elapsed": 6902,
     "status": "ok",
     "timestamp": 1613754168401,
     "user": {
      "displayName": "Darth Maul",
      "photoUrl": "https://lh3.googleusercontent.com/a-/AOh14Gh5xqmxd78KGBkmKiP4Zt50OzFOZWcHeKbnR3Gl=s64",
      "userId": "09460696119666831892"
     },
     "user_tz": -60
    },
    "id": "bDDoPLdO1HL0",
    "outputId": "354deca7-9cf3-4c50-d212-62ea6a23bded"
   },
   "outputs": [
    {
     "name": "stdout",
     "output_type": "stream",
     "text": [
      "The string is an uppercase string\n"
     ]
    }
   ],
   "source": [
    "message = 'THIS IS A STRING'\n",
    "\n",
    "if(message.isupper()):\n",
    "    print('The string is an uppercase string')"
   ]
  },
  {
   "cell_type": "markdown",
   "metadata": {
    "id": "hPju4iiU1HL0"
   },
   "source": [
    "#### Conditional Statements <a class=\"anchor\" id=\"section_2_1_2\"></a>\n",
    "\n",
    "Python **if Statement** is used for decision-making operations. It contains a body of code which runs only when the condition given in the if statement is true. If the condition is false, then the optional else statement runs which contains some code for the else condition.\n",
    "\n",
    "**Python if Statement Syntax:**\n",
    "\n",
    "```python\n",
    "if expression:\n",
    " Statement\n",
    "else: \n",
    " Statement\n",
    "```"
   ]
  },
  {
   "cell_type": "code",
   "execution_count": 7,
   "metadata": {
    "colab": {
     "base_uri": "https://localhost:8080/"
    },
    "executionInfo": {
     "elapsed": 6884,
     "status": "ok",
     "timestamp": 1613754168403,
     "user": {
      "displayName": "Darth Maul",
      "photoUrl": "https://lh3.googleusercontent.com/a-/AOh14Gh5xqmxd78KGBkmKiP4Zt50OzFOZWcHeKbnR3Gl=s64",
      "userId": "09460696119666831892"
     },
     "user_tz": -60
    },
    "id": "e0KdALQI1HL1",
    "outputId": "d3537979-c21a-44ee-9455-a01110e14178"
   },
   "outputs": [
    {
     "name": "stdout",
     "output_type": "stream",
     "text": [
      "The string has not a definite case\n"
     ]
    }
   ],
   "source": [
    "message = 'THIS is a string'\n",
    "\n",
    "if(message.isupper()):\n",
    "    print('The string is an uppercase string')\n",
    "elif(message.islower()):    \n",
    "    print('The string is a lowercase string')\n",
    "else:\n",
    "    print('The string has not a definite case')    "
   ]
  },
  {
   "cell_type": "markdown",
   "metadata": {
    "id": "ZiTpcCmlwziN"
   },
   "source": [
    "#### Conditional Operators <a class=\"anchor\" id=\"section_2_1_2\"></a>\n",
    "\n",
    "An if statement is known as a control structure because it controls whether the code in the indented block will be run.\n",
    "\n",
    "Python supports a wide range of operators, such as < and >=, for testing the relationship\n",
    "between values. The full set of these relational operators are shown in the table below\n",
    "\n",
    "\n",
    "| Operator | Relationship                                   |\n",
    "|:---------|:-----------------------------------------------|\n",
    "| <        | Less than                                      |\n",
    "| <=       | Less than or equal to                          |\n",
    "| ==       | Equal to (note this is two \"=\" signs not one!) |\n",
    "| !=       | Not equal to                                   |\n",
    "| >        | Greater than                                   |\n",
    "| >=       | Greater than or equal to                       |"
   ]
  },
  {
   "cell_type": "markdown",
   "metadata": {
    "id": "IDJqO8wJ1HL2"
   },
   "source": [
    "### String Processing <a class=\"anchor\" id=\"section_2_2\"></a>\n",
    "\n",
    "The first step toward string processing is getting rid of unwanted whitespaces\n",
    "(including new lines and tabs). The functions `lstrip()` (left strip), `rstrip()` (right\n",
    "strip), and `strip()` remove all whitespaces at the beginning, at the end, or all\n",
    "around the string. (They don’t remove the inner spaces.)"
   ]
  },
  {
   "cell_type": "code",
   "execution_count": 8,
   "metadata": {
    "colab": {
     "base_uri": "https://localhost:8080/"
    },
    "executionInfo": {
     "elapsed": 6858,
     "status": "ok",
     "timestamp": 1613754168404,
     "user": {
      "displayName": "Darth Maul",
      "photoUrl": "https://lh3.googleusercontent.com/a-/AOh14Gh5xqmxd78KGBkmKiP4Zt50OzFOZWcHeKbnR3Gl=s64",
      "userId": "09460696119666831892"
     },
     "user_tz": -60
    },
    "id": "xEbl55BS1HL2",
    "outputId": "ca9e3361-df9c-4e52-f2a8-4a1dc13006d0"
   },
   "outputs": [
    {
     "name": "stdout",
     "output_type": "stream",
     "text": [
      "Hello world!\n"
     ]
    }
   ],
   "source": [
    "message = \"       Hello world!     \"\n",
    "print(message.strip())"
   ]
  },
  {
   "cell_type": "code",
   "execution_count": 9,
   "metadata": {
    "colab": {
     "base_uri": "https://localhost:8080/"
    },
    "executionInfo": {
     "elapsed": 6839,
     "status": "ok",
     "timestamp": 1613754168405,
     "user": {
      "displayName": "Darth Maul",
      "photoUrl": "https://lh3.googleusercontent.com/a-/AOh14Gh5xqmxd78KGBkmKiP4Zt50OzFOZWcHeKbnR3Gl=s64",
      "userId": "09460696119666831892"
     },
     "user_tz": -60
    },
    "id": "6swAMd0S6u5R",
    "outputId": "a04eba40-52b4-4b52-df59-890c79b56e82"
   },
   "outputs": [
    {
     "name": "stdout",
     "output_type": "stream",
     "text": [
      "       Hello world!     \n"
     ]
    }
   ],
   "source": [
    "print(message)"
   ]
  },
  {
   "cell_type": "code",
   "execution_count": 10,
   "metadata": {
    "colab": {
     "base_uri": "https://localhost:8080/"
    },
    "executionInfo": {
     "elapsed": 6821,
     "status": "ok",
     "timestamp": 1613754168409,
     "user": {
      "displayName": "Darth Maul",
      "photoUrl": "https://lh3.googleusercontent.com/a-/AOh14Gh5xqmxd78KGBkmKiP4Zt50OzFOZWcHeKbnR3Gl=s64",
      "userId": "09460696119666831892"
     },
     "user_tz": -60
    },
    "id": "xQdbstFa6zZD",
    "outputId": "a8929c65-e17c-4264-a290-63c361c0ddb5"
   },
   "outputs": [
    {
     "name": "stdout",
     "output_type": "stream",
     "text": [
      "Hello world!\n"
     ]
    }
   ],
   "source": [
    "message = message.strip()\n",
    "print(message)"
   ]
  },
  {
   "cell_type": "markdown",
   "metadata": {
    "id": "7iKTg3iB1HL2"
   },
   "source": [
    "**The + Operator**\n",
    "The `+` operator concatenates strings. It returns a string consisting of the operands joined together, as shown here:"
   ]
  },
  {
   "cell_type": "code",
   "execution_count": 11,
   "metadata": {
    "colab": {
     "base_uri": "https://localhost:8080/",
     "height": 35
    },
    "executionInfo": {
     "elapsed": 6801,
     "status": "ok",
     "timestamp": 1613754168410,
     "user": {
      "displayName": "Darth Maul",
      "photoUrl": "https://lh3.googleusercontent.com/a-/AOh14Gh5xqmxd78KGBkmKiP4Zt50OzFOZWcHeKbnR3Gl=s64",
      "userId": "09460696119666831892"
     },
     "user_tz": -60
    },
    "id": "VMBF-4zB1HL3",
    "outputId": "41c2e35c-a015-4e64-93c1-dca070885976"
   },
   "outputs": [
    {
     "data": {
      "text/plain": [
       "'abcdef'"
      ]
     },
     "execution_count": 11,
     "metadata": {},
     "output_type": "execute_result"
    }
   ],
   "source": [
    "\"abc\" + \"def\""
   ]
  },
  {
   "cell_type": "markdown",
   "metadata": {
    "id": "fZPbjKIA1HL3"
   },
   "source": [
    "It should be underlined that a 'string' is a sequence of characters (letters, digits, spaces, punctuation, new lines, etc.)\n",
    "\n",
    "#### For Loop <a class=\"anchor\" id=\"section_2_2_1\"></a>\n",
    "\n",
    "Another control structure is the `for` loop. Try the following:"
   ]
  },
  {
   "cell_type": "code",
   "execution_count": 12,
   "metadata": {
    "colab": {
     "base_uri": "https://localhost:8080/"
    },
    "executionInfo": {
     "elapsed": 6785,
     "status": "ok",
     "timestamp": 1613754168412,
     "user": {
      "displayName": "Darth Maul",
      "photoUrl": "https://lh3.googleusercontent.com/a-/AOh14Gh5xqmxd78KGBkmKiP4Zt50OzFOZWcHeKbnR3Gl=s64",
      "userId": "09460696119666831892"
     },
     "user_tz": -60
    },
    "id": "Wwyr_abP1HL4",
    "outputId": "9d229544-d81a-44fb-fcb7-b866ac288fdd"
   },
   "outputs": [
    {
     "name": "stdout",
     "output_type": "stream",
     "text": [
      "H\n",
      "e\n",
      "l\n",
      "l\n",
      "o\n",
      "w\n",
      "o\n",
      "r\n",
      "l\n",
      "d\n",
      "!\n"
     ]
    }
   ],
   "source": [
    "for c in message:\n",
    "    if c != ' ':\n",
    "        print(c)"
   ]
  },
  {
   "cell_type": "markdown",
   "metadata": {
    "id": "Dx8U4YeYPaXU"
   },
   "source": [
    "The function print put a \"new line\" character by default at the end of the printed string. If we want to change this predefined behaviour, we can explicitly specify the character to use at the end, or we can decide to use no character at all like in the following example: "
   ]
  },
  {
   "cell_type": "code",
   "execution_count": 13,
   "metadata": {
    "colab": {
     "base_uri": "https://localhost:8080/"
    },
    "executionInfo": {
     "elapsed": 6765,
     "status": "ok",
     "timestamp": 1613754168414,
     "user": {
      "displayName": "Darth Maul",
      "photoUrl": "https://lh3.googleusercontent.com/a-/AOh14Gh5xqmxd78KGBkmKiP4Zt50OzFOZWcHeKbnR3Gl=s64",
      "userId": "09460696119666831892"
     },
     "user_tz": -60
    },
    "id": "EDdecRxdPaXU",
    "outputId": "709d0deb-c483-448d-ceec-566a5b690e9a"
   },
   "outputs": [
    {
     "name": "stdout",
     "output_type": "stream",
     "text": [
      "Helloworld!"
     ]
    }
   ],
   "source": [
    "for c in message:\n",
    "    if c != ' ':\n",
    "        print(c, end='')"
   ]
  },
  {
   "cell_type": "markdown",
   "metadata": {
    "id": "-zXtLFQRwziR"
   },
   "source": [
    ">**Note on indentation:** Notice the indentation once we enter the for loop. Every idented statement after the for loop declaration is part of the for loop. This rule holds true for while loops, if statements, functions, etc. Required identation is one of the reasons Python is such a beautiful language to read.\n",
    "\n",
    "If you do not have consistent indentation you will get an IndentationError. Fortunately, most code editors will ensure your indentation is correction.\n",
    "\n",
    ">**NOTE** In Python the default is to use four (4) spaces for each indentation, most editros can be configured to follow this guide.\n",
    "\n",
    "You will notice also that `if` and `for` statements have a colon at the end of the line, before the indentation begins. In fact, all Python control structures end with a colon. The colon indicates that the current statement relates to the indented block that follows."
   ]
  },
  {
   "cell_type": "code",
   "execution_count": 14,
   "metadata": {
    "colab": {
     "base_uri": "https://localhost:8080/"
    },
    "executionInfo": {
     "elapsed": 6752,
     "status": "ok",
     "timestamp": 1613754168416,
     "user": {
      "displayName": "Darth Maul",
      "photoUrl": "https://lh3.googleusercontent.com/a-/AOh14Gh5xqmxd78KGBkmKiP4Zt50OzFOZWcHeKbnR3Gl=s64",
      "userId": "09460696119666831892"
     },
     "user_tz": -60
    },
    "id": "MnEmBJunwziS",
    "outputId": "6d2690f6-7b00-461a-ea3b-91f198cc9876"
   },
   "outputs": [
    {
     "name": "stdout",
     "output_type": "stream",
     "text": [
      "['this', 'is', 'a', 'wonderful', 'python', 'tutorial']\n",
      "0 this this\n",
      "1 is is\n",
      "2 a a\n",
      "3 wonderful wonderful\n",
      "4 python python\n",
      "5 tutorial tutorial\n"
     ]
    }
   ],
   "source": [
    "wordlist = ['this','is','a','wonderful','python','tutorial']\n",
    "# Often we want to loop over the indexes of a collection, not just the items\n",
    "print(wordlist)\n",
    "\n",
    "for i, word in enumerate(wordlist):\n",
    "    print(i, word, wordlist[i])"
   ]
  },
  {
   "cell_type": "code",
   "execution_count": 15,
   "metadata": {
    "colab": {
     "base_uri": "https://localhost:8080/"
    },
    "executionInfo": {
     "elapsed": 6739,
     "status": "ok",
     "timestamp": 1613754168417,
     "user": {
      "displayName": "Darth Maul",
      "photoUrl": "https://lh3.googleusercontent.com/a-/AOh14Gh5xqmxd78KGBkmKiP4Zt50OzFOZWcHeKbnR3Gl=s64",
      "userId": "09460696119666831892"
     },
     "user_tz": -60
    },
    "id": "E9eTZicbwziS",
    "outputId": "aade873d-1a52-49c6-becf-45a04250a774"
   },
   "outputs": [
    {
     "name": "stdout",
     "output_type": "stream",
     "text": [
      "1 2\n",
      "2 4\n",
      "3 8\n",
      "4 16\n",
      "5 32\n",
      "6 64\n",
      "7 128\n",
      "Reached a product of 128 at step number 7\n"
     ]
    }
   ],
   "source": [
    "# While loops are useful when you don't know how many steps you will need,\n",
    "# and want to stop once a certain condition is met.\n",
    "step = 0\n",
    "prod = 1\n",
    "while prod < 100:\n",
    "    step = step + 1\n",
    "    prod = prod * 2\n",
    "    print(step, prod)\n",
    "    \n",
    "print('Reached a product of', prod, 'at step number', step)"
   ]
  },
  {
   "cell_type": "markdown",
   "metadata": {
    "id": "07gSMY371HL4"
   },
   "source": [
    "#### String template <a class=\"anchor\" id=\"section_2_2_2\"></a>"
   ]
  },
  {
   "cell_type": "code",
   "execution_count": 16,
   "metadata": {
    "colab": {
     "base_uri": "https://localhost:8080/"
    },
    "executionInfo": {
     "elapsed": 6726,
     "status": "ok",
     "timestamp": 1613754168419,
     "user": {
      "displayName": "Darth Maul",
      "photoUrl": "https://lh3.googleusercontent.com/a-/AOh14Gh5xqmxd78KGBkmKiP4Zt50OzFOZWcHeKbnR3Gl=s64",
      "userId": "09460696119666831892"
     },
     "user_tz": -60
    },
    "id": "sCl18bfW1HL5",
    "outputId": "de1d0aea-5e1f-48a2-b364-26c64d5a63a7"
   },
   "outputs": [
    {
     "name": "stdout",
     "output_type": "stream",
     "text": [
      "Contract number 112 refers to Clark Kent\n",
      "Contract number 145 refers to Bruce T. P. Wayne\n"
     ]
    }
   ],
   "source": [
    "template = \"Contract number %s refers to %s\"\n",
    "\n",
    "print(template % (112, 'Clark Kent'))\n",
    "print(template % (145, 'Bruce T. P. Wayne'))"
   ]
  },
  {
   "cell_type": "markdown",
   "metadata": {
    "id": "k_RYb9Rn1HL5"
   },
   "source": [
    "#### Splitting <a class=\"anchor\" id=\"section_2_2_3\"></a>\n",
    "\n",
    "Often a string consists of several tokens, separated by delimiters such as\n",
    "spaces, colons, and commas. The function `split(delim='')` splits the string s into\n",
    "a list of substrings, using `delim` as the delimiter. If the delimiter isn’t specified,\n",
    "Python splits the string by all whitespaces and lumps all contiguous whitespaces\n",
    "together:"
   ]
  },
  {
   "cell_type": "code",
   "execution_count": 17,
   "metadata": {
    "colab": {
     "base_uri": "https://localhost:8080/"
    },
    "executionInfo": {
     "elapsed": 6713,
     "status": "ok",
     "timestamp": 1613754168421,
     "user": {
      "displayName": "Darth Maul",
      "photoUrl": "https://lh3.googleusercontent.com/a-/AOh14Gh5xqmxd78KGBkmKiP4Zt50OzFOZWcHeKbnR3Gl=s64",
      "userId": "09460696119666831892"
     },
     "user_tz": -60
    },
    "id": "raB6xDew1HL5",
    "outputId": "f65fe62e-8eef-499e-932b-1f70147d4e67"
   },
   "outputs": [
    {
     "name": "stdout",
     "output_type": "stream",
     "text": [
      "['One', 'Ring', 'to', 'rule', 'them', 'all,', 'One', 'ring', 'to', 'find', 'them,', 'One', 'ring', 'to', 'bring', 'them', 'all', 'and', 'in', 'the', 'darkness', 'bind', 'them']\n",
      "['One Ring to rule them all', ' One ring to find them', ' One ring to bring them all and in the darkness bind them']\n"
     ]
    }
   ],
   "source": [
    "sentence = \"One Ring to rule them all, One ring to find them, One ring to bring them all and in the darkness bind them\"\n",
    "print(sentence.split())\n",
    "print(sentence.split(sep=','))"
   ]
  },
  {
   "cell_type": "code",
   "execution_count": 18,
   "metadata": {
    "colab": {
     "base_uri": "https://localhost:8080/"
    },
    "executionInfo": {
     "elapsed": 6701,
     "status": "ok",
     "timestamp": 1613754168424,
     "user": {
      "displayName": "Darth Maul",
      "photoUrl": "https://lh3.googleusercontent.com/a-/AOh14Gh5xqmxd78KGBkmKiP4Zt50OzFOZWcHeKbnR3Gl=s64",
      "userId": "09460696119666831892"
     },
     "user_tz": -60
    },
    "id": "cWRNBR7B1HL6",
    "outputId": "03d0689c-6c61-4f6f-9730-3cbad467d4d0"
   },
   "outputs": [
    {
     "name": "stdout",
     "output_type": "stream",
     "text": [
      "['www', 'networksciencelab', 'com']\n"
     ]
    }
   ],
   "source": [
    "site  = 'www.networksciencelab.com'\n",
    "slist = site.split(sep='.')\n",
    "print(slist)"
   ]
  },
  {
   "cell_type": "code",
   "execution_count": 19,
   "metadata": {
    "colab": {
     "base_uri": "https://localhost:8080/"
    },
    "executionInfo": {
     "elapsed": 6690,
     "status": "ok",
     "timestamp": 1613754168428,
     "user": {
      "displayName": "Darth Maul",
      "photoUrl": "https://lh3.googleusercontent.com/a-/AOh14Gh5xqmxd78KGBkmKiP4Zt50OzFOZWcHeKbnR3Gl=s64",
      "userId": "09460696119666831892"
     },
     "user_tz": -60
    },
    "id": "Q_EhXhAY1HL6",
    "outputId": "914590b3-b612-4556-9228-bddc79340300"
   },
   "outputs": [
    {
     "name": "stdout",
     "output_type": "stream",
     "text": [
      "1st item of list:\n",
      "www\n",
      "2nd item of list:\n",
      "networksciencelab\n",
      "3rd item of list:\n",
      "com\n"
     ]
    }
   ],
   "source": [
    "print('1st item of list:')\n",
    "print(slist[0])\n",
    "print('2nd item of list:')\n",
    "print(slist[1])\n",
    "print('3rd item of list:')\n",
    "print(slist[2])"
   ]
  },
  {
   "cell_type": "code",
   "execution_count": 20,
   "metadata": {
    "colab": {
     "base_uri": "https://localhost:8080/"
    },
    "executionInfo": {
     "elapsed": 6675,
     "status": "ok",
     "timestamp": 1613754168429,
     "user": {
      "displayName": "Darth Maul",
      "photoUrl": "https://lh3.googleusercontent.com/a-/AOh14Gh5xqmxd78KGBkmKiP4Zt50OzFOZWcHeKbnR3Gl=s64",
      "userId": "09460696119666831892"
     },
     "user_tz": -60
    },
    "id": "IcTASo8C1HL6",
    "outputId": "b2612c8d-df2c-4c4f-cf86-082543218d71"
   },
   "outputs": [
    {
     "name": "stdout",
     "output_type": "stream",
     "text": [
      "1st item of list: www\n"
     ]
    }
   ],
   "source": [
    "print('1st item of list: ' + slist[0])"
   ]
  },
  {
   "cell_type": "markdown",
   "metadata": {
    "id": "kWNLvKWc1HL7"
   },
   "source": [
    "The sister function `join(ls)` joins a list of strings ls into one string, using the\n",
    "object string as the glue. You can recombine fragments with `join()`:"
   ]
  },
  {
   "cell_type": "code",
   "execution_count": 21,
   "metadata": {
    "colab": {
     "base_uri": "https://localhost:8080/",
     "height": 35
    },
    "executionInfo": {
     "elapsed": 6661,
     "status": "ok",
     "timestamp": 1613754168429,
     "user": {
      "displayName": "Darth Maul",
      "photoUrl": "https://lh3.googleusercontent.com/a-/AOh14Gh5xqmxd78KGBkmKiP4Zt50OzFOZWcHeKbnR3Gl=s64",
      "userId": "09460696119666831892"
     },
     "user_tz": -60
    },
    "id": "D1UbyVzU1HL7",
    "outputId": "317259bc-288e-48fa-a5ec-f53d9897b951"
   },
   "outputs": [
    {
     "data": {
      "text/plain": [
       "'wwwnetworksciencelabcom'"
      ]
     },
     "execution_count": 21,
     "metadata": {},
     "output_type": "execute_result"
    }
   ],
   "source": [
    "''.join(slist)"
   ]
  },
  {
   "cell_type": "code",
   "execution_count": 22,
   "metadata": {
    "colab": {
     "base_uri": "https://localhost:8080/",
     "height": 35
    },
    "executionInfo": {
     "elapsed": 6649,
     "status": "ok",
     "timestamp": 1613754168431,
     "user": {
      "displayName": "Darth Maul",
      "photoUrl": "https://lh3.googleusercontent.com/a-/AOh14Gh5xqmxd78KGBkmKiP4Zt50OzFOZWcHeKbnR3Gl=s64",
      "userId": "09460696119666831892"
     },
     "user_tz": -60
    },
    "id": "dFXt6P7X1HL7",
    "outputId": "b9e67257-7fb7-45c5-a34b-baf448dd8548"
   },
   "outputs": [
    {
     "data": {
      "text/plain": [
       "'www networksciencelab com'"
      ]
     },
     "execution_count": 22,
     "metadata": {},
     "output_type": "execute_result"
    }
   ],
   "source": [
    "' '.join(slist)"
   ]
  },
  {
   "cell_type": "code",
   "execution_count": 23,
   "metadata": {
    "colab": {
     "base_uri": "https://localhost:8080/",
     "height": 35
    },
    "executionInfo": {
     "elapsed": 6637,
     "status": "ok",
     "timestamp": 1613754168432,
     "user": {
      "displayName": "Darth Maul",
      "photoUrl": "https://lh3.googleusercontent.com/a-/AOh14Gh5xqmxd78KGBkmKiP4Zt50OzFOZWcHeKbnR3Gl=s64",
      "userId": "09460696119666831892"
     },
     "user_tz": -60
    },
    "id": "J45109h21HL8",
    "outputId": "b730df6b-29cf-449f-f0f5-f1f1db62180f"
   },
   "outputs": [
    {
     "data": {
      "text/plain": [
       "'www.networksciencelab.com'"
      ]
     },
     "execution_count": 23,
     "metadata": {},
     "output_type": "execute_result"
    }
   ],
   "source": [
    "'.'.join(slist)"
   ]
  },
  {
   "cell_type": "code",
   "execution_count": 24,
   "metadata": {
    "colab": {
     "base_uri": "https://localhost:8080/"
    },
    "executionInfo": {
     "elapsed": 6625,
     "status": "ok",
     "timestamp": 1613754168435,
     "user": {
      "displayName": "Darth Maul",
      "photoUrl": "https://lh3.googleusercontent.com/a-/AOh14Gh5xqmxd78KGBkmKiP4Zt50OzFOZWcHeKbnR3Gl=s64",
      "userId": "09460696119666831892"
     },
     "user_tz": -60
    },
    "id": "Grsj-oIZ1HL8",
    "outputId": "a6f53d65-abe6-432d-f8c8-357d3d7fc202"
   },
   "outputs": [
    {
     "name": "stdout",
     "output_type": "stream",
     "text": [
      "2020/10/10\n"
     ]
    }
   ],
   "source": [
    "date = '2020-10-10'\n",
    "date = date.split('-')\n",
    "date = '/'.join(date)\n",
    "\n",
    "print(date)"
   ]
  },
  {
   "cell_type": "code",
   "execution_count": 25,
   "metadata": {
    "colab": {
     "base_uri": "https://localhost:8080/"
    },
    "executionInfo": {
     "elapsed": 6611,
     "status": "ok",
     "timestamp": 1613754168436,
     "user": {
      "displayName": "Darth Maul",
      "photoUrl": "https://lh3.googleusercontent.com/a-/AOh14Gh5xqmxd78KGBkmKiP4Zt50OzFOZWcHeKbnR3Gl=s64",
      "userId": "09460696119666831892"
     },
     "user_tz": -60
    },
    "id": "_Qff5e941HL8",
    "outputId": "2bc6ae3c-7017-4a6c-e86f-9d9883da3833"
   },
   "outputs": [
    {
     "name": "stdout",
     "output_type": "stream",
     "text": [
      "2020/10/10\n"
     ]
    }
   ],
   "source": [
    "date = '2020-10-10'\n",
    "print(date.replace('-','/'))"
   ]
  },
  {
   "cell_type": "code",
   "execution_count": 26,
   "metadata": {
    "colab": {
     "base_uri": "https://localhost:8080/",
     "height": 35
    },
    "executionInfo": {
     "elapsed": 6599,
     "status": "ok",
     "timestamp": 1613754168439,
     "user": {
      "displayName": "Darth Maul",
      "photoUrl": "https://lh3.googleusercontent.com/a-/AOh14Gh5xqmxd78KGBkmKiP4Zt50OzFOZWcHeKbnR3Gl=s64",
      "userId": "09460696119666831892"
     },
     "user_tz": -60
    },
    "id": "Y-yMWruD1HL9",
    "outputId": "f3edc992-bacb-43a6-89b7-d78920aa494b"
   },
   "outputs": [
    {
     "data": {
      "text/plain": [
       "'This string has so many spaces!'"
      ]
     },
     "execution_count": 26,
     "metadata": {},
     "output_type": "execute_result"
    }
   ],
   "source": [
    "myString = 'This             string   has       so           many               spaces!'\n",
    "myString = ' '.join(myString.split())\n",
    "myString"
   ]
  },
  {
   "cell_type": "markdown",
   "metadata": {
    "id": "sCf9Jpfl1HL9"
   },
   "source": [
    "#### Searching <a class=\"anchor\" id=\"section_2_2_4\"></a>\n",
    "\n",
    "Search a specific substring"
   ]
  },
  {
   "cell_type": "code",
   "execution_count": 27,
   "metadata": {
    "id": "Ox1wAfg11HL9"
   },
   "outputs": [],
   "source": [
    "path = 'C:/folder1/folder2/folder3/filename.ext'"
   ]
  },
  {
   "cell_type": "code",
   "execution_count": 28,
   "metadata": {
    "colab": {
     "base_uri": "https://localhost:8080/"
    },
    "executionInfo": {
     "elapsed": 6601,
     "status": "ok",
     "timestamp": 1613754168458,
     "user": {
      "displayName": "Darth Maul",
      "photoUrl": "https://lh3.googleusercontent.com/a-/AOh14Gh5xqmxd78KGBkmKiP4Zt50OzFOZWcHeKbnR3Gl=s64",
      "userId": "09460696119666831892"
     },
     "user_tz": -60
    },
    "id": "KcvFTb171HL-",
    "outputId": "1029a78c-3eb3-4550-9db4-94ad10de9b3e"
   },
   "outputs": [
    {
     "name": "stdout",
     "output_type": "stream",
     "text": [
      "36\n"
     ]
    }
   ],
   "source": [
    "print(path.find('ext'))"
   ]
  },
  {
   "cell_type": "code",
   "execution_count": 29,
   "metadata": {
    "colab": {
     "base_uri": "https://localhost:8080/"
    },
    "executionInfo": {
     "elapsed": 6585,
     "status": "ok",
     "timestamp": 1613754168459,
     "user": {
      "displayName": "Darth Maul",
      "photoUrl": "https://lh3.googleusercontent.com/a-/AOh14Gh5xqmxd78KGBkmKiP4Zt50OzFOZWcHeKbnR3Gl=s64",
      "userId": "09460696119666831892"
     },
     "user_tz": -60
    },
    "id": "Cgw7GwjY1HL-",
    "outputId": "6bfea86d-e862-43ad-ea3b-8ab40a6cbc4d"
   },
   "outputs": [
    {
     "name": "stdout",
     "output_type": "stream",
     "text": [
      "4\n"
     ]
    }
   ],
   "source": [
    "print(path.count('/'))"
   ]
  },
  {
   "cell_type": "code",
   "execution_count": 30,
   "metadata": {
    "colab": {
     "base_uri": "https://localhost:8080/"
    },
    "executionInfo": {
     "elapsed": 6571,
     "status": "ok",
     "timestamp": 1613754168460,
     "user": {
      "displayName": "Darth Maul",
      "photoUrl": "https://lh3.googleusercontent.com/a-/AOh14Gh5xqmxd78KGBkmKiP4Zt50OzFOZWcHeKbnR3Gl=s64",
      "userId": "09460696119666831892"
     },
     "user_tz": -60
    },
    "id": "_-3wYbEP1HL_",
    "outputId": "436c15e2-bfae-41a3-ca37-c2a8885de569"
   },
   "outputs": [
    {
     "name": "stdout",
     "output_type": "stream",
     "text": [
      "['C:', 'folder1', 'folder2', 'folder3', 'filename.ext']\n"
     ]
    }
   ],
   "source": [
    "print(path.split('/'))"
   ]
  },
  {
   "cell_type": "markdown",
   "metadata": {
    "id": "oh7p0Ydn1HL_"
   },
   "source": [
    "## Choosing the Right Data Structure <a class=\"anchor\" id=\"chapter3\"></a>"
   ]
  },
  {
   "cell_type": "markdown",
   "metadata": {
    "id": "17WpMbY_4mtU"
   },
   "source": [
    "The most commonly used compound data structures in Python are:\n",
    "\n",
    "- **lists**,\n",
    "- **tuples**, \n",
    "- **sets**, and \n",
    "- **dictionaries**. \n",
    "\n",
    "All four of them are collections."
   ]
  },
  {
   "cell_type": "markdown",
   "metadata": {
    "id": "joTQRRV0vBDy"
   },
   "source": [
    "### Lists <a class=\"anchor\" id=\"section_3_1\"></a>\n",
    "\n",
    "Python implements lists as arrays. They have linear search time, which makes\n",
    "them impractical for storing large amounts of searchable data."
   ]
  },
  {
   "cell_type": "code",
   "execution_count": 31,
   "metadata": {
    "colab": {
     "base_uri": "https://localhost:8080/"
    },
    "executionInfo": {
     "elapsed": 1390,
     "status": "ok",
     "timestamp": 1614274042885,
     "user": {
      "displayName": "Darth Maul",
      "photoUrl": "https://lh3.googleusercontent.com/a-/AOh14Gh5xqmxd78KGBkmKiP4Zt50OzFOZWcHeKbnR3Gl=s64",
      "userId": "09460696119666831892"
     },
     "user_tz": -60
    },
    "id": "WND4m39LvBDz",
    "outputId": "49c03cd8-f83e-44d6-aa85-3fb4d02840f5"
   },
   "outputs": [
    {
     "name": "stdout",
     "output_type": "stream",
     "text": [
      "['blueberry', 'strawberry', 'pineapple'] <class 'list'>\n"
     ]
    }
   ],
   "source": [
    "# Lists are created with square bracket syntax\n",
    "a = ['blueberry', 'strawberry', 'pineapple']\n",
    "print(a, type(a))"
   ]
  },
  {
   "cell_type": "code",
   "execution_count": 32,
   "metadata": {
    "id": "j7uU6_XRvBD0"
   },
   "outputs": [],
   "source": [
    "a = [21, 32, 15, 34]"
   ]
  },
  {
   "cell_type": "code",
   "execution_count": 33,
   "metadata": {
    "colab": {
     "base_uri": "https://localhost:8080/"
    },
    "executionInfo": {
     "elapsed": 1005,
     "status": "ok",
     "timestamp": 1614274045332,
     "user": {
      "displayName": "Darth Maul",
      "photoUrl": "https://lh3.googleusercontent.com/a-/AOh14Gh5xqmxd78KGBkmKiP4Zt50OzFOZWcHeKbnR3Gl=s64",
      "userId": "09460696119666831892"
     },
     "user_tz": -60
    },
    "id": "box0aHE4vBD0",
    "outputId": "4a99b4de-bf72-4a22-f911-328c85f80326"
   },
   "outputs": [
    {
     "data": {
      "text/plain": [
       "4"
      ]
     },
     "execution_count": 33,
     "metadata": {},
     "output_type": "execute_result"
    }
   ],
   "source": [
    "len(a)"
   ]
  },
  {
   "cell_type": "code",
   "execution_count": 34,
   "metadata": {
    "colab": {
     "base_uri": "https://localhost:8080/"
    },
    "executionInfo": {
     "elapsed": 837,
     "status": "ok",
     "timestamp": 1614274046013,
     "user": {
      "displayName": "Darth Maul",
      "photoUrl": "https://lh3.googleusercontent.com/a-/AOh14Gh5xqmxd78KGBkmKiP4Zt50OzFOZWcHeKbnR3Gl=s64",
      "userId": "09460696119666831892"
     },
     "user_tz": -60
    },
    "id": "auo-glfQvBD0",
    "outputId": "2744d9b5-8703-4b53-daed-8392f12b0bda"
   },
   "outputs": [
    {
     "data": {
      "text/plain": [
       "21"
      ]
     },
     "execution_count": 34,
     "metadata": {},
     "output_type": "execute_result"
    }
   ],
   "source": [
    "a[0]  # list indexing is zero-based"
   ]
  },
  {
   "cell_type": "code",
   "execution_count": 35,
   "metadata": {
    "colab": {
     "base_uri": "https://localhost:8080/"
    },
    "executionInfo": {
     "elapsed": 966,
     "status": "ok",
     "timestamp": 1614274048048,
     "user": {
      "displayName": "Darth Maul",
      "photoUrl": "https://lh3.googleusercontent.com/a-/AOh14Gh5xqmxd78KGBkmKiP4Zt50OzFOZWcHeKbnR3Gl=s64",
      "userId": "09460696119666831892"
     },
     "user_tz": -60
    },
    "id": "52klyYAbvBD1",
    "outputId": "bd9cf00e-31de-4c60-b1ae-8b3d401f15fe"
   },
   "outputs": [
    {
     "data": {
      "text/plain": [
       "34"
      ]
     },
     "execution_count": 35,
     "metadata": {},
     "output_type": "execute_result"
    }
   ],
   "source": [
    "a[3]"
   ]
  },
  {
   "cell_type": "code",
   "execution_count": 36,
   "metadata": {
    "colab": {
     "base_uri": "https://localhost:8080/"
    },
    "executionInfo": {
     "elapsed": 957,
     "status": "ok",
     "timestamp": 1614274048753,
     "user": {
      "displayName": "Darth Maul",
      "photoUrl": "https://lh3.googleusercontent.com/a-/AOh14Gh5xqmxd78KGBkmKiP4Zt50OzFOZWcHeKbnR3Gl=s64",
      "userId": "09460696119666831892"
     },
     "user_tz": -60
    },
    "id": "H3o0atUZNC0B",
    "outputId": "95110e5b-29f5-4f66-ff8f-d972f3328f80"
   },
   "outputs": [
    {
     "name": "stdout",
     "output_type": "stream",
     "text": [
      "2\n",
      "4\n",
      "6\n",
      "8\n"
     ]
    }
   ],
   "source": [
    "for k in range(2, 10, 2):\n",
    "  print(k)"
   ]
  },
  {
   "cell_type": "code",
   "execution_count": 37,
   "metadata": {
    "colab": {
     "base_uri": "https://localhost:8080/"
    },
    "executionInfo": {
     "elapsed": 1348,
     "status": "ok",
     "timestamp": 1614274049890,
     "user": {
      "displayName": "Darth Maul",
      "photoUrl": "https://lh3.googleusercontent.com/a-/AOh14Gh5xqmxd78KGBkmKiP4Zt50OzFOZWcHeKbnR3Gl=s64",
      "userId": "09460696119666831892"
     },
     "user_tz": -60
    },
    "id": "ipUS2J7CvBD1",
    "outputId": "2adb9f19-acfd-4fc8-c092-58938c98b6ba"
   },
   "outputs": [
    {
     "name": "stdout",
     "output_type": "stream",
     "text": [
      "21\n",
      "32\n",
      "15\n",
      "34\n"
     ]
    }
   ],
   "source": [
    "for k in range(len(a)):\n",
    "    print(a[k])"
   ]
  },
  {
   "cell_type": "code",
   "execution_count": 38,
   "metadata": {
    "colab": {
     "base_uri": "https://localhost:8080/"
    },
    "executionInfo": {
     "elapsed": 1610,
     "status": "ok",
     "timestamp": 1614274051368,
     "user": {
      "displayName": "Darth Maul",
      "photoUrl": "https://lh3.googleusercontent.com/a-/AOh14Gh5xqmxd78KGBkmKiP4Zt50OzFOZWcHeKbnR3Gl=s64",
      "userId": "09460696119666831892"
     },
     "user_tz": -60
    },
    "id": "fuqlZvWhvBD1",
    "outputId": "82b6be31-552e-48f7-a4c9-3ab6631e965b"
   },
   "outputs": [
    {
     "name": "stdout",
     "output_type": "stream",
     "text": [
      "[0, 1, 2, 3, 4, 5, 6, 7, 8, 9]\n"
     ]
    }
   ],
   "source": [
    "print(list(range(10)))"
   ]
  },
  {
   "cell_type": "markdown",
   "metadata": {
    "id": "E2JPEOPGvBD1"
   },
   "source": [
    "Lists are *mutable*"
   ]
  },
  {
   "cell_type": "code",
   "execution_count": 39,
   "metadata": {
    "colab": {
     "base_uri": "https://localhost:8080/"
    },
    "executionInfo": {
     "elapsed": 1090,
     "status": "ok",
     "timestamp": 1614274122608,
     "user": {
      "displayName": "Darth Maul",
      "photoUrl": "https://lh3.googleusercontent.com/a-/AOh14Gh5xqmxd78KGBkmKiP4Zt50OzFOZWcHeKbnR3Gl=s64",
      "userId": "09460696119666831892"
     },
     "user_tz": -60
    },
    "id": "fzv8kAYCvBD3",
    "outputId": "920a0134-c858-4d34-9930-f20e9d3e9bc3"
   },
   "outputs": [
    {
     "data": {
      "text/plain": [
       "[21, 32, 42, 34]"
      ]
     },
     "execution_count": 39,
     "metadata": {},
     "output_type": "execute_result"
    }
   ],
   "source": [
    "a[2] = 42\n",
    "a"
   ]
  },
  {
   "cell_type": "code",
   "execution_count": 40,
   "metadata": {
    "colab": {
     "base_uri": "https://localhost:8080/"
    },
    "executionInfo": {
     "elapsed": 952,
     "status": "ok",
     "timestamp": 1614274137521,
     "user": {
      "displayName": "Darth Maul",
      "photoUrl": "https://lh3.googleusercontent.com/a-/AOh14Gh5xqmxd78KGBkmKiP4Zt50OzFOZWcHeKbnR3Gl=s64",
      "userId": "09460696119666831892"
     },
     "user_tz": -60
    },
    "id": "ZWnH7VmbvBD3",
    "outputId": "d46aefd3-e096-4809-90f6-c944eed9e641"
   },
   "outputs": [
    {
     "name": "stdout",
     "output_type": "stream",
     "text": [
      "[100, 101, 102, 103, 104, 105, 106, 107, 108, 109, 110, 111, 112, 113, 114, 115, 116, 117, 118, 119]\n"
     ]
    }
   ],
   "source": [
    "a = list(range(100,120))\n",
    "print(a)"
   ]
  },
  {
   "cell_type": "code",
   "execution_count": 41,
   "metadata": {
    "colab": {
     "base_uri": "https://localhost:8080/"
    },
    "executionInfo": {
     "elapsed": 817,
     "status": "ok",
     "timestamp": 1614274153855,
     "user": {
      "displayName": "Darth Maul",
      "photoUrl": "https://lh3.googleusercontent.com/a-/AOh14Gh5xqmxd78KGBkmKiP4Zt50OzFOZWcHeKbnR3Gl=s64",
      "userId": "09460696119666831892"
     },
     "user_tz": -60
    },
    "id": "Ei0xuj_BvBD4",
    "outputId": "b0f63945-099d-4bea-9ba6-9da9623a2ad9"
   },
   "outputs": [
    {
     "data": {
      "text/plain": [
       "119"
      ]
     },
     "execution_count": 41,
     "metadata": {},
     "output_type": "execute_result"
    }
   ],
   "source": [
    "a[-1]"
   ]
  },
  {
   "cell_type": "code",
   "execution_count": 42,
   "metadata": {
    "colab": {
     "base_uri": "https://localhost:8080/"
    },
    "executionInfo": {
     "elapsed": 4314,
     "status": "ok",
     "timestamp": 1613754179805,
     "user": {
      "displayName": "Darth Maul",
      "photoUrl": "https://lh3.googleusercontent.com/a-/AOh14Gh5xqmxd78KGBkmKiP4Zt50OzFOZWcHeKbnR3Gl=s64",
      "userId": "09460696119666831892"
     },
     "user_tz": -60
    },
    "id": "tYpCGDaGvBD4",
    "outputId": "57048082-2d02-4a5b-972f-c6899659a7ae"
   },
   "outputs": [
    {
     "data": {
      "text/plain": [
       "[105, 106, 107, 108, 109, 110, 111, 112, 113, 114, 115, 116, 117, 118, 119]"
      ]
     },
     "execution_count": 42,
     "metadata": {},
     "output_type": "execute_result"
    }
   ],
   "source": [
    "a[5:] # elements up to but excluding 5th item "
   ]
  },
  {
   "cell_type": "code",
   "execution_count": 43,
   "metadata": {
    "colab": {
     "base_uri": "https://localhost:8080/"
    },
    "executionInfo": {
     "elapsed": 5356,
     "status": "ok",
     "timestamp": 1613754181566,
     "user": {
      "displayName": "Darth Maul",
      "photoUrl": "https://lh3.googleusercontent.com/a-/AOh14Gh5xqmxd78KGBkmKiP4Zt50OzFOZWcHeKbnR3Gl=s64",
      "userId": "09460696119666831892"
     },
     "user_tz": -60
    },
    "id": "ANgRDUTIvBD4",
    "outputId": "ecd3d64a-b659-4846-9900-a2a38ebad7d1"
   },
   "outputs": [
    {
     "data": {
      "text/plain": [
       "[100, 101, 102, 103, 104]"
      ]
     },
     "execution_count": 43,
     "metadata": {},
     "output_type": "execute_result"
    }
   ],
   "source": [
    "a[:5] # elements starting from and including 5th item"
   ]
  },
  {
   "cell_type": "markdown",
   "metadata": {
    "id": "dEB4C49MvBD4"
   },
   "source": [
    "### Tuples <a class=\"anchor\" id=\"section_3_2\"></a>\n",
    "\n",
    "Tuples create a bit of confusion for beginners because they're very similar to lists, but they have some subtle conceptual differences. Nonetheless, tuples do appear when programming in Python, so it's important to know about them.\n",
    "\n",
    "Like lists, tuples are sequences of any type of object. **Unlike lists, they are immutable**. This means that:\n",
    "- Once constructed, they cannot be changed - i.e. you cannot append, insert or delete elements\n",
    "- Because they are immutable, they can be used as dictionary keys (lists cannot)\n",
    "\n",
    "You declare tuples using () instead of []"
   ]
  },
  {
   "cell_type": "code",
   "execution_count": 44,
   "metadata": {
    "colab": {
     "base_uri": "https://localhost:8080/"
    },
    "executionInfo": {
     "elapsed": 956,
     "status": "ok",
     "timestamp": 1614274394308,
     "user": {
      "displayName": "Darth Maul",
      "photoUrl": "https://lh3.googleusercontent.com/a-/AOh14Gh5xqmxd78KGBkmKiP4Zt50OzFOZWcHeKbnR3Gl=s64",
      "userId": "09460696119666831892"
     },
     "user_tz": -60
    },
    "id": "ErzWYfXCvBD5",
    "outputId": "808e78a8-4da3-4a1c-e796-bb37fbb20f31"
   },
   "outputs": [
    {
     "data": {
      "text/plain": [
       "99"
      ]
     },
     "execution_count": 44,
     "metadata": {},
     "output_type": "execute_result"
    }
   ],
   "source": [
    "a = (42, 34, 99)\n",
    "a[2]"
   ]
  },
  {
   "cell_type": "code",
   "execution_count": 45,
   "metadata": {
    "colab": {
     "base_uri": "https://localhost:8080/",
     "height": 163
    },
    "executionInfo": {
     "elapsed": 845,
     "status": "error",
     "timestamp": 1614274445446,
     "user": {
      "displayName": "Darth Maul",
      "photoUrl": "https://lh3.googleusercontent.com/a-/AOh14Gh5xqmxd78KGBkmKiP4Zt50OzFOZWcHeKbnR3Gl=s64",
      "userId": "09460696119666831892"
     },
     "user_tz": -60
    },
    "id": "YNRp_mwIQQ6W",
    "outputId": "c189c626-1069-4e21-d3b5-c99143ed1adb"
   },
   "outputs": [
    {
     "ename": "TypeError",
     "evalue": "'tuple' object does not support item assignment",
     "output_type": "error",
     "traceback": [
      "\u001b[1;31m---------------------------------------------------------------------------\u001b[0m",
      "\u001b[1;31mTypeError\u001b[0m                                 Traceback (most recent call last)",
      "\u001b[1;32m<ipython-input-45-ee672155748c>\u001b[0m in \u001b[0;36m<module>\u001b[1;34m\u001b[0m\n\u001b[1;32m----> 1\u001b[1;33m \u001b[0ma\u001b[0m\u001b[1;33m[\u001b[0m\u001b[1;36m2\u001b[0m\u001b[1;33m]\u001b[0m \u001b[1;33m=\u001b[0m \u001b[1;36m100\u001b[0m\u001b[1;33m\u001b[0m\u001b[1;33m\u001b[0m\u001b[0m\n\u001b[0m",
      "\u001b[1;31mTypeError\u001b[0m: 'tuple' object does not support item assignment"
     ]
    }
   ],
   "source": [
    "a[2] = 100"
   ]
  },
  {
   "cell_type": "code",
   "execution_count": 46,
   "metadata": {
    "colab": {
     "base_uri": "https://localhost:8080/"
    },
    "executionInfo": {
     "elapsed": 915,
     "status": "ok",
     "timestamp": 1614274482508,
     "user": {
      "displayName": "Darth Maul",
      "photoUrl": "https://lh3.googleusercontent.com/a-/AOh14Gh5xqmxd78KGBkmKiP4Zt50OzFOZWcHeKbnR3Gl=s64",
      "userId": "09460696119666831892"
     },
     "user_tz": -60
    },
    "id": "yxFl8152vBD5",
    "outputId": "da668415-b901-47ad-f6ab-6c906c9fb355"
   },
   "outputs": [
    {
     "name": "stdout",
     "output_type": "stream",
     "text": [
      "1\n",
      "2\n",
      "3\n"
     ]
    }
   ],
   "source": [
    "# another way of accessing the elements is to 'unpack' the tuple\n",
    "# this works with lists too, by the way\n",
    "x, y, z = (1, 2, 3)\n",
    "print(x)\n",
    "print(y)\n",
    "print(z)"
   ]
  },
  {
   "cell_type": "code",
   "execution_count": 47,
   "metadata": {
    "colab": {
     "base_uri": "https://localhost:8080/",
     "height": 163
    },
    "executionInfo": {
     "elapsed": 860,
     "status": "error",
     "timestamp": 1614274483671,
     "user": {
      "displayName": "Darth Maul",
      "photoUrl": "https://lh3.googleusercontent.com/a-/AOh14Gh5xqmxd78KGBkmKiP4Zt50OzFOZWcHeKbnR3Gl=s64",
      "userId": "09460696119666831892"
     },
     "user_tz": -60
    },
    "id": "jvhgQJEivBD5",
    "outputId": "0a91fcae-7c2f-4a21-b73a-4107e89a2842"
   },
   "outputs": [
    {
     "ename": "TypeError",
     "evalue": "'tuple' object does not support item assignment",
     "output_type": "error",
     "traceback": [
      "\u001b[1;31m---------------------------------------------------------------------------\u001b[0m",
      "\u001b[1;31mTypeError\u001b[0m                                 Traceback (most recent call last)",
      "\u001b[1;32m<ipython-input-47-520cdf962392>\u001b[0m in \u001b[0;36m<module>\u001b[1;34m\u001b[0m\n\u001b[1;32m----> 1\u001b[1;33m \u001b[0ma\u001b[0m\u001b[1;33m[\u001b[0m\u001b[1;36m2\u001b[0m\u001b[1;33m]\u001b[0m \u001b[1;33m=\u001b[0m \u001b[1;36m87\u001b[0m\u001b[1;33m\u001b[0m\u001b[1;33m\u001b[0m\u001b[0m\n\u001b[0m",
      "\u001b[1;31mTypeError\u001b[0m: 'tuple' object does not support item assignment"
     ]
    }
   ],
   "source": [
    "a[2] = 87"
   ]
  },
  {
   "cell_type": "markdown",
   "metadata": {
    "id": "Tws5C6iTvBD5"
   },
   "source": [
    "In general, they're often used instead of lists:\n",
    "- to group items when the position in the collection is critical, such as coord = (x,y)\n",
    "- when you want to make prevent accidental modification of the items, e.g:"
   ]
  },
  {
   "cell_type": "code",
   "execution_count": 48,
   "metadata": {
    "id": "ej7ksbDlvBD6"
   },
   "outputs": [],
   "source": [
    "days = ('Monday', 'Tuesday', 'Wednesday', 'Thursday', 'Friday', 'Saturday', 'Sunday')"
   ]
  },
  {
   "cell_type": "markdown",
   "metadata": {
    "id": "5FRFoqHI4zTQ"
   },
   "source": [
    "### Sets <a class=\"anchor\" id=\"section_3_3\"></a>\n",
    "\n",
    "Unlike lists and tuples, **sets** are not sequences: set items don’t have indexes.\n",
    "Sets can store at most one copy of an item and have sublinear *O(log(N))* search\n",
    "time. They are excellent for membership look-ups and eliminating duplicates\n",
    "(if you convert a list with duplicates to a set, the duplicates are gone):"
   ]
  },
  {
   "cell_type": "code",
   "execution_count": 49,
   "metadata": {
    "colab": {
     "base_uri": "https://localhost:8080/"
    },
    "executionInfo": {
     "elapsed": 820,
     "status": "ok",
     "timestamp": 1614274715011,
     "user": {
      "displayName": "Darth Maul",
      "photoUrl": "https://lh3.googleusercontent.com/a-/AOh14Gh5xqmxd78KGBkmKiP4Zt50OzFOZWcHeKbnR3Gl=s64",
      "userId": "09460696119666831892"
     },
     "user_tz": -60
    },
    "id": "OgnO6kVAvBD6",
    "outputId": "a33d8a8a-be2e-4401-e447-768237ebfaab"
   },
   "outputs": [
    {
     "name": "stdout",
     "output_type": "stream",
     "text": [
      "['One', 'Ring', 'to', 'rule', 'them', 'all,', 'One', 'ring', 'to', 'find', 'them,', 'One', 'ring', 'to', 'bring', 'them', 'all', 'and', 'in', 'the', 'darkness', 'bind', 'them']\n",
      "23\n"
     ]
    }
   ],
   "source": [
    "sentence = 'One Ring to rule them all, One ring to find them, One ring to bring them all and in the darkness bind them'\n",
    "myList = sentence.split()\n",
    "print(myList)\n",
    "print(len(myList))"
   ]
  },
  {
   "cell_type": "code",
   "execution_count": 50,
   "metadata": {
    "colab": {
     "base_uri": "https://localhost:8080/"
    },
    "executionInfo": {
     "elapsed": 1030,
     "status": "ok",
     "timestamp": 1614274737887,
     "user": {
      "displayName": "Darth Maul",
      "photoUrl": "https://lh3.googleusercontent.com/a-/AOh14Gh5xqmxd78KGBkmKiP4Zt50OzFOZWcHeKbnR3Gl=s64",
      "userId": "09460696119666831892"
     },
     "user_tz": -60
    },
    "id": "2mBIIZ4_vBD6",
    "outputId": "6af1b41d-bc2b-466a-dbc1-507ad576c748"
   },
   "outputs": [
    {
     "name": "stdout",
     "output_type": "stream",
     "text": [
      "{'darkness', 'the', 'them,', 'in', 'and', 'Ring', 'to', 'all,', 'find', 'them', 'ring', 'bring', 'rule', 'all', 'One', 'bind'}\n",
      "16\n"
     ]
    }
   ],
   "source": [
    "mySet = set(myList)\n",
    "print(mySet)\n",
    "print(len(mySet))"
   ]
  },
  {
   "cell_type": "markdown",
   "metadata": {
    "id": "ZSnEOg7a919m"
   },
   "source": []
  },
  {
   "cell_type": "code",
   "execution_count": 51,
   "metadata": {
    "colab": {
     "base_uri": "https://localhost:8080/"
    },
    "executionInfo": {
     "elapsed": 824,
     "status": "ok",
     "timestamp": 1614274774470,
     "user": {
      "displayName": "Darth Maul",
      "photoUrl": "https://lh3.googleusercontent.com/a-/AOh14Gh5xqmxd78KGBkmKiP4Zt50OzFOZWcHeKbnR3Gl=s64",
      "userId": "09460696119666831892"
     },
     "user_tz": -60
    },
    "id": "V3CMwG1Dwzih",
    "outputId": "97a03585-5763-44c4-aedb-b08e6c4be8c8"
   },
   "outputs": [
    {
     "name": "stdout",
     "output_type": "stream",
     "text": [
      "['One', 'Ring', 'all', 'all,', 'and', 'bind', 'bring', 'darkness', 'find', 'in', 'ring', 'rule', 'the', 'them', 'them,', 'to']\n"
     ]
    }
   ],
   "source": [
    "print(sorted(mySet))"
   ]
  },
  {
   "cell_type": "code",
   "execution_count": 55,
   "metadata": {
    "colab": {
     "base_uri": "https://localhost:8080/"
    },
    "executionInfo": {
     "elapsed": 1085,
     "status": "ok",
     "timestamp": 1614276005845,
     "user": {
      "displayName": "Darth Maul",
      "photoUrl": "https://lh3.googleusercontent.com/a-/AOh14Gh5xqmxd78KGBkmKiP4Zt50OzFOZWcHeKbnR3Gl=s64",
      "userId": "09460696119666831892"
     },
     "user_tz": -60
    },
    "id": "EW8JfUkkUumt",
    "outputId": "1f99a483-ac5a-4b65-81d1-d933615a53de"
   },
   "outputs": [
    {
     "data": {
      "text/plain": [
       "['one',\n",
       " 'ring',\n",
       " 'to',\n",
       " 'rule',\n",
       " 'them',\n",
       " 'all,',\n",
       " 'one',\n",
       " 'ring',\n",
       " 'to',\n",
       " 'find',\n",
       " 'them,',\n",
       " 'one',\n",
       " 'ring',\n",
       " 'to',\n",
       " 'bring',\n",
       " 'them',\n",
       " 'all',\n",
       " 'and',\n",
       " 'in',\n",
       " 'the',\n",
       " 'darkness',\n",
       " 'bind',\n",
       " 'them']"
      ]
     },
     "execution_count": 55,
     "metadata": {},
     "output_type": "execute_result"
    }
   ],
   "source": [
    "# creating a new list with lower case words from myList\n",
    "# first of all we define an empty list\n",
    "dummy = []\n",
    "for w in myList:\n",
    "  # we use the metod append to increment items number of dummy  \n",
    "  dummy.append(w.lower())\n",
    "\n",
    "dummy  "
   ]
  },
  {
   "cell_type": "code",
   "execution_count": 56,
   "metadata": {
    "colab": {
     "base_uri": "https://localhost:8080/"
    },
    "executionInfo": {
     "elapsed": 835,
     "status": "ok",
     "timestamp": 1614275875381,
     "user": {
      "displayName": "Darth Maul",
      "photoUrl": "https://lh3.googleusercontent.com/a-/AOh14Gh5xqmxd78KGBkmKiP4Zt50OzFOZWcHeKbnR3Gl=s64",
      "userId": "09460696119666831892"
     },
     "user_tz": -60
    },
    "id": "05geI5iHTOt8",
    "outputId": "cf1a90f3-0c75-4a81-a3c8-2c21bf03520d"
   },
   "outputs": [
    {
     "data": {
      "text/plain": [
       "['one',\n",
       " 'ring',\n",
       " 'to',\n",
       " 'rule',\n",
       " 'them',\n",
       " 'all,',\n",
       " 'one',\n",
       " 'ring',\n",
       " 'to',\n",
       " 'find',\n",
       " 'them,',\n",
       " 'one',\n",
       " 'ring',\n",
       " 'to',\n",
       " 'bring',\n",
       " 'them',\n",
       " 'all',\n",
       " 'and',\n",
       " 'in',\n",
       " 'the',\n",
       " 'darkness',\n",
       " 'bind',\n",
       " 'them']"
      ]
     },
     "execution_count": 56,
     "metadata": {},
     "output_type": "execute_result"
    }
   ],
   "source": [
    "# modify myList, in this case we can use the index \n",
    "for k, s in enumerate(myList):\n",
    "  myList[k] = s.lower()\n",
    "\n",
    "myList  "
   ]
  },
  {
   "cell_type": "code",
   "execution_count": 57,
   "metadata": {
    "id": "Gv8ntNlnS7Qb"
   },
   "outputs": [],
   "source": [
    "myList = [x.lower() for x in myList]"
   ]
  },
  {
   "cell_type": "code",
   "execution_count": 58,
   "metadata": {
    "colab": {
     "base_uri": "https://localhost:8080/"
    },
    "executionInfo": {
     "elapsed": 781,
     "status": "ok",
     "timestamp": 1614276170079,
     "user": {
      "displayName": "Darth Maul",
      "photoUrl": "https://lh3.googleusercontent.com/a-/AOh14Gh5xqmxd78KGBkmKiP4Zt50OzFOZWcHeKbnR3Gl=s64",
      "userId": "09460696119666831892"
     },
     "user_tz": -60
    },
    "id": "N3BS9Czpwzih",
    "outputId": "5f7bfb87-6398-469c-87a1-228f7545bfe1"
   },
   "outputs": [
    {
     "name": "stdout",
     "output_type": "stream",
     "text": [
      "['all', 'all,', 'and', 'bind', 'bring', 'darkness', 'find', 'in', 'one', 'ring', 'rule', 'the', 'them', 'them,', 'to']\n"
     ]
    }
   ],
   "source": [
    " # what is this instruction? What does it mean?\n",
    "mySet  = set(myList)\n",
    "print(sorted(mySet))"
   ]
  },
  {
   "cell_type": "markdown",
   "metadata": {
    "id": "IB8Q0Heswzii"
   },
   "source": [
    "**Exercise** - Find a way to remove the comma in final position of some words!\n",
    "\n",
    "<details>\n",
    "\n",
    "<summary>Answer</summary>\n",
    "\n",
    "A simple solution is the following:\n",
    "```python\n",
    "dummy=[]\n",
    "for word in myList:\n",
    "  if not ',' in word:\n",
    "    dummy.append(word.lower())\n",
    "```\n",
    "</details>"
   ]
  },
  {
   "cell_type": "code",
   "execution_count": 59,
   "metadata": {
    "colab": {
     "base_uri": "https://localhost:8080/"
    },
    "executionInfo": {
     "elapsed": 906,
     "status": "ok",
     "timestamp": 1614276583278,
     "user": {
      "displayName": "Darth Maul",
      "photoUrl": "https://lh3.googleusercontent.com/a-/AOh14Gh5xqmxd78KGBkmKiP4Zt50OzFOZWcHeKbnR3Gl=s64",
      "userId": "09460696119666831892"
     },
     "user_tz": -60
    },
    "id": "OD3vkpJmYPbR",
    "outputId": "cb576e41-f37f-4be2-b38f-a8a9a29694ee"
   },
   "outputs": [
    {
     "data": {
      "text/plain": [
       "['one',\n",
       " 'ring',\n",
       " 'to',\n",
       " 'rule',\n",
       " 'them',\n",
       " 'one',\n",
       " 'ring',\n",
       " 'to',\n",
       " 'find',\n",
       " 'one',\n",
       " 'ring',\n",
       " 'to',\n",
       " 'bring',\n",
       " 'them',\n",
       " 'all',\n",
       " 'and',\n",
       " 'in',\n",
       " 'the',\n",
       " 'darkness',\n",
       " 'bind',\n",
       " 'them']"
      ]
     },
     "execution_count": 59,
     "metadata": {},
     "output_type": "execute_result"
    }
   ],
   "source": [
    "dummy=[]\n",
    "for word in myList:\n",
    "  if not ',' in word:\n",
    "    dummy.append(word.lower())\n",
    "\n",
    "dummy    "
   ]
  },
  {
   "cell_type": "code",
   "execution_count": 60,
   "metadata": {
    "colab": {
     "base_uri": "https://localhost:8080/"
    },
    "executionInfo": {
     "elapsed": 1172,
     "status": "ok",
     "timestamp": 1614276677037,
     "user": {
      "displayName": "Darth Maul",
      "photoUrl": "https://lh3.googleusercontent.com/a-/AOh14Gh5xqmxd78KGBkmKiP4Zt50OzFOZWcHeKbnR3Gl=s64",
      "userId": "09460696119666831892"
     },
     "user_tz": -60
    },
    "id": "-ycJ7aFgwzii",
    "outputId": "643884c0-75d9-452e-b6be-d555df086ea4"
   },
   "outputs": [
    {
     "name": "stdout",
     "output_type": "stream",
     "text": [
      "['all', 'and', 'bind', 'bring', 'darkness', 'find', 'in', 'one', 'ring', 'rule', 'the', 'them', 'to']\n"
     ]
    }
   ],
   "source": [
    "myList = [word.lower() for word in myList if not ',' in word] \n",
    "mySet  = set(myList)\n",
    "print(sorted(mySet))"
   ]
  },
  {
   "cell_type": "markdown",
   "metadata": {
    "id": "UdNcK00yY3-M"
   },
   "source": []
  },
  {
   "cell_type": "code",
   "execution_count": 61,
   "metadata": {
    "colab": {
     "base_uri": "https://localhost:8080/"
    },
    "executionInfo": {
     "elapsed": 3698,
     "status": "ok",
     "timestamp": 1613754185962,
     "user": {
      "displayName": "Darth Maul",
      "photoUrl": "https://lh3.googleusercontent.com/a-/AOh14Gh5xqmxd78KGBkmKiP4Zt50OzFOZWcHeKbnR3Gl=s64",
      "userId": "09460696119666831892"
     },
     "user_tz": -60
    },
    "id": "QkHRQgf9vBD7",
    "outputId": "1604ecab-6428-4cc5-e363-7d1df89805df"
   },
   "outputs": [
    {
     "name": "stdout",
     "output_type": "stream",
     "text": [
      "word \"ring\" found in mySet\n"
     ]
    }
   ],
   "source": [
    "word = 'ring'\n",
    "if word in mySet:\n",
    "    print('word \"' + word + '\" found in mySet')"
   ]
  },
  {
   "cell_type": "markdown",
   "metadata": {
    "id": "Owkjbcc_vBD7"
   },
   "source": [
    "### Dictionaries <a class=\"anchor\" id=\"section_3_4\"></a>\n",
    "\n",
    "Dictionaries map keys to values. An object of data type number,\n",
    "Boolean, string or tuple can be a key, and different keys in the same dictionary\n",
    "can belong to different data types. There is no restriction on the data types\n",
    "of dictionary values.\n",
    "\n",
    "Dictionaries are the collection to use when you want to store and retrieve things by their names (or some other kind of key) instead of by their position in the collection. A good example is a set of model parameters, each of which has a name and a value. Dictionaries are declared using {}.\n",
    "\n",
    "You can create a dictionary from a list of `(key, value)` tuples, and you can use\n",
    "a built-in class constructor `enumerate(seq)` to create a dictionary where the key\n",
    "is the sequence number of an item in `seq`:"
   ]
  },
  {
   "cell_type": "code",
   "execution_count": 62,
   "metadata": {
    "colab": {
     "base_uri": "https://localhost:8080/"
    },
    "executionInfo": {
     "elapsed": 1371,
     "status": "ok",
     "timestamp": 1614277387324,
     "user": {
      "displayName": "Darth Maul",
      "photoUrl": "https://lh3.googleusercontent.com/a-/AOh14Gh5xqmxd78KGBkmKiP4Zt50OzFOZWcHeKbnR3Gl=s64",
      "userId": "09460696119666831892"
     },
     "user_tz": -60
    },
    "id": "qUocwOigaf9H",
    "outputId": "76a5fe02-686a-4c8a-8160-3adb46678b89"
   },
   "outputs": [
    {
     "name": "stdout",
     "output_type": "stream",
     "text": [
      "0 alpha\n",
      "1 bravo\n",
      "2 charlie\n",
      "3 delta\n"
     ]
    }
   ],
   "source": [
    "seq = [\"alpha\", \"bravo\", \"charlie\", \"delta\"]\n",
    "\n",
    "for k,v in enumerate(seq):\n",
    "  print(k,v)"
   ]
  },
  {
   "cell_type": "code",
   "execution_count": 63,
   "metadata": {
    "colab": {
     "base_uri": "https://localhost:8080/"
    },
    "executionInfo": {
     "elapsed": 636,
     "status": "ok",
     "timestamp": 1614277387771,
     "user": {
      "displayName": "Darth Maul",
      "photoUrl": "https://lh3.googleusercontent.com/a-/AOh14Gh5xqmxd78KGBkmKiP4Zt50OzFOZWcHeKbnR3Gl=s64",
      "userId": "09460696119666831892"
     },
     "user_tz": -60
    },
    "id": "h-O67GiEvBD7",
    "outputId": "d3501a9e-ab05-4489-9d7c-1a7d8c7ddb9c"
   },
   "outputs": [
    {
     "data": {
      "text/plain": [
       "{0: 'alpha', 1: 'bravo', 2: 'charlie', 3: 'delta'}"
      ]
     },
     "execution_count": 63,
     "metadata": {},
     "output_type": "execute_result"
    }
   ],
   "source": [
    "dict(enumerate(seq))"
   ]
  },
  {
   "cell_type": "code",
   "execution_count": 64,
   "metadata": {
    "colab": {
     "base_uri": "https://localhost:8080/"
    },
    "executionInfo": {
     "elapsed": 1183,
     "status": "ok",
     "timestamp": 1614277457224,
     "user": {
      "displayName": "Darth Maul",
      "photoUrl": "https://lh3.googleusercontent.com/a-/AOh14Gh5xqmxd78KGBkmKiP4Zt50OzFOZWcHeKbnR3Gl=s64",
      "userId": "09460696119666831892"
     },
     "user_tz": -60
    },
    "id": "lHdvE6MyvBD7",
    "outputId": "5d12b0a7-36f5-431c-f595-dc51ab7c323f"
   },
   "outputs": [
    {
     "name": "stdout",
     "output_type": "stream",
     "text": [
      "option strike = 90\n"
     ]
    }
   ],
   "source": [
    "parameters = {'stock' : 100, 'strike' : 90, 'volatility' : 0.2, 'rate' : 0.1, 'maturity' : 1}\n",
    "print('option strike = ' + str(parameters['strike']))"
   ]
  },
  {
   "cell_type": "code",
   "execution_count": 65,
   "metadata": {
    "colab": {
     "base_uri": "https://localhost:8080/",
     "height": 163
    },
    "executionInfo": {
     "elapsed": 976,
     "status": "error",
     "timestamp": 1614277507942,
     "user": {
      "displayName": "Darth Maul",
      "photoUrl": "https://lh3.googleusercontent.com/a-/AOh14Gh5xqmxd78KGBkmKiP4Zt50OzFOZWcHeKbnR3Gl=s64",
      "userId": "09460696119666831892"
     },
     "user_tz": -60
    },
    "id": "8UBiTbWkvBD8",
    "outputId": "24d43443-269c-44ef-8d7f-e06f17bf1b7b"
   },
   "outputs": [
    {
     "ename": "KeyError",
     "evalue": "'Volatility'",
     "output_type": "error",
     "traceback": [
      "\u001b[1;31m---------------------------------------------------------------------------\u001b[0m",
      "\u001b[1;31mKeyError\u001b[0m                                  Traceback (most recent call last)",
      "\u001b[1;32m<ipython-input-65-c26c87bd023a>\u001b[0m in \u001b[0;36m<module>\u001b[1;34m\u001b[0m\n\u001b[1;32m----> 1\u001b[1;33m \u001b[0mprint\u001b[0m\u001b[1;33m(\u001b[0m\u001b[1;34m'asset volatility = '\u001b[0m \u001b[1;33m+\u001b[0m \u001b[0mstr\u001b[0m\u001b[1;33m(\u001b[0m\u001b[0mparameters\u001b[0m\u001b[1;33m[\u001b[0m\u001b[1;34m'Volatility'\u001b[0m\u001b[1;33m]\u001b[0m\u001b[1;33m)\u001b[0m\u001b[1;33m)\u001b[0m\u001b[1;33m\u001b[0m\u001b[1;33m\u001b[0m\u001b[0m\n\u001b[0m",
      "\u001b[1;31mKeyError\u001b[0m: 'Volatility'"
     ]
    }
   ],
   "source": [
    "print('asset volatility = ' + str(parameters['Volatility']))"
   ]
  },
  {
   "cell_type": "code",
   "execution_count": 66,
   "metadata": {
    "colab": {
     "base_uri": "https://localhost:8080/"
    },
    "executionInfo": {
     "elapsed": 1163,
     "status": "ok",
     "timestamp": 1614277529723,
     "user": {
      "displayName": "Darth Maul",
      "photoUrl": "https://lh3.googleusercontent.com/a-/AOh14Gh5xqmxd78KGBkmKiP4Zt50OzFOZWcHeKbnR3Gl=s64",
      "userId": "09460696119666831892"
     },
     "user_tz": -60
    },
    "id": "TsgtyvD-vBD8",
    "outputId": "6b5a1cea-7051-42bc-bac2-39e9fc71213d"
   },
   "outputs": [
    {
     "name": "stdout",
     "output_type": "stream",
     "text": [
      "dict_keys(['stock', 'strike', 'volatility', 'rate', 'maturity'])\n"
     ]
    }
   ],
   "source": [
    "print(parameters.keys())"
   ]
  },
  {
   "cell_type": "code",
   "execution_count": 67,
   "metadata": {
    "colab": {
     "base_uri": "https://localhost:8080/"
    },
    "executionInfo": {
     "elapsed": 1173,
     "status": "ok",
     "timestamp": 1614277595106,
     "user": {
      "displayName": "Darth Maul",
      "photoUrl": "https://lh3.googleusercontent.com/a-/AOh14Gh5xqmxd78KGBkmKiP4Zt50OzFOZWcHeKbnR3Gl=s64",
      "userId": "09460696119666831892"
     },
     "user_tz": -60
    },
    "id": "vw1G8bk2vBD8",
    "outputId": "fec9b17a-b2b2-4e36-8d4a-7b0c08902847"
   },
   "outputs": [
    {
     "name": "stdout",
     "output_type": "stream",
     "text": [
      "dict_keys(['stock', 'strike', 'volatility', 'rate', 'maturity', 'exercise'])\n"
     ]
    }
   ],
   "source": [
    "parameters['exercise'] = 'european'\n",
    "print(parameters.keys())"
   ]
  },
  {
   "cell_type": "code",
   "execution_count": 68,
   "metadata": {
    "colab": {
     "base_uri": "https://localhost:8080/"
    },
    "executionInfo": {
     "elapsed": 1510,
     "status": "ok",
     "timestamp": 1614277611196,
     "user": {
      "displayName": "Darth Maul",
      "photoUrl": "https://lh3.googleusercontent.com/a-/AOh14Gh5xqmxd78KGBkmKiP4Zt50OzFOZWcHeKbnR3Gl=s64",
      "userId": "09460696119666831892"
     },
     "user_tz": -60
    },
    "id": "ckP_ZPUDvBD8",
    "outputId": "453a7881-cfba-4fe1-cc1a-300aa58e8f28"
   },
   "outputs": [
    {
     "name": "stdout",
     "output_type": "stream",
     "text": [
      "european\n"
     ]
    }
   ],
   "source": [
    "print(parameters['exercise'])"
   ]
  },
  {
   "cell_type": "code",
   "execution_count": 69,
   "metadata": {
    "colab": {
     "base_uri": "https://localhost:8080/"
    },
    "executionInfo": {
     "elapsed": 909,
     "status": "ok",
     "timestamp": 1614277653150,
     "user": {
      "displayName": "Darth Maul",
      "photoUrl": "https://lh3.googleusercontent.com/a-/AOh14Gh5xqmxd78KGBkmKiP4Zt50OzFOZWcHeKbnR3Gl=s64",
      "userId": "09460696119666831892"
     },
     "user_tz": -60
    },
    "id": "-VmBUlSGwzik",
    "outputId": "4b3df576-e2bf-4f9c-db70-366c0a061a1b"
   },
   "outputs": [
    {
     "name": "stdout",
     "output_type": "stream",
     "text": [
      "stock\n",
      "strike\n",
      "volatility\n",
      "rate\n",
      "maturity\n",
      "exercise\n"
     ]
    }
   ],
   "source": [
    "# iterate over a dictionary (keys, by default)\n",
    "for k in parameters:\n",
    "    print(k)"
   ]
  },
  {
   "cell_type": "code",
   "execution_count": 70,
   "metadata": {
    "colab": {
     "base_uri": "https://localhost:8080/"
    },
    "executionInfo": {
     "elapsed": 944,
     "status": "ok",
     "timestamp": 1614277673775,
     "user": {
      "displayName": "Darth Maul",
      "photoUrl": "https://lh3.googleusercontent.com/a-/AOh14Gh5xqmxd78KGBkmKiP4Zt50OzFOZWcHeKbnR3Gl=s64",
      "userId": "09460696119666831892"
     },
     "user_tz": -60
    },
    "id": "QW0d4WpGwzik",
    "outputId": "b7702e3c-9777-46ca-a82c-62bb1882c07e"
   },
   "outputs": [
    {
     "name": "stdout",
     "output_type": "stream",
     "text": [
      "stock 100\n",
      "strike 90\n",
      "volatility 0.2\n",
      "rate 0.1\n",
      "maturity 1\n",
      "exercise european\n"
     ]
    }
   ],
   "source": [
    "# iterate over a dictionary by key and value\n",
    "for k, v in parameters.items():\n",
    "    print(k, v)"
   ]
  },
  {
   "cell_type": "code",
   "execution_count": 71,
   "metadata": {
    "colab": {
     "base_uri": "https://localhost:8080/"
    },
    "executionInfo": {
     "elapsed": 1051,
     "status": "ok",
     "timestamp": 1614277684776,
     "user": {
      "displayName": "Darth Maul",
      "photoUrl": "https://lh3.googleusercontent.com/a-/AOh14Gh5xqmxd78KGBkmKiP4Zt50OzFOZWcHeKbnR3Gl=s64",
      "userId": "09460696119666831892"
     },
     "user_tz": -60
    },
    "id": "b0IdLcJxPaXm",
    "outputId": "10f00bcc-6d3b-495e-9de2-899dc1911e36"
   },
   "outputs": [
    {
     "name": "stdout",
     "output_type": "stream",
     "text": [
      "dict_keys(['stock', 'strike', 'volatility', 'rate', 'maturity', 'exercise'])\n"
     ]
    }
   ],
   "source": [
    "print(parameters.keys())"
   ]
  },
  {
   "cell_type": "code",
   "execution_count": 72,
   "metadata": {
    "colab": {
     "base_uri": "https://localhost:8080/"
    },
    "executionInfo": {
     "elapsed": 1266,
     "status": "ok",
     "timestamp": 1614277686276,
     "user": {
      "displayName": "Darth Maul",
      "photoUrl": "https://lh3.googleusercontent.com/a-/AOh14Gh5xqmxd78KGBkmKiP4Zt50OzFOZWcHeKbnR3Gl=s64",
      "userId": "09460696119666831892"
     },
     "user_tz": -60
    },
    "id": "iP5rtmLhPaXn",
    "outputId": "2f1dd21d-197b-4dc5-a6a7-37101665ca97"
   },
   "outputs": [
    {
     "name": "stdout",
     "output_type": "stream",
     "text": [
      "dict_values([100, 90, 0.2, 0.1, 1, 'european'])\n"
     ]
    }
   ],
   "source": [
    "print(parameters.values())"
   ]
  },
  {
   "cell_type": "markdown",
   "metadata": {
    "id": "3OVgEUowvBD9"
   },
   "source": [
    "Another smart way to create a dictionary from a sequence of keys (`kseq`) and\n",
    "a sequence of values (`vsec`) is through a built-in class constructor, `zip(kseq, vseq)`\n",
    "(the sequences must be of the same length): "
   ]
  },
  {
   "cell_type": "code",
   "execution_count": 73,
   "metadata": {
    "colab": {
     "base_uri": "https://localhost:8080/"
    },
    "executionInfo": {
     "elapsed": 933,
     "status": "ok",
     "timestamp": 1614277899124,
     "user": {
      "displayName": "Darth Maul",
      "photoUrl": "https://lh3.googleusercontent.com/a-/AOh14Gh5xqmxd78KGBkmKiP4Zt50OzFOZWcHeKbnR3Gl=s64",
      "userId": "09460696119666831892"
     },
     "user_tz": -60
    },
    "id": "fM6CQXvPvBD9",
    "outputId": "9e3cc98d-c4e4-4145-f7c7-7c50347e159b"
   },
   "outputs": [
    {
     "name": "stdout",
     "output_type": "stream",
     "text": [
      "{'cherries': 0.4, 'raspberries': 0.4, 'blueberries': 0.8, 'strawberries': 0.5, 'lemon': 0.6, 'lime': 0.7, 'apple': 0.3, 'orange': 0.4, 'banana': 0.5}\n"
     ]
    }
   ],
   "source": [
    "kseq   = ['cherries','raspberries','blueberries','strawberries','lemon','lime','apple','orange','banana']\n",
    "vseq   = [.4, .4, .8, .5, .6, .7, .3, .4, .5]\n",
    "prices =dict(zip(kseq, vseq))\n",
    "print(prices)"
   ]
  },
  {
   "cell_type": "code",
   "execution_count": 74,
   "metadata": {
    "colab": {
     "base_uri": "https://localhost:8080/"
    },
    "executionInfo": {
     "elapsed": 5340,
     "status": "ok",
     "timestamp": 1613754197451,
     "user": {
      "displayName": "Darth Maul",
      "photoUrl": "https://lh3.googleusercontent.com/a-/AOh14Gh5xqmxd78KGBkmKiP4Zt50OzFOZWcHeKbnR3Gl=s64",
      "userId": "09460696119666831892"
     },
     "user_tz": -60
    },
    "id": "0P-Ex4NJvBD9",
    "outputId": "106f7497-24f0-448f-b365-1ac43004bf34"
   },
   "outputs": [
    {
     "name": "stdout",
     "output_type": "stream",
     "text": [
      "I owe the grocer $3.30\n"
     ]
    }
   ],
   "source": [
    "my_purchase = {'apple': 1,    'banana': 6}\n",
    "\n",
    "grocery_bill = 0.0\n",
    "for fruit in my_purchase:\n",
    "    grocery_bill += prices[fruit] *  my_purchase[fruit]\n",
    "\n",
    "print ('I owe the grocer $%.2f' % grocery_bill)"
   ]
  },
  {
   "cell_type": "code",
   "execution_count": 75,
   "metadata": {
    "colab": {
     "base_uri": "https://localhost:8080/"
    },
    "executionInfo": {
     "elapsed": 5091,
     "status": "ok",
     "timestamp": 1613754197451,
     "user": {
      "displayName": "Darth Maul",
      "photoUrl": "https://lh3.googleusercontent.com/a-/AOh14Gh5xqmxd78KGBkmKiP4Zt50OzFOZWcHeKbnR3Gl=s64",
      "userId": "09460696119666831892"
     },
     "user_tz": -60
    },
    "id": "5HCWR3FGvBD9",
    "outputId": "b6c62411-2c37-47ff-cae8-9b12ed9d0401"
   },
   "outputs": [
    {
     "name": "stdout",
     "output_type": "stream",
     "text": [
      "I owe the grocer $7.40\n"
     ]
    }
   ],
   "source": [
    "my_purchase = {'strawberries': 10,    'orange': 6}\n",
    "\n",
    "another_bill = sum(prices[fruit] * my_purchase[fruit] for fruit in my_purchase)\n",
    "print ('I owe the grocer $%.2f' % another_bill)"
   ]
  },
  {
   "cell_type": "markdown",
   "metadata": {
    "id": "svjBSUxDv8hu"
   },
   "source": [
    "**Using a Dictionary to count different occurencies of characters**"
   ]
  },
  {
   "cell_type": "code",
   "execution_count": 76,
   "metadata": {
    "colab": {
     "base_uri": "https://localhost:8080/"
    },
    "executionInfo": {
     "elapsed": 3596,
     "status": "ok",
     "timestamp": 1613754197452,
     "user": {
      "displayName": "Darth Maul",
      "photoUrl": "https://lh3.googleusercontent.com/a-/AOh14Gh5xqmxd78KGBkmKiP4Zt50OzFOZWcHeKbnR3Gl=s64",
      "userId": "09460696119666831892"
     },
     "user_tz": -60
    },
    "id": "eEhfDOdOv8hv",
    "outputId": "0b4b234d-d251-44a2-b263-06403ffa536c"
   },
   "outputs": [
    {
     "name": "stdout",
     "output_type": "stream",
     "text": [
      "{'I': 1, 'n': 8, ' ': 48, 't': 8, 'h': 6, 'o': 5, 's': 10, 'e': 27, 'd': 2, 'a': 15, 'y': 3, 'p': 3, 'i': 5, 'r': 22, 'w': 7, 'b': 1, 'v': 1, ',': 3, 'k': 1, 'g': 1, 'm': 8, 'l': 9, 'f': 4, 'u': 6, 'c': 2, 'A': 2, 'C': 2, '.': 1}\n"
     ]
    }
   ],
   "source": [
    "famous_quote = \"In those days spirits were brave, the stakes were high, men were real men, women were real women \\\n",
    "                and small furry creatures from Alpha Centauri were real small furry creatures from Alpha Centauri.\"\n",
    "\n",
    "hashmap = {}\n",
    "for c in famous_quote:\n",
    "    if c in hashmap:\n",
    "        hashmap[c] += 1\n",
    "    else: \n",
    "        hashmap[c]  = 1\n",
    "\n",
    "print(hashmap)"
   ]
  },
  {
   "cell_type": "markdown",
   "metadata": {
    "id": "pOiwtxlLwzil"
   },
   "source": [
    "**Generate a random list of characters**"
   ]
  },
  {
   "cell_type": "code",
   "execution_count": 77,
   "metadata": {
    "id": "tbmP-87kwzim"
   },
   "outputs": [],
   "source": [
    "import string      # import??????????? what does it means?????\n",
    "import random\n",
    "\n",
    "random.choice(string.ascii_letters)\n",
    "\n",
    "letters = []\n",
    "for k in range(100):\n",
    "    letters.append(random.choice(string.ascii_letters))"
   ]
  },
  {
   "cell_type": "markdown",
   "metadata": {
    "id": "RwxnqIgtwzim"
   },
   "source": [
    "**Exercise** Given an array of symbols.\n",
    "- A pair (i,j) is called good if item[i] == item[j] and i < j.\n",
    "- Return the number of good pairs.\n",
    "\n",
    "*Example* \n",
    "\n",
    "- Input: nums = [1,2,3,1,1,3]\n",
    "- Output: 4\n",
    "- Explanation: There are 4 good pairs (0,3), (0,4), (3,4), (2,5) 0-indexed.\n",
    "\n",
    "[link to the original problem](https://leetcode.com/problems/number-of-good-pairs/)\n",
    "\n",
    "The first instinct that comes to mind is to use a nested for loop (aka, brutal force) to iterate over the sequence and return the count number in the end."
   ]
  },
  {
   "cell_type": "code",
   "execution_count": 78,
   "metadata": {
    "colab": {
     "base_uri": "https://localhost:8080/"
    },
    "executionInfo": {
     "elapsed": 5573,
     "status": "ok",
     "timestamp": 1613754202849,
     "user": {
      "displayName": "Darth Maul",
      "photoUrl": "https://lh3.googleusercontent.com/a-/AOh14Gh5xqmxd78KGBkmKiP4Zt50OzFOZWcHeKbnR3Gl=s64",
      "userId": "09460696119666831892"
     },
     "user_tz": -60
    },
    "id": "7lbd34KHwzim",
    "outputId": "945452a5-ac96-47f1-bc4e-7fbd29dc39c5"
   },
   "outputs": [
    {
     "name": "stdout",
     "output_type": "stream",
     "text": [
      "90\n",
      "0.0\n"
     ]
    }
   ],
   "source": [
    "import time\n",
    "\n",
    "def good_pair_1(nums):\n",
    "    count = 0 \n",
    "    for i in range(len(nums)):\n",
    "        for j in range(i+1,len(nums)):\n",
    "            if nums[i] == nums[j]:\n",
    "                count+=1\n",
    "    return count\n",
    "\n",
    "# test case \n",
    "nums = [1,2,3,1,1,3]\n",
    "start = time.time()\n",
    "n = good_pair_1(letters)\n",
    "end = time.time()\n",
    "\n",
    "print(n)\n",
    "print(end-start)"
   ]
  },
  {
   "cell_type": "markdown",
   "metadata": {
    "id": "R1Hw8V-Vwzim"
   },
   "source": [
    "It works but slowly. One for loop is enough and not to mention a nested for loop, which has an O(N²) time complexity! "
   ]
  },
  {
   "cell_type": "code",
   "execution_count": 79,
   "metadata": {
    "colab": {
     "base_uri": "https://localhost:8080/"
    },
    "executionInfo": {
     "elapsed": 114451,
     "status": "ok",
     "timestamp": 1613754766548,
     "user": {
      "displayName": "Darth Maul",
      "photoUrl": "https://lh3.googleusercontent.com/a-/AOh14Gh5xqmxd78KGBkmKiP4Zt50OzFOZWcHeKbnR3Gl=s64",
      "userId": "09460696119666831892"
     },
     "user_tz": -60
    },
    "id": "C5BDvaSiwzim",
    "outputId": "893c1f6c-b0f3-4c86-98c5-e38f6ca6af4b"
   },
   "outputs": [
    {
     "name": "stdout",
     "output_type": "stream",
     "text": [
      "4900 : 1.63747501373291026"
     ]
    }
   ],
   "source": [
    "import sys\n",
    "\n",
    "x = range(100,5000,100)\n",
    "t = []\n",
    "\n",
    "for l in x:\n",
    "    letters = []\n",
    "    for k in range(l):\n",
    "        letters.append(random.choice(string.ascii_letters))\n",
    "\n",
    "    start = time.time()\n",
    "    m = good_pair_1(letters)\n",
    "    end   = time.time()\n",
    "    t.append(end-start)    \n",
    "    \n",
    "    sys.stdout.write(\"\\r\" + str(l) + ' : ' + str(end-start))\n",
    "    sys.stdout.flush()"
   ]
  },
  {
   "cell_type": "code",
   "execution_count": 80,
   "metadata": {
    "colab": {
     "base_uri": "https://localhost:8080/",
     "height": 282
    },
    "executionInfo": {
     "elapsed": 114437,
     "status": "ok",
     "timestamp": 1613754766551,
     "user": {
      "displayName": "Darth Maul",
      "photoUrl": "https://lh3.googleusercontent.com/a-/AOh14Gh5xqmxd78KGBkmKiP4Zt50OzFOZWcHeKbnR3Gl=s64",
      "userId": "09460696119666831892"
     },
     "user_tz": -60
    },
    "id": "iAX_xuJSwzin",
    "outputId": "ef17feea-4607-434a-f064-773c3af0563f"
   },
   "outputs": [
    {
     "data": {
      "text/plain": [
       "[<matplotlib.lines.Line2D at 0x273b0ebc248>]"
      ]
     },
     "execution_count": 80,
     "metadata": {},
     "output_type": "execute_result"
    },
    {
     "data": {
      "image/png": "[encoded data removed]",
      "text/plain": [
       "<Figure size 432x288 with 1 Axes>"
      ]
     },
     "metadata": {
      "needs_background": "light"
     },
     "output_type": "display_data"
    }
   ],
   "source": [
    "%matplotlib inline\n",
    "\n",
    "import matplotlib\n",
    "from matplotlib import pyplot as plt\n",
    "\n",
    "plt.plot(x,t)"
   ]
  },
  {
   "cell_type": "markdown",
   "metadata": {
    "id": "Ug38S5Iqwzin"
   },
   "source": [
    "We will have a running time problem if the number of iteration is large. In this case, a dictionary is a better data type to store the data because of its key-value pair attribute. Beginners may know what a dictionary is but rarely be able to utilize the key-value feature.\n",
    "We treat the elements as the key and the occurrences as the value: increasing the value by 1 for each new encounter and set to 1 if it is the first time."
   ]
  },
  {
   "cell_type": "code",
   "execution_count": 81,
   "metadata": {
    "colab": {
     "base_uri": "https://localhost:8080/"
    },
    "executionInfo": {
     "elapsed": 2998,
     "status": "ok",
     "timestamp": 1613754786430,
     "user": {
      "displayName": "Darth Maul",
      "photoUrl": "https://lh3.googleusercontent.com/a-/AOh14Gh5xqmxd78KGBkmKiP4Zt50OzFOZWcHeKbnR3Gl=s64",
      "userId": "09460696119666831892"
     },
     "user_tz": -60
    },
    "id": "yl6Siyefwzin",
    "outputId": "a3ca6af0-c975-4ac0-b8aa-3cc60f402d35"
   },
   "outputs": [
    {
     "name": "stdout",
     "output_type": "stream",
     "text": [
      "229845\n",
      "0.002999544143676758\n"
     ]
    }
   ],
   "source": [
    "def good_pair_2(nums):\n",
    "    hashmap = {}\n",
    "    count   = 0 \n",
    "    for num in nums:              # read elements from nums sequentially \n",
    "        if num in hashmap:\n",
    "            count += hashmap[num]\n",
    "            hashmap[num] += 1\n",
    "        else: \n",
    "            hashmap[num]  = 1\n",
    "    return count \n",
    "\n",
    "start = time.time()\n",
    "m = good_pair_2(letters)\n",
    "end   = time.time()\n",
    "\n",
    "print(m)\n",
    "print(end-start)"
   ]
  },
  {
   "cell_type": "code",
   "execution_count": 82,
   "metadata": {
    "colab": {
     "base_uri": "https://localhost:8080/"
    },
    "executionInfo": {
     "elapsed": 2716,
     "status": "ok",
     "timestamp": 1613754796984,
     "user": {
      "displayName": "Darth Maul",
      "photoUrl": "https://lh3.googleusercontent.com/a-/AOh14Gh5xqmxd78KGBkmKiP4Zt50OzFOZWcHeKbnR3Gl=s64",
      "userId": "09460696119666831892"
     },
     "user_tz": -60
    },
    "id": "eQwUTa7Ywzin",
    "outputId": "2ff54e23-856c-4c50-81b1-9288a303fa33"
   },
   "outputs": [
    {
     "name": "stdout",
     "output_type": "stream",
     "text": [
      "4900 : 0.0019993782043457034"
     ]
    }
   ],
   "source": [
    "import sys\n",
    "\n",
    "x = range(100,5000,100)\n",
    "t = []\n",
    "\n",
    "for l in x:\n",
    "    letters = []\n",
    "    for k in range(l):\n",
    "        letters.append(random.choice(string.ascii_letters))\n",
    "\n",
    "    start = time.time()\n",
    "    m = good_pair_2(letters)\n",
    "    end   = time.time()\n",
    "    t.append(end-start)    \n",
    "    \n",
    "    sys.stdout.write(\"\\r\" + str(l) + ' : ' + str(end-start))\n",
    "    sys.stdout.flush()"
   ]
  },
  {
   "cell_type": "code",
   "execution_count": 83,
   "metadata": {
    "colab": {
     "base_uri": "https://localhost:8080/",
     "height": 282
    },
    "executionInfo": {
     "elapsed": 3740,
     "status": "ok",
     "timestamp": 1613754805018,
     "user": {
      "displayName": "Darth Maul",
      "photoUrl": "https://lh3.googleusercontent.com/a-/AOh14Gh5xqmxd78KGBkmKiP4Zt50OzFOZWcHeKbnR3Gl=s64",
      "userId": "09460696119666831892"
     },
     "user_tz": -60
    },
    "id": "FM6Qh7gQwzio",
    "outputId": "ff310114-2312-4627-9e76-9d2679dd4132"
   },
   "outputs": [
    {
     "data": {
      "text/plain": [
       "[<matplotlib.lines.Line2D at 0x273b111ac88>]"
      ]
     },
     "execution_count": 83,
     "metadata": {},
     "output_type": "execute_result"
    },
    {
     "data": {
      "image/png": "[encoded data removed]",
      "text/plain": [
       "<Figure size 432x288 with 1 Axes>"
      ]
     },
     "metadata": {
      "needs_background": "light"
     },
     "output_type": "display_data"
    }
   ],
   "source": [
    "plt.plot(x,t)"
   ]
  },
  {
   "cell_type": "markdown",
   "metadata": {
    "id": "h6YI55m7vBD-"
   },
   "source": [
    ">**List Generator**\n",
    ">\n",
    ">Python implements `enumerate(seq)`, `zip(kseq, vseq)` and `range()` as *list generators*. List generators provide an iterator >interface, which\n",
    ">makes it possible to use them in for loops. Unlike a real list, a list generator\n",
    ">produces the next element in a lazy way, only as needed. Generators facilitate\n",
    ">working with large lists and even permit “infinite” lists. Remember that you can explicitly\n",
    ">coerce a generator to a list by calling the `list()` function."
   ]
  },
  {
   "cell_type": "markdown",
   "metadata": {
    "id": "oc9UwDTavBD-"
   },
   "source": [
    "### List Comprehension <a class=\"anchor\" id=\"section_3_5\"></a>\n",
    "\n",
    "List comprehension is an expression that transforms a collection (not necessarily\n",
    "a list) into a list. It is used to apply the same operation to all or some\n",
    "list elements, such as converting all elements to uppercase or raising them\n",
    "all to a power.\n",
    "\n",
    "The transformation process looks like this:\n",
    "1. The expression iterates over the collection and visits the items from the collection.\n",
    "2. An optional Boolean expression (default True) is evaluated for each item.\n",
    "3. If the Boolean expression is True, the loop expression is evaluated for the current item, and its value is appended to the result list.\n",
    "4. If the Boolean expression is False, the item is ignored.\n",
    "\n",
    "Here are some trivial list comprehensions:"
   ]
  },
  {
   "cell_type": "code",
   "execution_count": 84,
   "metadata": {
    "colab": {
     "base_uri": "https://localhost:8080/"
    },
    "executionInfo": {
     "elapsed": 1197,
     "status": "ok",
     "timestamp": 1609942550925,
     "user": {
      "displayName": "Giovanni Della Lunga",
      "photoUrl": "https://lh3.googleusercontent.com/a-/AOh14GjZMmrRhk516rS61n00A5uWTcwVcQ-EsWyndxzs-w=s64",
      "userId": "13927304036683734865"
     },
     "user_tz": -60
    },
    "id": "M6FK1jv9vBD-",
    "outputId": "7fed88d5-1e5e-49c3-a1f0-9155f4a24b8b"
   },
   "outputs": [
    {
     "data": {
      "text/plain": [
       "[0.34, -12, 34, 0.32, -0.928, 32, 0.76543, -22.6, 556, 3214, -6, 0.43, 0, -5]"
      ]
     },
     "execution_count": 84,
     "metadata": {},
     "output_type": "execute_result"
    }
   ],
   "source": [
    "myList = [.34, -12,34,.32,-.928,32,.76543,-22.6, 556,3214,-6,.43, 0, -5]\n",
    "# Copy myList; same as myList.copy() or myList[:], but less efficient\n",
    "[x for x in myList]"
   ]
  },
  {
   "cell_type": "code",
   "execution_count": 85,
   "metadata": {
    "colab": {
     "base_uri": "https://localhost:8080/"
    },
    "executionInfo": {
     "elapsed": 913,
     "status": "ok",
     "timestamp": 1609942551496,
     "user": {
      "displayName": "Giovanni Della Lunga",
      "photoUrl": "https://lh3.googleusercontent.com/a-/AOh14GjZMmrRhk516rS61n00A5uWTcwVcQ-EsWyndxzs-w=s64",
      "userId": "13927304036683734865"
     },
     "user_tz": -60
    },
    "id": "pSqg0AJ7vBD-",
    "outputId": "c3e47902-b241-45cd-8780-f333a59743e2"
   },
   "outputs": [
    {
     "data": {
      "text/plain": [
       "[0.34, 34, 0.32, 32, 0.76543, 556, 3214, 0.43, 0]"
      ]
     },
     "execution_count": 85,
     "metadata": {},
     "output_type": "execute_result"
    }
   ],
   "source": [
    "# Extract non-negative items\n",
    "[x for x in myList if x >= 0]"
   ]
  },
  {
   "cell_type": "code",
   "execution_count": 86,
   "metadata": {
    "colab": {
     "base_uri": "https://localhost:8080/"
    },
    "executionInfo": {
     "elapsed": 607,
     "status": "ok",
     "timestamp": 1609942551964,
     "user": {
      "displayName": "Giovanni Della Lunga",
      "photoUrl": "https://lh3.googleusercontent.com/a-/AOh14GjZMmrRhk516rS61n00A5uWTcwVcQ-EsWyndxzs-w=s64",
      "userId": "13927304036683734865"
     },
     "user_tz": -60
    },
    "id": "wp_m3Y7wvBD_",
    "outputId": "595392de-7b4e-424f-c05a-63ea269132ca"
   },
   "outputs": [
    {
     "data": {
      "text/plain": [
       "[0.11560000000000002,\n",
       " 144,\n",
       " 1156,\n",
       " 0.1024,\n",
       " 0.8611840000000001,\n",
       " 1024,\n",
       " 0.5858830849000001,\n",
       " 510.76000000000005,\n",
       " 309136,\n",
       " 10329796,\n",
       " 36,\n",
       " 0.18489999999999998,\n",
       " 0,\n",
       " 25]"
      ]
     },
     "execution_count": 86,
     "metadata": {},
     "output_type": "execute_result"
    }
   ],
   "source": [
    "# Build a list of squares\n",
    "[x**2 for x in myList]"
   ]
  },
  {
   "cell_type": "code",
   "execution_count": 87,
   "metadata": {
    "colab": {
     "base_uri": "https://localhost:8080/"
    },
    "executionInfo": {
     "elapsed": 1020,
     "status": "ok",
     "timestamp": 1609942553393,
     "user": {
      "displayName": "Giovanni Della Lunga",
      "photoUrl": "https://lh3.googleusercontent.com/a-/AOh14GjZMmrRhk516rS61n00A5uWTcwVcQ-EsWyndxzs-w=s64",
      "userId": "13927304036683734865"
     },
     "user_tz": -60
    },
    "id": "ZKQEsm7-vBD_",
    "outputId": "c2f51cb1-fefc-414a-a9ee-c67c91eebd8e"
   },
   "outputs": [
    {
     "data": {
      "text/plain": [
       "[2.941176470588235,\n",
       " -0.08333333333333333,\n",
       " 0.029411764705882353,\n",
       " 3.125,\n",
       " -1.0775862068965516,\n",
       " 0.03125,\n",
       " 1.3064551951190833,\n",
       " -0.04424778761061947,\n",
       " 0.0017985611510791368,\n",
       " 0.00031113876789047915,\n",
       " -0.16666666666666666,\n",
       " 2.3255813953488373,\n",
       " -0.2]"
      ]
     },
     "execution_count": 87,
     "metadata": {},
     "output_type": "execute_result"
    }
   ],
   "source": [
    "# Build a list of valid reciprocals\n",
    "[1/x for x in myList if x != 0]"
   ]
  },
  {
   "cell_type": "markdown",
   "metadata": {
    "id": "WOe8IxMPvBEB"
   },
   "source": [
    "## Working with Files <a class=\"anchor\" id=\"chapter4\"></a>\n",
    "\n",
    "Reading/Writing files are key tasks in data analysis. The Python Standard library has two methods you can use: write() e read(). Tese methods are appled to a built-in class you can create using the open() function, taking in input the file name and some additional arguments. Two arguments worth to be mentioned are the mode argument and encoding argument. Mode can be one of the following\n",
    "\n",
    "  Mode  | Meaning\n",
    "  ------------- | -------------\n",
    "  'r' | open for reading (default)\n",
    "  'w' | open for writing, truncating the file first\n",
    "  'x' | open for exclusive creation, failing if the file already exists\n",
    "  'a' | open for writing, appending to the end of the file if it exists\n",
    "  'b' | binary mode\n",
    "  't' | text mode (default)\n",
    "  '+' | open a disk file for updating (reading and writing)\n",
    "  \n",
    "Encoding is the name of the encoding used to decode or encode the file. The default encoding is platform dependent, to check it run the following lines"
   ]
  },
  {
   "cell_type": "code",
   "execution_count": 88,
   "metadata": {
    "id": "-4d1Dz9Nwzip",
    "outputId": "64b07590-7b24-4c2d-efa8-eb3d82bd5414"
   },
   "outputs": [
    {
     "data": {
      "text/plain": [
       "'cp1252'"
      ]
     },
     "execution_count": 88,
     "metadata": {},
     "output_type": "execute_result"
    }
   ],
   "source": [
    "import locale\n",
    "locale.getpreferredencoding()"
   ]
  },
  {
   "cell_type": "markdown",
   "metadata": {
    "id": "zWed5akqwziq"
   },
   "source": [
    "**BE AWARE**: Nowadays it is recommended to use UTF-8 encoding but you may work with text files with a different encoding and you may need to convert them in UTF-8 to represent them homogeneously in your system. The module [codecs](https://docs.python.org/3/library/codecs.html#module-codecs) is very helpful in this case. \n",
    "\n",
    "For the time being, we don't want to go too much in detail on this topic, you can read a gentle [introduction to character sets here](https://www.joelonsoftware.com/2003/10/08/the-absolute-minimum-every-software-developer-absolutely-positively-must-know-about-unicode-and-character-sets-no-excuses/)."
   ]
  },
  {
   "cell_type": "code",
   "execution_count": 89,
   "metadata": {
    "id": "_tBWGiHv1rIj"
   },
   "outputs": [],
   "source": [
    "if 'google.colab' in str(get_ipython()):\n",
    "    from google.colab import files\n",
    "    uploaded = files.upload()\n",
    "    path = ''\n",
    "else:\n",
    "    path = './data/txt/'"
   ]
  },
  {
   "cell_type": "markdown",
   "metadata": {
    "id": "DMRhujnwPaXt"
   },
   "source": [
    "If you want to know more about upload files in colab read [this](https://towardsdatascience.com/3-ways-to-load-csv-files-into-colab-7c14fcbdcb92) article."
   ]
  },
  {
   "cell_type": "code",
   "execution_count": 90,
   "metadata": {
    "colab": {
     "base_uri": "https://localhost:8080/"
    },
    "executionInfo": {
     "elapsed": 18231,
     "status": "ok",
     "timestamp": 1613143747547,
     "user": {
      "displayName": "Darth Maul",
      "photoUrl": "https://lh3.googleusercontent.com/a-/AOh14Gh5xqmxd78KGBkmKiP4Zt50OzFOZWcHeKbnR3Gl=s64",
      "userId": "09460696119666831892"
     },
     "user_tz": -60
    },
    "id": "RanKDfk4vBEB",
    "outputId": "9a3fbcbe-d669-4ea5-ecd8-f71798e6b64e"
   },
   "outputs": [
    {
     "name": "stdout",
     "output_type": "stream",
     "text": [
      "Galadriel: (speaking partly in Elvish)\n",
      "\n",
      "(I amar prestar aen.)\n",
      "\n",
      "The world is changed.\n",
      "\n",
      "(Han matho ne nen.)\n",
      "\n",
      "I feel it in the water.\n",
      "\n",
      "(Han mathon ned cae.)\n",
      "\n",
      "I feel it in the earth.\n",
      "\n",
      "(A han noston ned gwilith.)\n",
      "\n",
      "I smell it in the air.\n",
      "\n",
      "Much that once was is lost, for none now live who remember it.\n",
      "\n",
      "It began with the forging of the Great Rings. Three were given to the Elves, immortal, wisest and fairest of all beings. Seven to the Dwarf-Lords, great miners and craftsmen of the mountain halls. And nine, nine rings were gifted to the race of Men, who above all else desire power. For within these rings was bound the strength and the will to govern each race. But they were all of them deceived, for another ring was made. Deep in the land of Mordor, in the Fires of Mount Doom, the Dark Lord Sauron forged a master ring, and into this ring he poured his cruelty, his malice and his will to dominate all life.\n",
      "\n",
      "One ring to rule them all.\n",
      "\n",
      "One by one, the free lands of Middle-Earth fell to the power of the Ring, but there were some who resisted. A last alliance of men and elves marched against the armies of Mordor, and on the very slopes of Mount Doom, they fought for the freedom of Middle-Earth. Victory was near, but the power of the ring could not be undone. It was in this moment, when all hope had faded, that Isildur, son of the king, took up his fatherâ€™s sword.\n",
      "\n",
      "Sauron, enemy of the free peoples of Middle-Earth, was defeated. The Ring passed to Isildur, who had this one chance to destroy evil forever, but the hearts of men are easily corrupted. And the ring of power has a will of its own. It betrayed Isildur, to his death.\n",
      "\n",
      "And some things that should not have been forgotten were lost. History became legend. Legend became myth. And for two and a half thousand years, the ring passed out of all knowledge. Until, when chance came, it ensnared another bearer.\n",
      "\n",
      "It came to the creature Gollum, who took it deep into the tunnels of the Misty Mountains. And there it consumed him. The ring gave to Gollum unnatural long life. For five hundred years it poisoned his mind, and in the gloom of Gollumâ€™s cave, it waited. Darkness crept back into the forests of the world. Rumor grew of a shadow in the East, whispers of a nameless fear, and the Ring of Power perceived its time had come. It abandoned Gollum, but then something happened that the Ring did not intend. It was picked up by the most unlikely creature imaginable: a hobbit, Bilbo Baggins, of the Shire.\n",
      "\n",
      "For the time will soon come when hobbits will shape the fortunes of all.\n"
     ]
    }
   ],
   "source": [
    "f = open(path + \"beginning.txt\", \"r\")\n",
    "print(f.read())\n",
    "f.close()"
   ]
  },
  {
   "cell_type": "markdown",
   "metadata": {
    "id": "YPnD2JAAvBEC"
   },
   "source": [
    "In the above approaches, every time the file is opened it is needed to be closed explicitly. If one forgets to close the file, it may introduce several bugs in the code, i.e. many changes in files do not go into effect until the file is properly closed. To prevent this `with` statement can be used. `with` statement in Python is used in exception handling to make the code cleaner and much more readable. It simplifies the management of common resources like file streams. Observe the following code example on how the use of with statement makes code cleaner. There is no need to call `file.close()` when using `with` statement. The `with` statement itself ensures proper acquisition and release of resources."
   ]
  },
  {
   "cell_type": "code",
   "execution_count": 91,
   "metadata": {
    "colab": {
     "base_uri": "https://localhost:8080/"
    },
    "executionInfo": {
     "elapsed": 489,
     "status": "ok",
     "timestamp": 1613143756362,
     "user": {
      "displayName": "Darth Maul",
      "photoUrl": "https://lh3.googleusercontent.com/a-/AOh14Gh5xqmxd78KGBkmKiP4Zt50OzFOZWcHeKbnR3Gl=s64",
      "userId": "09460696119666831892"
     },
     "user_tz": -60
    },
    "id": "ypJwpGRTvBEC",
    "outputId": "8ee5e3c2-300d-41da-dab1-ac59a0097d3a"
   },
   "outputs": [
    {
     "name": "stdout",
     "output_type": "stream",
     "text": [
      "Galadriel: (speaking partly in Elvish)\n",
      "(I amar prestar aen.)\n",
      "The world is changed.\n",
      "(Han matho ne nen.)\n",
      "I feel it in the water.\n",
      "(Han mathon ned cae.)\n",
      "I feel it in the earth.\n",
      "(A han noston ned gwilith.)\n",
      "I smell it in the air.\n",
      "Much that once was is lost, for none now live who remember it.\n",
      "It began with the forging of the Great Rings. Three were given to the Elves, immortal, wisest and fairest of all beings. Seven to the Dwarf-Lords, great miners and craftsmen of the mountain halls. And nine, nine rings were gifted to the race of Men, who above all else desire power. For within these rings was bound the strength and the will to govern each race. But they were all of them deceived, for another ring was made. Deep in the land of Mordor, in the Fires of Mount Doom, the Dark Lord Sauron forged a master ring, and into this ring he poured his cruelty, his malice and his will to dominate all life.\n",
      "One ring to rule them all.\n",
      "One by one, the free lands of Middle-Earth fell to the power of the Ring, but there were some who resisted. A last alliance of men and elves marched against the armies of Mordor, and on the very slopes of Mount Doom, they fought for the freedom of Middle-Earth. Victory was near, but the power of the ring could not be undone. It was in this moment, when all hope had faded, that Isildur, son of the king, took up his fatherâ€™s sword.\n",
      "Sauron, enemy of the free peoples of Middle-Earth, was defeated. The Ring passed to Isildur, who had this one chance to destroy evil forever, but the hearts of men are easily corrupted. And the ring of power has a will of its own. It betrayed Isildur, to his death.\n",
      "And some things that should not have been forgotten were lost. History became legend. Legend became myth. And for two and a half thousand years, the ring passed out of all knowledge. Until, when chance came, it ensnared another bearer.\n",
      "It came to the creature Gollum, who took it deep into the tunnels of the Misty Mountains. And there it consumed him. The ring gave to Gollum unnatural long life. For five hundred years it poisoned his mind, and in the gloom of Gollumâ€™s cave, it waited. Darkness crept back into the forests of the world. Rumor grew of a shadow in the East, whispers of a nameless fear, and the Ring of Power perceived its time had come. It abandoned Gollum, but then something happened that the Ring did not intend. It was picked up by the most unlikely creature imaginable: a hobbit, Bilbo Baggins, of the Shire.\n",
      "For the time will soon come when hobbits will shape the fortunes of all.\n"
     ]
    }
   ],
   "source": [
    "with open(path + \"beginning.txt\", \"r\") as f:\n",
    "    for x in f:\n",
    "      x = x.strip()  \n",
    "      if x: print(x)"
   ]
  },
  {
   "cell_type": "markdown",
   "metadata": {
    "id": "bJ1j4WiGPaXu"
   },
   "source": [
    "### Processing CVS Files\n",
    "\n",
    "A CSV file consists of columns representing variables and rows representing\n",
    "records. (Data scientists with a statistical background often call them observations.)\n",
    "The fields in a record are typically separated by commas, but other\n",
    "delimiters, such as tabs (tab-separated values), colons, semicolons, and\n",
    "vertical bars, are also common.\n",
    "\n",
    "For convenience, the Python module csv provides a CSV reader and a CSV\n",
    "writer. Both objects take a previously opened text file handle as the first\n",
    "parameter (in the example, the file is opened with the newline='' option to avoid\n",
    "the need to strip the lines). You may provide the delimiter and the quote\n",
    "character, if needed, through the optional parameters delimiter and quotechar.\n",
    "Other optional parameters control the escape character, the line terminator,"
   ]
  },
  {
   "cell_type": "code",
   "execution_count": 92,
   "metadata": {
    "id": "WwkuvG0CPaXv"
   },
   "outputs": [],
   "source": [
    "if 'google.colab' in str(get_ipython()):\n",
    "    from google.colab import files\n",
    "    uploaded = files.upload()\n",
    "    path = ''\n",
    "else:\n",
    "    path = './data/csv/'"
   ]
  },
  {
   "cell_type": "code",
   "execution_count": 93,
   "metadata": {
    "id": "U4Lc_vhJPaXv",
    "outputId": "527546a4-3482-4801-ddd8-0d8b744d3760"
   },
   "outputs": [
    {
     "ename": "NameError",
     "evalue": "name 'csv' is not defined",
     "output_type": "error",
     "traceback": [
      "\u001b[1;31m---------------------------------------------------------------------------\u001b[0m",
      "\u001b[1;31mNameError\u001b[0m                                 Traceback (most recent call last)",
      "\u001b[1;32m<ipython-input-93-779bff26e8c1>\u001b[0m in \u001b[0;36m<module>\u001b[1;34m\u001b[0m\n\u001b[0;32m      1\u001b[0m \u001b[1;32mwith\u001b[0m \u001b[0mopen\u001b[0m\u001b[1;33m(\u001b[0m\u001b[0mpath\u001b[0m \u001b[1;33m+\u001b[0m \u001b[1;34m\"countryriskdata.csv\"\u001b[0m\u001b[1;33m)\u001b[0m \u001b[1;32mas\u001b[0m \u001b[0minfile\u001b[0m\u001b[1;33m:\u001b[0m\u001b[1;33m\u001b[0m\u001b[1;33m\u001b[0m\u001b[0m\n\u001b[1;32m----> 2\u001b[1;33m     \u001b[0mreader\u001b[0m \u001b[1;33m=\u001b[0m \u001b[0mcsv\u001b[0m\u001b[1;33m.\u001b[0m\u001b[0mreader\u001b[0m\u001b[1;33m(\u001b[0m\u001b[0minfile\u001b[0m\u001b[1;33m,\u001b[0m \u001b[0mdelimiter\u001b[0m\u001b[1;33m=\u001b[0m\u001b[1;34m','\u001b[0m\u001b[1;33m)\u001b[0m\u001b[1;33m\u001b[0m\u001b[1;33m\u001b[0m\u001b[0m\n\u001b[0m",
      "\u001b[1;31mNameError\u001b[0m: name 'csv' is not defined"
     ]
    }
   ],
   "source": [
    "with open(path + \"countryriskdata.csv\") as infile:\n",
    "    reader = csv.reader(infile, delimiter=',')"
   ]
  },
  {
   "cell_type": "markdown",
   "metadata": {
    "id": "c53P5TNEPaXv"
   },
   "source": [
    "We forget to include the \"csv\" module ... "
   ]
  },
  {
   "cell_type": "code",
   "execution_count": 94,
   "metadata": {
    "id": "eYGH3xxBPaXv"
   },
   "outputs": [],
   "source": [
    "import csv\n",
    "\n",
    "with open(path + \"countryriskdata.csv\") as infile:\n",
    "    data = list(csv.reader(infile, delimiter=','))"
   ]
  },
  {
   "cell_type": "markdown",
   "metadata": {
    "id": "DdZorl4WPaXv"
   },
   "source": [
    "Examine `data[0]`, which is the first record in the file. It must contain the column\n",
    "header of interest:"
   ]
  },
  {
   "cell_type": "code",
   "execution_count": 95,
   "metadata": {
    "id": "wlwtPPH-PaXw",
    "outputId": "18298f2d-05fb-40ab-b22b-bf43b3d8edd2"
   },
   "outputs": [
    {
     "name": "stdout",
     "output_type": "stream",
     "text": [
      "['Country', 'Abbrev', 'Corruption', 'Peace', 'Legal', 'GDP Growth']\n"
     ]
    }
   ],
   "source": [
    "print(data[0])"
   ]
  },
  {
   "cell_type": "code",
   "execution_count": 96,
   "metadata": {
    "id": "i6Wh2Rx7PaXw",
    "outputId": "d9123f45-6b60-43db-fd01-1d0f2082ef48"
   },
   "outputs": [
    {
     "name": "stdout",
     "output_type": "stream",
     "text": [
      "4\n"
     ]
    }
   ],
   "source": [
    "legalIndex = data[0].index('Legal')\n",
    "print(legalIndex)"
   ]
  },
  {
   "cell_type": "markdown",
   "metadata": {
    "id": "baWDjeC2vBEC"
   },
   "source": [
    "## Functions <a class=\"anchor\" id=\"chapter5\"></a>"
   ]
  },
  {
   "cell_type": "markdown",
   "metadata": {
    "id": "ZpJ5ThgTvBEC"
   },
   "source": [
    "### What is a Function? <a class=\"anchor\" id=\"section_5_1\"></a>\n",
    "\n",
    "A function is a block of organized, reusable code that is used to perform a single, related action. Functions provide better modularity for your application and a high degree of code reusing. These will be very familiar to anyone who has programmed in any language, and work like you would expect."
   ]
  },
  {
   "cell_type": "code",
   "execution_count": 97,
   "metadata": {
    "colab": {
     "base_uri": "https://localhost:8080/"
    },
    "executionInfo": {
     "elapsed": 502,
     "status": "ok",
     "timestamp": 1613143758333,
     "user": {
      "displayName": "Darth Maul",
      "photoUrl": "https://lh3.googleusercontent.com/a-/AOh14Gh5xqmxd78KGBkmKiP4Zt50OzFOZWcHeKbnR3Gl=s64",
      "userId": "09460696119666831892"
     },
     "user_tz": -60
    },
    "id": "WRojQ_eoC71J",
    "outputId": "9ab91e52-3e55-471f-8800-8f455168b5de"
   },
   "outputs": [
    {
     "name": "stdout",
     "output_type": "stream",
     "text": [
      "<class 'int'>\n",
      "5\n",
      "3\n"
     ]
    }
   ],
   "source": [
    "# There are thousands of functions that operate on things\n",
    "print(type(3)) #type() function\n",
    "print(len('hello')) #len() function\n",
    "print(round(3.3))#round() funcction"
   ]
  },
  {
   "cell_type": "code",
   "execution_count": 98,
   "metadata": {
    "id": "tnuPZhmSC71J"
   },
   "outputs": [],
   "source": [
    "#to find out what a function does you can type it's name followed by a question mark\n",
    "round?"
   ]
  },
  {
   "cell_type": "code",
   "execution_count": 99,
   "metadata": {
    "executionInfo": {
     "elapsed": 6469,
     "status": "ok",
     "timestamp": 1613143766297,
     "user": {
      "displayName": "Darth Maul",
      "photoUrl": "https://lh3.googleusercontent.com/a-/AOh14Gh5xqmxd78KGBkmKiP4Zt50OzFOZWcHeKbnR3Gl=s64",
      "userId": "09460696119666831892"
     },
     "user_tz": -60
    },
    "id": "EaQOwH2_C71J",
    "outputId": "4cef72bc-c4b9-4cab-93f7-f1af0792082a"
   },
   "outputs": [
    {
     "name": "stdout",
     "output_type": "stream",
     "text": [
      "Object `log` not found.\n"
     ]
    }
   ],
   "source": [
    "# Not every function is available if you don't have imported it\n",
    "log?"
   ]
  },
  {
   "cell_type": "code",
   "execution_count": 100,
   "metadata": {
    "colab": {
     "base_uri": "https://localhost:8080/"
    },
    "executionInfo": {
     "elapsed": 5414,
     "status": "ok",
     "timestamp": 1613143766309,
     "user": {
      "displayName": "Darth Maul",
      "photoUrl": "https://lh3.googleusercontent.com/a-/AOh14Gh5xqmxd78KGBkmKiP4Zt50OzFOZWcHeKbnR3Gl=s64",
      "userId": "09460696119666831892"
     },
     "user_tz": -60
    },
    "id": "KP1m3hmtC71K",
    "outputId": "f088cb28-a22d-4133-bf10-3b9b0043de12"
   },
   "outputs": [
    {
     "ename": "NameError",
     "evalue": "name 'log' is not defined",
     "output_type": "error",
     "traceback": [
      "\u001b[1;31m---------------------------------------------------------------------------\u001b[0m",
      "\u001b[1;31mNameError\u001b[0m                                 Traceback (most recent call last)",
      "\u001b[1;32m<ipython-input-100-9be882efc3b0>\u001b[0m in \u001b[0;36m<module>\u001b[1;34m\u001b[0m\n\u001b[0;32m      1\u001b[0m \u001b[1;31m# this will cause an error because the log function has not been 'imported' yet\u001b[0m\u001b[1;33m\u001b[0m\u001b[1;33m\u001b[0m\u001b[1;33m\u001b[0m\u001b[0m\n\u001b[1;32m----> 2\u001b[1;33m \u001b[0mlog\u001b[0m\u001b[1;33m(\u001b[0m\u001b[1;36m3\u001b[0m\u001b[1;33m)\u001b[0m\u001b[1;33m\u001b[0m\u001b[1;33m\u001b[0m\u001b[0m\n\u001b[0m",
      "\u001b[1;31mNameError\u001b[0m: name 'log' is not defined"
     ]
    }
   ],
   "source": [
    "# this will cause an error because the log function has not been 'imported' yet\n",
    "log(3)"
   ]
  },
  {
   "cell_type": "markdown",
   "metadata": {
    "id": "Pq3RWyexC71K"
   },
   "source": [
    "Many useful functions are not in the Python 'standard library', but in external packages which you can download or build by yourself. These need to be imported into your Python notebook (or program) before they can be used. "
   ]
  },
  {
   "cell_type": "code",
   "execution_count": 101,
   "metadata": {
    "colab": {
     "base_uri": "https://localhost:8080/"
    },
    "executionInfo": {
     "elapsed": 484,
     "status": "ok",
     "timestamp": 1613143769811,
     "user": {
      "displayName": "Darth Maul",
      "photoUrl": "https://lh3.googleusercontent.com/a-/AOh14Gh5xqmxd78KGBkmKiP4Zt50OzFOZWcHeKbnR3Gl=s64",
      "userId": "09460696119666831892"
     },
     "user_tz": -60
    },
    "id": "V19F3wmtC71K",
    "outputId": "376e227f-0fd1-41d5-c6b4-5abdab203250"
   },
   "outputs": [
    {
     "data": {
      "text/plain": [
       "['__doc__',\n",
       " '__loader__',\n",
       " '__name__',\n",
       " '__package__',\n",
       " '__spec__',\n",
       " 'acos',\n",
       " 'acosh',\n",
       " 'asin',\n",
       " 'asinh',\n",
       " 'atan',\n",
       " 'atan2',\n",
       " 'atanh',\n",
       " 'ceil',\n",
       " 'copysign',\n",
       " 'cos',\n",
       " 'cosh',\n",
       " 'degrees',\n",
       " 'e',\n",
       " 'erf',\n",
       " 'erfc',\n",
       " 'exp',\n",
       " 'expm1',\n",
       " 'fabs',\n",
       " 'factorial',\n",
       " 'floor',\n",
       " 'fmod',\n",
       " 'frexp',\n",
       " 'fsum',\n",
       " 'gamma',\n",
       " 'gcd',\n",
       " 'hypot',\n",
       " 'inf',\n",
       " 'isclose',\n",
       " 'isfinite',\n",
       " 'isinf',\n",
       " 'isnan',\n",
       " 'ldexp',\n",
       " 'lgamma',\n",
       " 'log',\n",
       " 'log10',\n",
       " 'log1p',\n",
       " 'log2',\n",
       " 'modf',\n",
       " 'nan',\n",
       " 'pi',\n",
       " 'pow',\n",
       " 'radians',\n",
       " 'remainder',\n",
       " 'sin',\n",
       " 'sinh',\n",
       " 'sqrt',\n",
       " 'tan',\n",
       " 'tanh',\n",
       " 'tau',\n",
       " 'trunc']"
      ]
     },
     "execution_count": 101,
     "metadata": {},
     "output_type": "execute_result"
    }
   ],
   "source": [
    "# log() function is defined in math module\n",
    "\n",
    "import math\n",
    "\n",
    "#to show the module function (and methods)\n",
    "dir(math)"
   ]
  },
  {
   "cell_type": "code",
   "execution_count": 102,
   "metadata": {
    "colab": {
     "base_uri": "https://localhost:8080/"
    },
    "executionInfo": {
     "elapsed": 510,
     "status": "ok",
     "timestamp": 1613143771029,
     "user": {
      "displayName": "Darth Maul",
      "photoUrl": "https://lh3.googleusercontent.com/a-/AOh14Gh5xqmxd78KGBkmKiP4Zt50OzFOZWcHeKbnR3Gl=s64",
      "userId": "09460696119666831892"
     },
     "user_tz": -60
    },
    "id": "FtNM3RorC71K",
    "outputId": "aa8effb7-fede-4d28-87b5-ac5e88222348"
   },
   "outputs": [
    {
     "data": {
      "text/plain": [
       "1.0986122886681098"
      ]
     },
     "execution_count": 102,
     "metadata": {},
     "output_type": "execute_result"
    }
   ],
   "source": [
    "math.log(3)"
   ]
  },
  {
   "cell_type": "code",
   "execution_count": 103,
   "metadata": {
    "colab": {
     "base_uri": "https://localhost:8080/"
    },
    "executionInfo": {
     "elapsed": 347,
     "status": "ok",
     "timestamp": 1613143771659,
     "user": {
      "displayName": "Darth Maul",
      "photoUrl": "https://lh3.googleusercontent.com/a-/AOh14Gh5xqmxd78KGBkmKiP4Zt50OzFOZWcHeKbnR3Gl=s64",
      "userId": "09460696119666831892"
     },
     "user_tz": -60
    },
    "id": "6JQ27YHkC71L",
    "outputId": "c13273ae-db3e-417a-e725-8a4356991aee"
   },
   "outputs": [
    {
     "name": "stdout",
     "output_type": "stream",
     "text": [
      "1.0986122886681098\n",
      "20.085536923187668\n"
     ]
    }
   ],
   "source": [
    "# we don't want to write 'math.' every time\n",
    "# we can use the 'from <module> import <function1>, <function2>, ...' syntax\n",
    "\n",
    "from math import log, exp\n",
    "print(log(3))\n",
    "print(exp(3))"
   ]
  },
  {
   "cell_type": "markdown",
   "metadata": {
    "id": "BDsDQHAXC71L"
   },
   "source": [
    "### Let's define some new  Functions <a class=\"anchor\" id=\"section_5_2\"></a>\n",
    "\n",
    "First of all upload an entire book into a single variable"
   ]
  },
  {
   "cell_type": "code",
   "execution_count": 104,
   "metadata": {
    "id": "V_ol1rk_3K40"
   },
   "outputs": [],
   "source": [
    "if 'google.colab' in str(get_ipython()):\n",
    "    from google.colab import files\n",
    "    uploaded = files.upload()\n",
    "    path = ''\n",
    "else:\n",
    "    path = './data/txt/'"
   ]
  },
  {
   "cell_type": "code",
   "execution_count": 105,
   "metadata": {
    "id": "8j8l2ybqwzit"
   },
   "outputs": [],
   "source": [
    "with open(path + \"carroll-alice.txt\", \"r\") as f:\n",
    "    alice = f.read()"
   ]
  },
  {
   "cell_type": "code",
   "execution_count": 106,
   "metadata": {
    "id": "A0bSlbmDwzit"
   },
   "outputs": [],
   "source": [
    "def lexical_diversity(text):\n",
    "    return len(text)/len(set(text))"
   ]
  },
  {
   "cell_type": "markdown",
   "metadata": {
    "id": "fkPLbJnewzit"
   },
   "source": [
    "In the definition of `lexical diversity()`, we specify a parameter labeled `text`. This\n",
    "parameter is a sort of “placeholder” for the actual text whose lexical diversity we want to\n",
    "compute, and reoccurs in the block of code that will run when the function is used, in\n",
    "line. "
   ]
  },
  {
   "cell_type": "code",
   "execution_count": 107,
   "metadata": {
    "colab": {
     "base_uri": "https://localhost:8080/"
    },
    "executionInfo": {
     "elapsed": 458,
     "status": "ok",
     "timestamp": 1613143817924,
     "user": {
      "displayName": "Darth Maul",
      "photoUrl": "https://lh3.googleusercontent.com/a-/AOh14Gh5xqmxd78KGBkmKiP4Zt50OzFOZWcHeKbnR3Gl=s64",
      "userId": "09460696119666831892"
     },
     "user_tz": -60
    },
    "id": "h7Qtg5TGwzit",
    "outputId": "5461c69b-a36e-4c82-c857-f1b304da5951"
   },
   "outputs": [
    {
     "name": "stdout",
     "output_type": "stream",
     "text": [
      "1978.013698630137\n"
     ]
    }
   ],
   "source": [
    "print(lexical_diversity(alice))"
   ]
  },
  {
   "cell_type": "markdown",
   "metadata": {
    "id": "ZEIYRqwFwziu"
   },
   "source": [
    "Uhmmmm ... there is something strange... let's see why ..."
   ]
  },
  {
   "cell_type": "code",
   "execution_count": 108,
   "metadata": {
    "colab": {
     "base_uri": "https://localhost:8080/"
    },
    "executionInfo": {
     "elapsed": 524,
     "status": "ok",
     "timestamp": 1613143820285,
     "user": {
      "displayName": "Darth Maul",
      "photoUrl": "https://lh3.googleusercontent.com/a-/AOh14Gh5xqmxd78KGBkmKiP4Zt50OzFOZWcHeKbnR3Gl=s64",
      "userId": "09460696119666831892"
     },
     "user_tz": -60
    },
    "id": "DIpMct7awziu",
    "outputId": "2f7f78a3-3408-4e18-cd0b-becc2276d1f0"
   },
   "outputs": [
    {
     "data": {
      "text/plain": [
       "73"
      ]
     },
     "execution_count": 108,
     "metadata": {},
     "output_type": "execute_result"
    }
   ],
   "source": [
    "len(set(alice))"
   ]
  },
  {
   "cell_type": "code",
   "execution_count": 109,
   "metadata": {
    "colab": {
     "base_uri": "https://localhost:8080/"
    },
    "executionInfo": {
     "elapsed": 487,
     "status": "ok",
     "timestamp": 1613143821430,
     "user": {
      "displayName": "Darth Maul",
      "photoUrl": "https://lh3.googleusercontent.com/a-/AOh14Gh5xqmxd78KGBkmKiP4Zt50OzFOZWcHeKbnR3Gl=s64",
      "userId": "09460696119666831892"
     },
     "user_tz": -60
    },
    "id": "ASkDch6uwziu",
    "outputId": "c400bf5d-ff25-4060-cae2-2c492f30d65f"
   },
   "outputs": [
    {
     "name": "stdout",
     "output_type": "stream",
     "text": [
      "{'D', '\"', 'J', 'W', 'h', '8', '5', ',', 'i', 'N', 'u', 'G', 'L', 'M', 'A', 'I', '6', ')', '!', 'b', 'U', 'x', 'v', 'Q', 'S', '?', 'n', '-', 'f', 'a', 'c', 'j', 'X', ';', ']', 'V', 'z', \"'\", 'p', 'y', '\\n', 'o', 'e', 'r', 'g', ' ', 'H', 't', '(', 'q', 'F', 'T', 'E', 'm', 'Z', '1', 'B', '[', 'w', 'k', 'O', 's', 'd', 'K', 'R', '_', 'P', '.', ':', 'Y', 'C', '*', 'l'}"
     ]
    }
   ],
   "source": [
    "print(set(alice), end='')"
   ]
  },
  {
   "cell_type": "markdown",
   "metadata": {
    "id": "CQIZij8owziu"
   },
   "source": [
    "#### Tokenization <a class=\"anchor\" id=\"section_5_2_1\"></a>\n",
    "\n",
    "In computer science, lexical analysis, lexing or [tokenization](https://en.wikipedia.org/wiki/Lexical_analysis#Tokenization) is the process of converting a sequence of characters (such as in a computer program or web page) into a sequence of tokens (strings with an assigned and thus identified meaning). A program that performs lexical analysis may be termed a lexer, tokenizer, or scanner, although scanner is also a term for the first stage of a lexer."
   ]
  },
  {
   "cell_type": "code",
   "execution_count": 110,
   "metadata": {
    "colab": {
     "base_uri": "https://localhost:8080/"
    },
    "executionInfo": {
     "elapsed": 659,
     "status": "ok",
     "timestamp": 1613143823865,
     "user": {
      "displayName": "Darth Maul",
      "photoUrl": "https://lh3.googleusercontent.com/a-/AOh14Gh5xqmxd78KGBkmKiP4Zt50OzFOZWcHeKbnR3Gl=s64",
      "userId": "09460696119666831892"
     },
     "user_tz": -60
    },
    "id": "ZVFlU0RYwziv",
    "outputId": "5ce7ce9a-a7a4-4b29-dff1-58566c52865b"
   },
   "outputs": [
    {
     "data": {
      "text/plain": [
       "str"
      ]
     },
     "execution_count": 110,
     "metadata": {},
     "output_type": "execute_result"
    }
   ],
   "source": [
    "type(alice)"
   ]
  },
  {
   "cell_type": "code",
   "execution_count": 111,
   "metadata": {
    "colab": {
     "base_uri": "https://localhost:8080/"
    },
    "executionInfo": {
     "elapsed": 1984,
     "status": "ok",
     "timestamp": 1613144013564,
     "user": {
      "displayName": "Darth Maul",
      "photoUrl": "https://lh3.googleusercontent.com/a-/AOh14Gh5xqmxd78KGBkmKiP4Zt50OzFOZWcHeKbnR3Gl=s64",
      "userId": "09460696119666831892"
     },
     "user_tz": -60
    },
    "id": "GHTE5-itwziv",
    "outputId": "ed1a1f64-3872-4c24-b019-b4698edfb327"
   },
   "outputs": [
    {
     "name": "stderr",
     "output_type": "stream",
     "text": [
      "[nltk_data] Downloading package punkt to\n",
      "[nltk_data]     C:\\Users\\User\\AppData\\Roaming\\nltk_data...\n",
      "[nltk_data]   Package punkt is already up-to-date!\n"
     ]
    },
    {
     "name": "stdout",
     "output_type": "stream",
     "text": [
      "['[', 'Alice', \"'s\", 'Adventures', 'in', 'Wonderland', 'by', 'Lewis', 'Carroll', '1865', ']', 'CHAPTER', 'I', '.', 'Down', 'the', 'Rabbit-Hole', 'Alice', 'was', 'beginning', 'to', 'get', 'very', 'tired', 'of', 'sitting', 'by', 'her', 'sister', 'on', 'the', 'bank', ',', 'and', 'of', 'having', 'nothing', 'to', 'do', ':', 'once', 'or', 'twice', 'she', 'had', 'peeped', 'into', 'the', 'book', 'her', 'sister', 'was', 'reading', ',', 'but', 'it', 'had', 'no', 'pictures', 'or', 'conversations', 'in', 'it', ',', \"'and\", 'what', 'is', 'the', 'use', 'of', 'a', 'book', ',', \"'\", 'thought', 'Alice', \"'without\", 'pictures', 'or', 'conversation', '?', \"'\", 'So', 'she', 'was', 'considering', 'in', 'her', 'own', 'mind', '(', 'as', 'well', 'as', 'she', 'could', ',', 'for', 'the', 'hot', 'day', 'made', 'her', 'feel', 'very', 'sleepy', 'and', 'stupid', ')', ',', 'whether', 'the', 'pleasure', 'of', 'making', 'a', 'daisy-chain', 'would', 'be', 'worth', 'the', 'trouble', 'of', 'getting', 'up', 'and', 'picking', 'the', 'daisies', ',', 'when', 'suddenly', 'a', 'White', 'Rabbit', 'with', 'pink', 'eyes', 'ran', 'close', 'by', 'her', '.', 'There', 'was', 'nothing', 'so', 'VERY', 'remarkable', 'in', 'that', ';', 'nor', 'did', 'Alice', 'think', 'it', 'so', 'VERY', 'much', 'out', 'of', 'the', 'way', 'to', 'hear', 'the', 'Rabbit', 'say', 'to', 'itself', ',', \"'Oh\", 'dear', '!', 'Oh', 'dear', '!', 'I', 'shall', 'be', 'late', '!', \"'\", '(', 'when', 'she', 'thought', 'it', 'over', 'afterwards', ',', 'it', 'occurred', 'to', 'her', 'that', 'she', 'ought', 'to', 'have', 'wondered', 'at', 'this', ',', 'but', 'at', 'the', 'time', 'it', 'all', 'seemed', 'quite', 'natural', ')', ';', 'but', 'when', 'the', 'Rabbit', 'actually', 'TOOK', 'A', 'WATCH', 'OUT', 'OF', 'ITS', 'WAISTCOAT-POCKET', ',', 'and', 'looked', 'at', 'it', ',', 'and', 'then', 'hurried', 'on', ',', 'Alice', 'started', 'to', 'her', 'feet', ',', 'for', 'it', 'flashed', 'across', 'her', 'mind', 'that', 'she', 'had', 'never', 'before', 'seen', 'a', 'rabbit', 'with', 'either', 'a', 'waistcoat-pocket', ',', 'or', 'a', 'watch', 'to', 'take', 'out', 'of', 'it', ',', 'and', 'burning', 'with', 'curiosity', ',', 'she', 'ran', 'across', 'the', 'field', 'after', 'it', ',', 'and', 'fortunately', 'was', 'just', 'in', 'time', 'to', 'see', 'it', 'pop', 'down', 'a', 'large', 'rabbit-hole', 'under', 'the', 'hedge', '.', 'In', 'another', 'moment', 'down', 'went', 'Alice', 'after', 'it', ',', 'never', 'once', 'considering', 'how', 'in', 'the', 'world', 'she', 'was', 'to', 'get', 'out', 'again', '.', 'The', 'rabbit-hole', 'went', 'straight', 'on', 'like', 'a', 'tunnel', 'for', 'some', 'way', ',', 'and', 'then', 'dipped', 'suddenly', 'down', ',', 'so', 'suddenly', 'that', 'Alice', 'had', 'not', 'a', 'moment', 'to', 'think', 'about', 'stopping', 'herself', 'before', 'she', 'found', 'herself', 'falling', 'down', 'a', 'very', 'deep', 'well', '.', 'Either', 'the', 'well', 'was', 'very', 'deep', ',', 'or', 'she', 'fell', 'very', 'slowly', ',', 'for', 'she', 'had', 'plenty', 'of', 'time', 'as', 'she', 'went', 'down', 'to', 'look', 'about', 'her', 'and', 'to', 'wonder', 'what', 'was', 'going', 'to', 'happen', 'next', '.', 'First', ',', 'she', 'tried', 'to', 'look', 'down', 'and', 'make', 'out', 'what', 'she', 'was', 'coming', 'to', ',', 'but', 'it', 'was', 'too', 'dark', 'to', 'see', 'anything', ';', 'then', 'she', 'looked', 'at', 'the', 'sides', 'of', 'the', 'well', ',', 'and', 'noticed', 'that', 'they', 'were', 'filled', 'with', 'cupboards', 'and', 'book-shelves', ';', 'here', 'and', 'there', 'she', 'saw', 'maps', 'and', 'pictures', 'hung', 'upon', 'pegs', '.', 'She', 'took', 'down', 'a', 'jar', 'from', 'one', 'of', 'the', 'shelves', 'as', 'she', 'passed', ';', 'it', 'was', 'labelled', \"'ORANGE\", 'MARMALADE', \"'\", ',', 'but', 'to', 'her', 'great', 'disappointment', 'it', 'was', 'empty', ':', 'she', 'did', 'not', 'like', 'to', 'drop', 'the', 'jar', 'for', 'fear', 'of', 'killing', 'somebody', ',', 'so', 'managed', 'to', 'put', 'it', 'into', 'one', 'of', 'the', 'cupboards', 'as', 'she', 'fell', 'past', 'it', '.', \"'Well\", '!', \"'\", 'thought', 'Alice', 'to', 'herself', ',', \"'after\", 'such', 'a', 'fall', 'as', 'this', ',', 'I', 'shall', 'think', 'nothing', 'of', 'tumbling', 'down', 'stairs', '!', 'How', 'brave', 'they', \"'ll\", 'all', 'think', 'me', 'at', 'home', '!', 'Why', ',', 'I', 'would', \"n't\", 'say', 'anything', 'about', 'it', ',', 'even', 'if', 'I', 'fell', 'off', 'the', 'top', 'of', 'the', 'house', '!', \"'\", '(', 'Which', 'was', 'very', 'likely', 'true', '.', ')', 'Down', ',', 'down', ',', 'down', '.', 'Would', 'the', 'fall', 'NEVER', 'come', 'to', 'an', 'end', '!', \"'\", 'I', 'wonder', 'how', 'many', 'miles', 'I', \"'ve\", 'fallen', 'by', 'this', 'time', '?', \"'\", 'she', 'said', 'aloud', '.', \"'\", 'I', 'must', 'be', 'getting', 'somewhere', 'near', 'the', 'centre', 'of', 'the', 'earth', '.', 'Let', 'me', 'see', ':', 'that', 'would', 'be', 'four', 'thousand', 'miles', 'down', ',', 'I', 'think', '--', \"'\", '(', 'for', ',', 'you', 'see', ',', 'Alice', 'had', 'learnt', 'several', 'things', 'of', 'this', 'sort', 'in', 'her', 'lessons', 'in', 'the', 'schoolroom', ',', 'and', 'though', 'this', 'was', 'not', 'a', 'VERY', 'good', 'opportunity', 'for', 'showing', 'off', 'her', 'knowledge', ',', 'as', 'there', 'was', 'no', 'one', 'to', 'listen', 'to', 'her', ',', 'still', 'it', 'was', 'good', 'practice', 'to', 'say', 'it', 'over', ')', \"'\", '--', 'yes', ',', 'that', \"'s\", 'about', 'the', 'right', 'distance', '--', 'but', 'then', 'I', 'wonder', 'what', 'Latitude', 'or', 'Longitude', 'I', \"'ve\", 'got', 'to', '?', \"'\", '(', 'Alice', 'had', 'no', 'idea', 'what', 'Latitude', 'was', ',', 'or', 'Longitude', 'either', ',', 'but', 'thought', 'they', 'were', 'nice', 'grand', 'words', 'to', 'say', '.', ')', 'Presently', 'she', 'began', 'again', '.', \"'\", 'I', 'wonder', 'if', 'I', 'shall', 'fall', 'right', 'THROUGH', 'the', 'earth', '!', 'How', 'funny', 'it', \"'ll\", 'seem', 'to', 'come', 'out', 'among', 'the', 'people', 'that', 'walk', 'with', 'their', 'heads', 'downward', '!', 'The', 'Antipathies', ',', 'I', 'think', '--', \"'\", '(', 'she', 'was', 'rather', 'glad', 'there', 'WAS', 'no', 'one', 'listening', ',', 'this', 'time', ',', 'as', 'it', 'did', \"n't\", 'sound', 'at', 'all', 'the', 'right', 'word', ')', \"'\", '--', 'but', 'I', 'shall', 'have', 'to', 'ask', 'them', 'what', 'the', 'name', 'of', 'the', 'country', 'is', ',', 'you', 'know', '.', 'Please', ',', \"Ma'am\", ',', 'is', 'this', 'New', 'Zealand', 'or', 'Australia', '?', \"'\", '(', 'and', 'she', 'tried', 'to', 'curtsey', 'as', 'she', 'spoke', '--', 'fancy', 'CURTSEYING', 'as', 'you', \"'re\", 'falling', 'through', 'the', 'air', '!', 'Do', 'you', 'think', 'you', 'could', 'manage', 'it', '?', ')', \"'And\", 'what', 'an', 'ignorant', 'little', 'girl', 'she', \"'ll\", 'think', 'me', 'for', 'asking', '!', 'No', ',', 'it', \"'ll\", 'never', 'do', 'to', 'ask', ':', 'perhaps', 'I', 'shall', 'see', 'it', 'written', 'up', 'somewhere', '.', \"'\", 'Down', ',', 'down', ',', 'down', '.', 'There', 'was', 'nothing', 'else', 'to', 'do', ',', 'so', 'Alice', 'soon', 'began', 'talking', 'again', '.', \"'Dinah\", \"'ll\", 'miss', 'me', 'very', 'much', 'to-night', ',', 'I', 'should', 'think', '!', \"'\", '(', 'Dinah', 'was', 'the', 'cat', '.', ')', \"'\", 'I', 'hope', 'they', \"'ll\", 'remember', 'her', 'saucer', 'of', 'milk', 'at', 'tea-time', '.', 'Dinah', 'my', 'dear', '!', 'I', 'wish', 'you', 'were', 'down', 'here', 'with', 'me', '!', 'There', 'are', 'no', 'mice', 'in', 'the', 'air', ',', 'I', \"'m\", 'afraid', ',', 'but', 'you', 'might', 'catch', 'a', 'bat', ',', 'and', 'that', \"'s\", 'very', 'like', 'a', 'mouse', ',', 'you', 'know', '.', 'But', 'do', 'cats', 'eat', 'bats', ',', 'I', 'wonder', '?', \"'\", 'And', 'here', 'Alice', 'began', 'to', 'get', 'rather', 'sleepy', ',', 'and', 'went', 'on', 'saying', 'to', 'herself', ',', 'in', 'a', 'dreamy', 'sort', 'of', 'way', ',', \"'Do\", 'cats', 'eat', 'bats', '?', 'Do', 'cats', 'eat', 'bats', '?', \"'\", 'and', 'sometimes', ',', \"'Do\", 'bats', 'eat', 'cats', '?', \"'\", 'for', ',', 'you', 'see', ',', 'as', 'she', 'could', \"n't\", 'answer', 'either', 'question', ',', 'it', 'did', \"n't\", 'much', 'matter', 'which', 'way', 'she', 'put', 'it', '.', 'She', 'felt', 'that', 'she', 'was', 'dozing', 'off', ',', 'and', 'had', 'just', 'begun', 'to', 'dream', 'that', 'she', 'was', 'walking', 'hand', 'in', 'hand', 'with', 'Dinah', ',', 'and', 'saying', 'to', 'her', 'very', 'earnestly', ',', \"'Now\", ',', 'Dinah', ',', 'tell', 'me', 'the', 'truth', ':', 'did', 'you', 'ever', 'eat', 'a', 'bat', '?', \"'\", 'when', 'suddenly', ',', 'thump', '!', 'thump', '!', 'down', 'she', 'came', 'upon', 'a', 'heap', 'of', 'sticks', 'and', 'dry', 'leaves', ',', 'and', 'the', 'fall', 'was', 'over', '.', 'Alice', 'was', 'not', 'a', 'bit', 'hurt', ',', 'and', 'she', 'jumped', 'up', 'on', 'to', 'her', 'feet', 'in', 'a', 'moment', ':', 'she', 'looked', 'up', ',', 'but', 'it', 'was', 'all', 'dark', 'overhead', ';', 'before', 'her', 'was', 'another', 'long', 'passage', ',', 'and', 'the', 'White', 'Rabbit', 'was', 'still', 'in', 'sight', ',', 'hurrying', 'down', 'it', '.', 'There', 'was', 'not', 'a', 'moment', 'to', 'be', 'lost', ':', 'away', 'went', 'Alice', 'like', 'the', 'wind', ',', 'and', 'was', 'just', 'in', 'time', 'to', 'hear', 'it', 'say', ',', 'as', 'it', 'turned', 'a', 'corner', ',', \"'Oh\", 'my', 'ears', 'and', 'whiskers', ',', 'how', 'late', 'it', \"'s\", 'getting', '!', \"'\", 'She', 'was', 'close', 'behind', 'it', 'when', 'she', 'turned', 'the', 'corner', ',', 'but', 'the', 'Rabbit', 'was', 'no', 'longer', 'to', 'be', 'seen', ':', 'she', 'found', 'herself', 'in', 'a', 'long', ',', 'low', 'hall', ',', 'which', 'was', 'lit', 'up', 'by', 'a', 'row', 'of', 'lamps', 'hanging', 'from', 'the', 'roof', '.', 'There', 'were', 'doors', 'all', 'round', 'the', 'hall', ',', 'but', 'they', 'were', 'all', 'locked', ';', 'and', 'when', 'Alice', 'had', 'been', 'all', 'the', 'way', 'down', 'one', 'side', 'and', 'up', 'the', 'other', ',', 'trying', 'every', 'door', ',', 'she', 'walked', 'sadly', 'down', 'the', 'middle', ',', 'wondering', 'how', 'she', 'was', 'ever', 'to', 'get', 'out', 'again', '.', 'Suddenly', 'she', 'came', 'upon', 'a', 'little', 'three-legged', 'table', ',', 'all', 'made', 'of', 'solid', 'glass', ';', 'there', 'was', 'nothing', 'on', 'it', 'except', 'a', 'tiny', 'golden', 'key', ',', 'and', \"Alice's\", 'first', 'thought', 'was', 'that', 'it', 'might', 'belong', 'to', 'one', 'of', 'the', 'doors', 'of', 'the', 'hall', ';', 'but', ',', 'alas', '!', 'either', 'the', 'locks', 'were', 'too', 'large', ',', 'or', 'the', 'key', 'was', 'too', 'small', ',', 'but', 'at', 'any', 'rate', 'it', 'would', 'not', 'open', 'any', 'of', 'them', '.', 'However', ',', 'on', 'the', 'second', 'time', 'round', ',', 'she', 'came', 'upon', 'a', 'low', 'curtain', 'she', 'had', 'not', 'noticed', 'before', ',', 'and', 'behind', 'it', 'was', 'a', 'little', 'door', 'about', 'fifteen', 'inches', 'high', ':', 'she', 'tried', 'the', 'little', 'golden', 'key', 'in', 'the', 'lock', ',', 'and', 'to', 'her', 'great', 'delight', 'it', 'fitted', '!', 'Alice', 'opened', 'the', 'door', 'and', 'found', 'that', 'it', 'led', 'into', 'a', 'small', 'passage', ',', 'not', 'much', 'larger', 'than', 'a', 'rat-hole', ':', 'she', 'knelt', 'down', 'and', 'looked', 'along', 'the', 'passage', 'into', 'the', 'loveliest', 'garden', 'you', 'ever', 'saw', '.', 'How', 'she', 'longed', 'to', 'get', 'out', 'of', 'that', 'dark', 'hall', ',', 'and', 'wander', 'about', 'among', 'those', 'beds', 'of', 'bright', 'flowers', 'and', 'those', 'cool', 'fountains', ',', 'but', 'she', 'could', 'not', 'even', 'get', 'her', 'head', 'through', 'the', 'doorway', ';', \"'and\", 'even', 'if', 'my', 'head', 'would', 'go', 'through', ',', \"'\", 'thought', 'poor', 'Alice', ',', \"'it\", 'would', 'be', 'of', 'very', 'little', 'use', 'without', 'my', 'shoulders', '.', 'Oh', ',', 'how', 'I', 'wish', 'I', 'could', 'shut', 'up', 'like', 'a', 'telescope', '!', 'I', 'think', 'I', 'could', ',', 'if', 'I', 'only', 'know', 'how', 'to', 'begin', '.', \"'\", 'For', ',', 'you', 'see', ',', 'so', 'many', 'out-of-the-way', 'things', 'had', 'happened', 'lately', ',', 'that', 'Alice', 'had', 'begun', 'to', 'think', 'that', 'very', 'few', 'things', 'indeed', 'were', 'really', 'impossible', '.', 'There', 'seemed', 'to', 'be', 'no', 'use', 'in', 'waiting', 'by', 'the', 'little', 'door', ',', 'so', 'she', 'went', 'back', 'to', 'the', 'table', ',', 'half', 'hoping', 'she', 'might', 'find', 'another', 'key', 'on', 'it', ',', 'or', 'at', 'any', 'rate', 'a', 'book', 'of', 'rules', 'for', 'shutting', 'people', 'up', 'like', 'telescopes', ':', 'this', 'time', 'she', 'found', 'a', 'little', 'bottle', 'on', 'it', ',', '(', \"'which\", 'certainly', 'was', 'not', 'here', 'before', ',', \"'\", 'said', 'Alice', ',', ')', 'and', 'round', 'the', 'neck', 'of', 'the', 'bottle', 'was', 'a', 'paper', 'label', ',', 'with', 'the', 'words', \"'DRINK\", 'ME', \"'\", 'beautifully', 'printed', 'on', 'it', 'in', 'large', 'letters', '.', 'It', 'was', 'all', 'very', 'well', 'to', 'say', \"'Drink\", 'me', ',', \"'\", 'but', 'the', 'wise', 'little', 'Alice', 'was', 'not', 'going', 'to', 'do', 'THAT', 'in', 'a', 'hurry', '.', \"'No\", ',', 'I', \"'ll\", 'look', 'first', ',', \"'\", 'she', 'said', ',', \"'and\", 'see', 'whether', 'it', \"'s\", 'marked', '``', 'poison', \"''\", 'or', 'not', \"'\", ';', 'for', 'she', 'had', 'read', 'several', 'nice', 'little', 'histories', 'about', 'children', 'who', 'had', 'got', 'burnt', ',', 'and', 'eaten', 'up', 'by', 'wild', 'beasts', 'and', 'other', 'unpleasant', 'things', ',', 'all', 'because', 'they', 'WOULD', 'not', 'remember', 'the', 'simple', 'rules', 'their', 'friends', 'had', 'taught', 'them', ':', 'such', 'as', ',', 'that', 'a', 'red-hot', 'poker', 'will', 'burn', 'you', 'if', 'you', 'hold', 'it', 'too', 'long', ';', 'and', 'that', 'if', 'you', 'cut', 'your', 'finger', 'VERY', 'deeply', 'with', 'a', 'knife', ',', 'it', 'usually', 'bleeds', ';', 'and', 'she', 'had', 'never', 'forgotten', 'that', ',', 'if', 'you', 'drink', 'much', 'from', 'a', 'bottle', 'marked', \"'poison\", ',', \"'\", 'it', 'is', 'almost', 'certain', 'to', 'disagree', 'with', 'you', ',', 'sooner', 'or', 'later', '.', 'However', ',', 'this', 'bottle', 'was', 'NOT', 'marked', \"'poison\", ',', \"'\", 'so', 'Alice', 'ventured', 'to', 'taste', 'it', ',', 'and', 'finding', 'it', 'very', 'nice', ',', '(', 'it', 'had', ',', 'in', 'fact', ',', 'a', 'sort', 'of', 'mixed', 'flavour', 'of', 'cherry-tart', ',', 'custard', ',', 'pine-apple', ',', 'roast', 'turkey', ',', 'toffee', ',', 'and', 'hot', 'buttered', 'toast', ',', ')', 'she', 'very', 'soon', 'finished', 'it', 'off', '.', '*', '*', '*', '*', '*', '*', '*', '*', '*', '*', '*', '*', '*', '*', '*', '*', '*', '*', '*', '*', \"'What\", 'a', 'curious', 'feeling', '!', \"'\", 'said', 'Alice', ';', \"'\", 'I', 'must', 'be', 'shutting', 'up', 'like', 'a', 'telescope', '.', \"'\", 'And', 'so', 'it', 'was', 'indeed', ':', 'she', 'was', 'now', 'only', 'ten', 'inches', 'high', ',', 'and', 'her', 'face', 'brightened', 'up', 'at', 'the', 'thought', 'that', 'she', 'was', 'now', 'the', 'right', 'size', 'for', 'going', 'through', 'the', 'little', 'door', 'into', 'that', 'lovely', 'garden', '.', 'First', ',', 'however', ',', 'she', 'waited', 'for', 'a', 'few', 'minutes', 'to', 'see', 'if', 'she', 'was', 'going', 'to', 'shrink', 'any', 'further', ':', 'she', 'felt', 'a', 'little', 'nervous', 'about', 'this', ';', \"'for\", 'it', 'might', 'end', ',', 'you', 'know', ',', \"'\", 'said', 'Alice', 'to', 'herself', ',', \"'in\", 'my', 'going', 'out', 'altogether', ',', 'like', 'a', 'candle', '.', 'I', 'wonder', 'what', 'I', 'should', 'be', 'like', 'then', '?', \"'\", 'And', 'she', 'tried', 'to', 'fancy', 'what', 'the', 'flame', 'of', 'a', 'candle', 'is', 'like', 'after', 'the', 'candle', 'is', 'blown', 'out', ',', 'for', 'she', 'could', 'not', 'remember', 'ever', 'having', 'seen', 'such', 'a', 'thing', '.', 'After', 'a', 'while', ',', 'finding', 'that', 'nothing', 'more', 'happened', ',', 'she', 'decided', 'on', 'going', 'into', 'the', 'garden', 'at', 'once', ';', 'but', ',', 'alas', 'for', 'poor', 'Alice', '!', 'when', 'she', 'got', 'to', 'the', 'door', ',', 'she', 'found', 'she', 'had', 'forgotten', 'the', 'little', 'golden', 'key', ',', 'and', 'when', 'she', 'went', 'back', 'to', 'the', 'table', 'for', 'it', ',', 'she', 'found', 'she', 'could', 'not', 'possibly', 'reach', 'it', ':', 'she', 'could', 'see', 'it', 'quite', 'plainly', 'through', 'the', 'glass', ',', 'and', 'she', 'tried', 'her', 'best', 'to', 'climb', 'up', 'one', 'of', 'the', 'legs', 'of', 'the', 'table', ',', 'but', 'it', 'was', 'too', 'slippery', ';', 'and', 'when', 'she', 'had', 'tired', 'herself', 'out', 'with', 'trying', ',', 'the', 'poor', 'little', 'thing', 'sat', 'down', 'and', 'cried', '.', \"'Come\", ',', 'there', \"'s\", 'no', 'use', 'in', 'crying', 'like', 'that', '!', \"'\", 'said', 'Alice', 'to', 'herself', ',', 'rather', 'sharply', ';', \"'\", 'I', 'advise', 'you', 'to', 'leave', 'off', 'this', 'minute', '!', \"'\", 'She', 'generally', 'gave', 'herself', 'very', 'good', 'advice', ',', '(', 'though', 'she', 'very', 'seldom', 'followed', 'it', ')', ',', 'and', 'sometimes', 'she', 'scolded', 'herself', 'so', 'severely', 'as', 'to', 'bring', 'tears', 'into', 'her', 'eyes', ';', 'and', 'once', 'she', 'remembered', 'trying', 'to', 'box', 'her', 'own', 'ears', 'for', 'having', 'cheated', 'herself', 'in', 'a', 'game', 'of', 'croquet', 'she', 'was', 'playing', 'against', 'herself', ',', 'for', 'this', 'curious', 'child', 'was', 'very', 'fond', 'of', 'pretending', 'to', 'be', 'two', 'people', '.', \"'But\", 'it', \"'s\", 'no', 'use', 'now', ',', \"'\", 'thought', 'poor', 'Alice', ',', \"'to\", 'pretend', 'to', 'be', 'two', 'people', '!', 'Why', ',', 'there', \"'s\", 'hardly', 'enough', 'of', 'me', 'left', 'to', 'make', 'ONE', 'respectable', 'person', '!', \"'\", 'Soon', 'her', 'eye', 'fell', 'on', 'a', 'little', 'glass', 'box', 'that', 'was', 'lying', 'under', 'the', 'table', ':', 'she', 'opened', 'it', ',', 'and', 'found', 'in', 'it', 'a', 'very', 'small', 'cake', ',', 'on', 'which', 'the', 'words', \"'EAT\", 'ME', \"'\", 'were', 'beautifully', 'marked', 'in', 'currants', '.', \"'Well\", ',', 'I', \"'ll\", 'eat', 'it', ',', \"'\", 'said', 'Alice', ',', \"'and\", 'if', 'it', 'makes', 'me', 'grow', 'larger', ',', 'I', 'can', 'reach', 'the', 'key', ';', 'and', 'if', 'it', 'makes', 'me', 'grow', 'smaller', ',', 'I', 'can', 'creep', 'under', 'the', 'door', ';', 'so', 'either', 'way', \"I'll\", 'get', 'into', 'the', 'garden', ',', 'and', 'I', 'do', \"n't\", 'care', 'which', 'happens', '!', \"'\", 'She', 'ate', 'a', 'little', 'bit', ',', 'and', 'said', 'anxiously', 'to', 'herself', ',', \"'Which\", 'way', '?', 'Which', 'way', '?', \"'\", ',', 'holding', 'her', 'hand', 'on', 'the', 'top', 'of', 'her', 'head', 'to', 'feel', 'which', 'way', 'it', 'was', 'growing', ',', 'and', 'she', 'was', 'quite', 'surprised', 'to', 'find', 'that', 'she', 'remained', 'the', 'same', 'size', ':', 'to', 'be', 'sure', ',', 'this', 'generally', 'happens', 'when', 'one', 'eats', 'cake', ',', 'but', 'Alice', 'had', 'got', 'so', 'much', 'into', 'the', 'way', 'of', 'expecting', 'nothing', 'but', 'out-of-the-way', 'things', 'to', 'happen', ',', 'that', 'it', 'seemed', 'quite', 'dull', 'and', 'stupid', 'for', 'life', 'to', 'go', 'on', 'in', 'the', 'common', 'way', '.', 'So', 'she', 'set', 'to', 'work', ',', 'and', 'very', 'soon', 'finished', 'off', 'the', 'cake', '.', '*', '*', '*', '*', '*', '*', '*', '*', '*', '*', '*', '*', '*', '*', '*', '*', '*', '*', '*', '*', 'CHAPTER', 'II', '.', 'The', 'Pool', 'of', 'Tears', \"'Curiouser\", 'and', 'curiouser', '!', \"'\", 'cried', 'Alice', '(', 'she', 'was', 'so', 'much', 'surprised', ',', 'that', 'for', 'the', 'moment', 'she', 'quite', 'forgot', 'how', 'to', 'speak', 'good', 'English', ')', ';', \"'now\", \"I'm\", 'opening', 'out', 'like', 'the', 'largest', 'telescope', 'that', 'ever', 'was', '!', 'Good-bye', ',', 'feet', '!', \"'\", '(', 'for', 'when', 'she', 'looked', 'down', 'at', 'her', 'feet', ',', 'they', 'seemed', 'to', 'be', 'almost', 'out', 'of', 'sight', ',', 'they', 'were', 'getting', 'so', 'far', 'off', ')', '.', \"'Oh\", ',', 'my', 'poor', 'little', 'feet', ',', 'I', 'wonder', 'who', 'will', 'put', 'on', 'your', 'shoes', 'and', 'stockings', 'for', 'you', 'now', ',', 'dears', '?', 'I', \"'m\", 'sure', '_I_', 'sha', \"n't\", 'be', 'able', '!', 'I', 'shall', 'be', 'a', 'great', 'deal', 'too', 'far', 'off', 'to', 'trouble', 'myself', 'about', 'you', ':', 'you', 'must', 'manage', 'the', 'best', 'way', 'you', 'can', ';', '--', 'but', 'I', 'must', 'be', 'kind', 'to', 'them', ',', \"'\", 'thought', 'Alice', ',', \"'or\", 'perhaps', 'they', 'wo', \"n't\", 'walk', 'the', 'way', 'I', 'want', 'to', 'go', '!', 'Let', 'me', 'see', ':', 'I', \"'ll\", 'give', 'them', 'a', 'new', 'pair', 'of', 'boots', 'every', 'Christmas', '.', \"'\", 'And', 'she', 'went', 'on', 'planning', 'to', 'herself', 'how', 'she', 'would', 'manage', 'it', '.', \"'They\", 'must', 'go', 'by', 'the', 'carrier', ',', \"'\", 'she', 'thought', ';', \"'and\", 'how', 'funny', 'it', \"'ll\", 'seem', ',', 'sending', 'presents', 'to', 'one', \"'s\", 'own', 'feet', '!', 'And', 'how', 'odd', 'the', 'directions', 'will', 'look', '!', 'ALICE', \"'S\", 'RIGHT', 'FOOT', ',', 'ESQ', '.', 'HEARTHRUG', ',', 'NEAR', 'THE', 'FENDER', ',', '(', 'WITH', 'ALICE', \"'S\", 'LOVE', ')', '.', 'Oh', 'dear', ',', 'what', 'nonsense', 'I', \"'m\", 'talking', '!', \"'\", 'Just', 'then', 'her', 'head', 'struck', 'against', 'the', 'roof', 'of', 'the', 'hall', ':', 'in', 'fact', 'she', 'was', 'now', 'more', 'than', 'nine', 'feet', 'high', ',', 'and', 'she', 'at', 'once', 'took', 'up', 'the', 'little', 'golden', 'key', 'and', 'hurried', 'off', 'to', 'the', 'garden', 'door', '.', 'Poor', 'Alice', '!', 'It', 'was', 'as', 'much', 'as', 'she', 'could', 'do', ',', 'lying', 'down', 'on', 'one', 'side', ',', 'to', 'look', 'through', 'into', 'the', 'garden', 'with', 'one', 'eye', ';', 'but', 'to', 'get', 'through', 'was', 'more', 'hopeless', 'than', 'ever', ':', 'she', 'sat', 'down', 'and', 'began', 'to', 'cry', 'again', '.', \"'You\", 'ought', 'to', 'be', 'ashamed', 'of', 'yourself', ',', \"'\", 'said', 'Alice', ',', \"'\", 'a', 'great', 'girl', 'like', 'you', ',', \"'\", '(', 'she', 'might', 'well', 'say', 'this', ')', ',', \"'to\", 'go', 'on', 'crying', 'in', 'this', 'way', '!', 'Stop', 'this', 'moment', ',', 'I', 'tell', 'you', '!', \"'\", 'But', 'she', 'went', 'on', 'all', 'the', 'same', ',', 'shedding', 'gallons', 'of', 'tears', ',', 'until', 'there', 'was', 'a', 'large', 'pool', 'all', 'round', 'her', ',', 'about', 'four', 'inches', 'deep', 'and', 'reaching', 'half', 'down', 'the', 'hall', '.', 'After', 'a', 'time', 'she', 'heard', 'a', 'little', 'pattering', 'of', 'feet', 'in', 'the', 'distance', ',', 'and', 'she', 'hastily', 'dried', 'her', 'eyes', 'to', 'see', 'what', 'was', 'coming', '.', 'It', 'was', 'the', 'White', 'Rabbit', 'returning', ',', 'splendidly', 'dressed', ',', 'with', 'a', 'pair', 'of', 'white', 'kid', 'gloves', 'in', 'one', 'hand', 'and', 'a', 'large', 'fan', 'in', 'the', 'other', ':', 'he', 'came', 'trotting', 'along', 'in', 'a', 'great', 'hurry', ',', 'muttering', 'to', 'himself', 'as', 'he', 'came', ',', \"'Oh\", '!', 'the', 'Duchess', ',', 'the', 'Duchess', '!', 'Oh', '!', 'wo', \"n't\", 'she', 'be', 'savage', 'if', 'I', \"'ve\", 'kept', 'her', 'waiting', '!', \"'\", 'Alice', 'felt', 'so', 'desperate', 'that', 'she', 'was', 'ready', 'to', 'ask', 'help', 'of', 'any', 'one', ';', 'so', ',', 'when', 'the', 'Rabbit', 'came', 'near', 'her', ',', 'she', 'began', ',', 'in', 'a', 'low', ',', 'timid', 'voice', ',', \"'If\", 'you', 'please', ',', 'sir', '--', \"'\", 'The', 'Rabbit', 'started', 'violently', ',', 'dropped', 'the', 'white', 'kid', 'gloves', 'and', 'the', 'fan', ',', 'and', 'skurried', 'away', 'into', 'the', 'darkness', 'as', 'hard', 'as', 'he', 'could', 'go', '.', 'Alice', 'took', 'up', 'the', 'fan', 'and', 'gloves', ',', 'and', ',', 'as', 'the', 'hall', 'was', 'very', 'hot', ',', 'she', 'kept', 'fanning', 'herself', 'all', 'the', 'time', 'she', 'went', 'on', 'talking', ':', \"'Dear\", ',', 'dear', '!', 'How', 'queer', 'everything', 'is', 'to-day', '!', 'And', 'yesterday', 'things', 'went', 'on', 'just', 'as', 'usual', '.', 'I', 'wonder', 'if', 'I', \"'ve\", 'been', 'changed', 'in', 'the', 'night', '?', 'Let', 'me', 'think', ':', 'was', 'I', 'the', 'same', 'when', 'I', 'got', 'up', 'this', 'morning', '?', 'I', 'almost', 'think', 'I', 'can', 'remember', 'feeling', 'a', 'little', 'different', '.', 'But', 'if', 'I', \"'m\", 'not', 'the', 'same', ',', 'the', 'next', 'question', 'is', ',', 'Who', 'in', 'the', 'world', 'am', 'I', '?', 'Ah', ',', 'THAT', \"'S\", 'the', 'great', 'puzzle', '!', \"'\", 'And', 'she', 'began', 'thinking', 'over', 'all', 'the', 'children', 'she', 'knew', 'that', 'were', 'of', 'the', 'same', 'age', 'as', 'herself', ',', 'to', 'see', 'if', 'she', 'could', 'have', 'been', 'changed', 'for', 'any', 'of', 'them', '.', \"'\", 'I', \"'m\", 'sure', 'I', \"'m\", 'not', 'Ada', ',', \"'\", 'she', 'said', ',', \"'for\", 'her', 'hair', 'goes', 'in', 'such', 'long', 'ringlets', ',', 'and', 'mine', 'does', \"n't\", 'go', 'in', 'ringlets', 'at', 'all', ';', 'and', 'I', \"'m\", 'sure', 'I', \"can't\", 'be', 'Mabel', ',', 'for', 'I', 'know', 'all', 'sorts', 'of', 'things', ',', 'and', 'she', ',', 'oh', '!', 'she', 'knows', 'such', 'a', 'very', 'little', '!', 'Besides', ',', 'SHE', \"'S\", 'she', ',', 'and', 'I', \"'m\", 'I', ',', 'and', '--', 'oh', 'dear', ',', 'how', 'puzzling', 'it', 'all', 'is', '!', 'I', \"'ll\", 'try', 'if', 'I', 'know', 'all', 'the', 'things', 'I', 'used', 'to', 'know', '.', 'Let', 'me', 'see', ':', 'four', 'times', 'five', 'is', 'twelve', ',', 'and', 'four', 'times', 'six', 'is', 'thirteen', ',', 'and', 'four', 'times', 'seven', 'is', '--', 'oh', 'dear', '!', 'I', 'shall', 'never', 'get', 'to', 'twenty', 'at', 'that', 'rate', '!', 'However', ',', 'the', 'Multiplication', 'Table', 'does', \"n't\", 'signify', ':', 'let', \"'s\", 'try', 'Geography', '.', 'London', 'is', 'the', 'capital', 'of', 'Paris', ',', 'and', 'Paris', 'is', 'the', 'capital', 'of', 'Rome', ',', 'and', 'Rome', '--', 'no', ',', 'THAT', \"'S\", 'all', 'wrong', ',', 'I', \"'m\", 'certain', '!', 'I', 'must', 'have', 'been', 'changed', 'for', 'Mabel', '!', 'I', \"'ll\", 'try', 'and', 'say', '``', 'How', 'doth', 'the', 'little', '--', \"''\", \"'\", 'and', 'she', 'crossed', 'her', 'hands', 'on', 'her', 'lap', 'as', 'if', 'she', 'were', 'saying', 'lessons', ',', 'and', 'began', 'to', 'repeat', 'it', ',', 'but', 'her', 'voice', 'sounded', 'hoarse', 'and', 'strange', ',', 'and', 'the', 'words', 'did', 'not', 'come', 'the', 'same', 'as', 'they', 'used', 'to', 'do', ':', '--', \"'How\", 'doth', 'the', 'little', 'crocodile', 'Improve', 'his', 'shining', 'tail', ',', 'And', 'pour', 'the', 'waters', 'of', 'the', 'Nile', 'On', 'every', 'golden', 'scale', '!', \"'How\", 'cheerfully', 'he', 'seems', 'to', 'grin', ',', 'How', 'neatly', 'spread', 'his', 'claws', ',', 'And', 'welcome', 'little', 'fishes', 'in', 'With', 'gently', 'smiling', 'jaws', '!', \"'\", \"'\", 'I', \"'m\", 'sure', 'those', 'are', 'not', 'the', 'right', 'words', ',', \"'\", 'said', 'poor', 'Alice', ',', 'and', 'her', 'eyes', 'filled', 'with', 'tears', 'again', 'as', 'she', 'went', 'on', ',', \"'\", 'I', 'must', 'be', 'Mabel', 'after', 'all', ',', 'and', 'I', 'shall', 'have', 'to', 'go', 'and', 'live', 'in', 'that', 'poky', 'little', 'house', ',', 'and', 'have', 'next', 'to', 'no', 'toys', 'to', 'play', 'with', ',', 'and', 'oh', '!', 'ever', 'so', 'many', 'lessons', 'to', 'learn', '!', 'No', ',', \"I've\", 'made', 'up', 'my', 'mind', 'about', 'it', ';', 'if', 'I', \"'m\", 'Mabel', ',', 'I', \"'ll\", 'stay', 'down', 'here', '!', 'It', \"'ll\", 'be', 'no', 'use', 'their', 'putting', 'their', 'heads', 'down', 'and', 'saying', '``', 'Come', 'up', 'again', ',', 'dear', '!', \"''\", 'I', 'shall', 'only', 'look', 'up', 'and', 'say', '``', 'Who', 'am', 'I', 'then', '?', 'Tell', 'me', 'that', 'first', ',', 'and', 'then', ',', 'if', 'I', 'like', 'being', 'that', 'person', ',', 'I', \"'ll\", 'come', 'up', ':', 'if', 'not', ',', 'I', \"'ll\", 'stay', 'down', 'here', 'till', 'I', \"'m\", 'somebody', 'else', \"''\", '--', 'but', ',', 'oh', 'dear', '!', \"'\", 'cried', 'Alice', ',', 'with', 'a', 'sudden', 'burst', 'of', 'tears', ',', \"'\", 'I', 'do', 'wish', 'they', 'WOULD', 'put', 'their', 'heads', 'down', '!', 'I', 'am', 'so', 'VERY', 'tired', 'of', 'being', 'all', 'alone', 'here', '!', \"'\", 'As', 'she', 'said', 'this', 'she', 'looked', 'down', 'at', 'her', 'hands', ',', 'and', 'was', 'surprised', 'to', 'see', 'that', 'she', 'had', 'put', 'on', 'one', 'of', 'the', 'Rabbit', \"'s\", 'little', 'white', 'kid', 'gloves', 'while', 'she', 'was', 'talking', '.', \"'How\", 'CAN', 'I', 'have', 'done', 'that', '?', \"'\", 'she', 'thought', '.', \"'\", 'I', 'must', 'be', 'growing', 'small', 'again', '.', \"'\", 'She', 'got', 'up', 'and', 'went', 'to', 'the', 'table', 'to', 'measure', 'herself', 'by', 'it', ',', 'and', 'found', 'that', ',', 'as', 'nearly', 'as', 'she', 'could', 'guess', ',', 'she', 'was', 'now', 'about', 'two', 'feet', 'high', ',', 'and', 'was', 'going', 'on', 'shrinking', 'rapidly', ':', 'she', 'soon', 'found', 'out', 'that', 'the', 'cause', 'of', 'this', 'was', 'the', 'fan', 'she', 'was', 'holding', ',', 'and', 'she', 'dropped', 'it', 'hastily', ',', 'just', 'in', 'time', 'to', 'avoid', 'shrinking', 'away', 'altogether', '.', \"'That\", 'WAS', 'a', 'narrow', 'escape', '!', \"'\", 'said', 'Alice', ',', 'a', 'good', 'deal', 'frightened', 'at', 'the', 'sudden', 'change', ',', 'but', 'very', 'glad', 'to', 'find', 'herself', 'still', 'in', 'existence', ';', \"'and\", 'now', 'for', 'the', 'garden', '!', \"'\", 'and', 'she', 'ran', 'with', 'all', 'speed', 'back', 'to', 'the', 'little', 'door', ':', 'but', ',', 'alas', '!', 'the', 'little', 'door', 'was', 'shut', 'again', ',', 'and', 'the', 'little', 'golden', 'key', 'was', 'lying', 'on', 'the', 'glass', 'table', 'as', 'before', ',', \"'and\", 'things', 'are', 'worse', 'than', 'ever', ',', \"'\", 'thought', 'the', 'poor', 'child', ',', \"'for\", 'I', 'never', 'was', 'so', 'small', 'as', 'this', 'before', ',', 'never', '!', 'And', 'I', 'declare', 'it', \"'s\", 'too', 'bad', ',', 'that', 'it', 'is', '!', \"'\", 'As', 'she', 'said', 'these', 'words', 'her', 'foot', 'slipped', ',', 'and', 'in', 'another', 'moment', ',', 'splash', '!', 'she', 'was', 'up', 'to', 'her', 'chin', 'in', 'salt', 'water', '.', 'Her', 'first', 'idea', 'was', 'that', 'she', 'had', 'somehow', 'fallen', 'into', 'the', 'sea', ',', \"'and\", 'in', 'that', 'case', 'I', 'can', 'go', 'back', 'by', 'railway', ',', \"'\", 'she', 'said', 'to', 'herself', '.', '(', 'Alice', 'had', 'been', 'to', 'the', 'seaside', 'once', 'in', 'her', 'life', ',', 'and', 'had', 'come', 'to', 'the', 'general', 'conclusion', ',', 'that', 'wherever', 'you', 'go', 'to', 'on', 'the', 'English', 'coast', 'you', 'find', 'a', 'number', 'of', 'bathing', 'machines', 'in', 'the', 'sea', ',', 'some', 'children', 'digging', 'in', 'the', 'sand', 'with', 'wooden', 'spades', ',', 'then', 'a', 'row', 'of', 'lodging', 'houses', ',', 'and', 'behind', 'them', 'a', 'railway', 'station', '.', ')', 'However', ',', 'she', 'soon', 'made', 'out', 'that', 'she', 'was', 'in', 'the', 'pool', 'of', 'tears', 'which', 'she', 'had', 'wept', 'when', 'she', 'was', 'nine', 'feet', 'high', '.', \"'\", 'I', 'wish', 'I', 'had', \"n't\", 'cried', 'so', 'much', '!', \"'\", 'said', 'Alice', ',', 'as', 'she', 'swam', 'about', ',', 'trying', 'to', 'find', 'her', 'way', 'out', '.', \"'\", 'I', 'shall', 'be', 'punished', 'for', 'it', 'now', ',', 'I', 'suppose', ',', 'by', 'being', 'drowned', 'in', 'my', 'own', 'tears', '!', 'That', 'WILL', 'be', 'a', 'queer', 'thing', ',', 'to', 'be', 'sure', '!', 'However', ',', 'everything', 'is', 'queer', 'to-day', '.', \"'\", 'Just', 'then', 'she', 'heard', 'something', 'splashing', 'about', 'in', 'the', 'pool', 'a', 'little', 'way', 'off', ',', 'and', 'she', 'swam', 'nearer', 'to', 'make', 'out', 'what', 'it', 'was', ':', 'at', 'first', 'she', 'thought', 'it', 'must', 'be', 'a', 'walrus', 'or', 'hippopotamus', ',', 'but', 'then', 'she', 'remembered', 'how', 'small', 'she', 'was', 'now', ',', 'and', 'she', 'soon', 'made', 'out', 'that', 'it', 'was', 'only', 'a', 'mouse', 'that', 'had', 'slipped', 'in', 'like', 'herself', '.', \"'Would\", 'it', 'be', 'of', 'any', 'use', ',', 'now', ',', \"'\", 'thought', 'Alice', ',', \"'to\", 'speak', 'to', 'this', 'mouse', '?', 'Everything', 'is', 'so', 'out-of-the-way', 'down', 'here', ',', 'that', 'I', 'should', 'think', 'very', 'likely', 'it', 'can', 'talk', ':', 'at', 'any', 'rate', ',', 'there', \"'s\", 'no', 'harm', 'in', 'trying', '.', \"'\", 'So', 'she', 'began', ':', \"'\", 'O', 'Mouse', ',', 'do', 'you', 'know', 'the', 'way', 'out', 'of', 'this', 'pool', '?', 'I', 'am', 'very', 'tired', 'of', 'swimming', 'about', 'here', ',', 'O', 'Mouse', '!', \"'\", '(', 'Alice', 'thought', 'this', 'must', 'be', 'the', 'right', 'way', 'of', 'speaking', 'to', 'a', 'mouse', ':', 'she', 'had', 'never', 'done', 'such', 'a', 'thing', 'before', ',', 'but', 'she', 'remembered', 'having', 'seen', 'in', 'her', 'brother', \"'s\", 'Latin', 'Grammar', ',', \"'\", 'A', 'mouse', '--', 'of', 'a', 'mouse', '--', 'to', 'a', 'mouse', '--', 'a', 'mouse', '--', 'O', 'mouse', '!', \"'\", ')', 'The', 'Mouse', 'looked', 'at', 'her', 'rather', 'inquisitively', ',', 'and', 'seemed', 'to', 'her', 'to', 'wink', 'with', 'one', 'of', 'its', 'little', 'eyes', ',', 'but', 'it', 'said', 'nothing', '.', \"'Perhaps\", 'it', 'does', \"n't\", 'understand', 'English', ',', \"'\", 'thought', 'Alice', ';', \"'\", 'I', 'daresay', \"it's\", 'a', 'French', 'mouse', ',', 'come', 'over', 'with', 'William', 'the', 'Conqueror', '.', \"'\", '(', 'For', ',', 'with', 'all', 'her', 'knowledge', 'of', 'history', ',', 'Alice', 'had', 'no', 'very', 'clear', 'notion', 'how', 'long', 'ago', 'anything', 'had', 'happened', '.', ')', 'So', 'she', 'began', 'again', ':', \"'Ou\", 'est', 'ma', 'chatte', '?', \"'\", 'which', 'was', 'the', 'first', 'sentence', 'in', 'her', 'French', 'lesson-book', '.', 'The', 'Mouse', 'gave', 'a', 'sudden', 'leap', 'out', 'of', 'the', 'water', ',', 'and', 'seemed', 'to', 'quiver', 'all', 'over', 'with', 'fright', '.', \"'Oh\", ',', 'I', 'beg', 'your', 'pardon', '!', \"'\", 'cried', 'Alice', 'hastily', ',', 'afraid', 'that', 'she', 'had', 'hurt', 'the', 'poor', 'animal', \"'s\", 'feelings', '.', \"'\", 'I', 'quite', 'forgot', 'you', 'did', \"n't\", 'like', 'cats', '.', \"'\", \"'Not\", 'like', 'cats', '!', \"'\", 'cried', 'the', 'Mouse', ',', 'in', 'a', 'shrill', ',', 'passionate', 'voice', '.', \"'Would\", 'YOU', 'like', 'cats', 'if', 'you', 'were', 'me', '?', \"'\", \"'Well\", ',', 'perhaps', 'not', ',', \"'\", 'said', 'Alice', 'in', 'a', 'soothing', 'tone', ':', \"'do\", \"n't\", 'be', 'angry', 'about', 'it', '.', 'And', 'yet', 'I', 'wish', 'I', 'could', 'show', 'you', 'our', 'cat', 'Dinah', ':', 'I', 'think', \"you'd\", 'take', 'a', 'fancy', 'to', 'cats', 'if', 'you', 'could', 'only', 'see', 'her', '.', 'She', 'is', 'such', 'a', 'dear', 'quiet', 'thing', ',', \"'\", 'Alice', 'went', 'on', ',', 'half', 'to', 'herself', ',', 'as', 'she', 'swam', 'lazily', 'about', 'in', 'the', 'pool', ',', \"'and\", 'she', 'sits', 'purring', 'so', 'nicely', 'by', 'the', 'fire', ',', 'licking', 'her', 'paws', 'and', 'washing', 'her', 'face', '--', 'and', 'she', 'is', 'such', 'a', 'nice', 'soft', 'thing', 'to', 'nurse', '--', 'and', \"she's\", 'such', 'a', 'capital', 'one', 'for', 'catching', 'mice', '--', 'oh', ',', 'I', 'beg', 'your', 'pardon', '!', \"'\", 'cried', 'Alice', 'again', ',', 'for', 'this', 'time', 'the', 'Mouse', 'was', 'bristling', 'all', 'over', ',', 'and', 'she', 'felt', 'certain', 'it', 'must', 'be', 'really', 'offended', '.', \"'We\", 'wo', \"n't\", 'talk', 'about', 'her', 'any', 'more', 'if', 'you', \"'d\", 'rather', 'not', '.', \"'\", \"'We\", 'indeed', '!', \"'\", 'cried', 'the', 'Mouse', ',', 'who', 'was', 'trembling', 'down', 'to', 'the', 'end', 'of', 'his', 'tail', '.', \"'As\", 'if', 'I', 'would', 'talk', 'on', 'such', 'a', 'subject', '!', 'Our', 'family', 'always', 'HATED', 'cats', ':', 'nasty', ',', 'low', ',', 'vulgar', 'things', '!', 'Do', \"n't\", 'let', 'me', 'hear', 'the', 'name', 'again', '!', \"'\", \"'\", 'I', 'wo', \"n't\", 'indeed', '!', \"'\", 'said', 'Alice', ',', 'in', 'a', 'great', 'hurry', 'to', 'change', 'the', 'subject', 'of', 'conversation', '.', \"'Are\", 'you', '--', 'are', 'you', 'fond', '--', 'of', '--', 'of', 'dogs', '?', \"'\", 'The', 'Mouse', 'did', 'not', 'answer', ',', 'so', 'Alice', 'went', 'on', 'eagerly', ':', \"'There\", 'is', 'such', 'a', 'nice', 'little', 'dog', 'near', 'our', 'house', 'I', 'should', 'like', 'to', 'show', 'you', '!', 'A', 'little', 'bright-eyed', 'terrier', ',', 'you', 'know', ',', 'with', 'oh', ',', 'such', 'long', 'curly', 'brown', 'hair', '!', 'And', 'it', \"'ll\", 'fetch', 'things', 'when', 'you', 'throw', 'them', ',', 'and', 'it', \"'ll\", 'sit', 'up', 'and', 'beg', 'for', 'its', 'dinner', ',', 'and', 'all', 'sorts', 'of', 'things', '--', 'I', 'ca', \"n't\", 'remember', 'half', 'of', 'them', '--', 'and', 'it', 'belongs', 'to', 'a', 'farmer', ',', 'you', 'know', ',', 'and', 'he', 'says', 'it', \"'s\", 'so', 'useful', ',', 'it', \"'s\", 'worth', 'a', 'hundred', 'pounds', '!', 'He', 'says', 'it', 'kills', 'all', 'the', 'rats', 'and', '--', 'oh', 'dear', '!', \"'\", 'cried', 'Alice', 'in', 'a', 'sorrowful', 'tone', ',', \"'\", 'I', \"'m\", 'afraid', 'I', \"'ve\", 'offended', 'it', 'again', '!', \"'\", 'For', 'the', 'Mouse', 'was', 'swimming', 'away', 'from', 'her', 'as', 'hard', 'as', 'it', 'could', 'go', ',', 'and', 'making', 'quite', 'a', 'commotion', 'in', 'the', 'pool', 'as', 'it', 'went', '.', 'So', 'she', 'called', 'softly', 'after', 'it', ',', \"'Mouse\", 'dear', '!', 'Do', 'come', 'back', 'again', ',', 'and', 'we', 'wo', \"n't\", 'talk', 'about', 'cats', 'or', 'dogs', 'either', ',', 'if', 'you', 'do', \"n't\", 'like', 'them', '!', \"'\", 'When', 'the', 'Mouse', 'heard', 'this', ',', 'it', 'turned', 'round', 'and', 'swam', 'slowly', 'back', 'to', 'her', ':', 'its', 'face', 'was', 'quite', 'pale', '(', 'with', 'passion', ',', 'Alice', 'thought', ')', ',', 'and', 'it', 'said', 'in', 'a', 'low', 'trembling', 'voice', ',', \"'Let\", 'us', 'get', 'to', 'the', 'shore', ',', 'and', 'then', 'I', \"'ll\", 'tell', 'you', 'my', 'history', ',', 'and', 'you', \"'ll\", 'understand', 'why', 'it', 'is', 'I', 'hate', 'cats', 'and', 'dogs', '.', \"'\", 'It', 'was', 'high', 'time', 'to', 'go', ',', 'for', 'the', 'pool', 'was', 'getting', 'quite', 'crowded', 'with', 'the', 'birds', 'and', 'animals', 'that', 'had', 'fallen', 'into', 'it', ':', 'there', 'were', 'a', 'Duck', 'and', 'a', 'Dodo', ',', 'a', 'Lory', 'and', 'an', 'Eaglet', ',', 'and', 'several', 'other', 'curious', 'creatures', '.', 'Alice', 'led', 'the', 'way', ',', 'and', 'the', 'whole', 'party', 'swam', 'to', 'the', 'shore', '.', 'CHAPTER', 'III', '.', 'A', 'Caucus-Race', 'and', 'a', 'Long', 'Tale', 'They', 'were', 'indeed', 'a', 'queer-looking', 'party', 'that', 'assembled', 'on', 'the', 'bank', '--', 'the', 'birds', 'with', 'draggled', 'feathers', ',', 'the', 'animals', 'with', 'their', 'fur', 'clinging', 'close', 'to', 'them', ',', 'and', 'all', 'dripping', 'wet', ',', 'cross', ',', 'and', 'uncomfortable', '.', 'The', 'first', 'question', 'of', 'course', 'was', ',', 'how', 'to', 'get', 'dry', 'again', ':', 'they', 'had', 'a', 'consultation', 'about', 'this', ',', 'and', 'after', 'a', 'few', 'minutes', 'it', 'seemed', 'quite', 'natural', 'to', 'Alice', 'to', 'find', 'herself', 'talking', 'familiarly', 'with', 'them', ',', 'as', 'if', 'she', 'had', 'known', 'them', 'all', 'her', 'life', '.', 'Indeed', ',', 'she', 'had', 'quite', 'a', 'long', 'argument', 'with', 'the', 'Lory', ',', 'who', 'at', 'last', 'turned', 'sulky', ',', 'and', 'would', 'only', 'say', ',', \"'\", 'I', 'am', 'older', 'than', 'you', ',', 'and', 'must', 'know', 'better', \"'\", ';', 'and', 'this', 'Alice', 'would', 'not', 'allow', 'without', 'knowing', 'how', 'old', 'it', 'was', ',', 'and', ',', 'as', 'the', 'Lory', 'positively', 'refused', 'to', 'tell', 'its', 'age', ',', 'there', 'was', 'no', 'more', 'to', 'be', 'said', '.', 'At', 'last', 'the', 'Mouse', ',', 'who', 'seemed', 'to', 'be', 'a', 'person', 'of', 'authority', 'among', 'them', ',', 'called', 'out', ',', \"'Sit\", 'down', ',', 'all', 'of', 'you', ',', 'and', 'listen', 'to', 'me', '!', 'I', \"'LL\", 'soon', 'make', 'you', 'dry', 'enough', '!', \"'\", 'They', 'all', 'sat', 'down', 'at', 'once', ',', 'in', 'a', 'large', 'ring', ',', 'with', 'the', 'Mouse', 'in', 'the', 'middle', '.', 'Alice', 'kept', 'her', 'eyes', 'anxiously', 'fixed', 'on', 'it', ',', 'for', 'she', 'felt', 'sure', 'she', 'would', 'catch', 'a', 'bad', 'cold', 'if', 'she', 'did', 'not', 'get', 'dry', 'very', 'soon', '.', \"'Ahem\", '!', \"'\", 'said', 'the', 'Mouse', 'with', 'an', 'important', 'air', ',', \"'are\", 'you', 'all', 'ready', '?', 'This', 'is', 'the', 'driest', 'thing', 'I', 'know', '.', 'Silence', 'all', 'round', ',', 'if', 'you', 'please', '!', '``', 'William', 'the', 'Conqueror', ',', 'whose', 'cause', 'was', 'favoured', 'by', 'the', 'pope', ',', 'was', 'soon', 'submitted', 'to', 'by', 'the', 'English', ',', 'who', 'wanted', 'leaders', ',', 'and', 'had', 'been', 'of', 'late', 'much', 'accustomed', 'to', 'usurpation', 'and', 'conquest', '.', 'Edwin', 'and', 'Morcar', ',', 'the', 'earls', 'of', 'Mercia', 'and', 'Northumbria', '--', \"''\", \"'\", \"'Ugh\", '!', \"'\", 'said', 'the', 'Lory', ',', 'with', 'a', 'shiver', '.', \"'\", 'I', 'beg', 'your', 'pardon', '!', \"'\", 'said', 'the', 'Mouse', ',', 'frowning', ',', 'but', 'very', 'politely', ':', \"'Did\", 'you', 'speak', '?', \"'\", \"'Not\", 'I', '!', \"'\", 'said', 'the', 'Lory', 'hastily', '.', \"'\", 'I', 'thought', 'you', 'did', ',', \"'\", 'said', 'the', 'Mouse', '.', \"'\", '--', 'I', 'proceed', '.', '``', 'Edwin', 'and', 'Morcar', ',', 'the', 'earls', 'of', 'Mercia', 'and', 'Northumbria', ',', 'declared', 'for', 'him', ':', 'and', 'even', 'Stigand', ',', 'the', 'patriotic', 'archbishop', 'of', 'Canterbury', ',', 'found', 'it', 'advisable', '--', \"''\", \"'\", \"'Found\", 'WHAT', '?', \"'\", 'said', 'the', 'Duck', '.', \"'Found\", 'IT', ',', \"'\", 'the', 'Mouse', 'replied', 'rather', 'crossly', ':', \"'of\", 'course', 'you', 'know', 'what', \"''\", 'it', \"''\", 'means', '.', \"'\", \"'\", 'I', 'know', 'what', '``', 'it', \"''\", 'means', 'well', 'enough', ',', 'when', 'I', 'find', 'a', 'thing', ',', \"'\", 'said', 'the', 'Duck', ':', \"'it\", \"'s\", 'generally', 'a', 'frog', 'or', 'a', 'worm', '.', 'The', 'question', 'is', ',', 'what', 'did', 'the', 'archbishop', 'find', '?', \"'\", 'The', 'Mouse', 'did', 'not', 'notice', 'this', 'question', ',', 'but', 'hurriedly', 'went', 'on', ',', \"'\", \"''\", '--', 'found', 'it', 'advisable', 'to', 'go', 'with', 'Edgar', 'Atheling', 'to', 'meet', 'William', 'and', 'offer', 'him', 'the', 'crown', '.', 'William', \"'s\", 'conduct', 'at', 'first', 'was', 'moderate', '.', 'But', 'the', 'insolence', 'of', 'his', 'Normans', '--', \"''\", 'How', 'are', 'you', 'getting', 'on', 'now', ',', 'my', 'dear', '?', \"'\", 'it', 'continued', ',', 'turning', 'to', 'Alice', 'as', 'it', 'spoke', '.', \"'As\", 'wet', 'as', 'ever', ',', \"'\", 'said', 'Alice', 'in', 'a', 'melancholy', 'tone', ':', \"'it\", 'does', \"n't\", 'seem', 'to', 'dry', 'me', 'at', 'all', '.', \"'\", \"'In\", 'that', 'case', ',', \"'\", 'said', 'the', 'Dodo', 'solemnly', ',', 'rising', 'to', 'its', 'feet', ',', \"'\", 'I', 'move', 'that', 'the', 'meeting', 'adjourn', ',', 'for', 'the', 'immediate', 'adoption', 'of', 'more', 'energetic', 'remedies', '--', \"'\", \"'Speak\", 'English', '!', \"'\", 'said', 'the', 'Eaglet', '.', \"'\", 'I', 'do', \"n't\", 'know', 'the', 'meaning', 'of', 'half', 'those', 'long', 'words', ',', 'and', ',', 'what', \"'s\", 'more', ',', 'I', 'do', \"n't\", 'believe', 'you', 'do', 'either', '!', \"'\", 'And', 'the', 'Eaglet', 'bent', 'down', 'its', 'head', 'to', 'hide', 'a', 'smile', ':', 'some', 'of', 'the', 'other', 'birds', 'tittered', 'audibly', '.', \"'What\", 'I', 'was', 'going', 'to', 'say', ',', \"'\", 'said', 'the', 'Dodo', 'in', 'an', 'offended', 'tone', ',', \"'was\", ',', 'that', 'the', 'best', 'thing', 'to', 'get', 'us', 'dry', 'would', 'be', 'a', 'Caucus-race', '.', \"'\", \"'What\", 'IS', 'a', 'Caucus-race', '?', \"'\", 'said', 'Alice', ';', 'not', 'that', 'she', 'wanted', 'much', 'to', 'know', ',', 'but', 'the', 'Dodo', 'had', 'paused', 'as', 'if', 'it', 'thought', 'that', 'SOMEBODY', 'ought', 'to', 'speak', ',', 'and', 'no', 'one', 'else', 'seemed', 'inclined', 'to', 'say', 'anything', '.', \"'Why\", ',', \"'\", 'said', 'the', 'Dodo', ',', \"'the\", 'best', 'way', 'to', 'explain', 'it', 'is', 'to', 'do', 'it', '.', \"'\", '(', 'And', ',', 'as', 'you', 'might', 'like', 'to', 'try', 'the', 'thing', 'yourself', ',', 'some', 'winter', 'day', ',', 'I', 'will', 'tell', 'you', 'how', 'the', 'Dodo', 'managed', 'it', '.', ')', 'First', 'it', 'marked', 'out', 'a', 'race-course', ',', 'in', 'a', 'sort', 'of', 'circle', ',', '(', \"'the\", 'exact', 'shape', 'does', \"n't\", 'matter', ',', \"'\", 'it', 'said', ',', ')', 'and', 'then', 'all', 'the', 'party', 'were', 'placed', 'along', 'the', 'course', ',', 'here', 'and', 'there', '.', 'There', 'was', 'no', \"'One\", ',', 'two', ',', 'three', ',', 'and', 'away', ',', \"'\", 'but', 'they', 'began', 'running', 'when', 'they', 'liked', ',', 'and', 'left', 'off', 'when', 'they', 'liked', ',', 'so', 'that', 'it', 'was', 'not', 'easy', 'to', 'know', 'when', 'the', 'race', 'was', 'over', '.', 'However', ',', 'when', 'they', 'had', 'been', 'running', 'half', 'an', 'hour', 'or', 'so', ',', 'and', 'were', 'quite', 'dry', 'again', ',', 'the', 'Dodo', 'suddenly', 'called', 'out', \"'The\", 'race', 'is', 'over', '!', \"'\", 'and', 'they', 'all', 'crowded', 'round', 'it', ',', 'panting', ',', 'and', 'asking', ',', \"'But\", 'who', 'has', 'won', '?', \"'\", 'This', 'question', 'the', 'Dodo', 'could', 'not', 'answer', 'without', 'a', 'great', 'deal', 'of', 'thought', ',', 'and', 'it', 'sat', 'for', 'a', 'long', 'time', 'with', 'one', 'finger', 'pressed', 'upon', 'its', 'forehead', '(', 'the', 'position', 'in', 'which', 'you', 'usually', 'see', 'Shakespeare', ',', 'in', 'the', 'pictures', 'of', 'him', ')', ',', 'while', 'the', 'rest', 'waited', 'in', 'silence', '.', 'At', 'last', 'the', 'Dodo', 'said', ',', \"'EVERYBODY\", 'has', 'won', ',', 'and', 'all', 'must', 'have', 'prizes', '.', \"'\", \"'But\", 'who', 'is', 'to', 'give', 'the', 'prizes', '?', \"'\", 'quite', 'a', 'chorus', 'of', 'voices', 'asked', '.', \"'Why\", ',', 'SHE', ',', 'of', 'course', ',', \"'\", 'said', 'the', 'Dodo', ',', 'pointing', 'to', 'Alice', 'with', 'one', 'finger', ';', 'and', 'the', 'whole', 'party', 'at', 'once', 'crowded', 'round', 'her', ',', 'calling', 'out', 'in', 'a', 'confused', 'way', ',', \"'Prizes\", '!', 'Prizes', '!', \"'\", 'Alice', 'had', 'no', 'idea', 'what', 'to', 'do', ',', 'and', 'in', 'despair', 'she', 'put', 'her', 'hand', 'in', 'her', 'pocket', ',', 'and', 'pulled', 'out', 'a', 'box', 'of', 'comfits', ',', '(', 'luckily', 'the', 'salt', 'water', 'had', 'not', 'got', 'into', 'it', ')', ',', 'and', 'handed', 'them', 'round', 'as', 'prizes', '.', 'There', 'was', 'exactly', 'one', 'a-piece', 'all', 'round', '.', \"'But\", 'she', 'must', 'have', 'a', 'prize', 'herself', ',', 'you', 'know', ',', \"'\", 'said', 'the', 'Mouse', '.', \"'Of\", 'course', ',', \"'\", 'the', 'Dodo', 'replied', 'very', 'gravely', '.', \"'What\", 'else', 'have', 'you', 'got', 'in', 'your', 'pocket', '?', \"'\", 'he', 'went', 'on', ',', 'turning', 'to', 'Alice', '.', \"'Only\", 'a', 'thimble', ',', \"'\", 'said', 'Alice', 'sadly', '.', \"'Hand\", 'it', 'over', 'here', ',', \"'\", 'said', 'the', 'Dodo', '.', 'Then', 'they', 'all', 'crowded', 'round', 'her', 'once', 'more', ',', 'while', 'the', 'Dodo', 'solemnly', 'presented', 'the', 'thimble', ',', 'saying', \"'We\", 'beg', 'your', 'acceptance', 'of', 'this', 'elegant', 'thimble', \"'\", ';', 'and', ',', 'when', 'it', 'had', 'finished', 'this', 'short', 'speech', ',', 'they', 'all', 'cheered', '.', 'Alice', 'thought', 'the', 'whole', 'thing', 'very', 'absurd', ',', 'but', 'they', 'all', 'looked', 'so', 'grave', 'that', 'she', 'did', 'not', 'dare', 'to', 'laugh', ';', 'and', ',', 'as', 'she', 'could', 'not', 'think', 'of', 'anything', 'to', 'say', ',', 'she', 'simply', 'bowed', ',', 'and', 'took', 'the', 'thimble', ',', 'looking', 'as', 'solemn', 'as', 'she', 'could', '.', 'The', 'next', 'thing', 'was', 'to', 'eat', 'the', 'comfits', ':', 'this', 'caused', 'some', 'noise', 'and', 'confusion', ',', 'as', 'the', 'large', 'birds', 'complained', 'that', 'they', 'could', 'not', 'taste', 'theirs', ',', 'and', 'the', 'small', 'ones', 'choked', 'and', 'had', 'to', 'be', 'patted', 'on', 'the', 'back', '.', 'However', ',', 'it', 'was', 'over', 'at', 'last', ',', 'and', 'they', 'sat', 'down', 'again', 'in', 'a', 'ring', ',', 'and', 'begged', 'the', 'Mouse', 'to', 'tell', 'them', 'something', 'more', '.', \"'You\", 'promised', 'to', 'tell', 'me', 'your', 'history', ',', 'you', 'know', ',', \"'\", 'said', 'Alice', ',', \"'and\", 'why', 'it', 'is', 'you', 'hate', '--', 'C', 'and', 'D', ',', \"'\", 'she', 'added', 'in', 'a', 'whisper', ',', 'half', 'afraid', 'that', 'it', 'would', 'be', 'offended', 'again', '.', \"'Mine\", 'is', 'a', 'long', 'and', 'a', 'sad', 'tale', '!', \"'\", 'said', 'the', 'Mouse', ',', 'turning', 'to', 'Alice', ',', 'and', 'sighing', '.', \"'It\", 'IS', 'a', 'long', 'tail', ',', 'certainly', ',', \"'\", 'said', 'Alice', ',', 'looking', 'down', 'with', 'wonder', 'at', 'the', 'Mouse', \"'s\", 'tail', ';', \"'but\", 'why', 'do', 'you', 'call', 'it', 'sad', '?', \"'\", 'And', 'she', 'kept', 'on', 'puzzling', 'about', 'it', 'while', 'the', 'Mouse', 'was', 'speaking', ',', 'so', 'that', 'her', 'idea', 'of', 'the', 'tale', 'was', 'something', 'like', 'this', ':', '--', \"'Fury\", 'said', 'to', 'a', 'mouse', ',', 'That', 'he', 'met', 'in', 'the', 'house', ',', '``', 'Let', 'us', 'both', 'go', 'to', 'law', ':', 'I', 'will', 'prosecute', 'YOU.', '--', 'Come', ',', 'I', \"'ll\", 'take', 'no', 'denial', ';', 'We', 'must', 'have', 'a', 'trial', ':', 'For', 'really', 'this', 'morning', \"I've\", 'nothing', 'to', 'do', '.', \"''\", 'Said', 'the', 'mouse', 'to', 'the', 'cur', ',', '``', 'Such', 'a', 'trial', ',', 'dear', 'Sir', ',', 'With', 'no', 'jury', 'or', 'judge', ',', 'would', 'be', 'wasting', 'our', 'breath', '.', \"''\", '``', 'I', \"'ll\", 'be', 'judge', ',', \"I'll\", 'be', 'jury', ',', \"''\", 'Said', 'cunning', 'old', 'Fury', ':', '``', \"I'll\", 'try', 'the', 'whole', 'cause', ',', 'and', 'condemn', 'you', 'to', 'death', '.', \"''\", \"'\", \"'You\", 'are', 'not', 'attending', '!', \"'\", 'said', 'the', 'Mouse', 'to', 'Alice', 'severely', '.', \"'What\", 'are', 'you', 'thinking', 'of', '?', \"'\", \"'\", 'I', 'beg', 'your', 'pardon', ',', \"'\", 'said', 'Alice', 'very', 'humbly', ':', \"'you\", 'had', 'got', 'to', 'the', 'fifth', 'bend', ',', 'I', 'think', '?', \"'\", \"'\", 'I', 'had', 'NOT', '!', \"'\", 'cried', 'the', 'Mouse', ',', 'sharply', 'and', 'very', 'angrily', '.', \"'\", 'A', 'knot', '!', \"'\", 'said', 'Alice', ',', 'always', 'ready', 'to', 'make', 'herself', 'useful', ',', 'and', 'looking', 'anxiously', 'about', 'her', '.', \"'Oh\", ',', 'do', 'let', 'me', 'help', 'to', 'undo', 'it', '!', \"'\", \"'\", 'I', 'shall', 'do', 'nothing', 'of', 'the', 'sort', ',', \"'\", 'said', 'the', 'Mouse', ',', 'getting', 'up', 'and', 'walking', 'away', '.', \"'You\", 'insult', 'me', 'by', 'talking', 'such', 'nonsense', '!', \"'\", \"'\", 'I', 'did', \"n't\", 'mean', 'it', '!', \"'\", 'pleaded', 'poor', 'Alice', '.', \"'But\", 'you', \"'re\", 'so', 'easily', 'offended', ',', 'you', 'know', '!', \"'\", 'The', 'Mouse', 'only', 'growled', 'in', 'reply', '.', \"'Please\", 'come', 'back', 'and', 'finish', 'your', 'story', '!', \"'\", 'Alice', 'called', 'after', 'it', ';', 'and', 'the', 'others', 'all', 'joined', 'in', 'chorus', ',', \"'Yes\", ',', 'please', 'do', '!', \"'\", 'but', 'the', 'Mouse', 'only', 'shook', 'its', 'head', 'impatiently', ',', 'and', 'walked', 'a', 'little', 'quicker', '.', \"'What\", 'a', 'pity', 'it', 'would', \"n't\", 'stay', '!', \"'\", 'sighed', 'the', 'Lory', ',', 'as', 'soon', 'as', 'it', 'was', 'quite', 'out', 'of', 'sight', ';', 'and', 'an', 'old', 'Crab', 'took', 'the', 'opportunity', 'of', 'saying', 'to', 'her', 'daughter', \"'Ah\", ',', 'my', 'dear', '!', 'Let', 'this', 'be', 'a', 'lesson', 'to', 'you', 'never', 'to', 'lose', 'YOUR', 'temper', '!', \"'\", \"'Hold\", 'your', 'tongue', ',', 'Ma', '!', \"'\", 'said', 'the', 'young', 'Crab', ',', 'a', 'little', 'snappishly', '.', \"'You\", \"'re\", 'enough', 'to', 'try', 'the', 'patience', 'of', 'an', 'oyster', '!', \"'\", \"'\", 'I', 'wish', 'I', 'had', 'our', 'Dinah', 'here', ',', 'I', 'know', 'I', 'do', '!', \"'\", 'said', 'Alice', 'aloud', ',', 'addressing', 'nobody', 'in', 'particular', '.', \"'She\", \"'d\", 'soon', 'fetch', 'it', 'back', '!', \"'\", \"'And\", 'who', 'is', 'Dinah', ',', 'if', 'I', 'might', 'venture', 'to', 'ask', 'the', 'question', '?', \"'\", 'said', 'the', 'Lory', '.', 'Alice', 'replied', 'eagerly', ',', 'for', 'she', 'was', 'always', 'ready', 'to', 'talk', 'about', 'her', 'pet', ':', \"'Dinah\", \"'s\", 'our', 'cat', '.', 'And', 'she', \"'s\", 'such', 'a', 'capital', 'one', 'for', 'catching', 'mice', 'you', 'ca', \"n't\", 'think', '!', 'And', 'oh', ',', 'I', 'wish', 'you', 'could', 'see', 'her', 'after', 'the', 'birds', '!', 'Why', ',', 'she', \"'ll\", 'eat', 'a', 'little', 'bird', 'as', 'soon', 'as', 'look', 'at', 'it', '!', \"'\", 'This', 'speech', 'caused', 'a', 'remarkable', 'sensation', 'among', 'the', 'party', '.', 'Some', 'of', 'the', 'birds', 'hurried', 'off', 'at', 'once', ':', 'one', 'old', 'Magpie', 'began', 'wrapping', 'itself', 'up', 'very', 'carefully', ',', 'remarking', ',', \"'\", 'I', 'really', 'must', 'be', 'getting', 'home', ';', 'the', 'night-air', 'does', \"n't\", 'suit', 'my', 'throat', '!', \"'\", 'and', 'a', 'Canary', 'called', 'out', 'in', 'a', 'trembling', 'voice', 'to', 'its', 'children', ',', \"'Come\", 'away', ',', 'my', 'dears', '!', 'It', \"'s\", 'high', 'time', 'you', 'were', 'all', 'in', 'bed', '!', \"'\", 'On', 'various', 'pretexts', 'they', 'all', 'moved', 'off', ',', 'and', 'Alice', 'was', 'soon', 'left', 'alone', '.', \"'\", 'I', 'wish', 'I', 'had', \"n't\", 'mentioned', 'Dinah', '!', \"'\", 'she', 'said', 'to', 'herself', 'in', 'a', 'melancholy', 'tone', '.', \"'Nobody\", 'seems', 'to', 'like', 'her', ',', 'down', 'here', ',', 'and', 'I', \"'m\", 'sure', 'she', \"'s\", 'the', 'best', 'cat', 'in', 'the', 'world', '!', 'Oh', ',', 'my', 'dear', 'Dinah', '!', 'I', 'wonder', 'if', 'I', 'shall', 'ever', 'see', 'you', 'any', 'more', '!', \"'\", 'And', 'here', 'poor', 'Alice', 'began', 'to', 'cry', 'again', ',', 'for', 'she', 'felt', 'very', 'lonely', 'and', 'low-spirited', '.', 'In', 'a', 'little', 'while', ',', 'however', ',', 'she', 'again', 'heard', 'a', 'little', 'pattering', 'of', 'footsteps', 'in', 'the', 'distance', ',', 'and', 'she', 'looked', 'up', 'eagerly', ',', 'half', 'hoping', 'that', 'the', 'Mouse', 'had', 'changed', 'his', 'mind', ',', 'and', 'was', 'coming', 'back', 'to', 'finish', 'his', 'story', '.', 'CHAPTER', 'IV', '.', 'The', 'Rabbit', 'Sends', 'in', 'a', 'Little', 'Bill', 'It', 'was', 'the', 'White', 'Rabbit', ',', 'trotting', 'slowly', 'back', 'again', ',', 'and', 'looking', 'anxiously', 'about', 'as', 'it', 'went', ',', 'as', 'if', 'it', 'had', 'lost', 'something', ';', 'and', 'she', 'heard', 'it', 'muttering', 'to', 'itself', \"'The\", 'Duchess', '!', 'The', 'Duchess', '!', 'Oh', 'my', 'dear', 'paws', '!', 'Oh', 'my', 'fur', 'and', 'whiskers', '!', 'She', \"'ll\", 'get', 'me', 'executed', ',', 'as', 'sure', 'as', 'ferrets', 'are', 'ferrets', '!', 'Where', 'CAN', 'I', 'have', 'dropped', 'them', ',', 'I', 'wonder', '?', \"'\", 'Alice', 'guessed', 'in', 'a', 'moment', 'that', 'it', 'was', 'looking', 'for', 'the', 'fan', 'and', 'the', 'pair', 'of', 'white', 'kid', 'gloves', ',', 'and', 'she', 'very', 'good-naturedly', 'began', 'hunting', 'about', 'for', 'them', ',', 'but', 'they', 'were', 'nowhere', 'to', 'be', 'seen', '--', 'everything', 'seemed', 'to', 'have', 'changed', 'since', 'her', 'swim', 'in', 'the', 'pool', ',', 'and', 'the', 'great', 'hall', ',', 'with', 'the', 'glass', 'table', 'and', 'the', 'little', 'door', ',', 'had', 'vanished', 'completely', '.', 'Very', 'soon', 'the', 'Rabbit', 'noticed', 'Alice', ',', 'as', 'she', 'went', 'hunting', 'about', ',', 'and', 'called', 'out', 'to', 'her', 'in', 'an', 'angry', 'tone', ',', \"'Why\", ',', 'Mary', 'Ann', ',', 'what', 'ARE', 'you', 'doing', 'out', 'here', '?', 'Run', 'home', 'this', 'moment', ',', 'and', 'fetch', 'me', 'a', 'pair', 'of', 'gloves', 'and', 'a', 'fan', '!', 'Quick', ',', 'now', '!', \"'\", 'And', 'Alice', 'was', 'so', 'much', 'frightened', 'that', 'she', 'ran', 'off', 'at', 'once', 'in', 'the', 'direction', 'it', 'pointed', 'to', ',', 'without', 'trying', 'to', 'explain', 'the', 'mistake', 'it', 'had', 'made', '.', \"'He\", 'took', 'me', 'for', 'his', 'housemaid', ',', \"'\", 'she', 'said', 'to', 'herself', 'as', 'she', 'ran', '.', \"'How\", 'surprised', 'he', \"'ll\", 'be', 'when', 'he', 'finds', 'out', 'who', 'I', 'am', '!', 'But', 'I', \"'d\", 'better', 'take', 'him', 'his', 'fan', 'and', 'gloves', '--', 'that', 'is', ',', 'if', 'I', 'can', 'find', 'them', '.', \"'\", 'As', 'she', 'said', 'this', ',', 'she', 'came', 'upon', 'a', 'neat', 'little', 'house', ',', 'on', 'the', 'door', 'of', 'which', 'was', 'a', 'bright', 'brass', 'plate', 'with', 'the', 'name', \"'\", 'W', '.', 'RABBIT', \"'\", 'engraved', 'upon', 'it', '.', 'She', 'went', 'in', 'without', 'knocking', ',', 'and', 'hurried', 'upstairs', ',', 'in', 'great', 'fear', 'lest', 'she', 'should', 'meet', 'the', 'real', 'Mary', 'Ann', ',', 'and', 'be', 'turned', 'out', 'of', 'the', 'house', 'before', 'she', 'had', 'found', 'the', 'fan', 'and', 'gloves', '.', \"'How\", 'queer', 'it', 'seems', ',', \"'\", 'Alice', 'said', 'to', 'herself', ',', \"'to\", 'be', 'going', 'messages', 'for', 'a', 'rabbit', '!', 'I', 'suppose', 'Dinah', \"'ll\", 'be', 'sending', 'me', 'on', 'messages', 'next', '!', \"'\", 'And', 'she', 'began', 'fancying', 'the', 'sort', 'of', 'thing', 'that', 'would', 'happen', ':', \"'\", \"''\", 'Miss', 'Alice', '!', 'Come', 'here', 'directly', ',', 'and', 'get', 'ready', 'for', 'your', 'walk', '!', \"''\", '``', 'Coming', 'in', 'a', 'minute', ',', 'nurse', '!', 'But', 'I', \"'ve\", 'got', 'to', 'see', 'that', 'the', 'mouse', 'does', \"n't\", 'get', 'out', '.', \"''\", 'Only', 'I', \"don't\", 'think', ',', \"'\", 'Alice', 'went', 'on', ',', \"'that\", 'they', \"'d\", 'let', 'Dinah', 'stop', 'in', 'the', 'house', 'if', 'it', 'began', 'ordering', 'people', 'about', 'like', 'that', '!', \"'\", 'By', 'this', 'time', 'she', 'had', 'found', 'her', 'way', 'into', 'a', 'tidy', 'little', 'room', 'with', 'a', 'table', 'in', 'the', 'window', ',', 'and', 'on', 'it', '(', 'as', 'she', 'had', 'hoped', ')', 'a', 'fan', 'and', 'two', 'or', 'three', 'pairs', 'of', 'tiny', 'white', 'kid', 'gloves', ':', 'she', 'took', 'up', 'the', 'fan', 'and', 'a', 'pair', 'of', 'the', 'gloves', ',', 'and', 'was', 'just', 'going', 'to', 'leave', 'the', 'room', ',', 'when', 'her', 'eye', 'fell', 'upon', 'a', 'little', 'bottle', 'that', 'stood', 'near', 'the', 'looking-glass', '.', 'There', 'was', 'no', 'label', 'this', 'time', 'with', 'the', 'words', \"'DRINK\", 'ME', ',', \"'\", 'but', 'nevertheless', 'she', 'uncorked', 'it', 'and', 'put', 'it', 'to', 'her', 'lips', '.', \"'\", 'I', 'know', 'SOMETHING', 'interesting', 'is', 'sure', 'to', 'happen', ',', \"'\", 'she', 'said', 'to', 'herself', ',', \"'whenever\", 'I', 'eat', 'or', 'drink', 'anything', ';', 'so', 'I', \"'ll\", 'just', 'see', 'what', 'this', 'bottle', 'does', '.', 'I', 'do', 'hope', 'it', \"'ll\", 'make', 'me', 'grow', 'large', 'again', ',', 'for', 'really', 'I', \"'m\", 'quite', 'tired', 'of', 'being', 'such', 'a', 'tiny', 'little', 'thing', '!', \"'\", 'It', 'did', 'so', 'indeed', ',', 'and', 'much', 'sooner', 'than', 'she', 'had', 'expected', ':', 'before', 'she', 'had', 'drunk', 'half', 'the', 'bottle', ',', 'she', 'found', 'her', 'head', 'pressing', 'against', 'the', 'ceiling', ',', 'and', 'had', 'to', 'stoop', 'to', 'save', 'her', 'neck', 'from', 'being', 'broken', '.', 'She', 'hastily', 'put', 'down', 'the', 'bottle', ',', 'saying', 'to', 'herself', \"'That\", \"'s\", 'quite', 'enough', '--', 'I', 'hope', 'I', \"shan't\", 'grow', 'any', 'more', '--', 'As', 'it', 'is', ',', 'I', 'ca', \"n't\", 'get', 'out', 'at', 'the', 'door', '--', 'I', 'do', 'wish', 'I', \"hadn't\", 'drunk', 'quite', 'so', 'much', '!', \"'\", 'Alas', '!', 'it', 'was', 'too', 'late', 'to', 'wish', 'that', '!', 'She', 'went', 'on', 'growing', ',', 'and', 'growing', ',', 'and', 'very', 'soon', 'had', 'to', 'kneel', 'down', 'on', 'the', 'floor', ':', 'in', 'another', 'minute', 'there', 'was', 'not', 'even', 'room', 'for', 'this', ',', 'and', 'she', 'tried', 'the', 'effect', 'of', 'lying', 'down', 'with', 'one', 'elbow', 'against', 'the', 'door', ',', 'and', 'the', 'other', 'arm', 'curled', 'round', 'her', 'head', '.', 'Still', 'she', 'went', 'on', 'growing', ',', 'and', ',', 'as', 'a', 'last', 'resource', ',', 'she', 'put', 'one', 'arm', 'out', 'of', 'the', 'window', ',', 'and', 'one', 'foot', 'up', 'the', 'chimney', ',', 'and', 'said', 'to', 'herself', \"'Now\", 'I', 'can', 'do', 'no', 'more', ',', 'whatever', 'happens', '.', 'What', 'WILL', 'become', 'of', 'me', '?', \"'\", 'Luckily', 'for', 'Alice', ',', 'the', 'little', 'magic', 'bottle', 'had', 'now', 'had', 'its', 'full', 'effect', ',', 'and', 'she', 'grew', 'no', 'larger', ':', 'still', 'it', 'was', 'very', 'uncomfortable', ',', 'and', ',', 'as', 'there', 'seemed', 'to', 'be', 'no', 'sort', 'of', 'chance', 'of', 'her', 'ever', 'getting', 'out', 'of', 'the', 'room', 'again', ',', 'no', 'wonder', 'she', 'felt', 'unhappy', '.', \"'It\", 'was', 'much', 'pleasanter', 'at', 'home', ',', \"'\", 'thought', 'poor', 'Alice', ',', \"'when\", 'one', \"wasn't\", 'always', 'growing', 'larger', 'and', 'smaller', ',', 'and', 'being', 'ordered', 'about', 'by', 'mice', 'and', 'rabbits', '.', 'I', 'almost', 'wish', 'I', 'had', \"n't\", 'gone', 'down', 'that', 'rabbit-hole', '--', 'and', 'yet', '--', 'and', 'yet', '--', 'it', \"'s\", 'rather', 'curious', ',', 'you', 'know', ',', 'this', 'sort', 'of', 'life', '!', 'I', 'do', 'wonder', 'what', 'CAN', 'have', 'happened', 'to', 'me', '!', 'When', 'I', 'used', 'to', 'read', 'fairy-tales', ',', 'I', 'fancied', 'that', 'kind', 'of', 'thing', 'never', 'happened', ',', 'and', 'now', 'here', 'I', 'am', 'in', 'the', 'middle', 'of', 'one', '!', 'There', 'ought', 'to', 'be', 'a', 'book', 'written', 'about', 'me', ',', 'that', 'there', 'ought', '!', 'And', 'when', 'I', 'grow', 'up', ',', 'I', \"'ll\", 'write', 'one', '--', 'but', 'I', \"'m\", 'grown', 'up', 'now', ',', \"'\", 'she', 'added', 'in', 'a', 'sorrowful', 'tone', ';', \"'at\", 'least', 'there', \"'s\", 'no', 'room', 'to', 'grow', 'up', 'any', 'more', 'HERE', '.', \"'\", \"'But\", 'then', ',', \"'\", 'thought', 'Alice', ',', \"'shall\", 'I', 'NEVER', 'get', 'any', 'older', 'than', 'I', 'am', 'now', '?', 'That', \"'ll\", 'be', 'a', 'comfort', ',', 'one', 'way', '--', 'never', 'to', 'be', 'an', 'old', 'woman', '--', 'but', 'then', '--', 'always', 'to', 'have', 'lessons', 'to', 'learn', '!', 'Oh', ',', 'I', 'should', \"n't\", 'like', 'THAT', '!', \"'\", \"'Oh\", ',', 'you', 'foolish', 'Alice', '!', \"'\", 'she', 'answered', 'herself', '.', \"'How\", 'can', 'you', 'learn', 'lessons', 'in', 'here', '?', 'Why', ',', 'there', \"'s\", 'hardly', 'room', 'for', 'YOU', ',', 'and', 'no', 'room', 'at', 'all', 'for', 'any', 'lesson-books', '!', \"'\", 'And', 'so', 'she', 'went', 'on', ',', 'taking', 'first', 'one', 'side', 'and', 'then', 'the', 'other', ',', 'and', 'making', 'quite', 'a', 'conversation', 'of', 'it', 'altogether', ';', 'but', 'after', 'a', 'few', 'minutes', 'she', 'heard', 'a', 'voice', 'outside', ',', 'and', 'stopped', 'to', 'listen', '.', \"'Mary\", 'Ann', '!', 'Mary', 'Ann', '!', \"'\", 'said', 'the', 'voice', '.', \"'Fetch\", 'me', 'my', 'gloves', 'this', 'moment', '!', \"'\", 'Then', 'came', 'a', 'little', 'pattering', 'of', 'feet', 'on', 'the', 'stairs', '.', 'Alice', 'knew', 'it', 'was', 'the', 'Rabbit', 'coming', 'to', 'look', 'for', 'her', ',', 'and', 'she', 'trembled', 'till', 'she', 'shook', 'the', 'house', ',', 'quite', 'forgetting', 'that', 'she', 'was', 'now', 'about', 'a', 'thousand', 'times', 'as', 'large', 'as', 'the', 'Rabbit', ',', 'and', 'had', 'no', 'reason', 'to', 'be', 'afraid', 'of', 'it', '.', 'Presently', 'the', 'Rabbit', 'came', 'up', 'to', 'the', 'door', ',', 'and', 'tried', 'to', 'open', 'it', ';', 'but', ',', 'as', 'the', 'door', 'opened', 'inwards', ',', 'and', 'Alice', \"'s\", 'elbow', 'was', 'pressed', 'hard', 'against', 'it', ',', 'that', 'attempt', 'proved', 'a', 'failure', '.', 'Alice', 'heard', 'it', 'say', 'to', 'itself', \"'Then\", \"I'll\", 'go', 'round', 'and', 'get', 'in', 'at', 'the', 'window', '.', \"'\", \"'THAT\", 'you', 'wo', \"n't\", \"'\", 'thought', 'Alice', ',', 'and', ',', 'after', 'waiting', 'till', 'she', 'fancied', 'she', 'heard', 'the', 'Rabbit', 'just', 'under', 'the', 'window', ',', 'she', 'suddenly', 'spread', 'out', 'her', 'hand', ',', 'and', 'made', 'a', 'snatch', 'in', 'the', 'air', '.', 'She', 'did', 'not', 'get', 'hold', 'of', 'anything', ',', 'but', 'she', 'heard', 'a', 'little', 'shriek', 'and', 'a', 'fall', ',', 'and', 'a', 'crash', 'of', 'broken', 'glass', ',', 'from', 'which', 'she', 'concluded', 'that', 'it', 'was', 'just', 'possible', 'it', 'had', 'fallen', 'into', 'a', 'cucumber-frame', ',', 'or', 'something', 'of', 'the', 'sort', '.', 'Next', 'came', 'an', 'angry', 'voice', '--', 'the', 'Rabbit', \"'s\", '--', \"'Pat\", '!', 'Pat', '!', 'Where', 'are', 'you', '?', \"'\", 'And', 'then', 'a', 'voice', 'she', 'had', 'never', 'heard', 'before', ',', \"'Sure\", 'then', 'I', \"'m\", 'here', '!', 'Digging', 'for', 'apples', ',', 'yer', 'honour', '!', \"'\", \"'Digging\", 'for', 'apples', ',', 'indeed', '!', \"'\", 'said', 'the', 'Rabbit', 'angrily', '.', \"'Here\", '!', 'Come', 'and', 'help', 'me', 'out', 'of', 'THIS', '!', \"'\", '(', 'Sounds', 'of', 'more', 'broken', 'glass', '.', ')', \"'Now\", 'tell', 'me', ',', 'Pat', ',', 'what', \"'s\", 'that', 'in', 'the', 'window', '?', \"'\", \"'Sure\", ',', 'it', \"'s\", 'an', 'arm', ',', 'yer', 'honour', '!', \"'\", '(', 'He', 'pronounced', 'it', \"'arrum\", '.', \"'\", ')', \"'An\", 'arm', ',', 'you', 'goose', '!', 'Who', 'ever', 'saw', 'one', 'that', 'size', '?', 'Why', ',', 'it', 'fills', 'the', 'whole', 'window', '!', \"'\", \"'Sure\", ',', 'it', 'does', ',', 'yer', 'honour', ':', 'but', 'it', \"'s\", 'an', 'arm', 'for', 'all', 'that', '.', \"'\", \"'Well\", ',', 'it', \"'s\", 'got', 'no', 'business', 'there', ',', 'at', 'any', 'rate', ':', 'go', 'and', 'take', 'it', 'away', '!', \"'\", 'There', 'was', 'a', 'long', 'silence', 'after', 'this', ',', 'and', 'Alice', 'could', 'only', 'hear', 'whispers', 'now', 'and', 'then', ';', 'such', 'as', ',', \"'Sure\", ',', 'I', 'do', \"n't\", 'like', 'it', ',', 'yer', 'honour', ',', 'at', 'all', ',', 'at', 'all', '!', \"'\", \"'Do\", 'as', 'I', 'tell', 'you', ',', 'you', 'coward', '!', \"'\", 'and', 'at', 'last', 'she', 'spread', 'out', 'her', 'hand', 'again', ',', 'and', 'made', 'another', 'snatch', 'in', 'the', 'air', '.', 'This', 'time', 'there', 'were', 'TWO', 'little', 'shrieks', ',', 'and', 'more', 'sounds', 'of', 'broken', 'glass', '.', \"'What\", 'a', 'number', 'of', 'cucumber-frames', 'there', 'must', 'be', '!', \"'\", 'thought', 'Alice', '.', \"'\", 'I', 'wonder', 'what', 'they', \"'ll\", 'do', 'next', '!', 'As', 'for', 'pulling', 'me', 'out', 'of', 'the', 'window', ',', 'I', 'only', 'wish', 'they', 'COULD', '!', \"I'm\", 'sure', 'I', 'do', \"n't\", 'want', 'to', 'stay', 'in', 'here', 'any', 'longer', '!', \"'\", 'She', 'waited', 'for', 'some', 'time', 'without', 'hearing', 'anything', 'more', ':', 'at', 'last', 'came', 'a', 'rumbling', 'of', 'little', 'cartwheels', ',', 'and', 'the', 'sound', 'of', 'a', 'good', 'many', 'voices', 'all', 'talking', 'together', ':', 'she', 'made', 'out', 'the', 'words', ':', \"'Where\", \"'s\", 'the', 'other', 'ladder', '?', '--', 'Why', ',', 'I', 'had', \"n't\", 'to', 'bring', 'but', 'one', ';', 'Bill', \"'s\", 'got', 'the', 'other', '--', 'Bill', '!', 'fetch', 'it', 'here', ',', 'lad', '!', '--', 'Here', ',', 'put', \"'em\", 'up', 'at', 'this', 'corner', '--', 'No', ',', 'tie', \"'em\", 'together', 'first', '--', 'they', 'do', \"n't\", 'reach', 'half', 'high', 'enough', 'yet', '--', 'Oh', '!', \"they'll\", 'do', 'well', 'enough', ';', 'do', \"n't\", 'be', 'particular', '--', 'Here', ',', 'Bill', '!', 'catch', 'hold', 'of', 'this', 'rope', '--', 'Will', 'the', 'roof', 'bear', '?', '--', 'Mind', 'that', 'loose', 'slate', '--', 'Oh', ',', 'it', \"'s\", 'coming', 'down', '!', 'Heads', 'below', '!', \"'\", '(', 'a', 'loud', 'crash', ')', '--', \"'Now\", ',', 'who', 'did', 'that', '?', '--', 'It', 'was', 'Bill', ',', 'I', 'fancy', '--', 'Who', \"'s\", 'to', 'go', 'down', 'the', 'chimney', '?', '--', 'Nay', ',', 'I', 'sha', \"n't\", '!', 'YOU', 'do', 'it', '!', '--', 'That', 'I', 'wo', \"n't\", ',', 'then', '!', '--', 'Bill', \"'s\", 'to', 'go', 'down', '--', 'Here', ',', 'Bill', '!', 'the', 'master', 'says', 'you', \"'re\", 'to', 'go', 'down', 'the', 'chimney', '!', \"'\", \"'Oh\", '!', 'So', 'Bill', \"'s\", 'got', 'to', 'come', 'down', 'the', 'chimney', ',', 'has', 'he', '?', \"'\", 'said', 'Alice', 'to', 'herself', '.', \"'Shy\", ',', 'they', 'seem', 'to', 'put', 'everything', 'upon', 'Bill', '!', 'I', 'would', \"n't\", 'be', 'in', 'Bill', \"'s\", 'place', 'for', 'a', 'good', 'deal', ':', 'this', 'fireplace', 'is', 'narrow', ',', 'to', 'be', 'sure', ';', 'but', 'I', 'THINK', 'I', 'can', 'kick', 'a', 'little', '!', \"'\", 'She', 'drew', 'her', 'foot', 'as', 'far', 'down', 'the', 'chimney', 'as', 'she', 'could', ',', 'and', 'waited', 'till', 'she', 'heard', 'a', 'little', 'animal', '(', 'she', 'could', \"n't\", 'guess', 'of', 'what', 'sort', 'it', 'was', ')', 'scratching', 'and', 'scrambling', 'about', 'in', 'the', 'chimney', 'close', 'above', 'her', ':', 'then', ',', 'saying', 'to', 'herself', \"'This\", 'is', 'Bill', ',', \"'\", 'she', 'gave', 'one', 'sharp', 'kick', ',', 'and', 'waited', 'to', 'see', 'what', 'would', 'happen', 'next', '.', 'The', 'first', 'thing', 'she', 'heard', 'was', 'a', 'general', 'chorus', 'of', \"'There\", 'goes', 'Bill', '!', \"'\", 'then', 'the', 'Rabbit', \"'s\", 'voice', 'along', '--', \"'Catch\", 'him', ',', 'you', 'by', 'the', 'hedge', '!', \"'\", 'then', 'silence', ',', 'and', 'then', 'another', 'confusion', 'of', 'voices', '--', \"'Hold\", 'up', 'his', 'head', '--', 'Brandy', 'now', '--', 'Do', \"n't\", 'choke', 'him', '--', 'How', 'was', 'it', ',', 'old', 'fellow', '?', 'What', 'happened', 'to', 'you', '?', 'Tell', 'us', 'all', 'about', 'it', '!', \"'\", 'Last', 'came', 'a', 'little', 'feeble', ',', 'squeaking', 'voice', ',', '(', \"'That\", \"'s\", 'Bill', ',', \"'\", 'thought', 'Alice', ',', ')', \"'Well\", ',', 'I', 'hardly', 'know', '--', 'No', 'more', ',', 'thank', 'ye', ';', 'I', \"'m\", 'better', 'now', '--', 'but', \"I'm\", 'a', 'deal', 'too', 'flustered', 'to', 'tell', 'you', '--', 'all', 'I', 'know', 'is', ',', 'something', 'comes', 'at', 'me', 'like', 'a', 'Jack-in-the-box', ',', 'and', 'up', 'I', 'goes', 'like', 'a', 'sky-rocket', '!', \"'\", \"'So\", 'you', 'did', ',', 'old', 'fellow', '!', \"'\", 'said', 'the', 'others', '.', \"'We\", 'must', 'burn', 'the', 'house', 'down', '!', \"'\", 'said', 'the', 'Rabbit', \"'s\", 'voice', ';', 'and', 'Alice', 'called', 'out', 'as', 'loud', 'as', 'she', 'could', ',', \"'If\", 'you', 'do', '.', 'I', \"'ll\", 'set', 'Dinah', 'at', 'you', '!', \"'\", 'There', 'was', 'a', 'dead', 'silence', 'instantly', ',', 'and', 'Alice', 'thought', 'to', 'herself', ',', \"'\", 'I', 'wonder', 'what', 'they', 'WILL', 'do', 'next', '!', 'If', 'they', 'had', 'any', 'sense', ',', 'they', \"'d\", 'take', 'the', 'roof', 'off', '.', \"'\", 'After', 'a', 'minute', 'or', 'two', ',', 'they', 'began', 'moving', 'about', 'again', ',', 'and', 'Alice', 'heard', 'the', 'Rabbit', 'say', ',', \"'\", 'A', 'barrowful', 'will', 'do', ',', 'to', 'begin', 'with', '.', \"'\", \"'\", 'A', 'barrowful', 'of', 'WHAT', '?', \"'\", 'thought', 'Alice', ';', 'but', 'she', 'had', 'not', 'long', 'to', 'doubt', ',', 'for', 'the', 'next', 'moment', 'a', 'shower', 'of', 'little', 'pebbles', 'came', 'rattling', 'in', 'at', 'the', 'window', ',', 'and', 'some', 'of', 'them', 'hit', 'her', 'in', 'the', 'face', '.', \"'\", 'I', \"'ll\", 'put', 'a', 'stop', 'to', 'this', ',', \"'\", 'she', 'said', 'to', 'herself', ',', 'and', 'shouted', 'out', ',', \"'You\", \"'d\", 'better', 'not', 'do', 'that', 'again', '!', \"'\", 'which', 'produced', 'another', 'dead', 'silence', '.', 'Alice', 'noticed', 'with', 'some', 'surprise', 'that', 'the', 'pebbles', 'were', 'all', 'turning', 'into', 'little', 'cakes', 'as', 'they', 'lay', 'on', 'the', 'floor', ',', 'and', 'a', 'bright', 'idea', 'came', 'into', 'her', 'head', '.', \"'If\", 'I', 'eat', 'one', 'of', 'these', 'cakes', ',', \"'\", 'she', 'thought', ',', \"'it\", \"'s\", 'sure', 'to', 'make', 'SOME', 'change', 'in', 'my', 'size', ';', 'and', 'as', 'it', 'ca', \"n't\", 'possibly', 'make', 'me', 'larger', ',', 'it', 'must', 'make', 'me', 'smaller', ',', 'I', 'suppose', '.', \"'\", 'So', 'she', 'swallowed', 'one', 'of', 'the', 'cakes', ',', 'and', 'was', 'delighted', 'to', 'find', 'that', 'she', 'began', 'shrinking', 'directly', '.', 'As', 'soon', 'as', 'she', 'was', 'small', 'enough', 'to', 'get', 'through', 'the', 'door', ',', 'she', 'ran', 'out', 'of', 'the', 'house', ',', 'and', 'found', 'quite', 'a', 'crowd', 'of', 'little', 'animals', 'and', 'birds', 'waiting', 'outside', '.', 'The', 'poor', 'little', 'Lizard', ',', 'Bill', ',', 'was', 'in', 'the', 'middle', ',', 'being', 'held', 'up', 'by', 'two', 'guinea-pigs', ',', 'who', 'were', 'giving', 'it', 'something', 'out', 'of', 'a', 'bottle', '.', 'They', 'all', 'made', 'a', 'rush', 'at', 'Alice', 'the', 'moment', 'she', 'appeared', ';', 'but', 'she', 'ran', 'off', 'as', 'hard', 'as', 'she', 'could', ',', 'and', 'soon', 'found', 'herself', 'safe', 'in', 'a', 'thick', 'wood', '.', \"'The\", 'first', 'thing', 'I', \"'ve\", 'got', 'to', 'do', ',', \"'\", 'said', 'Alice', 'to', 'herself', ',', 'as', 'she', 'wandered', 'about', 'in', 'the', 'wood', ',', \"'is\", 'to', 'grow', 'to', 'my', 'right', 'size', 'again', ';', 'and', 'the', 'second', 'thing', 'is', 'to', 'find', 'my', 'way', 'into', 'that', 'lovely', 'garden', '.', 'I', 'think', 'that', 'will', 'be', 'the', 'best', 'plan', '.', \"'\", 'It', 'sounded', 'an', 'excellent', 'plan', ',', 'no', 'doubt', ',', 'and', 'very', 'neatly', 'and', 'simply', 'arranged', ';', 'the', 'only', 'difficulty', 'was', ',', 'that', 'she', 'had', 'not', 'the', 'smallest', 'idea', 'how', 'to', 'set', 'about', 'it', ';', 'and', 'while', 'she', 'was', 'peering', 'about', 'anxiously', 'among', 'the', 'trees', ',', 'a', 'little', 'sharp', 'bark', 'just', 'over', 'her', 'head', 'made', 'her', 'look', 'up', 'in', 'a', 'great', 'hurry', '.', 'An', 'enormous', 'puppy', 'was', 'looking', 'down', 'at', 'her', 'with', 'large', 'round', 'eyes', ',', 'and', 'feebly', 'stretching', 'out', 'one', 'paw', ',', 'trying', 'to', 'touch', 'her', '.', \"'Poor\", 'little', 'thing', '!', \"'\", 'said', 'Alice', ',', 'in', 'a', 'coaxing', 'tone', ',', 'and', 'she', 'tried', 'hard', 'to', 'whistle', 'to', 'it', ';', 'but', 'she', 'was', 'terribly', 'frightened', 'all', 'the', 'time', 'at', 'the', 'thought', 'that', 'it', 'might', 'be', 'hungry', ',', 'in', 'which', 'case', 'it', 'would', 'be', 'very', 'likely', 'to', 'eat', 'her', 'up', 'in', 'spite', 'of', 'all', 'her', 'coaxing', '.', 'Hardly', 'knowing', 'what', 'she', 'did', ',', 'she', 'picked', 'up', 'a', 'little', 'bit', 'of', 'stick', ',', 'and', 'held', 'it', 'out', 'to', 'the', 'puppy', ';', 'whereupon', 'the', 'puppy', 'jumped', 'into', 'the', 'air', 'off', 'all', 'its', 'feet', 'at', 'once', ',', 'with', 'a', 'yelp', 'of', 'delight', ',', 'and', 'rushed', 'at', 'the', 'stick', ',', 'and', 'made', 'believe', 'to', 'worry', 'it', ';', 'then', 'Alice', 'dodged', 'behind', 'a', 'great', 'thistle', ',', 'to', 'keep', 'herself', 'from', 'being', 'run', 'over', ';', 'and', 'the', 'moment', 'she', 'appeared', 'on', 'the', 'other', 'side', ',', 'the', 'puppy', 'made', 'another', 'rush', 'at', 'the', 'stick', ',', 'and', 'tumbled', 'head', 'over', 'heels', 'in', 'its', 'hurry', 'to', 'get', 'hold', 'of', 'it', ';', 'then', 'Alice', ',', 'thinking', 'it', 'was', 'very', 'like', 'having', 'a', 'game', 'of', 'play', 'with', 'a', 'cart-horse', ',', 'and', 'expecting', 'every', 'moment', 'to', 'be', 'trampled', 'under', 'its', 'feet', ',', 'ran', 'round', 'the', 'thistle', 'again', ';', 'then', 'the', 'puppy', 'began', 'a', 'series', 'of', 'short', 'charges', 'at', 'the', 'stick', ',', 'running', 'a', 'very', 'little', 'way', 'forwards', 'each', 'time', 'and', 'a', 'long', 'way', 'back', ',', 'and', 'barking', 'hoarsely', 'all', 'the', 'while', ',', 'till', 'at', 'last', 'it', 'sat', 'down', 'a', 'good', 'way', 'off', ',', 'panting', ',', 'with', 'its', 'tongue', 'hanging', 'out', 'of', 'its', 'mouth', ',', 'and', 'its', 'great', 'eyes', 'half', 'shut', '.', 'This', 'seemed', 'to', 'Alice', 'a', 'good', 'opportunity', 'for', 'making', 'her', 'escape', ';', 'so', 'she', 'set', 'off', 'at', 'once', ',', 'and', 'ran', 'till', 'she', 'was', 'quite', 'tired', 'and', 'out', 'of', 'breath', ',', 'and', 'till', 'the', 'puppy', \"'s\", 'bark', 'sounded', 'quite', 'faint', 'in', 'the', 'distance', '.', \"'And\", 'yet', 'what', 'a', 'dear', 'little', 'puppy', 'it', 'was', '!', \"'\", 'said', 'Alice', ',', 'as', 'she', 'leant', 'against', 'a', 'buttercup', 'to', 'rest', 'herself', ',', 'and', 'fanned', 'herself', 'with', 'one', 'of', 'the', 'leaves', ':', \"'\", 'I', 'should', 'have', 'liked', 'teaching', 'it', 'tricks', 'very', 'much', ',', 'if', '--', 'if', \"I'd\", 'only', 'been', 'the', 'right', 'size', 'to', 'do', 'it', '!', 'Oh', 'dear', '!', 'I', \"'d\", 'nearly', 'forgotten', 'that', 'I', \"'ve\", 'got', 'to', 'grow', 'up', 'again', '!', 'Let', 'me', 'see', '--', 'how', 'IS', 'it', 'to', 'be', 'managed', '?', 'I', 'suppose', 'I', 'ought', 'to', 'eat', 'or', 'drink', 'something', 'or', 'other', ';', 'but', 'the', 'great', 'question', 'is', ',', 'what', '?', \"'\", 'The', 'great', 'question', 'certainly', 'was', ',', 'what', '?', 'Alice', 'looked', 'all', 'round', 'her', 'at', 'the', 'flowers', 'and', 'the', 'blades', 'of', 'grass', ',', 'but', 'she', 'did', 'not', 'see', 'anything', 'that', 'looked', 'like', 'the', 'right', 'thing', 'to', 'eat', 'or', 'drink', 'under', 'the', 'circumstances', '.', 'There', 'was', 'a', 'large', 'mushroom', 'growing', 'near', 'her', ',', 'about', 'the', 'same', 'height', 'as', 'herself', ';', 'and', 'when', 'she', 'had', 'looked', 'under', 'it', ',', 'and', 'on', 'both', 'sides', 'of', 'it', ',', 'and', 'behind', 'it', ',', 'it', 'occurred', 'to', 'her', 'that', 'she', 'might', 'as', 'well', 'look', 'and', 'see', 'what', 'was', 'on', 'the', 'top', 'of', 'it', '.', 'She', 'stretched', 'herself', 'up', 'on', 'tiptoe', ',', 'and', 'peeped', 'over', 'the', 'edge', 'of', 'the', 'mushroom', ',', 'and', 'her', 'eyes', 'immediately', 'met', 'those', 'of', 'a', 'large', 'caterpillar', ',', 'that', 'was', 'sitting', 'on', 'the', 'top', 'with', 'its', 'arms', 'folded', ',', 'quietly', 'smoking', 'a', 'long', 'hookah', ',', 'and', 'taking', 'not', 'the', 'smallest', 'notice', 'of', 'her', 'or', 'of', 'anything', 'else', '.', 'CHAPTER', 'V.', 'Advice', 'from', 'a', 'Caterpillar', 'The', 'Caterpillar', 'and', 'Alice', 'looked', 'at', 'each', 'other', 'for', 'some', 'time', 'in', 'silence', ':', 'at', 'last', 'the', 'Caterpillar', 'took', 'the', 'hookah', 'out', 'of', 'its', 'mouth', ',', 'and', 'addressed', 'her', 'in', 'a', 'languid', ',', 'sleepy', 'voice', '.', \"'Who\", 'are', 'YOU', '?', \"'\", 'said', 'the', 'Caterpillar', '.', 'This', 'was', 'not', 'an', 'encouraging', 'opening', 'for', 'a', 'conversation', '.', 'Alice', 'replied', ',', 'rather', 'shyly', ',', \"'\", 'I', '--', 'I', 'hardly', 'know', ',', 'sir', ',', 'just', 'at', 'present', '--', 'at', 'least', 'I', 'know', 'who', 'I', 'WAS', 'when', 'I', 'got', 'up', 'this', 'morning', ',', 'but', 'I', 'think', 'I', 'must', 'have', 'been', 'changed', 'several', 'times', 'since', 'then', '.', \"'\", \"'What\", 'do', 'you', 'mean', 'by', 'that', '?', \"'\", 'said', 'the', 'Caterpillar', 'sternly', '.', \"'Explain\", 'yourself', '!', \"'\", \"'\", 'I', 'ca', \"n't\", 'explain', 'MYSELF', ',', 'I', \"'m\", 'afraid', ',', 'sir', \"'\", 'said', 'Alice', ',', \"'because\", 'I', \"'m\", 'not', 'myself', ',', 'you', 'see', '.', \"'\", \"'\", 'I', 'do', \"n't\", 'see', ',', \"'\", 'said', 'the', 'Caterpillar', '.', \"'\", 'I', \"'m\", 'afraid', 'I', 'ca', \"n't\", 'put', 'it', 'more', 'clearly', ',', \"'\", 'Alice', 'replied', 'very', 'politely', ',', \"'for\", 'I', 'ca', \"n't\", 'understand', 'it', 'myself', 'to', 'begin', 'with', ';', 'and', 'being', 'so', 'many', 'different', 'sizes', 'in', 'a', 'day', 'is', 'very', 'confusing', '.', \"'\", \"'It\", 'is', \"n't\", ',', \"'\", 'said', 'the', 'Caterpillar', '.', \"'Well\", ',', 'perhaps', 'you', 'have', \"n't\", 'found', 'it', 'so', 'yet', ',', \"'\", 'said', 'Alice', ';', \"'but\", 'when', 'you', 'have', 'to', 'turn', 'into', 'a', 'chrysalis', '--', 'you', 'will', 'some', 'day', ',', 'you', 'know', '--', 'and', 'then', 'after', 'that', 'into', 'a', 'butterfly', ',', 'I', 'should', 'think', 'you', \"'ll\", 'feel', 'it', 'a', 'little', 'queer', ',', 'wo', \"n't\", 'you', '?', \"'\", \"'Not\", 'a', 'bit', ',', \"'\", 'said', 'the', 'Caterpillar', '.', \"'Well\", ',', 'perhaps', 'your', 'feelings', 'may', 'be', 'different', ',', \"'\", 'said', 'Alice', ';', \"'all\", 'I', 'know', 'is', ',', 'it', 'would', 'feel', 'very', 'queer', 'to', 'ME', '.', \"'\", \"'You\", '!', \"'\", 'said', 'the', 'Caterpillar', 'contemptuously', '.', \"'Who\", 'are', 'YOU', '?', \"'\", 'Which', 'brought', 'them', 'back', 'again', 'to', 'the', 'beginning', 'of', 'the', 'conversation', '.', 'Alice', 'felt', 'a', 'little', 'irritated', 'at', 'the', 'Caterpillar', \"'s\", 'making', 'such', 'VERY', 'short', 'remarks', ',', 'and', 'she', 'drew', 'herself', 'up', 'and', 'said', ',', 'very', 'gravely', ',', \"'\", 'I', 'think', ',', 'you', 'ought', 'to', 'tell', 'me', 'who', 'YOU', 'are', ',', 'first', '.', \"'\", \"'Why\", '?', \"'\", 'said', 'the', 'Caterpillar', '.', 'Here', 'was', 'another', 'puzzling', 'question', ';', 'and', 'as', 'Alice', 'could', 'not', 'think', 'of', 'any', 'good', 'reason', ',', 'and', 'as', 'the', 'Caterpillar', 'seemed', 'to', 'be', 'in', 'a', 'VERY', 'unpleasant', 'state', 'of', 'mind', ',', 'she', 'turned', 'away', '.', \"'Come\", 'back', '!', \"'\", 'the', 'Caterpillar', 'called', 'after', 'her', '.', \"'\", 'I', \"'ve\", 'something', 'important', 'to', 'say', '!', \"'\", 'This', 'sounded', 'promising', ',', 'certainly', ':', 'Alice', 'turned', 'and', 'came', 'back', 'again', '.', \"'Keep\", 'your', 'temper', ',', \"'\", 'said', 'the', 'Caterpillar', '.', \"'Is\", 'that', 'all', '?', \"'\", 'said', 'Alice', ',', 'swallowing', 'down', 'her', 'anger', 'as', 'well', 'as', 'she', 'could', '.', \"'No\", ',', \"'\", 'said', 'the', 'Caterpillar', '.', 'Alice', 'thought', 'she', 'might', 'as', 'well', 'wait', ',', 'as', 'she', 'had', 'nothing', 'else', 'to', 'do', ',', 'and', 'perhaps', 'after', 'all', 'it', 'might', 'tell', 'her', 'something', 'worth', 'hearing', '.', 'For', 'some', 'minutes', 'it', 'puffed', 'away', 'without', 'speaking', ',', 'but', 'at', 'last', 'it', 'unfolded', 'its', 'arms', ',', 'took', 'the', 'hookah', 'out', 'of', 'its', 'mouth', 'again', ',', 'and', 'said', ',', \"'So\", 'you', 'think', 'you', \"'re\", 'changed', ',', 'do', 'you', '?', \"'\", \"'\", 'I', \"'m\", 'afraid', 'I', 'am', ',', 'sir', ',', \"'\", 'said', 'Alice', ';', \"'\", 'I', 'ca', \"n't\", 'remember', 'things', 'as', 'I', 'used', '--', 'and', 'I', 'do', \"n't\", 'keep', 'the', 'same', 'size', 'for', 'ten', 'minutes', 'together', '!', \"'\", \"'Ca\", \"n't\", 'remember', 'WHAT', 'things', '?', \"'\", 'said', 'the', 'Caterpillar', '.', \"'Well\", ',', 'I', \"'ve\", 'tried', 'to', 'say', '``', 'HOW', 'DOTH', 'THE', 'LITTLE', 'BUSY', 'BEE', ',', \"''\", 'but', 'it', 'all', 'came', 'different', '!', \"'\", 'Alice', 'replied', 'in', 'a', 'very', 'melancholy', 'voice', '.', \"'Repeat\", ',', '``', 'YOU', 'ARE', 'OLD', ',', 'FATHER', 'WILLIAM', ',', \"''\", \"'\", 'said', 'the', 'Caterpillar', '.', 'Alice', 'folded', 'her', 'hands', ',', 'and', 'began', ':', '--', \"'You\", 'are', 'old', ',', 'Father', 'William', ',', \"'\", 'the', 'young', 'man', 'said', ',', \"'And\", 'your', 'hair', 'has', 'become', 'very', 'white', ';', 'And', 'yet', 'you', 'incessantly', 'stand', 'on', 'your', 'head', '--', 'Do', 'you', 'think', ',', 'at', 'your', 'age', ',', 'it', 'is', 'right', '?', \"'\", \"'In\", 'my', 'youth', ',', \"'\", 'Father', 'William', 'replied', 'to', 'his', 'son', ',', \"'\", 'I', 'feared', 'it', 'might', 'injure', 'the', 'brain', ';', 'But', ',', 'now', 'that', 'I', \"'m\", 'perfectly', 'sure', 'I', 'have', 'none', ',', 'Why', ',', 'I', 'do', 'it', 'again', 'and', 'again', '.', \"'\", \"'You\", 'are', 'old', ',', \"'\", 'said', 'the', 'youth', ',', \"'as\", 'I', 'mentioned', 'before', ',', 'And', 'have', 'grown', 'most', 'uncommonly', 'fat', ';', 'Yet', 'you', 'turned', 'a', 'back-somersault', 'in', 'at', 'the', 'door', '--', 'Pray', ',', 'what', 'is', 'the', 'reason', 'of', 'that', '?', \"'\", \"'In\", 'my', 'youth', ',', \"'\", 'said', 'the', 'sage', ',', 'as', 'he', 'shook', 'his', 'grey', 'locks', ',', \"'\", 'I', 'kept', 'all', 'my', 'limbs', 'very', 'supple', 'By', 'the', 'use', 'of', 'this', 'ointment', '--', 'one', 'shilling', 'the', 'box', '--', 'Allow', 'me', 'to', 'sell', 'you', 'a', 'couple', '?', \"'\", \"'You\", 'are', 'old', ',', \"'\", 'said', 'the', 'youth', ',', \"'and\", 'your', 'jaws', 'are', 'too', 'weak', 'For', 'anything', 'tougher', 'than', 'suet', ';', 'Yet', 'you', 'finished', 'the', 'goose', ',', 'with', 'the', 'bones', 'and', 'the', 'beak', '--', 'Pray', 'how', 'did', 'you', 'manage', 'to', 'do', 'it', '?', \"'\", \"'In\", 'my', 'youth', ',', \"'\", 'said', 'his', 'father', ',', \"'\", 'I', 'took', 'to', 'the', 'law', ',', 'And', 'argued', 'each', 'case', 'with', 'my', 'wife', ';', 'And', 'the', 'muscular', 'strength', ',', 'which', 'it', 'gave', 'to', 'my', 'jaw', ',', 'Has', 'lasted', 'the', 'rest', 'of', 'my', 'life', '.', \"'\", \"'You\", 'are', 'old', ',', \"'\", 'said', 'the', 'youth', ',', \"'one\", 'would', 'hardly', 'suppose', 'That', 'your', 'eye', 'was', 'as', 'steady', 'as', 'ever', ';', 'Yet', 'you', 'balanced', 'an', 'eel', 'on', 'the', 'end', 'of', 'your', 'nose', '--', 'What', 'made', 'you', 'so', 'awfully', 'clever', '?', \"'\", \"'\", 'I', 'have', 'answered', 'three', 'questions', ',', 'and', 'that', 'is', 'enough', ',', \"'\", 'Said', 'his', 'father', ';', \"'do\", \"n't\", 'give', 'yourself', 'airs', '!', 'Do', 'you', 'think', 'I', 'can', 'listen', 'all', 'day', 'to', 'such', 'stuff', '?', 'Be', 'off', ',', 'or', 'I', \"'ll\", 'kick', 'you', 'down', 'stairs', '!', \"'\", \"'That\", 'is', 'not', 'said', 'right', ',', \"'\", 'said', 'the', 'Caterpillar', '.', \"'Not\", 'QUITE', 'right', ',', 'I', \"'m\", 'afraid', ',', \"'\", 'said', 'Alice', ',', 'timidly', ';', \"'some\", 'of', 'the', 'words', 'have', 'got', 'altered', '.', \"'\", \"'It\", 'is', 'wrong', 'from', 'beginning', 'to', 'end', ',', \"'\", 'said', 'the', 'Caterpillar', 'decidedly', ',', 'and', 'there', 'was', 'silence', 'for', 'some', 'minutes', '.', 'The', 'Caterpillar', 'was', 'the', 'first', 'to', 'speak', '.', \"'What\", 'size', 'do', 'you', 'want', 'to', 'be', '?', \"'\", 'it', 'asked', '.', \"'Oh\", ',', 'I', \"'m\", 'not', 'particular', 'as', 'to', 'size', ',', \"'\", 'Alice', 'hastily', 'replied', ';', \"'only\", 'one', 'does', \"n't\", 'like', 'changing', 'so', 'often', ',', 'you', 'know', '.', \"'\", \"'\", 'I', 'DO', \"N'T\", 'know', ',', \"'\", 'said', 'the', 'Caterpillar', '.', 'Alice', 'said', 'nothing', ':', 'she', 'had', 'never', 'been', 'so', 'much', 'contradicted', 'in', 'her', 'life', 'before', ',', 'and', 'she', 'felt', 'that', 'she', 'was', 'losing', 'her', 'temper', '.', \"'Are\", 'you', 'content', 'now', '?', \"'\", 'said', 'the', 'Caterpillar', '.', \"'Well\", ',', 'I', 'should', 'like', 'to', 'be', 'a', 'LITTLE', 'larger', ',', 'sir', ',', 'if', 'you', 'would', \"n't\", 'mind', ',', \"'\", 'said', 'Alice', ':', \"'three\", 'inches', 'is', 'such', 'a', 'wretched', 'height', 'to', 'be', '.', \"'\", \"'It\", 'is', 'a', 'very', 'good', 'height', 'indeed', '!', \"'\", 'said', 'the', 'Caterpillar', 'angrily', ',', 'rearing', 'itself', 'upright', 'as', 'it', 'spoke', '(', 'it', 'was', 'exactly', 'three', 'inches', 'high', ')', '.', \"'But\", 'I', \"'m\", 'not', 'used', 'to', 'it', '!', \"'\", 'pleaded', 'poor', 'Alice', 'in', 'a', 'piteous', 'tone', '.', 'And', 'she', 'thought', 'of', 'herself', ',', \"'\", 'I', 'wish', 'the', 'creatures', 'would', \"n't\", 'be', 'so', 'easily', 'offended', '!', \"'\", \"'You\", \"'ll\", 'get', 'used', 'to', 'it', 'in', 'time', ',', \"'\", 'said', 'the', 'Caterpillar', ';', 'and', 'it', 'put', 'the', 'hookah', 'into', 'its', 'mouth', 'and', 'began', 'smoking', 'again', '.', 'This', 'time', 'Alice', 'waited', 'patiently', 'until', 'it', 'chose', 'to', 'speak', 'again', '.', 'In', 'a', 'minute', 'or', 'two', 'the', 'Caterpillar', 'took', 'the', 'hookah', 'out', 'of', 'its', 'mouth', 'and', 'yawned', 'once', 'or', 'twice', ',', 'and', 'shook', 'itself', '.', 'Then', 'it', 'got', 'down', 'off', 'the', 'mushroom', ',', 'and', 'crawled', 'away', 'in', 'the', 'grass', ',', 'merely', 'remarking', 'as', 'it', 'went', ',', \"'One\", 'side', 'will', 'make', 'you', 'grow', 'taller', ',', 'and', 'the', 'other', 'side', 'will', 'make', 'you', 'grow', 'shorter', '.', \"'\", \"'One\", 'side', 'of', 'WHAT', '?', 'The', 'other', 'side', 'of', 'WHAT', '?', \"'\", 'thought', 'Alice', 'to', 'herself', '.', \"'Of\", 'the', 'mushroom', ',', \"'\", 'said', 'the', 'Caterpillar', ',', 'just', 'as', 'if', 'she', 'had', 'asked', 'it', 'aloud', ';', 'and', 'in', 'another', 'moment', 'it', 'was', 'out', 'of', 'sight', '.', 'Alice', 'remained', 'looking', 'thoughtfully', 'at', 'the', 'mushroom', 'for', 'a', 'minute', ',', 'trying', 'to', 'make', 'out', 'which', 'were', 'the', 'two', 'sides', 'of', 'it', ';', 'and', 'as', 'it', 'was', 'perfectly', 'round', ',', 'she', 'found', 'this', 'a', 'very', 'difficult', 'question', '.', 'However', ',', 'at', 'last', 'she', 'stretched', 'her', 'arms', 'round', 'it', 'as', 'far', 'as', 'they', 'would', 'go', ',', 'and', 'broke', 'off', 'a', 'bit', 'of', 'the', 'edge', 'with', 'each', 'hand', '.', \"'And\", 'now', 'which', 'is', 'which', '?', \"'\", 'she', 'said', 'to', 'herself', ',', 'and', 'nibbled', 'a', 'little', 'of', 'the', 'right-hand', 'bit', 'to', 'try', 'the', 'effect', ':', 'the', 'next', 'moment', 'she', 'felt', 'a', 'violent', 'blow', 'underneath', 'her', 'chin', ':', 'it', 'had', 'struck', 'her', 'foot', '!', 'She', 'was', 'a', 'good', 'deal', 'frightened', 'by', 'this', 'very', 'sudden', 'change', ',', 'but', 'she', 'felt', 'that', 'there', 'was', 'no', 'time', 'to', 'be', 'lost', ',', 'as', 'she', 'was', 'shrinking', 'rapidly', ';', 'so', 'she', 'set', 'to', 'work', 'at', 'once', 'to', 'eat', 'some', 'of', 'the', 'other', 'bit', '.', 'Her', 'chin', 'was', 'pressed', 'so', 'closely', 'against', 'her', 'foot', ',', 'that', 'there', 'was', 'hardly', 'room', 'to', 'open', 'her', 'mouth', ';', 'but', 'she', 'did', 'it', 'at', 'last', ',', 'and', 'managed', 'to', 'swallow', 'a', 'morsel', 'of', 'the', 'lefthand', 'bit', '.', '*', '*', '*', '*', '*', '*', '*', '*', '*', '*', '*', '*', '*', '*', '*', '*', '*', '*', '*', '*', \"'Come\", ',', 'my', 'head', \"'s\", 'free', 'at', 'last', '!', \"'\", 'said', 'Alice', 'in', 'a', 'tone', 'of', 'delight', ',', 'which', 'changed', 'into', 'alarm', 'in', 'another', 'moment', ',', 'when', 'she', 'found', 'that', 'her', 'shoulders', 'were', 'nowhere', 'to', 'be', 'found', ':', 'all', 'she', 'could', 'see', ',', 'when', 'she', 'looked', 'down', ',', 'was', 'an', 'immense', 'length', 'of', 'neck', ',', 'which', 'seemed', 'to', 'rise', 'like', 'a', 'stalk', 'out', 'of', 'a', 'sea', 'of', 'green', 'leaves', 'that', 'lay', 'far', 'below', 'her', '.', \"'What\", 'CAN', 'all', 'that', 'green', 'stuff', 'be', '?', \"'\", 'said', 'Alice', '.', \"'And\", 'where', 'HAVE', 'my', 'shoulders', 'got', 'to', '?', 'And', 'oh', ',', 'my', 'poor', 'hands', ',', 'how', 'is', 'it', 'I', 'ca', \"n't\", 'see', 'you', '?', \"'\", 'She', 'was', 'moving', 'them', 'about', 'as', 'she', 'spoke', ',', 'but', 'no', 'result', 'seemed', 'to', 'follow', ',', 'except', 'a', 'little', 'shaking', 'among', 'the', 'distant', 'green', 'leaves', '.', 'As', 'there', 'seemed', 'to', 'be', 'no', 'chance', 'of', 'getting', 'her', 'hands', 'up', 'to', 'her', 'head', ',', 'she', 'tried', 'to', 'get', 'her', 'head', 'down', 'to', 'them', ',', 'and', 'was', 'delighted', 'to', 'find', 'that', 'her', 'neck', 'would', 'bend', 'about', 'easily', 'in', 'any', 'direction', ',', 'like', 'a', 'serpent', '.', 'She', 'had', 'just', 'succeeded', 'in', 'curving', 'it', 'down', 'into', 'a', 'graceful', 'zigzag', ',', 'and', 'was', 'going', 'to', 'dive', 'in', 'among', 'the', 'leaves', ',', 'which', 'she', 'found', 'to', 'be', 'nothing', 'but', 'the', 'tops', 'of', 'the', 'trees', 'under', 'which', 'she', 'had', 'been', 'wandering', ',', 'when', 'a', 'sharp', 'hiss', 'made', 'her', 'draw', 'back', 'in', 'a', 'hurry', ':', 'a', 'large', 'pigeon', 'had', 'flown', 'into', 'her', 'face', ',', 'and', 'was', 'beating', 'her', 'violently', 'with', 'its', 'wings', '.', \"'Serpent\", '!', \"'\", 'screamed', 'the', 'Pigeon', '.', \"'\", 'I', \"'m\", 'NOT', 'a', 'serpent', '!', \"'\", 'said', 'Alice', 'indignantly', '.', \"'Let\", 'me', 'alone', '!', \"'\", \"'Serpent\", ',', 'I', 'say', 'again', '!', \"'\", 'repeated', 'the', 'Pigeon', ',', 'but', 'in', 'a', 'more', 'subdued', 'tone', ',', 'and', 'added', 'with', 'a', 'kind', 'of', 'sob', ',', \"'\", 'I', \"'ve\", 'tried', 'every', 'way', ',', 'and', 'nothing', 'seems', 'to', 'suit', 'them', '!', \"'\", \"'\", 'I', 'have', \"n't\", 'the', 'least', 'idea', 'what', 'you', \"'re\", 'talking', 'about', ',', \"'\", 'said', 'Alice', '.', \"'\", 'I', \"'ve\", 'tried', 'the', 'roots', 'of', 'trees', ',', 'and', 'I', \"'ve\", 'tried', 'banks', ',', 'and', 'I', \"'ve\", 'tried', 'hedges', ',', \"'\", 'the', 'Pigeon', 'went', 'on', ',', 'without', 'attending', 'to', 'her', ';', \"'but\", 'those', 'serpents', '!', 'There', \"'s\", 'no', 'pleasing', 'them', '!', \"'\", 'Alice', 'was', 'more', 'and', 'more', 'puzzled', ',', 'but', 'she', 'thought', 'there', 'was', 'no', 'use', 'in', 'saying', 'anything', 'more', 'till', 'the', 'Pigeon', 'had', 'finished', '.', \"'As\", 'if', 'it', 'was', \"n't\", 'trouble', 'enough', 'hatching', 'the', 'eggs', ',', \"'\", 'said', 'the', 'Pigeon', ';', \"'but\", 'I', 'must', 'be', 'on', 'the', 'look-out', 'for', 'serpents', 'night', 'and', 'day', '!', 'Why', ',', 'I', 'have', \"n't\", 'had', 'a', 'wink', 'of', 'sleep', 'these', 'three', 'weeks', '!', \"'\", \"'\", 'I', \"'m\", 'very', 'sorry', 'you', \"'ve\", 'been', 'annoyed', ',', \"'\", 'said', 'Alice', ',', 'who', 'was', 'beginning', 'to', 'see', 'its', 'meaning', '.', \"'And\", 'just', 'as', 'I', \"'d\", 'taken', 'the', 'highest', 'tree', 'in', 'the', 'wood', ',', \"'\", 'continued', 'the', 'Pigeon', ',', 'raising', 'its', 'voice', 'to', 'a', 'shriek', ',', \"'and\", 'just', 'as', 'I', 'was', 'thinking', 'I', 'should', 'be', 'free', 'of', 'them', 'at', 'last', ',', 'they', 'must', 'needs', 'come', 'wriggling', 'down', 'from', 'the', 'sky', '!', 'Ugh', ',', 'Serpent', '!', \"'\", \"'But\", 'I', \"'m\", 'NOT', 'a', 'serpent', ',', 'I', 'tell', 'you', '!', \"'\", 'said', 'Alice', '.', \"'\", 'I', \"'m\", 'a', '--', 'I', \"'m\", 'a', '--', \"'\", \"'Well\", '!', 'WHAT', 'are', 'you', '?', \"'\", 'said', 'the', 'Pigeon', '.', \"'\", 'I', 'can', 'see', 'you', \"'re\", 'trying', 'to', 'invent', 'something', '!', \"'\", \"'\", 'I', '--', 'I', \"'m\", 'a', 'little', 'girl', ',', \"'\", 'said', 'Alice', ',', 'rather', 'doubtfully', ',', 'as', 'she', 'remembered', 'the', 'number', 'of', 'changes', 'she', 'had', 'gone', 'through', 'that', 'day', '.', \"'\", 'A', 'likely', 'story', 'indeed', '!', \"'\", 'said', 'the', 'Pigeon', 'in', 'a', 'tone', 'of', 'the', 'deepest', 'contempt', '.', \"'\", 'I', \"'ve\", 'seen', 'a', 'good', 'many', 'little', 'girls', 'in', 'my', 'time', ',', 'but', 'never', 'ONE', 'with', 'such', 'a', 'neck', 'as', 'that', '!', 'No', ',', 'no', '!', 'You', \"'re\", 'a', 'serpent', ';', 'and', 'there', \"'s\", 'no', 'use', 'denying', 'it', '.', 'I', 'suppose', 'you', \"'ll\", 'be', 'telling', 'me', 'next', 'that', 'you', 'never', 'tasted', 'an', 'egg', '!', \"'\", \"'\", 'I', 'HAVE', 'tasted', 'eggs', ',', 'certainly', ',', \"'\", 'said', 'Alice', ',', 'who', 'was', 'a', 'very', 'truthful', 'child', ';', \"'but\", 'little', 'girls', 'eat', 'eggs', 'quite', 'as', 'much', 'as', 'serpents', 'do', ',', 'you', 'know', '.', \"'\", \"'\", 'I', 'do', \"n't\", 'believe', 'it', ',', \"'\", 'said', 'the', 'Pigeon', ';', \"'but\", 'if', 'they', 'do', ',', 'why', 'then', \"they're\", 'a', 'kind', 'of', 'serpent', ',', 'that', \"'s\", 'all', 'I', 'can', 'say', '.', \"'\", 'This', 'was', 'such', 'a', 'new', 'idea', 'to', 'Alice', ',', 'that', 'she', 'was', 'quite', 'silent', 'for', 'a', 'minute', 'or', 'two', ',', 'which', 'gave', 'the', 'Pigeon', 'the', 'opportunity', 'of', 'adding', ',', \"'You're\", 'looking', 'for', 'eggs', ',', 'I', 'know', 'THAT', 'well', 'enough', ';', 'and', 'what', 'does', 'it', 'matter', 'to', 'me', 'whether', 'you', \"'re\", 'a', 'little', 'girl', 'or', 'a', 'serpent', '?', \"'\", \"'It\", 'matters', 'a', 'good', 'deal', 'to', 'ME', ',', \"'\", 'said', 'Alice', 'hastily', ';', \"'but\", 'I', \"'m\", 'not', 'looking', 'for', 'eggs', ',', 'as', 'it', 'happens', ';', 'and', 'if', 'I', 'was', ',', 'I', 'should', \"n't\", 'want', 'YOURS', ':', 'I', \"don't\", 'like', 'them', 'raw', '.', \"'\", \"'Well\", ',', 'be', 'off', ',', 'then', '!', \"'\", 'said', 'the', 'Pigeon', 'in', 'a', 'sulky', 'tone', ',', 'as', 'it', 'settled', 'down', 'again', 'into', 'its', 'nest', '.', 'Alice', 'crouched', 'down', 'among', 'the', 'trees', 'as', 'well', 'as', 'she', 'could', ',', 'for', 'her', 'neck', 'kept', 'getting', 'entangled', 'among', 'the', 'branches', ',', 'and', 'every', 'now', 'and', 'then', 'she', 'had', 'to', 'stop', 'and', 'untwist', 'it', '.', 'After', 'a', 'while', 'she', 'remembered', 'that', 'she', 'still', 'held', 'the', 'pieces', 'of', 'mushroom', 'in', 'her', 'hands', ',', 'and', 'she', 'set', 'to', 'work', 'very', 'carefully', ',', 'nibbling', 'first', 'at', 'one', 'and', 'then', 'at', 'the', 'other', ',', 'and', 'growing', 'sometimes', 'taller', 'and', 'sometimes', 'shorter', ',', 'until', 'she', 'had', 'succeeded', 'in', 'bringing', 'herself', 'down', 'to', 'her', 'usual', 'height', '.', 'It', 'was', 'so', 'long', 'since', 'she', 'had', 'been', 'anything', 'near', 'the', 'right', 'size', ',', 'that', 'it', 'felt', 'quite', 'strange', 'at', 'first', ';', 'but', 'she', 'got', 'used', 'to', 'it', 'in', 'a', 'few', 'minutes', ',', 'and', 'began', 'talking', 'to', 'herself', ',', 'as', 'usual', '.', \"'Come\", ',', 'there', \"'s\", 'half', 'my', 'plan', 'done', 'now', '!', 'How', 'puzzling', 'all', 'these', 'changes', 'are', '!', 'I', \"'m\", 'never', 'sure', 'what', 'I', \"'m\", 'going', 'to', 'be', ',', 'from', 'one', 'minute', 'to', 'another', '!', 'However', ',', 'I', \"'ve\", 'got', 'back', 'to', 'my', 'right', 'size', ':', 'the', 'next', 'thing', 'is', ',', 'to', 'get', 'into', 'that', 'beautiful', 'garden', '--', 'how', 'IS', 'that', 'to', 'be', 'done', ',', 'I', 'wonder', '?', \"'\", 'As', 'she', 'said', 'this', ',', 'she', 'came', 'suddenly', 'upon', 'an', 'open', 'place', ',', 'with', 'a', 'little', 'house', 'in', 'it', 'about', 'four', 'feet', 'high', '.', \"'Whoever\", 'lives', 'there', ',', \"'\", 'thought', 'Alice', ',', \"'it\", \"'ll\", 'never', 'do', 'to', 'come', 'upon', 'them', 'THIS', 'size', ':', 'why', ',', 'I', 'should', 'frighten', 'them', 'out', 'of', 'their', 'wits', '!', \"'\", 'So', 'she', 'began', 'nibbling', 'at', 'the', 'righthand', 'bit', 'again', ',', 'and', 'did', 'not', 'venture', 'to', 'go', 'near', 'the', 'house', 'till', 'she', 'had', 'brought', 'herself', 'down', 'to', 'nine', 'inches', 'high', '.', 'CHAPTER', 'VI', '.', 'Pig', 'and', 'Pepper', 'For', 'a', 'minute', 'or', 'two', 'she', 'stood', 'looking', 'at', 'the', 'house', ',', 'and', 'wondering', 'what', 'to', 'do', 'next', ',', 'when', 'suddenly', 'a', 'footman', 'in', 'livery', 'came', 'running', 'out', 'of', 'the', 'wood', '--', '(', 'she', 'considered', 'him', 'to', 'be', 'a', 'footman', 'because', 'he', 'was', 'in', 'livery', ':', 'otherwise', ',', 'judging', 'by', 'his', 'face', 'only', ',', 'she', 'would', 'have', 'called', 'him', 'a', 'fish', ')', '--', 'and', 'rapped', 'loudly', 'at', 'the', 'door', 'with', 'his', 'knuckles', '.', 'It', 'was', 'opened', 'by', 'another', 'footman', 'in', 'livery', ',', 'with', 'a', 'round', 'face', ',', 'and', 'large', 'eyes', 'like', 'a', 'frog', ';', 'and', 'both', 'footmen', ',', 'Alice', 'noticed', ',', 'had', 'powdered', 'hair', 'that', 'curled', 'all', 'over', 'their', 'heads', '.', 'She', 'felt', 'very', 'curious', 'to', 'know', 'what', 'it', 'was', 'all', 'about', ',', 'and', 'crept', 'a', 'little', 'way', 'out', 'of', 'the', 'wood', 'to', 'listen', '.', 'The', 'Fish-Footman', 'began', 'by', 'producing', 'from', 'under', 'his', 'arm', 'a', 'great', 'letter', ',', 'nearly', 'as', 'large', 'as', 'himself', ',', 'and', 'this', 'he', 'handed', 'over', 'to', 'the', 'other', ',', 'saying', ',', 'in', 'a', 'solemn', 'tone', ',', \"'For\", 'the', 'Duchess', '.', 'An', 'invitation', 'from', 'the', 'Queen', 'to', 'play', 'croquet', '.', \"'\", 'The', 'Frog-Footman', 'repeated', ',', 'in', 'the', 'same', 'solemn', 'tone', ',', 'only', 'changing', 'the', 'order', 'of', 'the', 'words', 'a', 'little', ',', \"'From\", 'the', 'Queen', '.', 'An', 'invitation', 'for', 'the', 'Duchess', 'to', 'play', 'croquet', '.', \"'\", 'Then', 'they', 'both', 'bowed', 'low', ',', 'and', 'their', 'curls', 'got', 'entangled', 'together', '.', 'Alice', 'laughed', 'so', 'much', 'at', 'this', ',', 'that', 'she', 'had', 'to', 'run', 'back', 'into', 'the', 'wood', 'for', 'fear', 'of', 'their', 'hearing', 'her', ';', 'and', 'when', 'she', 'next', 'peeped', 'out', 'the', 'Fish-Footman', 'was', 'gone', ',', 'and', 'the', 'other', 'was', 'sitting', 'on', 'the', 'ground', 'near', 'the', 'door', ',', 'staring', 'stupidly', 'up', 'into', 'the', 'sky', '.', 'Alice', 'went', 'timidly', 'up', 'to', 'the', 'door', ',', 'and', 'knocked', '.', \"'There\", \"'s\", 'no', 'sort', 'of', 'use', 'in', 'knocking', ',', \"'\", 'said', 'the', 'Footman', ',', \"'and\", 'that', 'for', 'two', 'reasons', '.', 'First', ',', 'because', 'I', \"'m\", 'on', 'the', 'same', 'side', 'of', 'the', 'door', 'as', 'you', 'are', ';', 'secondly', ',', 'because', 'they', \"'re\", 'making', 'such', 'a', 'noise', 'inside', ',', 'no', 'one', 'could', 'possibly', 'hear', 'you', '.', \"'\", 'And', 'certainly', 'there', 'was', 'a', 'most', 'extraordinary', 'noise', 'going', 'on', 'within', '--', 'a', 'constant', 'howling', 'and', 'sneezing', ',', 'and', 'every', 'now', 'and', 'then', 'a', 'great', 'crash', ',', 'as', 'if', 'a', 'dish', 'or', 'kettle', 'had', 'been', 'broken', 'to', 'pieces', '.', \"'Please\", ',', 'then', ',', \"'\", 'said', 'Alice', ',', \"'how\", 'am', 'I', 'to', 'get', 'in', '?', \"'\", \"'There\", 'might', 'be', 'some', 'sense', 'in', 'your', 'knocking', ',', \"'\", 'the', 'Footman', 'went', 'on', 'without', 'attending', 'to', 'her', ',', \"'if\", 'we', 'had', 'the', 'door', 'between', 'us', '.', 'For', 'instance', ',', 'if', 'you', 'were', 'INSIDE', ',', 'you', 'might', 'knock', ',', 'and', 'I', 'could', 'let', 'you', 'out', ',', 'you', 'know', '.', \"'\", 'He', 'was', 'looking', 'up', 'into', 'the', 'sky', 'all', 'the', 'time', 'he', 'was', 'speaking', ',', 'and', 'this', 'Alice', 'thought', 'decidedly', 'uncivil', '.', \"'But\", 'perhaps', 'he', 'ca', \"n't\", 'help', 'it', ',', \"'\", 'she', 'said', 'to', 'herself', ';', \"'his\", 'eyes', 'are', 'so', 'VERY', 'nearly', 'at', 'the', 'top', 'of', 'his', 'head', '.', 'But', 'at', 'any', 'rate', 'he', 'might', 'answer', 'questions.', '--', 'How', 'am', 'I', 'to', 'get', 'in', '?', \"'\", 'she', 'repeated', ',', 'aloud', '.', \"'\", 'I', 'shall', 'sit', 'here', ',', \"'\", 'the', 'Footman', 'remarked', ',', \"'till\", 'tomorrow', '--', \"'\", 'At', 'this', 'moment', 'the', 'door', 'of', 'the', 'house', 'opened', ',', 'and', 'a', 'large', 'plate', 'came', 'skimming', 'out', ',', 'straight', 'at', 'the', 'Footman', \"'s\", 'head', ':', 'it', 'just', 'grazed', 'his', 'nose', ',', 'and', 'broke', 'to', 'pieces', 'against', 'one', 'of', 'the', 'trees', 'behind', 'him.', \"'\", '--', 'or', 'next', 'day', ',', 'maybe', ',', \"'\", 'the', 'Footman', 'continued', 'in', 'the', 'same', 'tone', ',', 'exactly', 'as', 'if', 'nothing', 'had', 'happened', '.', \"'How\", 'am', 'I', 'to', 'get', 'in', '?', \"'\", 'asked', 'Alice', 'again', ',', 'in', 'a', 'louder', 'tone', '.', \"'ARE\", 'you', 'to', 'get', 'in', 'at', 'all', '?', \"'\", 'said', 'the', 'Footman', '.', \"'That\", \"'s\", 'the', 'first', 'question', ',', 'you', 'know', '.', \"'\", 'It', 'was', ',', 'no', 'doubt', ':', 'only', 'Alice', 'did', 'not', 'like', 'to', 'be', 'told', 'so', '.', \"'It\", \"'s\", 'really', 'dreadful', ',', \"'\", 'she', 'muttered', 'to', 'herself', ',', \"'the\", 'way', 'all', 'the', 'creatures', 'argue', '.', 'It', \"'s\", 'enough', 'to', 'drive', 'one', 'crazy', '!', \"'\", 'The', 'Footman', 'seemed', 'to', 'think', 'this', 'a', 'good', 'opportunity', 'for', 'repeating', 'his', 'remark', ',', 'with', 'variations', '.', \"'\", 'I', 'shall', 'sit', 'here', ',', \"'\", 'he', 'said', ',', \"'on\", 'and', 'off', ',', 'for', 'days', 'and', 'days', '.', \"'\", \"'But\", 'what', 'am', 'I', 'to', 'do', '?', \"'\", 'said', 'Alice', '.', \"'Anything\", 'you', 'like', ',', \"'\", 'said', 'the', 'Footman', ',', 'and', 'began', 'whistling', '.', \"'Oh\", ',', 'there', \"'s\", 'no', 'use', 'in', 'talking', 'to', 'him', ',', \"'\", 'said', 'Alice', 'desperately', ':', \"'he's\", 'perfectly', 'idiotic', '!', \"'\", 'And', 'she', 'opened', 'the', 'door', 'and', 'went', 'in', '.', 'The', 'door', 'led', 'right', 'into', 'a', 'large', 'kitchen', ',', 'which', 'was', 'full', 'of', 'smoke', 'from', 'one', 'end', 'to', 'the', 'other', ':', 'the', 'Duchess', 'was', 'sitting', 'on', 'a', 'three-legged', 'stool', 'in', 'the', 'middle', ',', 'nursing', 'a', 'baby', ';', 'the', 'cook', 'was', 'leaning', 'over', 'the', 'fire', ',', 'stirring', 'a', 'large', 'cauldron', 'which', 'seemed', 'to', 'be', 'full', 'of', 'soup', '.', \"'There\", \"'s\", 'certainly', 'too', 'much', 'pepper', 'in', 'that', 'soup', '!', \"'\", 'Alice', 'said', 'to', 'herself', ',', 'as', 'well', 'as', 'she', 'could', 'for', 'sneezing', '.', 'There', 'was', 'certainly', 'too', 'much', 'of', 'it', 'in', 'the', 'air', '.', 'Even', 'the', 'Duchess', 'sneezed', 'occasionally', ';', 'and', 'as', 'for', 'the', 'baby', ',', 'it', 'was', 'sneezing', 'and', 'howling', 'alternately', 'without', 'a', 'moment', \"'s\", 'pause', '.', 'The', 'only', 'things', 'in', 'the', 'kitchen', 'that', 'did', 'not', 'sneeze', ',', 'were', 'the', 'cook', ',', 'and', 'a', 'large', 'cat', 'which', 'was', 'sitting', 'on', 'the', 'hearth', 'and', 'grinning', 'from', 'ear', 'to', 'ear', '.', \"'Please\", 'would', 'you', 'tell', 'me', ',', \"'\", 'said', 'Alice', ',', 'a', 'little', 'timidly', ',', 'for', 'she', 'was', 'not', 'quite', 'sure', 'whether', 'it', 'was', 'good', 'manners', 'for', 'her', 'to', 'speak', 'first', ',', \"'why\", 'your', 'cat', 'grins', 'like', 'that', '?', \"'\", \"'It\", \"'s\", 'a', 'Cheshire', 'cat', ',', \"'\", 'said', 'the', 'Duchess', ',', \"'and\", 'that', \"'s\", 'why', '.', 'Pig', '!', \"'\", 'She', 'said', 'the', 'last', 'word', 'with', 'such', 'sudden', 'violence', 'that', 'Alice', 'quite', 'jumped', ';', 'but', 'she', 'saw', 'in', 'another', 'moment', 'that', 'it', 'was', 'addressed', 'to', 'the', 'baby', ',', 'and', 'not', 'to', 'her', ',', 'so', 'she', 'took', 'courage', ',', 'and', 'went', 'on', 'again', ':', '--', \"'\", 'I', 'did', \"n't\", 'know', 'that', 'Cheshire', 'cats', 'always', 'grinned', ';', 'in', 'fact', ',', 'I', 'did', \"n't\", 'know', 'that', 'cats', 'COULD', 'grin', '.', \"'\", \"'They\", 'all', 'can', ',', \"'\", 'said', 'the', 'Duchess', ';', \"'and\", 'most', 'of', \"'em\", 'do', '.', \"'\", \"'\", 'I', 'do', \"n't\", 'know', 'of', 'any', 'that', 'do', ',', \"'\", 'Alice', 'said', 'very', 'politely', ',', 'feeling', 'quite', 'pleased', 'to', 'have', 'got', 'into', 'a', 'conversation', '.', \"'You\", 'do', \"n't\", 'know', 'much', ',', \"'\", 'said', 'the', 'Duchess', ';', \"'and\", 'that', \"'s\", 'a', 'fact', '.', \"'\", 'Alice', 'did', 'not', 'at', 'all', 'like', 'the', 'tone', 'of', 'this', 'remark', ',', 'and', 'thought', 'it', 'would', 'be', 'as', 'well', 'to', 'introduce', 'some', 'other', 'subject', 'of', 'conversation', '.', 'While', 'she', 'was', 'trying', 'to', 'fix', 'on', 'one', ',', 'the', 'cook', 'took', 'the', 'cauldron', 'of', 'soup', 'off', 'the', 'fire', ',', 'and', 'at', 'once', 'set', 'to', 'work', 'throwing', 'everything', 'within', 'her', 'reach', 'at', 'the', 'Duchess', 'and', 'the', 'baby', '--', 'the', 'fire-irons', 'came', 'first', ';', 'then', 'followed', 'a', 'shower', 'of', 'saucepans', ',', 'plates', ',', 'and', 'dishes', '.', 'The', 'Duchess', 'took', 'no', 'notice', 'of', 'them', 'even', 'when', 'they', 'hit', 'her', ';', 'and', 'the', 'baby', 'was', 'howling', 'so', 'much', 'already', ',', 'that', 'it', 'was', 'quite', 'impossible', 'to', 'say', 'whether', 'the', 'blows', 'hurt', 'it', 'or', 'not', '.', \"'Oh\", ',', 'PLEASE', 'mind', 'what', 'you', \"'re\", 'doing', '!', \"'\", 'cried', 'Alice', ',', 'jumping', 'up', 'and', 'down', 'in', 'an', 'agony', 'of', 'terror', '.', \"'Oh\", ',', 'there', 'goes', 'his', 'PRECIOUS', 'nose', \"'\", ';', 'as', 'an', 'unusually', 'large', 'saucepan', 'flew', 'close', 'by', 'it', ',', 'and', 'very', 'nearly', 'carried', 'it', 'off', '.', \"'If\", 'everybody', 'minded', 'their', 'own', 'business', ',', \"'\", 'the', 'Duchess', 'said', 'in', 'a', 'hoarse', 'growl', ',', \"'the\", 'world', 'would', 'go', 'round', 'a', 'deal', 'faster', 'than', 'it', 'does', '.', \"'\", \"'Which\", 'would', 'NOT', 'be', 'an', 'advantage', ',', \"'\", 'said', 'Alice', ',', 'who', 'felt', 'very', 'glad', 'to', 'get', 'an', 'opportunity', 'of', 'showing', 'off', 'a', 'little', 'of', 'her', 'knowledge', '.', \"'Just\", 'think', 'of', 'what', 'work', 'it', 'would', 'make', 'with', 'the', 'day', 'and', 'night', '!', 'You', 'see', 'the', 'earth', 'takes', 'twenty-four', 'hours', 'to', 'turn', 'round', 'on', 'its', 'axis', '--', \"'\", \"'Talking\", 'of', 'axes', ',', \"'\", 'said', 'the', 'Duchess', ',', \"'chop\", 'off', 'her', 'head', '!', \"'\", 'Alice', 'glanced', 'rather', 'anxiously', 'at', 'the', 'cook', ',', 'to', 'see', 'if', 'she', 'meant', 'to', 'take', 'the', 'hint', ';', 'but', 'the', 'cook', 'was', 'busily', 'stirring', 'the', 'soup', ',', 'and', 'seemed', 'not', 'to', 'be', 'listening', ',', 'so', 'she', 'went', 'on', 'again', ':', \"'Twenty-four\", 'hours', ',', 'I', 'THINK', ';', 'or', 'is', 'it', 'twelve', '?', 'I', '--', \"'\", \"'Oh\", ',', 'do', \"n't\", 'bother', 'ME', ',', \"'\", 'said', 'the', 'Duchess', ';', \"'\", 'I', 'never', 'could', 'abide', 'figures', '!', \"'\", 'And', 'with', 'that', 'she', 'began', 'nursing', 'her', 'child', 'again', ',', 'singing', 'a', 'sort', 'of', 'lullaby', 'to', 'it', 'as', 'she', 'did', 'so', ',', 'and', 'giving', 'it', 'a', 'violent', 'shake', 'at', 'the', 'end', 'of', 'every', 'line', ':', \"'Speak\", 'roughly', 'to', 'your', 'little', 'boy', ',', 'And', 'beat', 'him', 'when', 'he', 'sneezes', ':', 'He', 'only', 'does', 'it', 'to', 'annoy', ',', 'Because', 'he', 'knows', 'it', 'teases', '.', \"'\", 'CHORUS', '.', '(', 'In', 'which', 'the', 'cook', 'and', 'the', 'baby', 'joined', ')', ':', '--', \"'Wow\", '!', 'wow', '!', 'wow', '!', \"'\", 'While', 'the', 'Duchess', 'sang', 'the', 'second', 'verse', 'of', 'the', 'song', ',', 'she', 'kept', 'tossing', 'the', 'baby', 'violently', 'up', 'and', 'down', ',', 'and', 'the', 'poor', 'little', 'thing', 'howled', 'so', ',', 'that', 'Alice', 'could', 'hardly', 'hear', 'the', 'words', ':', '--', \"'\", 'I', 'speak', 'severely', 'to', 'my', 'boy', ',', 'I', 'beat', 'him', 'when', 'he', 'sneezes', ';', 'For', 'he', 'can', 'thoroughly', 'enjoy', 'The', 'pepper', 'when', 'he', 'pleases', '!', \"'\", 'CHORUS', '.', \"'Wow\", '!', 'wow', '!', 'wow', '!', \"'\", \"'Here\", '!', 'you', 'may', 'nurse', 'it', 'a', 'bit', ',', 'if', 'you', 'like', '!', \"'\", 'the', 'Duchess', 'said', 'to', 'Alice', ',', 'flinging', 'the', 'baby', 'at', 'her', 'as', 'she', 'spoke', '.', \"'\", 'I', 'must', 'go', 'and', 'get', 'ready', 'to', 'play', 'croquet', 'with', 'the', 'Queen', ',', \"'\", 'and', 'she', 'hurried', 'out', 'of', 'the', 'room', '.', 'The', 'cook', 'threw', 'a', 'frying-pan', 'after', 'her', 'as', 'she', 'went', 'out', ',', 'but', 'it', 'just', 'missed', 'her', '.', 'Alice', 'caught', 'the', 'baby', 'with', 'some', 'difficulty', ',', 'as', 'it', 'was', 'a', 'queer-shaped', 'little', 'creature', ',', 'and', 'held', 'out', 'its', 'arms', 'and', 'legs', 'in', 'all', 'directions', ',', \"'just\", 'like', 'a', 'star-fish', ',', \"'\", 'thought', 'Alice', '.', 'The', 'poor', 'little', 'thing', 'was', 'snorting', 'like', 'a', 'steam-engine', 'when', 'she', 'caught', 'it', ',', 'and', 'kept', 'doubling', 'itself', 'up', 'and', 'straightening', 'itself', 'out', 'again', ',', 'so', 'that', 'altogether', ',', 'for', 'the', 'first', 'minute', 'or', 'two', ',', 'it', 'was', 'as', 'much', 'as', 'she', 'could', 'do', 'to', 'hold', 'it', '.', 'As', 'soon', 'as', 'she', 'had', 'made', 'out', 'the', 'proper', 'way', 'of', 'nursing', 'it', ',', '(', 'which', 'was', 'to', 'twist', 'it', 'up', 'into', 'a', 'sort', 'of', 'knot', ',', 'and', 'then', 'keep', 'tight', 'hold', 'of', 'its', 'right', 'ear', 'and', 'left', 'foot', ',', 'so', 'as', 'to', 'prevent', 'its', 'undoing', 'itself', ',', ')', 'she', 'carried', 'it', 'out', 'into', 'the', 'open', 'air', '.', \"'IF\", 'I', 'do', \"n't\", 'take', 'this', 'child', 'away', 'with', 'me', ',', \"'\", 'thought', 'Alice', ',', \"'they\", \"'re\", 'sure', 'to', 'kill', 'it', 'in', 'a', 'day', 'or', 'two', ':', 'would', \"n't\", 'it', 'be', 'murder', 'to', 'leave', 'it', 'behind', '?', \"'\", 'She', 'said', 'the', 'last', 'words', 'out', 'loud', ',', 'and', 'the', 'little', 'thing', 'grunted', 'in', 'reply', '(', 'it', 'had', 'left', 'off', 'sneezing', 'by', 'this', 'time', ')', '.', \"'Do\", \"n't\", 'grunt', ',', \"'\", 'said', 'Alice', ';', \"'that\", \"'s\", 'not', 'at', 'all', 'a', 'proper', 'way', 'of', 'expressing', 'yourself', '.', \"'\", 'The', 'baby', 'grunted', 'again', ',', 'and', 'Alice', 'looked', 'very', 'anxiously', 'into', 'its', 'face', 'to', 'see', 'what', 'was', 'the', 'matter', 'with', 'it', '.', 'There', 'could', 'be', 'no', 'doubt', 'that', 'it', 'had', 'a', 'VERY', 'turn-up', 'nose', ',', 'much', 'more', 'like', 'a', 'snout', 'than', 'a', 'real', 'nose', ';', 'also', 'its', 'eyes', 'were', 'getting', 'extremely', 'small', 'for', 'a', 'baby', ':', 'altogether', 'Alice', 'did', 'not', 'like', 'the', 'look', 'of', 'the', 'thing', 'at', 'all', '.', \"'But\", 'perhaps', 'it', 'was', 'only', 'sobbing', ',', \"'\", 'she', 'thought', ',', 'and', 'looked', 'into', 'its', 'eyes', 'again', ',', 'to', 'see', 'if', 'there', 'were', 'any', 'tears', '.', 'No', ',', 'there', 'were', 'no', 'tears', '.', \"'If\", 'you', \"'re\", 'going', 'to', 'turn', 'into', 'a', 'pig', ',', 'my', 'dear', ',', \"'\", 'said', 'Alice', ',', 'seriously', ',', \"'\", 'I', \"'ll\", 'have', 'nothing', 'more', 'to', 'do', 'with', 'you', '.', 'Mind', 'now', '!', \"'\", 'The', 'poor', 'little', 'thing', 'sobbed', 'again', '(', 'or', 'grunted', ',', 'it', 'was', 'impossible', 'to', 'say', 'which', ')', ',', 'and', 'they', 'went', 'on', 'for', 'some', 'while', 'in', 'silence', '.', 'Alice', 'was', 'just', 'beginning', 'to', 'think', 'to', 'herself', ',', \"'Now\", ',', 'what', 'am', 'I', 'to', 'do', 'with', 'this', 'creature', 'when', 'I', 'get', 'it', 'home', '?', \"'\", 'when', 'it', 'grunted', 'again', ',', 'so', 'violently', ',', 'that', 'she', 'looked', 'down', 'into', 'its', 'face', 'in', 'some', 'alarm', '.', 'This', 'time', 'there', 'could', 'be', 'NO', 'mistake', 'about', 'it', ':', 'it', 'was', 'neither', 'more', 'nor', 'less', 'than', 'a', 'pig', ',', 'and', 'she', 'felt', 'that', 'it', 'would', 'be', 'quite', 'absurd', 'for', 'her', 'to', 'carry', 'it', 'further', '.', 'So', 'she', 'set', 'the', 'little', 'creature', 'down', ',', 'and', 'felt', 'quite', 'relieved', 'to', 'see', 'it', 'trot', 'away', 'quietly', 'into', 'the', 'wood', '.', \"'If\", 'it', 'had', 'grown', 'up', ',', \"'\", 'she', 'said', 'to', 'herself', ',', \"'it\", 'would', 'have', 'made', 'a', 'dreadfully', 'ugly', 'child', ':', 'but', 'it', 'makes', 'rather', 'a', 'handsome', 'pig', ',', 'I', 'think', '.', \"'\", 'And', 'she', 'began', 'thinking', 'over', 'other', 'children', 'she', 'knew', ',', 'who', 'might', 'do', 'very', 'well', 'as', 'pigs', ',', 'and', 'was', 'just', 'saying', 'to', 'herself', ',', \"'if\", 'one', 'only', 'knew', 'the', 'right', 'way', 'to', 'change', 'them', '--', \"'\", 'when', 'she', 'was', 'a', 'little', 'startled', 'by', 'seeing', 'the', 'Cheshire', 'Cat', 'sitting', 'on', 'a', 'bough', 'of', 'a', 'tree', 'a', 'few', 'yards', 'off', '.', 'The', 'Cat', 'only', 'grinned', 'when', 'it', 'saw', 'Alice', '.', 'It', 'looked', 'good-natured', ',', 'she', 'thought', ':', 'still', 'it', 'had', 'VERY', 'long', 'claws', 'and', 'a', 'great', 'many', 'teeth', ',', 'so', 'she', 'felt', 'that', 'it', 'ought', 'to', 'be', 'treated', 'with', 'respect', '.', \"'Cheshire\", 'Puss', ',', \"'\", 'she', 'began', ',', 'rather', 'timidly', ',', 'as', 'she', 'did', 'not', 'at', 'all', 'know', 'whether', 'it', 'would', 'like', 'the', 'name', ':', 'however', ',', 'it', 'only', 'grinned', 'a', 'little', 'wider', '.', \"'Come\", ',', 'it', \"'s\", 'pleased', 'so', 'far', ',', \"'\", 'thought', 'Alice', ',', 'and', 'she', 'went', 'on', '.', \"'Would\", 'you', 'tell', 'me', ',', 'please', ',', 'which', 'way', 'I', 'ought', 'to', 'go', 'from', 'here', '?', \"'\", \"'That\", 'depends', 'a', 'good', 'deal', 'on', 'where', 'you', 'want', 'to', 'get', 'to', ',', \"'\", 'said', 'the', 'Cat', '.', \"'\", 'I', 'do', \"n't\", 'much', 'care', 'where', '--', \"'\", 'said', 'Alice', '.', \"'Then\", 'it', 'does', \"n't\", 'matter', 'which', 'way', 'you', 'go', ',', \"'\", 'said', 'the', 'Cat.', \"'\", '--', 'so', 'long', 'as', 'I', 'get', 'SOMEWHERE', ',', \"'\", 'Alice', 'added', 'as', 'an', 'explanation', '.', \"'Oh\", ',', 'you', \"'re\", 'sure', 'to', 'do', 'that', ',', \"'\", 'said', 'the', 'Cat', ',', \"'if\", 'you', 'only', 'walk', 'long', 'enough', '.', \"'\", 'Alice', 'felt', 'that', 'this', 'could', 'not', 'be', 'denied', ',', 'so', 'she', 'tried', 'another', 'question', '.', \"'What\", 'sort', 'of', 'people', 'live', 'about', 'here', '?', \"'\", \"'In\", 'THAT', 'direction', ',', \"'\", 'the', 'Cat', 'said', ',', 'waving', 'its', 'right', 'paw', 'round', ',', \"'lives\", 'a', 'Hatter', ':', 'and', 'in', 'THAT', 'direction', ',', \"'\", 'waving', 'the', 'other', 'paw', ',', \"'lives\", 'a', 'March', 'Hare', '.', 'Visit', 'either', 'you', 'like', ':', 'they', \"'re\", 'both', 'mad', '.', \"'\", \"'But\", 'I', 'do', \"n't\", 'want', 'to', 'go', 'among', 'mad', 'people', ',', \"'\", 'Alice', 'remarked', '.', \"'Oh\", ',', 'you', 'ca', \"n't\", 'help', 'that', ',', \"'\", 'said', 'the', 'Cat', ':', \"'we\", \"'re\", 'all', 'mad', 'here', '.', 'I', \"'m\", 'mad', '.', 'You', \"'re\", 'mad', '.', \"'\", \"'How\", 'do', 'you', 'know', 'I', \"'m\", 'mad', '?', \"'\", 'said', 'Alice', '.', \"'You\", 'must', 'be', ',', \"'\", 'said', 'the', 'Cat', ',', \"'or\", 'you', 'would', \"n't\", 'have', 'come', 'here', '.', \"'\", 'Alice', 'did', \"n't\", 'think', 'that', 'proved', 'it', 'at', 'all', ';', 'however', ',', 'she', 'went', 'on', \"'And\", 'how', 'do', 'you', 'know', 'that', 'you', \"'re\", 'mad', '?', \"'\", \"'To\", 'begin', 'with', ',', \"'\", 'said', 'the', 'Cat', ',', \"'\", 'a', 'dog', \"'s\", 'not', 'mad', '.', 'You', 'grant', 'that', '?', \"'\", \"'\", 'I', 'suppose', 'so', ',', \"'\", 'said', 'Alice', '.', \"'Well\", ',', 'then', ',', \"'\", 'the', 'Cat', 'went', 'on', ',', \"'you\", 'see', ',', 'a', 'dog', 'growls', 'when', 'it', \"'s\", 'angry', ',', 'and', 'wags', 'its', 'tail', 'when', 'it', \"'s\", 'pleased', '.', 'Now', 'I', 'growl', 'when', 'I', \"'m\", 'pleased', ',', 'and', 'wag', 'my', 'tail', 'when', 'I', \"'m\", 'angry', '.', 'Therefore', 'I', \"'m\", 'mad', '.', \"'\", \"'\", 'I', 'call', 'it', 'purring', ',', 'not', 'growling', ',', \"'\", 'said', 'Alice', '.', \"'Call\", 'it', 'what', 'you', 'like', ',', \"'\", 'said', 'the', 'Cat', '.', \"'Do\", 'you', 'play', 'croquet', 'with', 'the', 'Queen', 'to-day', '?', \"'\", \"'\", 'I', 'should', 'like', 'it', 'very', 'much', ',', \"'\", 'said', 'Alice', ',', \"'but\", 'I', 'have', \"n't\", 'been', 'invited', 'yet', '.', \"'\", \"'You\", \"'ll\", 'see', 'me', 'there', ',', \"'\", 'said', 'the', 'Cat', ',', 'and', 'vanished', '.', 'Alice', 'was', 'not', 'much', 'surprised', 'at', 'this', ',', 'she', 'was', 'getting', 'so', 'used', 'to', 'queer', 'things', 'happening', '.', 'While', 'she', 'was', 'looking', 'at', 'the', 'place', 'where', 'it', 'had', 'been', ',', 'it', 'suddenly', 'appeared', 'again', '.', \"'By-the-bye\", ',', 'what', 'became', 'of', 'the', 'baby', '?', \"'\", 'said', 'the', 'Cat', '.', \"'\", 'I', \"'d\", 'nearly', 'forgotten', 'to', 'ask', '.', \"'\", \"'It\", 'turned', 'into', 'a', 'pig', ',', \"'\", 'Alice', 'quietly', 'said', ',', 'just', 'as', 'if', 'it', 'had', 'come', 'back', 'in', 'a', 'natural', 'way', '.', \"'\", 'I', 'thought', 'it', 'would', ',', \"'\", 'said', 'the', 'Cat', ',', 'and', 'vanished', 'again', '.', 'Alice', 'waited', 'a', 'little', ',', 'half', 'expecting', 'to', 'see', 'it', 'again', ',', 'but', 'it', 'did', 'not', 'appear', ',', 'and', 'after', 'a', 'minute', 'or', 'two', 'she', 'walked', 'on', 'in', 'the', 'direction', 'in', 'which', 'the', 'March', 'Hare', 'was', 'said', 'to', 'live', '.', \"'\", 'I', \"'ve\", 'seen', 'hatters', 'before', ',', \"'\", 'she', 'said', 'to', 'herself', ';', \"'the\", 'March', 'Hare', 'will', 'be', 'much', 'the', 'most', 'interesting', ',', 'and', 'perhaps', 'as', 'this', 'is', 'May', 'it', 'wo', \"n't\", 'be', 'raving', 'mad', '--', 'at', 'least', 'not', 'so', 'mad', 'as', 'it', 'was', 'in', 'March', '.', \"'\", 'As', 'she', 'said', 'this', ',', 'she', 'looked', 'up', ',', 'and', 'there', 'was', 'the', 'Cat', 'again', ',', 'sitting', 'on', 'a', 'branch', 'of', 'a', 'tree', '.', \"'Did\", 'you', 'say', 'pig', ',', 'or', 'fig', '?', \"'\", 'said', 'the', 'Cat', '.', \"'\", 'I', 'said', 'pig', ',', \"'\", 'replied', 'Alice', ';', \"'and\", 'I', 'wish', 'you', 'would', \"n't\", 'keep', 'appearing', 'and', 'vanishing', 'so', 'suddenly', ':', 'you', 'make', 'one', 'quite', 'giddy', '.', \"'\", \"'All\", 'right', ',', \"'\", 'said', 'the', 'Cat', ';', 'and', 'this', 'time', 'it', 'vanished', 'quite', 'slowly', ',', 'beginning', 'with', 'the', 'end', 'of', 'the', 'tail', ',', 'and', 'ending', 'with', 'the', 'grin', ',', 'which', 'remained', 'some', 'time', 'after', 'the', 'rest', 'of', 'it', 'had', 'gone', '.', \"'Well\", '!', 'I', \"'ve\", 'often', 'seen', 'a', 'cat', 'without', 'a', 'grin', ',', \"'\", 'thought', 'Alice', ';', \"'but\", 'a', 'grin', 'without', 'a', 'cat', '!', 'It', \"'s\", 'the', 'most', 'curious', 'thing', 'I', 'ever', 'saw', 'in', 'my', 'life', '!', \"'\", 'She', 'had', 'not', 'gone', 'much', 'farther', 'before', 'she', 'came', 'in', 'sight', 'of', 'the', 'house', 'of', 'the', 'March', 'Hare', ':', 'she', 'thought', 'it', 'must', 'be', 'the', 'right', 'house', ',', 'because', 'the', 'chimneys', 'were', 'shaped', 'like', 'ears', 'and', 'the', 'roof', 'was', 'thatched', 'with', 'fur', '.', 'It', 'was', 'so', 'large', 'a', 'house', ',', 'that', 'she', 'did', 'not', 'like', 'to', 'go', 'nearer', 'till', 'she', 'had', 'nibbled', 'some', 'more', 'of', 'the', 'lefthand', 'bit', 'of', 'mushroom', ',', 'and', 'raised', 'herself', 'to', 'about', 'two', 'feet', 'high', ':', 'even', 'then', 'she', 'walked', 'up', 'towards', 'it', 'rather', 'timidly', ',', 'saying', 'to', 'herself', \"'Suppose\", 'it', 'should', 'be', 'raving', 'mad', 'after', 'all', '!', 'I', 'almost', 'wish', 'I', \"'d\", 'gone', 'to', 'see', 'the', 'Hatter', 'instead', '!', \"'\", 'CHAPTER', 'VII', '.', 'A', 'Mad', 'Tea-Party', 'There', 'was', 'a', 'table', 'set', 'out', 'under', 'a', 'tree', 'in', 'front', 'of', 'the', 'house', ',', 'and', 'the', 'March', 'Hare', 'and', 'the', 'Hatter', 'were', 'having', 'tea', 'at', 'it', ':', 'a', 'Dormouse', 'was', 'sitting', 'between', 'them', ',', 'fast', 'asleep', ',', 'and', 'the', 'other', 'two', 'were', 'using', 'it', 'as', 'a', 'cushion', ',', 'resting', 'their', 'elbows', 'on', 'it', ',', 'and', 'talking', 'over', 'its', 'head', '.', \"'Very\", 'uncomfortable', 'for', 'the', 'Dormouse', ',', \"'\", 'thought', 'Alice', ';', \"'only\", ',', 'as', 'it', \"'s\", 'asleep', ',', 'I', 'suppose', 'it', 'does', \"n't\", 'mind', '.', \"'\", 'The', 'table', 'was', 'a', 'large', 'one', ',', 'but', 'the', 'three', 'were', 'all', 'crowded', 'together', 'at', 'one', 'corner', 'of', 'it', ':', \"'No\", 'room', '!', 'No', 'room', '!', \"'\", 'they', 'cried', 'out', 'when', 'they', 'saw', 'Alice', 'coming', '.', \"'There\", \"'s\", 'PLENTY', 'of', 'room', '!', \"'\", 'said', 'Alice', 'indignantly', ',', 'and', 'she', 'sat', 'down', 'in', 'a', 'large', 'arm-chair', 'at', 'one', 'end', 'of', 'the', 'table', '.', \"'Have\", 'some', 'wine', ',', \"'\", 'the', 'March', 'Hare', 'said', 'in', 'an', 'encouraging', 'tone', '.', 'Alice', 'looked', 'all', 'round', 'the', 'table', ',', 'but', 'there', 'was', 'nothing', 'on', 'it', 'but', 'tea', '.', \"'\", 'I', 'do', \"n't\", 'see', 'any', 'wine', ',', \"'\", 'she', 'remarked', '.', \"'There\", 'is', \"n't\", 'any', ',', \"'\", 'said', 'the', 'March', 'Hare', '.', \"'Then\", 'it', 'was', \"n't\", 'very', 'civil', 'of', 'you', 'to', 'offer', 'it', ',', \"'\", 'said', 'Alice', 'angrily', '.', \"'It\", 'was', \"n't\", 'very', 'civil', 'of', 'you', 'to', 'sit', 'down', 'without', 'being', 'invited', ',', \"'\", 'said', 'the', 'March', 'Hare', '.', \"'\", 'I', 'did', \"n't\", 'know', 'it', 'was', 'YOUR', 'table', ',', \"'\", 'said', 'Alice', ';', \"'it\", \"'s\", 'laid', 'for', 'a', 'great', 'many', 'more', 'than', 'three', '.', \"'\", \"'Your\", 'hair', 'wants', 'cutting', ',', \"'\", 'said', 'the', 'Hatter', '.', 'He', 'had', 'been', 'looking', 'at', 'Alice', 'for', 'some', 'time', 'with', 'great', 'curiosity', ',', 'and', 'this', 'was', 'his', 'first', 'speech', '.', \"'You\", 'should', 'learn', 'not', 'to', 'make', 'personal', 'remarks', ',', \"'\", 'Alice', 'said', 'with', 'some', 'severity', ';', \"'it\", \"'s\", 'very', 'rude', '.', \"'\", 'The', 'Hatter', 'opened', 'his', 'eyes', 'very', 'wide', 'on', 'hearing', 'this', ';', 'but', 'all', 'he', 'SAID', 'was', ',', \"'Why\", 'is', 'a', 'raven', 'like', 'a', 'writing-desk', '?', \"'\", \"'Come\", ',', 'we', 'shall', 'have', 'some', 'fun', 'now', '!', \"'\", 'thought', 'Alice', '.', \"'\", 'I', \"'m\", 'glad', \"they've\", 'begun', 'asking', 'riddles.', '--', 'I', 'believe', 'I', 'can', 'guess', 'that', ',', \"'\", 'she', 'added', 'aloud', '.', \"'Do\", 'you', 'mean', 'that', 'you', 'think', 'you', 'can', 'find', 'out', 'the', 'answer', 'to', 'it', '?', \"'\", 'said', 'the', 'March', 'Hare', '.', \"'Exactly\", 'so', ',', \"'\", 'said', 'Alice', '.', \"'Then\", 'you', 'should', 'say', 'what', 'you', 'mean', ',', \"'\", 'the', 'March', 'Hare', 'went', 'on', '.', \"'\", 'I', 'do', ',', \"'\", 'Alice', 'hastily', 'replied', ';', \"'at\", 'least', '--', 'at', 'least', 'I', 'mean', 'what', 'I', 'say', '--', 'that', \"'s\", 'the', 'same', 'thing', ',', 'you', 'know', '.', \"'\", \"'Not\", 'the', 'same', 'thing', 'a', 'bit', '!', \"'\", 'said', 'the', 'Hatter', '.', \"'You\", 'might', 'just', 'as', 'well', 'say', 'that', '``', 'I', 'see', 'what', 'I', 'eat', \"''\", 'is', 'the', 'same', 'thing', 'as', '``', 'I', 'eat', 'what', 'I', 'see', \"''\", '!', \"'\", \"'You\", 'might', 'just', 'as', 'well', 'say', ',', \"'\", 'added', 'the', 'March', 'Hare', ',', \"'that\", '``', 'I', 'like', 'what', 'I', 'get', \"''\", 'is', 'the', 'same', 'thing', 'as', '``', 'I', 'get', 'what', 'I', 'like', \"''\", '!', \"'\", \"'You\", 'might', 'just', 'as', 'well', 'say', ',', \"'\", 'added', 'the', 'Dormouse', ',', 'who', 'seemed', 'to', 'be', 'talking', 'in', 'his', 'sleep', ',', \"'that\", '``', 'I', 'breathe', 'when', 'I', 'sleep', \"''\", 'is', 'the', 'same', 'thing', 'as', '``', 'I', 'sleep', 'when', 'I', 'breathe', \"''\", '!', \"'\", \"'It\", 'IS', 'the', 'same', 'thing', 'with', 'you', ',', \"'\", 'said', 'the', 'Hatter', ',', 'and', 'here', 'the', 'conversation', 'dropped', ',', 'and', 'the', 'party', 'sat', 'silent', 'for', 'a', 'minute', ',', 'while', 'Alice', 'thought', 'over', 'all', 'she', 'could', 'remember', 'about', 'ravens', 'and', 'writing-desks', ',', 'which', 'was', \"n't\", 'much', '.', 'The', 'Hatter', 'was', 'the', 'first', 'to', 'break', 'the', 'silence', '.', \"'What\", 'day', 'of', 'the', 'month', 'is', 'it', '?', \"'\", 'he', 'said', ',', 'turning', 'to', 'Alice', ':', 'he', 'had', 'taken', 'his', 'watch', 'out', 'of', 'his', 'pocket', ',', 'and', 'was', 'looking', 'at', 'it', 'uneasily', ',', 'shaking', 'it', 'every', 'now', 'and', 'then', ',', 'and', 'holding', 'it', 'to', 'his', 'ear', '.', 'Alice', 'considered', 'a', 'little', ',', 'and', 'then', 'said', \"'The\", 'fourth', '.', \"'\", \"'Two\", 'days', 'wrong', '!', \"'\", 'sighed', 'the', 'Hatter', '.', \"'\", 'I', 'told', 'you', 'butter', 'would', \"n't\", 'suit', 'the', 'works', '!', \"'\", 'he', 'added', 'looking', 'angrily', 'at', 'the', 'March', 'Hare', '.', \"'It\", 'was', 'the', 'BEST', 'butter', ',', \"'\", 'the', 'March', 'Hare', 'meekly', 'replied', '.', \"'Yes\", ',', 'but', 'some', 'crumbs', 'must', 'have', 'got', 'in', 'as', 'well', ',', \"'\", 'the', 'Hatter', 'grumbled', ':', \"'you\", 'should', \"n't\", 'have', 'put', 'it', 'in', 'with', 'the', 'bread-knife', '.', \"'\", 'The', 'March', 'Hare', 'took', 'the', 'watch', 'and', 'looked', 'at', 'it', 'gloomily', ':', 'then', 'he', 'dipped', 'it', 'into', 'his', 'cup', 'of', 'tea', ',', 'and', 'looked', 'at', 'it', 'again', ':', 'but', 'he', 'could', 'think', 'of', 'nothing', 'better', 'to', 'say', 'than', 'his', 'first', 'remark', ',', \"'It\", 'was', 'the', 'BEST', 'butter', ',', 'you', 'know', '.', \"'\", 'Alice', 'had', 'been', 'looking', 'over', 'his', 'shoulder', 'with', 'some', 'curiosity', '.', \"'What\", 'a', 'funny', 'watch', '!', \"'\", 'she', 'remarked', '.', \"'It\", 'tells', 'the', 'day', 'of', 'the', 'month', ',', 'and', \"doesn't\", 'tell', 'what', \"o'clock\", 'it', 'is', '!', \"'\", \"'Why\", 'should', 'it', '?', \"'\", 'muttered', 'the', 'Hatter', '.', \"'Does\", 'YOUR', 'watch', 'tell', 'you', 'what', 'year', 'it', 'is', '?', \"'\", \"'Of\", 'course', 'not', ',', \"'\", 'Alice', 'replied', 'very', 'readily', ':', \"'but\", 'that', \"'s\", 'because', 'it', 'stays', 'the', 'same', 'year', 'for', 'such', 'a', 'long', 'time', 'together', '.', \"'\", \"'Which\", 'is', 'just', 'the', 'case', 'with', 'MINE', ',', \"'\", 'said', 'the', 'Hatter', '.', 'Alice', 'felt', 'dreadfully', 'puzzled', '.', 'The', 'Hatter', \"'s\", 'remark', 'seemed', 'to', 'have', 'no', 'sort', 'of', 'meaning', 'in', 'it', ',', 'and', 'yet', 'it', 'was', 'certainly', 'English', '.', \"'\", 'I', 'do', \"n't\", 'quite', 'understand', 'you', ',', \"'\", 'she', 'said', ',', 'as', 'politely', 'as', 'she', 'could', '.', \"'The\", 'Dormouse', 'is', 'asleep', 'again', ',', \"'\", 'said', 'the', 'Hatter', ',', 'and', 'he', 'poured', 'a', 'little', 'hot', 'tea', 'upon', 'its', 'nose', '.', 'The', 'Dormouse', 'shook', 'its', 'head', 'impatiently', ',', 'and', 'said', ',', 'without', 'opening', 'its', 'eyes', ',', \"'Of\", 'course', ',', 'of', 'course', ';', 'just', 'what', 'I', 'was', 'going', 'to', 'remark', 'myself', '.', \"'\", \"'Have\", 'you', 'guessed', 'the', 'riddle', 'yet', '?', \"'\", 'the', 'Hatter', 'said', ',', 'turning', 'to', 'Alice', 'again', '.', \"'No\", ',', 'I', 'give', 'it', 'up', ',', \"'\", 'Alice', 'replied', ':', \"'what\", \"'s\", 'the', 'answer', '?', \"'\", \"'\", 'I', 'have', \"n't\", 'the', 'slightest', 'idea', ',', \"'\", 'said', 'the', 'Hatter', '.', \"'Nor\", 'I', ',', \"'\", 'said', 'the', 'March', 'Hare', '.', 'Alice', 'sighed', 'wearily', '.', \"'\", 'I', 'think', 'you', 'might', 'do', 'something', 'better', 'with', 'the', 'time', ',', \"'\", 'she', 'said', ',', \"'than\", 'waste', 'it', 'in', 'asking', 'riddles', 'that', 'have', 'no', 'answers', '.', \"'\", \"'If\", 'you', 'knew', 'Time', 'as', 'well', 'as', 'I', 'do', ',', \"'\", 'said', 'the', 'Hatter', ',', \"'you\", 'would', \"n't\", 'talk', 'about', 'wasting', 'IT', '.', 'It', \"'s\", 'HIM', '.', \"'\", \"'\", 'I', 'do', \"n't\", 'know', 'what', 'you', 'mean', ',', \"'\", 'said', 'Alice', '.', \"'Of\", 'course', 'you', 'do', \"n't\", '!', \"'\", 'the', 'Hatter', 'said', ',', 'tossing', 'his', 'head', 'contemptuously', '.', \"'\", 'I', 'dare', 'say', 'you', 'never', 'even', 'spoke', 'to', 'Time', '!', \"'\", \"'Perhaps\", 'not', ',', \"'\", 'Alice', 'cautiously', 'replied', ':', \"'but\", 'I', 'know', 'I', 'have', 'to', 'beat', 'time', 'when', 'I', 'learn', 'music', '.', \"'\", \"'Ah\", '!', 'that', 'accounts', 'for', 'it', ',', \"'\", 'said', 'the', 'Hatter', '.', \"'He\", 'wo', \"n't\", 'stand', 'beating', '.', 'Now', ',', 'if', 'you', 'only', 'kept', 'on', 'good', 'terms', 'with', 'him', ',', 'he', \"'d\", 'do', 'almost', 'anything', 'you', 'liked', 'with', 'the', 'clock', '.', 'For', 'instance', ',', 'suppose', 'it', 'were', 'nine', \"o'clock\", 'in', 'the', 'morning', ',', 'just', 'time', 'to', 'begin', 'lessons', ':', 'you', \"'d\", 'only', 'have', 'to', 'whisper', 'a', 'hint', 'to', 'Time', ',', 'and', 'round', 'goes', 'the', 'clock', 'in', 'a', 'twinkling', '!', 'Half-past', 'one', ',', 'time', 'for', 'dinner', '!', \"'\", '(', \"'\", 'I', 'only', 'wish', 'it', 'was', ',', \"'\", 'the', 'March', 'Hare', 'said', 'to', 'itself', 'in', 'a', 'whisper', '.', ')', \"'That\", 'would', 'be', 'grand', ',', 'certainly', ',', \"'\", 'said', 'Alice', 'thoughtfully', ':', \"'but\", 'then', '--', 'I', 'should', \"n't\", 'be', 'hungry', 'for', 'it', ',', 'you', 'know', '.', \"'\", \"'Not\", 'at', 'first', ',', 'perhaps', ',', \"'\", 'said', 'the', 'Hatter', ':', \"'but\", 'you', 'could', 'keep', 'it', 'to', 'half-past', 'one', 'as', 'long', 'as', 'you', 'liked', '.', \"'\", \"'Is\", 'that', 'the', 'way', 'YOU', 'manage', '?', \"'\", 'Alice', 'asked', '.', 'The', 'Hatter', 'shook', 'his', 'head', 'mournfully', '.', \"'Not\", 'I', '!', \"'\", 'he', 'replied', '.', \"'We\", 'quarrelled', 'last', 'March', '--', 'just', 'before', 'HE', 'went', 'mad', ',', 'you', 'know', '--', \"'\", '(', 'pointing', 'with', 'his', 'tea', 'spoon', 'at', 'the', 'March', 'Hare', ',', ')', \"'\", '--', 'it', 'was', 'at', 'the', 'great', 'concert', 'given', 'by', 'the', 'Queen', 'of', 'Hearts', ',', 'and', 'I', 'had', 'to', 'sing', '``', 'Twinkle', ',', 'twinkle', ',', 'little', 'bat', '!', 'How', 'I', 'wonder', 'what', 'you', \"'re\", 'at', '!', \"''\", 'You', 'know', 'the', 'song', ',', 'perhaps', '?', \"'\", \"'\", 'I', \"'ve\", 'heard', 'something', 'like', 'it', ',', \"'\", 'said', 'Alice', '.', \"'It\", 'goes', 'on', ',', 'you', 'know', ',', \"'\", 'the', 'Hatter', 'continued', ',', \"'in\", 'this', 'way', ':', '--', '``', 'Up', 'above', 'the', 'world', 'you', 'fly', ',', 'Like', 'a', 'tea-tray', 'in', 'the', 'sky', '.', 'Twinkle', ',', 'twinkle', '--', \"''\", \"'\", 'Here', 'the', 'Dormouse', 'shook', 'itself', ',', 'and', 'began', 'singing', 'in', 'its', 'sleep', \"'Twinkle\", ',', 'twinkle', ',', 'twinkle', ',', 'twinkle', '--', \"'\", 'and', 'went', 'on', 'so', 'long', 'that', 'they', 'had', 'to', 'pinch', 'it', 'to', 'make', 'it', 'stop', '.', \"'Well\", ',', 'I', \"'d\", 'hardly', 'finished', 'the', 'first', 'verse', ',', \"'\", 'said', 'the', 'Hatter', ',', \"'when\", 'the', 'Queen', 'jumped', 'up', 'and', 'bawled', 'out', ',', '``', 'He', \"'s\", 'murdering', 'the', 'time', '!', 'Off', 'with', 'his', 'head', '!', \"''\", \"'\", \"'How\", 'dreadfully', 'savage', '!', \"'\", 'exclaimed', 'Alice', '.', \"'And\", 'ever', 'since', 'that', ',', \"'\", 'the', 'Hatter', 'went', 'on', 'in', 'a', 'mournful', 'tone', ',', \"'he\", \"won't\", 'do', 'a', 'thing', 'I', 'ask', '!', 'It', \"'s\", 'always', 'six', \"o'clock\", 'now', '.', \"'\", 'A', 'bright', 'idea', 'came', 'into', 'Alice', \"'s\", 'head', '.', \"'Is\", 'that', 'the', 'reason', 'so', 'many', 'tea-things', 'are', 'put', 'out', 'here', '?', \"'\", 'she', 'asked', '.', \"'Yes\", ',', 'that', \"'s\", 'it', ',', \"'\", 'said', 'the', 'Hatter', 'with', 'a', 'sigh', ':', \"'it\", \"'s\", 'always', 'tea-time', ',', 'and', 'we', \"'ve\", 'no', 'time', 'to', 'wash', 'the', 'things', 'between', 'whiles', '.', \"'\", \"'Then\", 'you', 'keep', 'moving', 'round', ',', 'I', 'suppose', '?', \"'\", 'said', 'Alice', '.', \"'Exactly\", 'so', ',', \"'\", 'said', 'the', 'Hatter', ':', \"'as\", 'the', 'things', 'get', 'used', 'up', '.', \"'\", \"'But\", 'what', 'happens', 'when', 'you', 'come', 'to', 'the', 'beginning', 'again', '?', \"'\", 'Alice', 'ventured', 'to', 'ask', '.', \"'Suppose\", 'we', 'change', 'the', 'subject', ',', \"'\", 'the', 'March', 'Hare', 'interrupted', ',', 'yawning', '.', \"'\", 'I', \"'m\", 'getting', 'tired', 'of', 'this', '.', 'I', 'vote', 'the', 'young', 'lady', 'tells', 'us', 'a', 'story', '.', \"'\", \"'\", 'I', \"'m\", 'afraid', 'I', 'do', \"n't\", 'know', 'one', ',', \"'\", 'said', 'Alice', ',', 'rather', 'alarmed', 'at', 'the', 'proposal', '.', \"'Then\", 'the', 'Dormouse', 'shall', '!', \"'\", 'they', 'both', 'cried', '.', \"'Wake\", 'up', ',', 'Dormouse', '!', \"'\", 'And', 'they', 'pinched', 'it', 'on', 'both', 'sides', 'at', 'once', '.', 'The', 'Dormouse', 'slowly', 'opened', 'his', 'eyes', '.', \"'\", 'I', 'was', \"n't\", 'asleep', ',', \"'\", 'he', 'said', 'in', 'a', 'hoarse', ',', 'feeble', 'voice', ':', \"'\", 'I', 'heard', 'every', 'word', 'you', 'fellows', 'were', 'saying', '.', \"'\", \"'Tell\", 'us', 'a', 'story', '!', \"'\", 'said', 'the', 'March', 'Hare', '.', \"'Yes\", ',', 'please', 'do', '!', \"'\", 'pleaded', 'Alice', '.', \"'And\", 'be', 'quick', 'about', 'it', ',', \"'\", 'added', 'the', 'Hatter', ',', \"'or\", 'you', \"'ll\", 'be', 'asleep', 'again', 'before', 'it', \"'s\", 'done', '.', \"'\", \"'Once\", 'upon', 'a', 'time', 'there', 'were', 'three', 'little', 'sisters', ',', \"'\", 'the', 'Dormouse', 'began', 'in', 'a', 'great', 'hurry', ';', \"'and\", 'their', 'names', 'were', 'Elsie', ',', 'Lacie', ',', 'and', 'Tillie', ';', 'and', 'they', 'lived', 'at', 'the', 'bottom', 'of', 'a', 'well', '--', \"'\", \"'What\", 'did', 'they', 'live', 'on', '?', \"'\", 'said', 'Alice', ',', 'who', 'always', 'took', 'a', 'great', 'interest', 'in', 'questions', 'of', 'eating', 'and', 'drinking', '.', \"'They\", 'lived', 'on', 'treacle', ',', \"'\", 'said', 'the', 'Dormouse', ',', 'after', 'thinking', 'a', 'minute', 'or', 'two', '.', \"'They\", 'could', \"n't\", 'have', 'done', 'that', ',', 'you', 'know', ',', \"'\", 'Alice', 'gently', 'remarked', ';', \"'they'd\", 'have', 'been', \"ill.'\", \"'So\", 'they', 'were', ',', \"'\", 'said', 'the', 'Dormouse', ';', \"'VERY\", \"ill.'\", 'Alice', 'tried', 'to', 'fancy', 'to', 'herself', 'what', 'such', 'an', 'extraordinary', 'ways', 'of', 'living', 'would', 'be', 'like', ',', 'but', 'it', 'puzzled', 'her', 'too', 'much', ',', 'so', 'she', 'went', 'on', ':', \"'But\", 'why', 'did', 'they', 'live', 'at', 'the', 'bottom', 'of', 'a', 'well', '?', \"'\", \"'Take\", 'some', 'more', 'tea', ',', \"'\", 'the', 'March', 'Hare', 'said', 'to', 'Alice', ',', 'very', 'earnestly', '.', \"'\", 'I', \"'ve\", 'had', 'nothing', 'yet', ',', \"'\", 'Alice', 'replied', 'in', 'an', 'offended', 'tone', ',', \"'so\", 'I', \"can't\", 'take', 'more', '.', \"'\", \"'You\", 'mean', 'you', 'ca', \"n't\", 'take', 'LESS', ',', \"'\", 'said', 'the', 'Hatter', ':', \"'it\", \"'s\", 'very', 'easy', 'to', 'take', 'MORE', 'than', 'nothing', '.', \"'\", \"'Nobody\", 'asked', 'YOUR', 'opinion', ',', \"'\", 'said', 'Alice', '.', \"'Who\", \"'s\", 'making', 'personal', 'remarks', 'now', '?', \"'\", 'the', 'Hatter', 'asked', 'triumphantly', '.', 'Alice', 'did', 'not', 'quite', 'know', 'what', 'to', 'say', 'to', 'this', ':', 'so', 'she', 'helped', 'herself', 'to', 'some', 'tea', 'and', 'bread-and-butter', ',', 'and', 'then', 'turned', 'to', 'the', 'Dormouse', ',', 'and', 'repeated', 'her', 'question', '.', \"'Why\", 'did', 'they', 'live', 'at', 'the', 'bottom', 'of', 'a', 'well', '?', \"'\", 'The', 'Dormouse', 'again', 'took', 'a', 'minute', 'or', 'two', 'to', 'think', 'about', 'it', ',', 'and', 'then', 'said', ',', \"'It\", 'was', 'a', 'treacle-well', '.', \"'\", \"'There\", \"'s\", 'no', 'such', 'thing', '!', \"'\", 'Alice', 'was', 'beginning', 'very', 'angrily', ',', 'but', 'the', 'Hatter', 'and', 'the', 'March', 'Hare', 'went', \"'Sh\", '!', 'sh', '!', \"'\", 'and', 'the', 'Dormouse', 'sulkily', 'remarked', ',', \"'If\", 'you', 'ca', \"n't\", 'be', 'civil', ',', 'you', \"'d\", 'better', 'finish', 'the', 'story', 'for', 'yourself', '.', \"'\", \"'No\", ',', 'please', 'go', 'on', '!', \"'\", 'Alice', 'said', 'very', 'humbly', ';', \"'\", 'I', 'wo', \"n't\", 'interrupt', 'again', '.', 'I', 'dare', 'say', 'there', 'may', 'be', 'ONE', '.', \"'\", \"'One\", ',', 'indeed', '!', \"'\", 'said', 'the', 'Dormouse', 'indignantly', '.', 'However', ',', 'he', 'consented', 'to', 'go', 'on', '.', \"'And\", 'so', 'these', 'three', 'little', 'sisters', '--', 'they', 'were', 'learning', 'to', 'draw', ',', 'you', 'know', '--', \"'\", \"'What\", 'did', 'they', 'draw', '?', \"'\", 'said', 'Alice', ',', 'quite', 'forgetting', 'her', 'promise', '.', \"'Treacle\", ',', \"'\", 'said', 'the', 'Dormouse', ',', 'without', 'considering', 'at', 'all', 'this', 'time', '.', \"'\", 'I', 'want', 'a', 'clean', 'cup', ',', \"'\", 'interrupted', 'the', 'Hatter', ':', \"'let\", \"'s\", 'all', 'move', 'one', 'place', 'on', '.', \"'\", 'He', 'moved', 'on', 'as', 'he', 'spoke', ',', 'and', 'the', 'Dormouse', 'followed', 'him', ':', 'the', 'March', 'Hare', 'moved', 'into', 'the', 'Dormouse', \"'s\", 'place', ',', 'and', 'Alice', 'rather', 'unwillingly', 'took', 'the', 'place', 'of', 'the', 'March', 'Hare', '.', 'The', 'Hatter', 'was', 'the', 'only', 'one', 'who', 'got', 'any', 'advantage', 'from', 'the', 'change', ':', 'and', 'Alice', 'was', 'a', 'good', 'deal', 'worse', 'off', 'than', 'before', ',', 'as', 'the', 'March', 'Hare', 'had', 'just', 'upset', 'the', 'milk-jug', 'into', 'his', 'plate', '.', 'Alice', 'did', 'not', 'wish', 'to', 'offend', 'the', 'Dormouse', 'again', ',', 'so', 'she', 'began', 'very', 'cautiously', ':', \"'But\", 'I', 'do', \"n't\", 'understand', '.', 'Where', 'did', 'they', 'draw', 'the', 'treacle', 'from', '?', \"'\", \"'You\", 'can', 'draw', 'water', 'out', 'of', 'a', 'water-well', ',', \"'\", 'said', 'the', 'Hatter', ';', \"'so\", 'I', 'should', 'think', 'you', 'could', 'draw', 'treacle', 'out', 'of', 'a', 'treacle-well', '--', 'eh', ',', 'stupid', '?', \"'\", \"'But\", 'they', 'were', 'IN', 'the', 'well', ',', \"'\", 'Alice', 'said', 'to', 'the', 'Dormouse', ',', 'not', 'choosing', 'to', 'notice', 'this', 'last', 'remark', '.', \"'Of\", 'course', 'they', 'were', \"'\", ',', 'said', 'the', 'Dormouse', ';', \"'\", '--', 'well', 'in', '.', \"'\", 'This', 'answer', 'so', 'confused', 'poor', 'Alice', ',', 'that', 'she', 'let', 'the', 'Dormouse', 'go', 'on', 'for', 'some', 'time', 'without', 'interrupting', 'it', '.', \"'They\", 'were', 'learning', 'to', 'draw', ',', \"'\", 'the', 'Dormouse', 'went', 'on', ',', 'yawning', 'and', 'rubbing', 'its', 'eyes', ',', 'for', 'it', 'was', 'getting', 'very', 'sleepy', ';', \"'and\", 'they', 'drew', 'all', 'manner', 'of', 'things', '--', 'everything', 'that', 'begins', 'with', 'an', 'M', '--', \"'\", \"'Why\", 'with', 'an', 'M', '?', \"'\", 'said', 'Alice', '.', \"'Why\", 'not', '?', \"'\", 'said', 'the', 'March', 'Hare', '.', 'Alice', 'was', 'silent', '.', 'The', 'Dormouse', 'had', 'closed', 'its', 'eyes', 'by', 'this', 'time', ',', 'and', 'was', 'going', 'off', 'into', 'a', 'doze', ';', 'but', ',', 'on', 'being', 'pinched', 'by', 'the', 'Hatter', ',', 'it', 'woke', 'up', 'again', 'with', 'a', 'little', 'shriek', ',', 'and', 'went', 'on', ':', \"'\", '--', 'that', 'begins', 'with', 'an', 'M', ',', 'such', 'as', 'mouse-traps', ',', 'and', 'the', 'moon', ',', 'and', 'memory', ',', 'and', 'muchness', '--', 'you', 'know', 'you', 'say', 'things', 'are', '``', 'much', 'of', 'a', 'muchness', \"''\", '--', 'did', 'you', 'ever', 'see', 'such', 'a', 'thing', 'as', 'a', 'drawing', 'of', 'a', 'muchness', '?', \"'\", \"'Really\", ',', 'now', 'you', 'ask', 'me', ',', \"'\", 'said', 'Alice', ',', 'very', 'much', 'confused', ',', \"'\", 'I', \"don't\", 'think', '--', \"'\", \"'Then\", 'you', 'should', \"n't\", 'talk', ',', \"'\", 'said', 'the', 'Hatter', '.', 'This', 'piece', 'of', 'rudeness', 'was', 'more', 'than', 'Alice', 'could', 'bear', ':', 'she', 'got', 'up', 'in', 'great', 'disgust', ',', 'and', 'walked', 'off', ';', 'the', 'Dormouse', 'fell', 'asleep', 'instantly', ',', 'and', 'neither', 'of', 'the', 'others', 'took', 'the', 'least', 'notice', 'of', 'her', 'going', ',', 'though', 'she', 'looked', 'back', 'once', 'or', 'twice', ',', 'half', 'hoping', 'that', 'they', 'would', 'call', 'after', 'her', ':', 'the', 'last', 'time', 'she', 'saw', 'them', ',', 'they', 'were', 'trying', 'to', 'put', 'the', 'Dormouse', 'into', 'the', 'teapot', '.', \"'At\", 'any', 'rate', 'I', \"'ll\", 'never', 'go', 'THERE', 'again', '!', \"'\", 'said', 'Alice', 'as', 'she', 'picked', 'her', 'way', 'through', 'the', 'wood', '.', \"'It\", \"'s\", 'the', 'stupidest', 'tea-party', 'I', 'ever', 'was', 'at', 'in', 'all', 'my', 'life', '!', \"'\", 'Just', 'as', 'she', 'said', 'this', ',', 'she', 'noticed', 'that', 'one', 'of', 'the', 'trees', 'had', 'a', 'door', 'leading', 'right', 'into', 'it', '.', \"'That\", \"'s\", 'very', 'curious', '!', \"'\", 'she', 'thought', '.', \"'But\", 'everything', \"'s\", 'curious', 'today', '.', 'I', 'think', 'I', 'may', 'as', 'well', 'go', 'in', 'at', 'once', '.', \"'\", 'And', 'in', 'she', 'went', '.', 'Once', 'more', 'she', 'found', 'herself', 'in', 'the', 'long', 'hall', ',', 'and', 'close', 'to', 'the', 'little', 'glass', 'table', '.', \"'Now\", ',', 'I', \"'ll\", 'manage', 'better', 'this', 'time', ',', \"'\", 'she', 'said', 'to', 'herself', ',', 'and', 'began', 'by', 'taking', 'the', 'little', 'golden', 'key', ',', 'and', 'unlocking', 'the', 'door', 'that', 'led', 'into', 'the', 'garden', '.', 'Then', 'she', 'went', 'to', 'work', 'nibbling', 'at', 'the', 'mushroom', '(', 'she', 'had', 'kept', 'a', 'piece', 'of', 'it', 'in', 'her', 'pocket', ')', 'till', 'she', 'was', 'about', 'a', 'foot', 'high', ':', 'then', 'she', 'walked', 'down', 'the', 'little', 'passage', ':', 'and', 'THEN', '--', 'she', 'found', 'herself', 'at', 'last', 'in', 'the', 'beautiful', 'garden', ',', 'among', 'the', 'bright', 'flower-beds', 'and', 'the', 'cool', 'fountains', '.', 'CHAPTER', 'VIII', '.', 'The', 'Queen', \"'s\", 'Croquet-Ground', 'A', 'large', 'rose-tree', 'stood', 'near', 'the', 'entrance', 'of', 'the', 'garden', ':', 'the', 'roses', 'growing', 'on', 'it', 'were', 'white', ',', 'but', 'there', 'were', 'three', 'gardeners', 'at', 'it', ',', 'busily', 'painting', 'them', 'red', '.', 'Alice', 'thought', 'this', 'a', 'very', 'curious', 'thing', ',', 'and', 'she', 'went', 'nearer', 'to', 'watch', 'them', ',', 'and', 'just', 'as', 'she', 'came', 'up', 'to', 'them', 'she', 'heard', 'one', 'of', 'them', 'say', ',', \"'Look\", 'out', 'now', ',', 'Five', '!', 'Do', \"n't\", 'go', 'splashing', 'paint', 'over', 'me', 'like', 'that', '!', \"'\", \"'\", 'I', 'could', \"n't\", 'help', 'it', ',', \"'\", 'said', 'Five', ',', 'in', 'a', 'sulky', 'tone', ';', \"'Seven\", 'jogged', 'my', 'elbow', '.', \"'\", 'On', 'which', 'Seven', 'looked', 'up', 'and', 'said', ',', \"'That\", \"'s\", 'right', ',', 'Five', '!', 'Always', 'lay', 'the', 'blame', 'on', 'others', '!', \"'\", \"'YOU\", \"'D\", 'better', 'not', 'talk', '!', \"'\", 'said', 'Five', '.', \"'\", 'I', 'heard', 'the', 'Queen', 'say', 'only', 'yesterday', 'you', 'deserved', 'to', 'be', 'beheaded', '!', \"'\", \"'What\", 'for', '?', \"'\", 'said', 'the', 'one', 'who', 'had', 'spoken', 'first', '.', \"'That\", \"'s\", 'none', 'of', 'YOUR', 'business', ',', 'Two', '!', \"'\", 'said', 'Seven', '.', \"'Yes\", ',', 'it', 'IS', 'his', 'business', '!', \"'\", 'said', 'Five', ',', \"'and\", 'I', \"'ll\", 'tell', 'him', '--', 'it', 'was', 'for', 'bringing', 'the', 'cook', 'tulip-roots', 'instead', 'of', 'onions', '.', \"'\", 'Seven', 'flung', 'down', 'his', 'brush', ',', 'and', 'had', 'just', 'begun', \"'Well\", ',', 'of', 'all', 'the', 'unjust', 'things', '--', \"'\", 'when', 'his', 'eye', 'chanced', 'to', 'fall', 'upon', 'Alice', ',', 'as', 'she', 'stood', 'watching', 'them', ',', 'and', 'he', 'checked', 'himself', 'suddenly', ':', 'the', 'others', 'looked', 'round', 'also', ',', 'and', 'all', 'of', 'them', 'bowed', 'low', '.', \"'Would\", 'you', 'tell', 'me', ',', \"'\", 'said', 'Alice', ',', 'a', 'little', 'timidly', ',', \"'why\", 'you', 'are', 'painting', 'those', 'roses', '?', \"'\", 'Five', 'and', 'Seven', 'said', 'nothing', ',', 'but', 'looked', 'at', 'Two', '.', 'Two', 'began', 'in', 'a', 'low', 'voice', ',', \"'Why\", 'the', 'fact', 'is', ',', 'you', 'see', ',', 'Miss', ',', 'this', 'here', 'ought', 'to', 'have', 'been', 'a', 'RED', 'rose-tree', ',', 'and', 'we', 'put', 'a', 'white', 'one', 'in', 'by', 'mistake', ';', 'and', 'if', 'the', 'Queen', 'was', 'to', 'find', 'it', 'out', ',', 'we', 'should', 'all', 'have', 'our', 'heads', 'cut', 'off', ',', 'you', 'know', '.', 'So', 'you', 'see', ',', 'Miss', ',', 'we', \"'re\", 'doing', 'our', 'best', ',', 'afore', 'she', 'comes', ',', 'to', '--', \"'\", 'At', 'this', 'moment', 'Five', ',', 'who', 'had', 'been', 'anxiously', 'looking', 'across', 'the', 'garden', ',', 'called', 'out', \"'The\", 'Queen', '!', 'The', 'Queen', '!', \"'\", 'and', 'the', 'three', 'gardeners', 'instantly', 'threw', 'themselves', 'flat', 'upon', 'their', 'faces', '.', 'There', 'was', 'a', 'sound', 'of', 'many', 'footsteps', ',', 'and', 'Alice', 'looked', 'round', ',', 'eager', 'to', 'see', 'the', 'Queen', '.', 'First', 'came', 'ten', 'soldiers', 'carrying', 'clubs', ';', 'these', 'were', 'all', 'shaped', 'like', 'the', 'three', 'gardeners', ',', 'oblong', 'and', 'flat', ',', 'with', 'their', 'hands', 'and', 'feet', 'at', 'the', 'corners', ':', 'next', 'the', 'ten', 'courtiers', ';', 'these', 'were', 'ornamented', 'all', 'over', 'with', 'diamonds', ',', 'and', 'walked', 'two', 'and', 'two', ',', 'as', 'the', 'soldiers', 'did', '.', 'After', 'these', 'came', 'the', 'royal', 'children', ';', 'there', 'were', 'ten', 'of', 'them', ',', 'and', 'the', 'little', 'dears', 'came', 'jumping', 'merrily', 'along', 'hand', 'in', 'hand', ',', 'in', 'couples', ':', 'they', 'were', 'all', 'ornamented', 'with', 'hearts', '.', 'Next', 'came', 'the', 'guests', ',', 'mostly', 'Kings', 'and', 'Queens', ',', 'and', 'among', 'them', 'Alice', 'recognised', 'the', 'White', 'Rabbit', ':', 'it', 'was', 'talking', 'in', 'a', 'hurried', 'nervous', 'manner', ',', 'smiling', 'at', 'everything', 'that', 'was', 'said', ',', 'and', 'went', 'by', 'without', 'noticing', 'her', '.', 'Then', 'followed', 'the', 'Knave', 'of', 'Hearts', ',', 'carrying', 'the', \"King's\", 'crown', 'on', 'a', 'crimson', 'velvet', 'cushion', ';', 'and', ',', 'last', 'of', 'all', 'this', 'grand', 'procession', ',', 'came', 'THE', 'KING', 'AND', 'QUEEN', 'OF', 'HEARTS', '.', 'Alice', 'was', 'rather', 'doubtful', 'whether', 'she', 'ought', 'not', 'to', 'lie', 'down', 'on', 'her', 'face', 'like', 'the', 'three', 'gardeners', ',', 'but', 'she', 'could', 'not', 'remember', 'ever', 'having', 'heard', 'of', 'such', 'a', 'rule', 'at', 'processions', ';', \"'and\", 'besides', ',', 'what', 'would', 'be', 'the', 'use', 'of', 'a', 'procession', ',', \"'\", 'thought', 'she', ',', \"'if\", 'people', 'had', 'all', 'to', 'lie', 'down', 'upon', 'their', 'faces', ',', 'so', 'that', 'they', 'could', \"n't\", 'see', 'it', '?', \"'\", 'So', 'she', 'stood', 'still', 'where', 'she', 'was', ',', 'and', 'waited', '.', 'When', 'the', 'procession', 'came', 'opposite', 'to', 'Alice', ',', 'they', 'all', 'stopped', 'and', 'looked', 'at', 'her', ',', 'and', 'the', 'Queen', 'said', 'severely', \"'Who\", 'is', 'this', '?', \"'\", 'She', 'said', 'it', 'to', 'the', 'Knave', 'of', 'Hearts', ',', 'who', 'only', 'bowed', 'and', 'smiled', 'in', 'reply', '.', \"'Idiot\", '!', \"'\", 'said', 'the', 'Queen', ',', 'tossing', 'her', 'head', 'impatiently', ';', 'and', ',', 'turning', 'to', 'Alice', ',', 'she', 'went', 'on', ',', \"'What\", \"'s\", 'your', 'name', ',', 'child', '?', \"'\", \"'My\", 'name', 'is', 'Alice', ',', 'so', 'please', 'your', 'Majesty', ',', \"'\", 'said', 'Alice', 'very', 'politely', ';', 'but', 'she', 'added', ',', 'to', 'herself', ',', \"'Why\", ',', 'they', \"'re\", 'only', 'a', 'pack', 'of', 'cards', ',', 'after', 'all', '.', 'I', 'need', \"n't\", 'be', 'afraid', 'of', 'them', '!', \"'\", \"'And\", 'who', 'are', 'THESE', '?', \"'\", 'said', 'the', 'Queen', ',', 'pointing', 'to', 'the', 'three', 'gardeners', 'who', 'were', 'lying', 'round', 'the', 'rosetree', ';', 'for', ',', 'you', 'see', ',', 'as', 'they', 'were', 'lying', 'on', 'their', 'faces', ',', 'and', 'the', 'pattern', 'on', 'their', 'backs', 'was', 'the', 'same', 'as', 'the', 'rest', 'of', 'the', 'pack', ',', 'she', 'could', 'not', 'tell', 'whether', 'they', 'were', 'gardeners', ',', 'or', 'soldiers', ',', 'or', 'courtiers', ',', 'or', 'three', 'of', 'her', 'own', 'children', '.', \"'How\", 'should', 'I', 'know', '?', \"'\", 'said', 'Alice', ',', 'surprised', 'at', 'her', 'own', 'courage', '.', \"'It\", \"'s\", 'no', 'business', 'of', 'MINE', '.', \"'\", 'The', 'Queen', 'turned', 'crimson', 'with', 'fury', ',', 'and', ',', 'after', 'glaring', 'at', 'her', 'for', 'a', 'moment', 'like', 'a', 'wild', 'beast', ',', 'screamed', \"'Off\", 'with', 'her', 'head', '!', 'Off', '--', \"'\", \"'Nonsense\", '!', \"'\", 'said', 'Alice', ',', 'very', 'loudly', 'and', 'decidedly', ',', 'and', 'the', 'Queen', 'was', 'silent', '.', 'The', 'King', 'laid', 'his', 'hand', 'upon', 'her', 'arm', ',', 'and', 'timidly', 'said', \"'Consider\", ',', 'my', 'dear', ':', 'she', 'is', 'only', 'a', 'child', '!', \"'\", 'The', 'Queen', 'turned', 'angrily', 'away', 'from', 'him', ',', 'and', 'said', 'to', 'the', 'Knave', \"'Turn\", 'them', 'over', '!', \"'\", 'The', 'Knave', 'did', 'so', ',', 'very', 'carefully', ',', 'with', 'one', 'foot', '.', \"'Get\", 'up', '!', \"'\", 'said', 'the', 'Queen', ',', 'in', 'a', 'shrill', ',', 'loud', 'voice', ',', 'and', 'the', 'three', 'gardeners', 'instantly', 'jumped', 'up', ',', 'and', 'began', 'bowing', 'to', 'the', 'King', ',', 'the', 'Queen', ',', 'the', 'royal', 'children', ',', 'and', 'everybody', 'else', '.', \"'Leave\", 'off', 'that', '!', \"'\", 'screamed', 'the', 'Queen', '.', \"'You\", 'make', 'me', 'giddy', '.', \"'\", 'And', 'then', ',', 'turning', 'to', 'the', 'rose-tree', ',', 'she', 'went', 'on', ',', \"'What\", 'HAVE', 'you', 'been', 'doing', 'here', '?', \"'\", \"'May\", 'it', 'please', 'your', 'Majesty', ',', \"'\", 'said', 'Two', ',', 'in', 'a', 'very', 'humble', 'tone', ',', 'going', 'down', 'on', 'one', 'knee', 'as', 'he', 'spoke', ',', \"'we\", 'were', 'trying', '--', \"'\", \"'\", 'I', 'see', '!', \"'\", 'said', 'the', 'Queen', ',', 'who', 'had', 'meanwhile', 'been', 'examining', 'the', 'roses', '.', \"'Off\", 'with', 'their', 'heads', '!', \"'\", 'and', 'the', 'procession', 'moved', 'on', ',', 'three', 'of', 'the', 'soldiers', 'remaining', 'behind', 'to', 'execute', 'the', 'unfortunate', 'gardeners', ',', 'who', 'ran', 'to', 'Alice', 'for', 'protection', '.', \"'You\", 'sha', \"n't\", 'be', 'beheaded', '!', \"'\", 'said', 'Alice', ',', 'and', 'she', 'put', 'them', 'into', 'a', 'large', 'flower-pot', 'that', 'stood', 'near', '.', 'The', 'three', 'soldiers', 'wandered', 'about', 'for', 'a', 'minute', 'or', 'two', ',', 'looking', 'for', 'them', ',', 'and', 'then', 'quietly', 'marched', 'off', 'after', 'the', 'others', '.', \"'Are\", 'their', 'heads', 'off', '?', \"'\", 'shouted', 'the', 'Queen', '.', \"'Their\", 'heads', 'are', 'gone', ',', 'if', 'it', 'please', 'your', 'Majesty', '!', \"'\", 'the', 'soldiers', 'shouted', 'in', 'reply', '.', \"'That\", \"'s\", 'right', '!', \"'\", 'shouted', 'the', 'Queen', '.', \"'Can\", 'you', 'play', 'croquet', '?', \"'\", 'The', 'soldiers', 'were', 'silent', ',', 'and', 'looked', 'at', 'Alice', ',', 'as', 'the', 'question', 'was', 'evidently', 'meant', 'for', 'her', '.', \"'Yes\", '!', \"'\", 'shouted', 'Alice', '.', \"'Come\", 'on', ',', 'then', '!', \"'\", 'roared', 'the', 'Queen', ',', 'and', 'Alice', 'joined', 'the', 'procession', ',', 'wondering', 'very', 'much', 'what', 'would', 'happen', 'next', '.', \"'It\", \"'s\", '--', 'it', \"'s\", 'a', 'very', 'fine', 'day', '!', \"'\", 'said', 'a', 'timid', 'voice', 'at', 'her', 'side', '.', 'She', 'was', 'walking', 'by', 'the', 'White', 'Rabbit', ',', 'who', 'was', 'peeping', 'anxiously', 'into', 'her', 'face', '.', \"'Very\", ',', \"'\", 'said', 'Alice', ':', \"'\", '--', 'where', \"'s\", 'the', 'Duchess', '?', \"'\", \"'Hush\", '!', 'Hush', '!', \"'\", 'said', 'the', 'Rabbit', 'in', 'a', 'low', ',', 'hurried', 'tone', '.', 'He', 'looked', 'anxiously', 'over', 'his', 'shoulder', 'as', 'he', 'spoke', ',', 'and', 'then', 'raised', 'himself', 'upon', 'tiptoe', ',', 'put', 'his', 'mouth', 'close', 'to', 'her', 'ear', ',', 'and', 'whispered', \"'She\", \"'s\", 'under', 'sentence', 'of', 'execution', '.', \"'\", \"'What\", 'for', '?', \"'\", 'said', 'Alice', '.', \"'Did\", 'you', 'say', '``', 'What', 'a', 'pity', '!', \"''\", '?', \"'\", 'the', 'Rabbit', 'asked', '.', \"'No\", ',', 'I', 'did', \"n't\", ',', \"'\", 'said', 'Alice', ':', \"'\", 'I', 'do', \"n't\", 'think', 'it', \"'s\", 'at', 'all', 'a', 'pity', '.', 'I', 'said', \"''\", 'What', 'for', '?', \"''\", \"'\", \"'She\", 'boxed', 'the', 'Queen', \"'s\", 'ears', '--', \"'\", 'the', 'Rabbit', 'began', '.', 'Alice', 'gave', 'a', 'little', 'scream', 'of', 'laughter', '.', \"'Oh\", ',', 'hush', '!', \"'\", 'the', 'Rabbit', 'whispered', 'in', 'a', 'frightened', 'tone', '.', \"'The\", 'Queen', 'will', 'hear', 'you', '!', 'You', 'see', ',', 'she', 'came', 'rather', 'late', ',', 'and', 'the', 'Queen', 'said', '--', \"'\", \"'Get\", 'to', 'your', 'places', '!', \"'\", 'shouted', 'the', 'Queen', 'in', 'a', 'voice', 'of', 'thunder', ',', 'and', 'people', 'began', 'running', 'about', 'in', 'all', 'directions', ',', 'tumbling', 'up', 'against', 'each', 'other', ';', 'however', ',', 'they', 'got', 'settled', 'down', 'in', 'a', 'minute', 'or', 'two', ',', 'and', 'the', 'game', 'began', '.', 'Alice', 'thought', 'she', 'had', 'never', 'seen', 'such', 'a', 'curious', 'croquet-ground', 'in', 'her', 'life', ';', 'it', 'was', 'all', 'ridges', 'and', 'furrows', ';', 'the', 'balls', 'were', 'live', 'hedgehogs', ',', 'the', 'mallets', 'live', 'flamingoes', ',', 'and', 'the', 'soldiers', 'had', 'to', 'double', 'themselves', 'up', 'and', 'to', 'stand', 'on', 'their', 'hands', 'and', 'feet', ',', 'to', 'make', 'the', 'arches', '.', 'The', 'chief', 'difficulty', 'Alice', 'found', 'at', 'first', 'was', 'in', 'managing', 'her', 'flamingo', ':', 'she', 'succeeded', 'in', 'getting', 'its', 'body', 'tucked', 'away', ',', 'comfortably', 'enough', ',', 'under', 'her', 'arm', ',', 'with', 'its', 'legs', 'hanging', 'down', ',', 'but', 'generally', ',', 'just', 'as', 'she', 'had', 'got', 'its', 'neck', 'nicely', 'straightened', 'out', ',', 'and', 'was', 'going', 'to', 'give', 'the', 'hedgehog', 'a', 'blow', 'with', 'its', 'head', ',', 'it', 'WOULD', 'twist', 'itself', 'round', 'and', 'look', 'up', 'in', 'her', 'face', ',', 'with', 'such', 'a', 'puzzled', 'expression', 'that', 'she', 'could', 'not', 'help', 'bursting', 'out', 'laughing', ':', 'and', 'when', 'she', 'had', 'got', 'its', 'head', 'down', ',', 'and', 'was', 'going', 'to', 'begin', 'again', ',', 'it', 'was', 'very', 'provoking', 'to', 'find', 'that', 'the', 'hedgehog', 'had', 'unrolled', 'itself', ',', 'and', 'was', 'in', 'the', 'act', 'of', 'crawling', 'away', ':', 'besides', 'all', 'this', ',', 'there', 'was', 'generally', 'a', 'ridge', 'or', 'furrow', 'in', 'the', 'way', 'wherever', 'she', 'wanted', 'to', 'send', 'the', 'hedgehog', 'to', ',', 'and', ',', 'as', 'the', 'doubled-up', 'soldiers', 'were', 'always', 'getting', 'up', 'and', 'walking', 'off', 'to', 'other', 'parts', 'of', 'the', 'ground', ',', 'Alice', 'soon', 'came', 'to', 'the', 'conclusion', 'that', 'it', 'was', 'a', 'very', 'difficult', 'game', 'indeed', '.', 'The', 'players', 'all', 'played', 'at', 'once', 'without', 'waiting', 'for', 'turns', ',', 'quarrelling', 'all', 'the', 'while', ',', 'and', 'fighting', 'for', 'the', 'hedgehogs', ';', 'and', 'in', 'a', 'very', 'short', 'time', 'the', 'Queen', 'was', 'in', 'a', 'furious', 'passion', ',', 'and', 'went', 'stamping', 'about', ',', 'and', 'shouting', \"'Off\", 'with', 'his', 'head', '!', \"'\", 'or', \"'Off\", 'with', 'her', 'head', '!', \"'\", 'about', 'once', 'in', 'a', 'minute', '.', 'Alice', 'began', 'to', 'feel', 'very', 'uneasy', ':', 'to', 'be', 'sure', ',', 'she', 'had', 'not', 'as', 'yet', 'had', 'any', 'dispute', 'with', 'the', 'Queen', ',', 'but', 'she', 'knew', 'that', 'it', 'might', 'happen', 'any', 'minute', ',', \"'and\", 'then', ',', \"'\", 'thought', 'she', ',', \"'what\", 'would', 'become', 'of', 'me', '?', 'They', \"'re\", 'dreadfully', 'fond', 'of', 'beheading', 'people', 'here', ';', 'the', 'great', 'wonder', 'is', ',', 'that', 'there', \"'s\", 'any', 'one', 'left', 'alive', '!', \"'\", 'She', 'was', 'looking', 'about', 'for', 'some', 'way', 'of', 'escape', ',', 'and', 'wondering', 'whether', 'she', 'could', 'get', 'away', 'without', 'being', 'seen', ',', 'when', 'she', 'noticed', 'a', 'curious', 'appearance', 'in', 'the', 'air', ':', 'it', 'puzzled', 'her', 'very', 'much', 'at', 'first', ',', 'but', ',', 'after', 'watching', 'it', 'a', 'minute', 'or', 'two', ',', 'she', 'made', 'it', 'out', 'to', 'be', 'a', 'grin', ',', 'and', 'she', 'said', 'to', 'herself', \"'It\", \"'s\", 'the', 'Cheshire', 'Cat', ':', 'now', 'I', 'shall', 'have', 'somebody', 'to', 'talk', 'to', '.', \"'\", \"'How\", 'are', 'you', 'getting', 'on', '?', \"'\", 'said', 'the', 'Cat', ',', 'as', 'soon', 'as', 'there', 'was', 'mouth', 'enough', 'for', 'it', 'to', 'speak', 'with', '.', 'Alice', 'waited', 'till', 'the', 'eyes', 'appeared', ',', 'and', 'then', 'nodded', '.', \"'It\", \"'s\", 'no', 'use', 'speaking', 'to', 'it', ',', \"'\", 'she', 'thought', ',', \"'till\", 'its', 'ears', 'have', 'come', ',', 'or', 'at', 'least', 'one', 'of', 'them', '.', \"'\", 'In', 'another', 'minute', 'the', 'whole', 'head', 'appeared', ',', 'and', 'then', 'Alice', 'put', 'down', 'her', 'flamingo', ',', 'and', 'began', 'an', 'account', 'of', 'the', 'game', ',', 'feeling', 'very', 'glad', 'she', 'had', 'someone', 'to', 'listen', 'to', 'her', '.', 'The', 'Cat', 'seemed', 'to', 'think', 'that', 'there', 'was', 'enough', 'of', 'it', 'now', 'in', 'sight', ',', 'and', 'no', 'more', 'of', 'it', 'appeared', '.', \"'\", 'I', 'do', \"n't\", 'think', 'they', 'play', 'at', 'all', 'fairly', ',', \"'\", 'Alice', 'began', ',', 'in', 'rather', 'a', 'complaining', 'tone', ',', \"'and\", 'they', 'all', 'quarrel', 'so', 'dreadfully', 'one', 'ca', \"n't\", 'hear', 'oneself', 'speak', '--', 'and', 'they', 'do', \"n't\", 'seem', 'to', 'have', 'any', 'rules', 'in', 'particular', ';', 'at', 'least', ',', 'if', 'there', 'are', ',', 'nobody', 'attends', 'to', 'them', '--', 'and', 'you', \"'ve\", 'no', 'idea', 'how', 'confusing', 'it', 'is', 'all', 'the', 'things', 'being', 'alive', ';', 'for', 'instance', ',', 'there', \"'s\", 'the', 'arch', 'I', \"'ve\", 'got', 'to', 'go', 'through', 'next', 'walking', 'about', 'at', 'the', 'other', 'end', 'of', 'the', 'ground', '--', 'and', 'I', 'should', 'have', 'croqueted', 'the', 'Queen', \"'s\", 'hedgehog', 'just', 'now', ',', 'only', 'it', 'ran', 'away', 'when', 'it', 'saw', 'mine', 'coming', '!', \"'\", \"'How\", 'do', 'you', 'like', 'the', 'Queen', '?', \"'\", 'said', 'the', 'Cat', 'in', 'a', 'low', 'voice', '.', \"'Not\", 'at', 'all', ',', \"'\", 'said', 'Alice', ':', \"'she\", \"'s\", 'so', 'extremely', '--', \"'\", 'Just', 'then', 'she', 'noticed', 'that', 'the', 'Queen', 'was', 'close', 'behind', 'her', ',', 'listening', ':', 'so', 'she', 'went', 'on', ',', \"'\", '--', 'likely', 'to', 'win', ',', 'that', 'it', \"'s\", 'hardly', 'worth', 'while', 'finishing', 'the', 'game', '.', \"'\", 'The', 'Queen', 'smiled', 'and', 'passed', 'on', '.', \"'Who\", 'ARE', 'you', 'talking', 'to', '?', \"'\", 'said', 'the', 'King', ',', 'going', 'up', 'to', 'Alice', ',', 'and', 'looking', 'at', 'the', 'Cat', \"'s\", 'head', 'with', 'great', 'curiosity', '.', \"'It\", \"'s\", 'a', 'friend', 'of', 'mine', '--', 'a', 'Cheshire', 'Cat', ',', \"'\", 'said', 'Alice', ':', \"'allow\", 'me', 'to', 'introduce', 'it', '.', \"'\", \"'\", 'I', 'do', \"n't\", 'like', 'the', 'look', 'of', 'it', 'at', 'all', ',', \"'\", 'said', 'the', 'King', ':', \"'however\", ',', 'it', 'may', 'kiss', 'my', 'hand', 'if', 'it', 'likes', '.', \"'\", \"'\", 'I', \"'d\", 'rather', 'not', ',', \"'\", 'the', 'Cat', 'remarked', '.', \"'Do\", \"n't\", 'be', 'impertinent', ',', \"'\", 'said', 'the', 'King', ',', \"'and\", 'do', \"n't\", 'look', 'at', 'me', 'like', 'that', '!', \"'\", 'He', 'got', 'behind', 'Alice', 'as', 'he', 'spoke', '.', \"'\", 'A', 'cat', 'may', 'look', 'at', 'a', 'king', ',', \"'\", 'said', 'Alice', '.', \"'\", 'I', \"'ve\", 'read', 'that', 'in', 'some', 'book', ',', 'but', 'I', 'do', \"n't\", 'remember', 'where', '.', \"'\", \"'Well\", ',', 'it', 'must', 'be', 'removed', ',', \"'\", 'said', 'the', 'King', 'very', 'decidedly', ',', 'and', 'he', 'called', 'the', 'Queen', ',', 'who', 'was', 'passing', 'at', 'the', 'moment', ',', \"'My\", 'dear', '!', 'I', 'wish', 'you', 'would', 'have', 'this', 'cat', 'removed', '!', \"'\", 'The', 'Queen', 'had', 'only', 'one', 'way', 'of', 'settling', 'all', 'difficulties', ',', 'great', 'or', 'small', '.', \"'Off\", 'with', 'his', 'head', '!', \"'\", 'she', 'said', ',', 'without', 'even', 'looking', 'round', '.', \"'\", 'I', \"'ll\", 'fetch', 'the', 'executioner', 'myself', ',', \"'\", 'said', 'the', 'King', 'eagerly', ',', 'and', 'he', 'hurried', 'off', '.', 'Alice', 'thought', 'she', 'might', 'as', 'well', 'go', 'back', ',', 'and', 'see', 'how', 'the', 'game', 'was', 'going', 'on', ',', 'as', 'she', 'heard', 'the', 'Queen', \"'s\", 'voice', 'in', 'the', 'distance', ',', 'screaming', 'with', 'passion', '.', 'She', 'had', 'already', 'heard', 'her', 'sentence', 'three', 'of', 'the', 'players', 'to', 'be', 'executed', 'for', 'having', 'missed', 'their', 'turns', ',', 'and', 'she', 'did', 'not', 'like', 'the', 'look', 'of', 'things', 'at', 'all', ',', 'as', 'the', 'game', 'was', 'in', 'such', 'confusion', 'that', 'she', 'never', 'knew', 'whether', 'it', 'was', 'her', 'turn', 'or', 'not', '.', 'So', 'she', 'went', 'in', 'search', 'of', 'her', 'hedgehog', '.', 'The', 'hedgehog', 'was', 'engaged', 'in', 'a', 'fight', 'with', 'another', 'hedgehog', ',', 'which', 'seemed', 'to', 'Alice', 'an', 'excellent', 'opportunity', 'for', 'croqueting', 'one', 'of', 'them', 'with', 'the', 'other', ':', 'the', 'only', 'difficulty', 'was', ',', 'that', 'her', 'flamingo', 'was', 'gone', 'across', 'to', 'the', 'other', 'side', 'of', 'the', 'garden', ',', 'where', 'Alice', 'could', 'see', 'it', 'trying', 'in', 'a', 'helpless', 'sort', 'of', 'way', 'to', 'fly', 'up', 'into', 'a', 'tree', '.', 'By', 'the', 'time', 'she', 'had', 'caught', 'the', 'flamingo', 'and', 'brought', 'it', 'back', ',', 'the', 'fight', 'was', 'over', ',', 'and', 'both', 'the', 'hedgehogs', 'were', 'out', 'of', 'sight', ':', \"'but\", 'it', \"doesn't\", 'matter', 'much', ',', \"'\", 'thought', 'Alice', ',', \"'as\", 'all', 'the', 'arches', 'are', 'gone', 'from', 'this', 'side', 'of', 'the', 'ground', '.', \"'\", 'So', 'she', 'tucked', 'it', 'away', 'under', 'her', 'arm', ',', 'that', 'it', 'might', 'not', 'escape', 'again', ',', 'and', 'went', 'back', 'for', 'a', 'little', 'more', 'conversation', 'with', 'her', 'friend', '.', 'When', 'she', 'got', 'back', 'to', 'the', 'Cheshire', 'Cat', ',', 'she', 'was', 'surprised', 'to', 'find', 'quite', 'a', 'large', 'crowd', 'collected', 'round', 'it', ':', 'there', 'was', 'a', 'dispute', 'going', 'on', 'between', 'the', 'executioner', ',', 'the', 'King', ',', 'and', 'the', 'Queen', ',', 'who', 'were', 'all', 'talking', 'at', 'once', ',', 'while', 'all', 'the', 'rest', 'were', 'quite', 'silent', ',', 'and', 'looked', 'very', 'uncomfortable', '.', 'The', 'moment', 'Alice', 'appeared', ',', 'she', 'was', 'appealed', 'to', 'by', 'all', 'three', 'to', 'settle', 'the', 'question', ',', 'and', 'they', 'repeated', 'their', 'arguments', 'to', 'her', ',', 'though', ',', 'as', 'they', 'all', 'spoke', 'at', 'once', ',', 'she', 'found', 'it', 'very', 'hard', 'indeed', 'to', 'make', 'out', 'exactly', 'what', 'they', 'said', '.', 'The', 'executioner', \"'s\", 'argument', 'was', ',', 'that', 'you', 'could', \"n't\", 'cut', 'off', 'a', 'head', 'unless', 'there', 'was', 'a', 'body', 'to', 'cut', 'it', 'off', 'from', ':', 'that', 'he', 'had', 'never', 'had', 'to', 'do', 'such', 'a', 'thing', 'before', ',', 'and', 'he', 'was', \"n't\", 'going', 'to', 'begin', 'at', 'HIS', 'time', 'of', 'life', '.', 'The', 'King', \"'s\", 'argument', 'was', ',', 'that', 'anything', 'that', 'had', 'a', 'head', 'could', 'be', 'beheaded', ',', 'and', 'that', 'you', 'were', \"n't\", 'to', 'talk', 'nonsense', '.', 'The', 'Queen', \"'s\", 'argument', 'was', ',', 'that', 'if', 'something', 'was', \"n't\", 'done', 'about', 'it', 'in', 'less', 'than', 'no', 'time', 'she', \"'d\", 'have', 'everybody', 'executed', ',', 'all', 'round', '.', '(', 'It', 'was', 'this', 'last', 'remark', 'that', 'had', 'made', 'the', 'whole', 'party', 'look', 'so', 'grave', 'and', 'anxious', '.', ')', 'Alice', 'could', 'think', 'of', 'nothing', 'else', 'to', 'say', 'but', \"'It\", 'belongs', 'to', 'the', 'Duchess', ':', 'you', \"'d\", 'better', 'ask', 'HER', 'about', 'it', '.', \"'\", \"'She\", \"'s\", 'in', 'prison', ',', \"'\", 'the', 'Queen', 'said', 'to', 'the', 'executioner', ':', \"'fetch\", 'her', 'here', '.', \"'\", 'And', 'the', 'executioner', 'went', 'off', 'like', 'an', 'arrow', '.', 'The', 'Cat', \"'s\", 'head', 'began', 'fading', 'away', 'the', 'moment', 'he', 'was', 'gone', ',', 'and', ',', 'by', 'the', 'time', 'he', 'had', 'come', 'back', 'with', 'the', 'Duchess', ',', 'it', 'had', 'entirely', 'disappeared', ';', 'so', 'the', 'King', 'and', 'the', 'executioner', 'ran', 'wildly', 'up', 'and', 'down', 'looking', 'for', 'it', ',', 'while', 'the', 'rest', 'of', 'the', 'party', 'went', 'back', 'to', 'the', 'game', '.', 'CHAPTER', 'IX', '.', 'The', 'Mock', 'Turtle', \"'s\", 'Story', \"'You\", 'ca', \"n't\", 'think', 'how', 'glad', 'I', 'am', 'to', 'see', 'you', 'again', ',', 'you', 'dear', 'old', 'thing', '!', \"'\", 'said', 'the', 'Duchess', ',', 'as', 'she', 'tucked', 'her', 'arm', 'affectionately', 'into', 'Alice', \"'s\", ',', 'and', 'they', 'walked', 'off', 'together', '.', 'Alice', 'was', 'very', 'glad', 'to', 'find', 'her', 'in', 'such', 'a', 'pleasant', 'temper', ',', 'and', 'thought', 'to', 'herself', 'that', 'perhaps', 'it', 'was', 'only', 'the', 'pepper', 'that', 'had', 'made', 'her', 'so', 'savage', 'when', 'they', 'met', 'in', 'the', 'kitchen', '.', \"'When\", 'I', \"'M\", 'a', 'Duchess', ',', \"'\", 'she', 'said', 'to', 'herself', ',', '(', 'not', 'in', 'a', 'very', 'hopeful', 'tone', 'though', ')', ',', \"'\", 'I', 'wo', \"n't\", 'have', 'any', 'pepper', 'in', 'my', 'kitchen', 'AT', 'ALL', '.', 'Soup', 'does', 'very', 'well', 'without', '--', 'Maybe', 'it', \"'s\", 'always', 'pepper', 'that', 'makes', 'people', 'hot-tempered', ',', \"'\", 'she', 'went', 'on', ',', 'very', 'much', 'pleased', 'at', 'having', 'found', 'out', 'a', 'new', 'kind', 'of', 'rule', ',', \"'and\", 'vinegar', 'that', 'makes', 'them', 'sour', '--', 'and', 'camomile', 'that', 'makes', 'them', 'bitter', '--', 'and', '--', 'and', 'barley-sugar', 'and', 'such', 'things', 'that', 'make', 'children', 'sweet-tempered', '.', 'I', 'only', 'wish', 'people', 'knew', 'that', ':', 'then', 'they', 'would', \"n't\", 'be', 'so', 'stingy', 'about', 'it', ',', 'you', 'know', '--', \"'\", 'She', 'had', 'quite', 'forgotten', 'the', 'Duchess', 'by', 'this', 'time', ',', 'and', 'was', 'a', 'little', 'startled', 'when', 'she', 'heard', 'her', 'voice', 'close', 'to', 'her', 'ear', '.', \"'You\", \"'re\", 'thinking', 'about', 'something', ',', 'my', 'dear', ',', 'and', 'that', 'makes', 'you', 'forget', 'to', 'talk', '.', 'I', \"can't\", 'tell', 'you', 'just', 'now', 'what', 'the', 'moral', 'of', 'that', 'is', ',', 'but', 'I', 'shall', 'remember', 'it', 'in', 'a', 'bit', '.', \"'\", \"'Perhaps\", 'it', 'has', \"n't\", 'one', ',', \"'\", 'Alice', 'ventured', 'to', 'remark', '.', \"'Tut\", ',', 'tut', ',', 'child', '!', \"'\", 'said', 'the', 'Duchess', '.', \"'Everything\", \"'s\", 'got', 'a', 'moral', ',', 'if', 'only', 'you', 'can', 'find', 'it', '.', \"'\", 'And', 'she', 'squeezed', 'herself', 'up', 'closer', 'to', 'Alice', \"'s\", 'side', 'as', 'she', 'spoke', '.', 'Alice', 'did', 'not', 'much', 'like', 'keeping', 'so', 'close', 'to', 'her', ':', 'first', ',', 'because', 'the', 'Duchess', 'was', 'VERY', 'ugly', ';', 'and', 'secondly', ',', 'because', 'she', 'was', 'exactly', 'the', 'right', 'height', 'to', 'rest', 'her', 'chin', 'upon', 'Alice', \"'s\", 'shoulder', ',', 'and', 'it', 'was', 'an', 'uncomfortably', 'sharp', 'chin', '.', 'However', ',', 'she', 'did', 'not', 'like', 'to', 'be', 'rude', ',', 'so', 'she', 'bore', 'it', 'as', 'well', 'as', 'she', 'could', '.', \"'The\", 'game', \"'s\", 'going', 'on', 'rather', 'better', 'now', ',', \"'\", 'she', 'said', ',', 'by', 'way', 'of', 'keeping', 'up', 'the', 'conversation', 'a', 'little', '.', \"''Tis\", 'so', ',', \"'\", 'said', 'the', 'Duchess', ':', \"'and\", 'the', 'moral', 'of', 'that', 'is', '--', \"''\", 'Oh', ',', \"'t\", 'is', 'love', ',', \"'tis\", 'love', ',', 'that', 'makes', 'the', 'world', 'go', 'round', '!', \"''\", \"'\", \"'Somebody\", 'said', ',', \"'\", 'Alice', 'whispered', ',', \"'that\", 'it', \"'s\", 'done', 'by', 'everybody', 'minding', 'their', 'own', 'business', '!', \"'\", \"'Ah\", ',', 'well', '!', 'It', 'means', 'much', 'the', 'same', 'thing', ',', \"'\", 'said', 'the', 'Duchess', ',', 'digging', 'her', 'sharp', 'little', 'chin', 'into', 'Alice', \"'s\", 'shoulder', 'as', 'she', 'added', ',', \"'and\", 'the', 'moral', 'of', 'THAT', 'is', '--', \"''\", 'Take', 'care', 'of', 'the', 'sense', ',', 'and', 'the', 'sounds', 'will', 'take', 'care', 'of', 'themselves', '.', \"''\", \"'\", \"'How\", 'fond', 'she', 'is', 'of', 'finding', 'morals', 'in', 'things', '!', \"'\", 'Alice', 'thought', 'to', 'herself', '.', \"'\", 'I', 'dare', 'say', 'you', \"'re\", 'wondering', 'why', 'I', 'do', \"n't\", 'put', 'my', 'arm', 'round', 'your', 'waist', ',', \"'\", 'the', 'Duchess', 'said', 'after', 'a', 'pause', ':', \"'the\", 'reason', 'is', ',', 'that', 'I', \"'m\", 'doubtful', 'about', 'the', 'temper', 'of', 'your', 'flamingo', '.', 'Shall', 'I', 'try', 'the', 'experiment', '?', \"'\", \"'HE\", 'might', 'bite', ',', \"'\", 'Alice', 'cautiously', 'replied', ',', 'not', 'feeling', 'at', 'all', 'anxious', 'to', 'have', 'the', 'experiment', 'tried', '.', \"'Very\", 'true', ',', \"'\", 'said', 'the', 'Duchess', ':', \"'flamingoes\", 'and', 'mustard', 'both', 'bite', '.', 'And', 'the', 'moral', 'of', 'that', 'is', '--', \"''\", 'Birds', 'of', 'a', 'feather', 'flock', 'together', '.', \"''\", \"'\", \"'Only\", 'mustard', 'is', \"n't\", 'a', 'bird', ',', \"'\", 'Alice', 'remarked', '.', \"'Right\", ',', 'as', 'usual', ',', \"'\", 'said', 'the', 'Duchess', ':', \"'what\", 'a', 'clear', 'way', 'you', 'have', 'of', 'putting', 'things', '!', \"'\", \"'It\", \"'s\", 'a', 'mineral', ',', 'I', 'THINK', ',', \"'\", 'said', 'Alice', '.', \"'Of\", 'course', 'it', 'is', ',', \"'\", 'said', 'the', 'Duchess', ',', 'who', 'seemed', 'ready', 'to', 'agree', 'to', 'everything', 'that', 'Alice', 'said', ';', \"'there\", \"'s\", 'a', 'large', 'mustard-mine', 'near', 'here', '.', 'And', 'the', 'moral', 'of', 'that', 'is', '--', \"''\", 'The', 'more', 'there', 'is', 'of', 'mine', ',', 'the', 'less', 'there', 'is', 'of', 'yours', '.', \"''\", \"'\", \"'Oh\", ',', 'I', 'know', '!', \"'\", 'exclaimed', 'Alice', ',', 'who', 'had', 'not', 'attended', 'to', 'this', 'last', 'remark', ',', \"'it\", \"'s\", 'a', 'vegetable', '.', 'It', 'does', \"n't\", 'look', 'like', 'one', ',', 'but', 'it', 'is', '.', \"'\", \"'\", 'I', 'quite', 'agree', 'with', 'you', ',', \"'\", 'said', 'the', 'Duchess', ';', \"'and\", 'the', 'moral', 'of', 'that', 'is', '--', \"''\", 'Be', 'what', 'you', 'would', 'seem', 'to', 'be', \"''\", '--', 'or', 'if', 'you', \"'d\", 'like', 'it', 'put', 'more', 'simply', '--', \"''\", 'Never', 'imagine', 'yourself', 'not', 'to', 'be', 'otherwise', 'than', 'what', 'it', 'might', 'appear', 'to', 'others', 'that', 'what', 'you', 'were', 'or', 'might', 'have', 'been', 'was', 'not', 'otherwise', 'than', 'what', 'you', 'had', 'been', 'would', 'have', 'appeared', 'to', 'them', 'to', 'be', 'otherwise', '.', \"''\", \"'\", \"'\", 'I', 'think', 'I', 'should', 'understand', 'that', 'better', ',', \"'\", 'Alice', 'said', 'very', 'politely', ',', \"'if\", 'I', 'had', 'it', 'written', 'down', ':', 'but', 'I', 'ca', \"n't\", 'quite', 'follow', 'it', 'as', 'you', 'say', 'it', '.', \"'\", \"'That\", \"'s\", 'nothing', 'to', 'what', 'I', 'could', 'say', 'if', 'I', 'chose', ',', \"'\", 'the', 'Duchess', 'replied', ',', 'in', 'a', 'pleased', 'tone', '.', \"'Pray\", 'do', \"n't\", 'trouble', 'yourself', 'to', 'say', 'it', 'any', 'longer', 'than', 'that', ',', \"'\", 'said', 'Alice', '.', \"'Oh\", ',', 'do', \"n't\", 'talk', 'about', 'trouble', '!', \"'\", 'said', 'the', 'Duchess', '.', \"'\", 'I', 'make', 'you', 'a', 'present', 'of', 'everything', 'I', \"'ve\", 'said', 'as', 'yet', '.', \"'\", \"'\", 'A', 'cheap', 'sort', 'of', 'present', '!', \"'\", 'thought', 'Alice', '.', \"'\", 'I', \"'m\", 'glad', 'they', 'do', \"n't\", 'give', 'birthday', 'presents', 'like', 'that', '!', \"'\", 'But', 'she', 'did', 'not', 'venture', 'to', 'say', 'it', 'out', 'loud', '.', \"'Thinking\", 'again', '?', \"'\", 'the', 'Duchess', 'asked', ',', 'with', 'another', 'dig', 'of', 'her', 'sharp', 'little', 'chin', '.', \"'\", 'I', \"'ve\", 'a', 'right', 'to', 'think', ',', \"'\", 'said', 'Alice', 'sharply', ',', 'for', 'she', 'was', 'beginning', 'to', 'feel', 'a', 'little', 'worried', '.', \"'Just\", 'about', 'as', 'much', 'right', ',', \"'\", 'said', 'the', 'Duchess', ',', \"'as\", 'pigs', 'have', 'to', 'fly', ';', 'and', 'the', 'm', '--', \"'\", 'But', 'here', ',', 'to', 'Alice', \"'s\", 'great', 'surprise', ',', 'the', 'Duchess', \"'s\", 'voice', 'died', 'away', ',', 'even', 'in', 'the', 'middle', 'of', 'her', 'favourite', 'word', \"'moral\", ',', \"'\", 'and', 'the', 'arm', 'that', 'was', 'linked', 'into', 'hers', 'began', 'to', 'tremble', '.', 'Alice', 'looked', 'up', ',', 'and', 'there', 'stood', 'the', 'Queen', 'in', 'front', 'of', 'them', ',', 'with', 'her', 'arms', 'folded', ',', 'frowning', 'like', 'a', 'thunderstorm', '.', \"'\", 'A', 'fine', 'day', ',', 'your', 'Majesty', '!', \"'\", 'the', 'Duchess', 'began', 'in', 'a', 'low', ',', 'weak', 'voice', '.', \"'Now\", ',', 'I', 'give', 'you', 'fair', 'warning', ',', \"'\", 'shouted', 'the', 'Queen', ',', 'stamping', 'on', 'the', 'ground', 'as', 'she', 'spoke', ';', \"'either\", 'you', 'or', 'your', 'head', 'must', 'be', 'off', ',', 'and', 'that', 'in', 'about', 'half', 'no', 'time', '!', 'Take', 'your', 'choice', '!', \"'\", 'The', 'Duchess', 'took', 'her', 'choice', ',', 'and', 'was', 'gone', 'in', 'a', 'moment', '.', \"'Let\", \"'s\", 'go', 'on', 'with', 'the', 'game', ',', \"'\", 'the', 'Queen', 'said', 'to', 'Alice', ';', 'and', 'Alice', 'was', 'too', 'much', 'frightened', 'to', 'say', 'a', 'word', ',', 'but', 'slowly', 'followed', 'her', 'back', 'to', 'the', 'croquet-ground', '.', 'The', 'other', 'guests', 'had', 'taken', 'advantage', 'of', 'the', 'Queen', \"'s\", 'absence', ',', 'and', 'were', 'resting', 'in', 'the', 'shade', ':', 'however', ',', 'the', 'moment', 'they', 'saw', 'her', ',', 'they', 'hurried', 'back', 'to', 'the', 'game', ',', 'the', 'Queen', 'merely', 'remarking', 'that', 'a', 'moment', \"'s\", 'delay', 'would', 'cost', 'them', 'their', 'lives', '.', 'All', 'the', 'time', 'they', 'were', 'playing', 'the', 'Queen', 'never', 'left', 'off', 'quarrelling', 'with', 'the', 'other', 'players', ',', 'and', 'shouting', \"'Off\", 'with', 'his', 'head', '!', \"'\", 'or', \"'Off\", 'with', 'her', 'head', '!', \"'\", 'Those', 'whom', 'she', 'sentenced', 'were', 'taken', 'into', 'custody', 'by', 'the', 'soldiers', ',', 'who', 'of', 'course', 'had', 'to', 'leave', 'off', 'being', 'arches', 'to', 'do', 'this', ',', 'so', 'that', 'by', 'the', 'end', 'of', 'half', 'an', 'hour', 'or', 'so', 'there', 'were', 'no', 'arches', 'left', ',', 'and', 'all', 'the', 'players', ',', 'except', 'the', 'King', ',', 'the', 'Queen', ',', 'and', 'Alice', ',', 'were', 'in', 'custody', 'and', 'under', 'sentence', 'of', 'execution', '.', 'Then', 'the', 'Queen', 'left', 'off', ',', 'quite', 'out', 'of', 'breath', ',', 'and', 'said', 'to', 'Alice', ',', \"'Have\", 'you', 'seen', 'the', 'Mock', 'Turtle', 'yet', '?', \"'\", \"'No\", ',', \"'\", 'said', 'Alice', '.', \"'\", 'I', 'do', \"n't\", 'even', 'know', 'what', 'a', 'Mock', 'Turtle', 'is', '.', \"'\", \"'It\", \"'s\", 'the', 'thing', 'Mock', 'Turtle', 'Soup', 'is', 'made', 'from', ',', \"'\", 'said', 'the', 'Queen', '.', \"'\", 'I', 'never', 'saw', 'one', ',', 'or', 'heard', 'of', 'one', ',', \"'\", 'said', 'Alice', '.', \"'Come\", 'on', ',', 'then', ',', \"'\", 'said', 'the', 'Queen', ',', \"'and\", 'he', 'shall', 'tell', 'you', 'his', 'history', ',', \"'\", 'As', 'they', 'walked', 'off', 'together', ',', 'Alice', 'heard', 'the', 'King', 'say', 'in', 'a', 'low', 'voice', ',', 'to', 'the', 'company', 'generally', ',', \"'You\", 'are', 'all', 'pardoned', '.', \"'\", \"'Come\", ',', 'THAT', \"'S\", 'a', 'good', 'thing', '!', \"'\", 'she', 'said', 'to', 'herself', ',', 'for', 'she', 'had', 'felt', 'quite', 'unhappy', 'at', 'the', 'number', 'of', 'executions', 'the', 'Queen', 'had', 'ordered', '.', 'They', 'very', 'soon', 'came', 'upon', 'a', 'Gryphon', ',', 'lying', 'fast', 'asleep', 'in', 'the', 'sun', '.', '(', 'IF', 'you', 'do', \"n't\", 'know', 'what', 'a', 'Gryphon', 'is', ',', 'look', 'at', 'the', 'picture', '.', ')', \"'Up\", ',', 'lazy', 'thing', '!', \"'\", 'said', 'the', 'Queen', ',', \"'and\", 'take', 'this', 'young', 'lady', 'to', 'see', 'the', 'Mock', 'Turtle', ',', 'and', 'to', 'hear', 'his', 'history', '.', 'I', 'must', 'go', 'back', 'and', 'see', 'after', 'some', 'executions', 'I', 'have', 'ordered', \"'\", ';', 'and', 'she', 'walked', 'off', ',', 'leaving', 'Alice', 'alone', 'with', 'the', 'Gryphon', '.', 'Alice', 'did', 'not', 'quite', 'like', 'the', 'look', 'of', 'the', 'creature', ',', 'but', 'on', 'the', 'whole', 'she', 'thought', 'it', 'would', 'be', 'quite', 'as', 'safe', 'to', 'stay', 'with', 'it', 'as', 'to', 'go', 'after', 'that', 'savage', 'Queen', ':', 'so', 'she', 'waited', '.', 'The', 'Gryphon', 'sat', 'up', 'and', 'rubbed', 'its', 'eyes', ':', 'then', 'it', 'watched', 'the', 'Queen', 'till', 'she', 'was', 'out', 'of', 'sight', ':', 'then', 'it', 'chuckled', '.', \"'What\", 'fun', '!', \"'\", 'said', 'the', 'Gryphon', ',', 'half', 'to', 'itself', ',', 'half', 'to', 'Alice', '.', \"'What\", 'IS', 'the', 'fun', '?', \"'\", 'said', 'Alice', '.', \"'Why\", ',', 'SHE', ',', \"'\", 'said', 'the', 'Gryphon', '.', \"'It\", \"'s\", 'all', 'her', 'fancy', ',', 'that', ':', 'they', 'never', 'executes', 'nobody', ',', 'you', 'know', '.', 'Come', 'on', '!', \"'\", \"'Everybody\", 'says', '``', 'come', 'on', '!', \"''\", 'here', ',', \"'\", 'thought', 'Alice', ',', 'as', 'she', 'went', 'slowly', 'after', 'it', ':', \"'\", 'I', 'never', 'was', 'so', 'ordered', 'about', 'in', 'all', 'my', 'life', ',', 'never', '!', \"'\", 'They', 'had', 'not', 'gone', 'far', 'before', 'they', 'saw', 'the', 'Mock', 'Turtle', 'in', 'the', 'distance', ',', 'sitting', 'sad', 'and', 'lonely', 'on', 'a', 'little', 'ledge', 'of', 'rock', ',', 'and', ',', 'as', 'they', 'came', 'nearer', ',', 'Alice', 'could', 'hear', 'him', 'sighing', 'as', 'if', 'his', 'heart', 'would', 'break', '.', 'She', 'pitied', 'him', 'deeply', '.', \"'What\", 'is', 'his', 'sorrow', '?', \"'\", 'she', 'asked', 'the', 'Gryphon', ',', 'and', 'the', 'Gryphon', 'answered', ',', 'very', 'nearly', 'in', 'the', 'same', 'words', 'as', 'before', ',', \"'It\", \"'s\", 'all', 'his', 'fancy', ',', 'that', ':', 'he', 'has', \"n't\", 'got', 'no', 'sorrow', ',', 'you', 'know', '.', 'Come', 'on', '!', \"'\", 'So', 'they', 'went', 'up', 'to', 'the', 'Mock', 'Turtle', ',', 'who', 'looked', 'at', 'them', 'with', 'large', 'eyes', 'full', 'of', 'tears', ',', 'but', 'said', 'nothing', '.', \"'This\", 'here', 'young', 'lady', ',', \"'\", 'said', 'the', 'Gryphon', ',', \"'she\", 'wants', 'for', 'to', 'know', 'your', 'history', ',', 'she', 'do', '.', \"'\", \"'\", 'I', \"'ll\", 'tell', 'it', 'her', ',', \"'\", 'said', 'the', 'Mock', 'Turtle', 'in', 'a', 'deep', ',', 'hollow', 'tone', ':', \"'sit\", 'down', ',', 'both', 'of', 'you', ',', 'and', 'do', \"n't\", 'speak', 'a', 'word', 'till', 'I', \"'ve\", 'finished', '.', \"'\", 'So', 'they', 'sat', 'down', ',', 'and', 'nobody', 'spoke', 'for', 'some', 'minutes', '.', 'Alice', 'thought', 'to', 'herself', ',', \"'\", 'I', 'do', \"n't\", 'see', 'how', 'he', 'can', 'EVEN', 'finish', ',', 'if', 'he', 'does', \"n't\", 'begin', '.', \"'\", 'But', 'she', 'waited', 'patiently', '.', \"'Once\", ',', \"'\", 'said', 'the', 'Mock', 'Turtle', 'at', 'last', ',', 'with', 'a', 'deep', 'sigh', ',', \"'\", 'I', 'was', 'a', 'real', 'Turtle', '.', \"'\", 'These', 'words', 'were', 'followed', 'by', 'a', 'very', 'long', 'silence', ',', 'broken', 'only', 'by', 'an', 'occasional', 'exclamation', 'of', \"'Hjckrrh\", '!', \"'\", 'from', 'the', 'Gryphon', ',', 'and', 'the', 'constant', 'heavy', 'sobbing', 'of', 'the', 'Mock', 'Turtle', '.', 'Alice', 'was', 'very', 'nearly', 'getting', 'up', 'and', 'saying', ',', \"'Thank\", 'you', ',', 'sir', ',', 'for', 'your', 'interesting', 'story', ',', \"'\", 'but', 'she', 'could', 'not', 'help', 'thinking', 'there', 'MUST', 'be', 'more', 'to', 'come', ',', 'so', 'she', 'sat', 'still', 'and', 'said', 'nothing', '.', \"'When\", 'we', 'were', 'little', ',', \"'\", 'the', 'Mock', 'Turtle', 'went', 'on', 'at', 'last', ',', 'more', 'calmly', ',', 'though', 'still', 'sobbing', 'a', 'little', 'now', 'and', 'then', ',', \"'we\", 'went', 'to', 'school', 'in', 'the', 'sea', '.', 'The', 'master', 'was', 'an', 'old', 'Turtle', '--', 'we', 'used', 'to', 'call', 'him', 'Tortoise', '--', \"'\", \"'Why\", 'did', 'you', 'call', 'him', 'Tortoise', ',', 'if', 'he', 'was', \"n't\", 'one', '?', \"'\", 'Alice', 'asked', '.', \"'We\", 'called', 'him', 'Tortoise', 'because', 'he', 'taught', 'us', ',', \"'\", 'said', 'the', 'Mock', 'Turtle', 'angrily', ':', \"'really\", 'you', 'are', 'very', 'dull', '!', \"'\", \"'You\", 'ought', 'to', 'be', 'ashamed', 'of', 'yourself', 'for', 'asking', 'such', 'a', 'simple', 'question', ',', \"'\", 'added', 'the', 'Gryphon', ';', 'and', 'then', 'they', 'both', 'sat', 'silent', 'and', 'looked', 'at', 'poor', 'Alice', ',', 'who', 'felt', 'ready', 'to', 'sink', 'into', 'the', 'earth', '.', 'At', 'last', 'the', 'Gryphon', 'said', 'to', 'the', 'Mock', 'Turtle', ',', \"'Drive\", 'on', ',', 'old', 'fellow', '!', 'Do', \"n't\", 'be', 'all', 'day', 'about', 'it', '!', \"'\", 'and', 'he', 'went', 'on', 'in', 'these', 'words', ':', \"'Yes\", ',', 'we', 'went', 'to', 'school', 'in', 'the', 'sea', ',', 'though', 'you', 'may', \"n't\", 'believe', 'it', '--', \"'\", \"'\", 'I', 'never', 'said', 'I', 'did', \"n't\", '!', \"'\", 'interrupted', 'Alice', '.', \"'You\", 'did', ',', \"'\", 'said', 'the', 'Mock', 'Turtle', '.', \"'Hold\", 'your', 'tongue', '!', \"'\", 'added', 'the', 'Gryphon', ',', 'before', 'Alice', 'could', 'speak', 'again', '.', 'The', 'Mock', 'Turtle', 'went', 'on', '.', \"'We\", 'had', 'the', 'best', 'of', 'educations', '--', 'in', 'fact', ',', 'we', 'went', 'to', 'school', 'every', 'day', '--', \"'\", \"'\", 'I', \"'VE\", 'been', 'to', 'a', 'day-school', ',', 'too', ',', \"'\", 'said', 'Alice', ';', \"'you\", 'need', \"n't\", 'be', 'so', 'proud', 'as', 'all', 'that', '.', \"'\", \"'With\", 'extras', '?', \"'\", 'asked', 'the', 'Mock', 'Turtle', 'a', 'little', 'anxiously', '.', \"'Yes\", ',', \"'\", 'said', 'Alice', ',', \"'we\", 'learned', 'French', 'and', 'music', '.', \"'\", \"'And\", 'washing', '?', \"'\", 'said', 'the', 'Mock', 'Turtle', '.', \"'Certainly\", 'not', '!', \"'\", 'said', 'Alice', 'indignantly', '.', \"'Ah\", '!', 'then', 'yours', 'was', \"n't\", 'a', 'really', 'good', 'school', ',', \"'\", 'said', 'the', 'Mock', 'Turtle', 'in', 'a', 'tone', 'of', 'great', 'relief', '.', \"'Now\", 'at', 'OURS', 'they', 'had', 'at', 'the', 'end', 'of', 'the', 'bill', ',', \"''\", 'French', ',', 'music', ',', 'AND', 'WASHING', '--', 'extra', '.', \"''\", \"'\", \"'You\", 'could', \"n't\", 'have', 'wanted', 'it', 'much', ',', \"'\", 'said', 'Alice', ';', \"'living\", 'at', 'the', 'bottom', 'of', 'the', 'sea', '.', \"'\", \"'\", 'I', 'could', \"n't\", 'afford', 'to', 'learn', 'it', '.', \"'\", 'said', 'the', 'Mock', 'Turtle', 'with', 'a', 'sigh', '.', \"'\", 'I', 'only', 'took', 'the', 'regular', 'course', '.', \"'\", \"'What\", 'was', 'that', '?', \"'\", 'inquired', 'Alice', '.', \"'Reeling\", 'and', 'Writhing', ',', 'of', 'course', ',', 'to', 'begin', 'with', ',', \"'\", 'the', 'Mock', 'Turtle', 'replied', ';', \"'and\", 'then', 'the', 'different', 'branches', 'of', 'Arithmetic', '--', 'Ambition', ',', 'Distraction', ',', 'Uglification', ',', 'and', 'Derision', '.', \"'\", \"'\", 'I', 'never', 'heard', 'of', '``', 'Uglification', ',', \"''\", \"'\", 'Alice', 'ventured', 'to', 'say', '.', \"'What\", 'is', 'it', '?', \"'\", 'The', 'Gryphon', 'lifted', 'up', 'both', 'its', 'paws', 'in', 'surprise', '.', \"'What\", '!', 'Never', 'heard', 'of', 'uglifying', '!', \"'\", 'it', 'exclaimed', '.', \"'You\", 'know', 'what', 'to', 'beautify', 'is', ',', 'I', 'suppose', '?', \"'\", \"'Yes\", ',', \"'\", 'said', 'Alice', 'doubtfully', ':', \"'it\", 'means', '--', 'to', '--', 'make', '--', 'anything', '--', 'prettier', '.', \"'\", \"'Well\", ',', 'then', ',', \"'\", 'the', 'Gryphon', 'went', 'on', ',', \"'if\", 'you', 'do', \"n't\", 'know', 'what', 'to', 'uglify', 'is', ',', 'you', 'ARE', 'a', 'simpleton', '.', \"'\", 'Alice', 'did', 'not', 'feel', 'encouraged', 'to', 'ask', 'any', 'more', 'questions', 'about', 'it', ',', 'so', 'she', 'turned', 'to', 'the', 'Mock', 'Turtle', ',', 'and', 'said', \"'What\", 'else', 'had', 'you', 'to', 'learn', '?', \"'\", \"'Well\", ',', 'there', 'was', 'Mystery', ',', \"'\", 'the', 'Mock', 'Turtle', 'replied', ',', 'counting', 'off', 'the', 'subjects', 'on', 'his', 'flappers', ',', \"'\", '--', 'Mystery', ',', 'ancient', 'and', 'modern', ',', 'with', 'Seaography', ':', 'then', 'Drawling', '--', 'the', 'Drawling-master', 'was', 'an', 'old', 'conger-eel', ',', 'that', 'used', 'to', 'come', 'once', 'a', 'week', ':', 'HE', 'taught', 'us', 'Drawling', ',', 'Stretching', ',', 'and', 'Fainting', 'in', 'Coils', '.', \"'\", \"'What\", 'was', 'THAT', 'like', '?', \"'\", 'said', 'Alice', '.', \"'Well\", ',', 'I', 'ca', \"n't\", 'show', 'it', 'you', 'myself', ',', \"'\", 'the', 'Mock', 'Turtle', 'said', ':', \"'\", 'I', \"'m\", 'too', 'stiff', '.', 'And', 'the', 'Gryphon', 'never', 'learnt', 'it', '.', \"'\", \"'Had\", \"n't\", 'time', ',', \"'\", 'said', 'the', 'Gryphon', ':', \"'\", 'I', 'went', 'to', 'the', 'Classics', 'master', ',', 'though', '.', 'He', 'was', 'an', 'old', 'crab', ',', 'HE', 'was', '.', \"'\", \"'\", 'I', 'never', 'went', 'to', 'him', ',', \"'\", 'the', 'Mock', 'Turtle', 'said', 'with', 'a', 'sigh', ':', \"'he\", 'taught', 'Laughing', 'and', 'Grief', ',', 'they', 'used', 'to', 'say', '.', \"'\", \"'So\", 'he', 'did', ',', 'so', 'he', 'did', ',', \"'\", 'said', 'the', 'Gryphon', ',', 'sighing', 'in', 'his', 'turn', ';', 'and', 'both', 'creatures', 'hid', 'their', 'faces', 'in', 'their', 'paws', '.', \"'And\", 'how', 'many', 'hours', 'a', 'day', 'did', 'you', 'do', 'lessons', '?', \"'\", 'said', 'Alice', ',', 'in', 'a', 'hurry', 'to', 'change', 'the', 'subject', '.', \"'Ten\", 'hours', 'the', 'first', 'day', ',', \"'\", 'said', 'the', 'Mock', 'Turtle', ':', \"'nine\", 'the', 'next', ',', 'and', 'so', 'on', '.', \"'\", \"'What\", 'a', 'curious', 'plan', '!', \"'\", 'exclaimed', 'Alice', '.', \"'That\", \"'s\", 'the', 'reason', 'they', \"'re\", 'called', 'lessons', ',', \"'\", 'the', 'Gryphon', 'remarked', ':', \"'because\", 'they', 'lessen', 'from', 'day', 'to', 'day', '.', \"'\", 'This', 'was', 'quite', 'a', 'new', 'idea', 'to', 'Alice', ',', 'and', 'she', 'thought', 'it', 'over', 'a', 'little', 'before', 'she', 'made', 'her', 'next', 'remark', '.', \"'Then\", 'the', 'eleventh', 'day', 'must', 'have', 'been', 'a', 'holiday', '?', \"'\", \"'Of\", 'course', 'it', 'was', ',', \"'\", 'said', 'the', 'Mock', 'Turtle', '.', \"'And\", 'how', 'did', 'you', 'manage', 'on', 'the', 'twelfth', '?', \"'\", 'Alice', 'went', 'on', 'eagerly', '.', \"'That\", \"'s\", 'enough', 'about', 'lessons', ',', \"'\", 'the', 'Gryphon', 'interrupted', 'in', 'a', 'very', 'decided', 'tone', ':', \"'tell\", 'her', 'something', 'about', 'the', 'games', 'now', '.', \"'\", 'CHAPTER', 'X', '.', 'The', 'Lobster', 'Quadrille', 'The', 'Mock', 'Turtle', 'sighed', 'deeply', ',', 'and', 'drew', 'the', 'back', 'of', 'one', 'flapper', 'across', 'his', 'eyes', '.', 'He', 'looked', 'at', 'Alice', ',', 'and', 'tried', 'to', 'speak', ',', 'but', 'for', 'a', 'minute', 'or', 'two', 'sobs', 'choked', 'his', 'voice', '.', \"'Same\", 'as', 'if', 'he', 'had', 'a', 'bone', 'in', 'his', 'throat', ',', \"'\", 'said', 'the', 'Gryphon', ':', 'and', 'it', 'set', 'to', 'work', 'shaking', 'him', 'and', 'punching', 'him', 'in', 'the', 'back', '.', 'At', 'last', 'the', 'Mock', 'Turtle', 'recovered', 'his', 'voice', ',', 'and', ',', 'with', 'tears', 'running', 'down', 'his', 'cheeks', ',', 'he', 'went', 'on', 'again', ':', '--', \"'You\", 'may', 'not', 'have', 'lived', 'much', 'under', 'the', 'sea', '--', \"'\", '(', \"'\", 'I', 'have', \"n't\", ',', \"'\", 'said', 'Alice', ')', '--', \"'and\", 'perhaps', 'you', 'were', 'never', 'even', 'introduced', 'to', 'a', 'lobster', '--', \"'\", '(', 'Alice', 'began', 'to', 'say', \"'\", 'I', 'once', 'tasted', '--', \"'\", 'but', 'checked', 'herself', 'hastily', ',', 'and', 'said', \"'No\", ',', 'never', \"'\", ')', \"'\", '--', 'so', 'you', 'can', 'have', 'no', 'idea', 'what', 'a', 'delightful', 'thing', 'a', 'Lobster', 'Quadrille', 'is', '!', \"'\", \"'No\", ',', 'indeed', ',', \"'\", 'said', 'Alice', '.', \"'What\", 'sort', 'of', 'a', 'dance', 'is', 'it', '?', \"'\", \"'Why\", ',', \"'\", 'said', 'the', 'Gryphon', ',', \"'you\", 'first', 'form', 'into', 'a', 'line', 'along', 'the', 'sea-shore', '--', \"'\", \"'Two\", 'lines', '!', \"'\", 'cried', 'the', 'Mock', 'Turtle', '.', \"'Seals\", ',', 'turtles', ',', 'salmon', ',', 'and', 'so', 'on', ';', 'then', ',', 'when', 'you', \"'ve\", 'cleared', 'all', 'the', 'jelly-fish', 'out', 'of', 'the', 'way', '--', \"'\", \"'THAT\", 'generally', 'takes', 'some', 'time', ',', \"'\", 'interrupted', 'the', 'Gryphon.', \"'\", '--', 'you', 'advance', 'twice', '--', \"'\", \"'Each\", 'with', 'a', 'lobster', 'as', 'a', 'partner', '!', \"'\", 'cried', 'the', 'Gryphon', '.', \"'Of\", 'course', ',', \"'\", 'the', 'Mock', 'Turtle', 'said', ':', \"'advance\", 'twice', ',', 'set', 'to', 'partners', '--', \"'\", \"'\", '--', 'change', 'lobsters', ',', 'and', 'retire', 'in', 'same', 'order', ',', \"'\", 'continued', 'the', 'Gryphon', '.', \"'Then\", ',', 'you', 'know', ',', \"'\", 'the', 'Mock', 'Turtle', 'went', 'on', ',', \"'you\", 'throw', 'the', '--', \"'\", \"'The\", 'lobsters', '!', \"'\", 'shouted', 'the', 'Gryphon', ',', 'with', 'a', 'bound', 'into', 'the', 'air.', \"'\", '--', 'as', 'far', 'out', 'to', 'sea', 'as', 'you', 'can', '--', \"'\", \"'Swim\", 'after', 'them', '!', \"'\", 'screamed', 'the', 'Gryphon', '.', \"'Turn\", 'a', 'somersault', 'in', 'the', 'sea', '!', \"'\", 'cried', 'the', 'Mock', 'Turtle', ',', 'capering', 'wildly', 'about', '.', \"'Change\", 'lobsters', 'again', '!', \"'\", 'yelled', 'the', 'Gryphon', 'at', 'the', 'top', 'of', 'its', 'voice', '.', \"'Back\", 'to', 'land', 'again', ',', 'and', 'that', \"'s\", 'all', 'the', 'first', 'figure', ',', \"'\", 'said', 'the', 'Mock', 'Turtle', ',', 'suddenly', 'dropping', 'his', 'voice', ';', 'and', 'the', 'two', 'creatures', ',', 'who', 'had', 'been', 'jumping', 'about', 'like', 'mad', 'things', 'all', 'this', 'time', ',', 'sat', 'down', 'again', 'very', 'sadly', 'and', 'quietly', ',', 'and', 'looked', 'at', 'Alice', '.', \"'It\", 'must', 'be', 'a', 'very', 'pretty', 'dance', ',', \"'\", 'said', 'Alice', 'timidly', '.', \"'Would\", 'you', 'like', 'to', 'see', 'a', 'little', 'of', 'it', '?', \"'\", 'said', 'the', 'Mock', 'Turtle', '.', \"'Very\", 'much', 'indeed', ',', \"'\", 'said', 'Alice', '.', \"'Come\", ',', 'let', \"'s\", 'try', 'the', 'first', 'figure', '!', \"'\", 'said', 'the', 'Mock', 'Turtle', 'to', 'the', 'Gryphon', '.', \"'We\", 'can', 'do', 'without', 'lobsters', ',', 'you', 'know', '.', 'Which', 'shall', 'sing', '?', \"'\", \"'Oh\", ',', 'YOU', 'sing', ',', \"'\", 'said', 'the', 'Gryphon', '.', \"'\", 'I', \"'ve\", 'forgotten', 'the', 'words', '.', \"'\", 'So', 'they', 'began', 'solemnly', 'dancing', 'round', 'and', 'round', 'Alice', ',', 'every', 'now', 'and', 'then', 'treading', 'on', 'her', 'toes', 'when', 'they', 'passed', 'too', 'close', ',', 'and', 'waving', 'their', 'forepaws', 'to', 'mark', 'the', 'time', ',', 'while', 'the', 'Mock', 'Turtle', 'sang', 'this', ',', 'very', 'slowly', 'and', 'sadly', ':', '--', \"'\", \"''\", 'Will', 'you', 'walk', 'a', 'little', 'faster', '?', \"''\", 'said', 'a', 'whiting', 'to', 'a', 'snail', '.', '``', 'There', \"'s\", 'a', 'porpoise', 'close', 'behind', 'us', ',', 'and', 'he', \"'s\", 'treading', 'on', 'my', 'tail', '.', 'See', 'how', 'eagerly', 'the', 'lobsters', 'and', 'the', 'turtles', 'all', 'advance', '!', 'They', 'are', 'waiting', 'on', 'the', 'shingle', '--', 'will', 'you', 'come', 'and', 'join', 'the', 'dance', '?', 'Will', 'you', ',', 'wo', \"n't\", 'you', ',', 'will', 'you', ',', 'wo', \"n't\", 'you', ',', 'will', 'you', 'join', 'the', 'dance', '?', 'Will', 'you', ',', 'wo', \"n't\", 'you', ',', 'will', 'you', ',', 'wo', \"n't\", 'you', ',', 'wo', \"n't\", 'you', 'join', 'the', 'dance', '?', '``', 'You', 'can', 'really', 'have', 'no', 'notion', 'how', 'delightful', 'it', 'will', 'be', 'When', 'they', 'take', 'us', 'up', 'and', 'throw', 'us', ',', 'with', 'the', 'lobsters', ',', 'out', 'to', 'sea', '!', \"''\", 'But', 'the', 'snail', 'replied', '``', 'Too', 'far', ',', 'too', 'far', '!', \"''\", 'and', 'gave', 'a', 'look', 'askance', '--', 'Said', 'he', 'thanked', 'the', 'whiting', 'kindly', ',', 'but', 'he', 'would', 'not', 'join', 'the', 'dance', '.', 'Would', 'not', ',', 'could', 'not', ',', 'would', 'not', ',', 'could', 'not', ',', 'would', 'not', 'join', 'the', 'dance', '.', 'Would', 'not', ',', 'could', 'not', ',', 'would', 'not', ',', 'could', 'not', ',', 'could', 'not', 'join', 'the', 'dance', '.', \"'\", \"''\", 'What', 'matters', 'it', 'how', 'far', 'we', 'go', '?', \"''\", 'his', 'scaly', 'friend', 'replied', '.', '``', 'There', 'is', 'another', 'shore', ',', 'you', 'know', ',', 'upon', 'the', 'other', 'side', '.', 'The', 'further', 'off', 'from', 'England', 'the', 'nearer', 'is', 'to', 'France', '--', 'Then', 'turn', 'not', 'pale', ',', 'beloved', 'snail', ',', 'but', 'come', 'and', 'join', 'the', 'dance', '.', 'Will', 'you', ',', 'wo', \"n't\", 'you', ',', 'will', 'you', ',', 'wo', \"n't\", 'you', ',', 'will', 'you', 'join', 'the', 'dance', '?', 'Will', 'you', ',', 'wo', \"n't\", 'you', ',', 'will', 'you', ',', 'wo', \"n't\", 'you', ',', 'wo', \"n't\", 'you', 'join', 'the', 'dance', '?', \"''\", \"'\", \"'Thank\", 'you', ',', 'it', \"'s\", 'a', 'very', 'interesting', 'dance', 'to', 'watch', ',', \"'\", 'said', 'Alice', ',', 'feeling', 'very', 'glad', 'that', 'it', 'was', 'over', 'at', 'last', ':', \"'and\", 'I', 'do', 'so', 'like', 'that', 'curious', 'song', 'about', 'the', 'whiting', '!', \"'\", \"'Oh\", ',', 'as', 'to', 'the', 'whiting', ',', \"'\", 'said', 'the', 'Mock', 'Turtle', ',', \"'they\", '--', 'you', \"'ve\", 'seen', 'them', ',', 'of', 'course', '?', \"'\", \"'Yes\", ',', \"'\", 'said', 'Alice', ',', \"'\", 'I', \"'ve\", 'often', 'seen', 'them', 'at', 'dinn', '--', \"'\", 'she', 'checked', 'herself', 'hastily', '.', \"'\", 'I', 'do', \"n't\", 'know', 'where', 'Dinn', 'may', 'be', ',', \"'\", 'said', 'the', 'Mock', 'Turtle', ',', \"'but\", 'if', \"you've\", 'seen', 'them', 'so', 'often', ',', 'of', 'course', 'you', 'know', 'what', 'they', \"'re\", 'like', '.', \"'\", \"'\", 'I', 'believe', 'so', ',', \"'\", 'Alice', 'replied', 'thoughtfully', '.', \"'They\", 'have', 'their', 'tails', 'in', 'their', 'mouths', '--', 'and', 'they', \"'re\", 'all', 'over', 'crumbs', '.', \"'\", \"'You\", \"'re\", 'wrong', 'about', 'the', 'crumbs', ',', \"'\", 'said', 'the', 'Mock', 'Turtle', ':', \"'crumbs\", 'would', 'all', 'wash', 'off', 'in', 'the', 'sea', '.', 'But', 'they', 'HAVE', 'their', 'tails', 'in', 'their', 'mouths', ';', 'and', 'the', 'reason', 'is', '--', \"'\", 'here', 'the', 'Mock', 'Turtle', 'yawned', 'and', 'shut', 'his', 'eyes.', '--', \"'Tell\", 'her', 'about', 'the', 'reason', 'and', 'all', 'that', ',', \"'\", 'he', 'said', 'to', 'the', 'Gryphon', '.', \"'The\", 'reason', 'is', ',', \"'\", 'said', 'the', 'Gryphon', ',', \"'that\", 'they', 'WOULD', 'go', 'with', 'the', 'lobsters', 'to', 'the', 'dance', '.', 'So', 'they', 'got', 'thrown', 'out', 'to', 'sea', '.', 'So', 'they', 'had', 'to', 'fall', 'a', 'long', 'way', '.', 'So', 'they', 'got', 'their', 'tails', 'fast', 'in', 'their', 'mouths', '.', 'So', 'they', 'could', \"n't\", 'get', 'them', 'out', 'again', '.', 'That', \"'s\", 'all', '.', \"'\", \"'Thank\", 'you', ',', \"'\", 'said', 'Alice', ',', \"'it\", \"'s\", 'very', 'interesting', '.', 'I', 'never', 'knew', 'so', 'much', 'about', 'a', 'whiting', 'before', '.', \"'\", \"'\", 'I', 'can', 'tell', 'you', 'more', 'than', 'that', ',', 'if', 'you', 'like', ',', \"'\", 'said', 'the', 'Gryphon', '.', \"'Do\", 'you', 'know', 'why', 'it', \"'s\", 'called', 'a', 'whiting', '?', \"'\", \"'\", 'I', 'never', 'thought', 'about', 'it', ',', \"'\", 'said', 'Alice', '.', \"'Why\", '?', \"'\", \"'IT\", 'DOES', 'THE', 'BOOTS', 'AND', 'SHOES', '.', \"'\", 'the', 'Gryphon', 'replied', 'very', 'solemnly', '.', 'Alice', 'was', 'thoroughly', 'puzzled', '.', \"'Does\", 'the', 'boots', 'and', 'shoes', '!', \"'\", 'she', 'repeated', 'in', 'a', 'wondering', 'tone', '.', \"'Why\", ',', 'what', 'are', 'YOUR', 'shoes', 'done', 'with', '?', \"'\", 'said', 'the', 'Gryphon', '.', \"'\", 'I', 'mean', ',', 'what', 'makes', 'them', 'so', 'shiny', '?', \"'\", 'Alice', 'looked', 'down', 'at', 'them', ',', 'and', 'considered', 'a', 'little', 'before', 'she', 'gave', 'her', 'answer', '.', \"'They\", \"'re\", 'done', 'with', 'blacking', ',', 'I', 'believe', '.', \"'\", \"'Boots\", 'and', 'shoes', 'under', 'the', 'sea', ',', \"'\", 'the', 'Gryphon', 'went', 'on', 'in', 'a', 'deep', 'voice', ',', \"'are\", 'done', 'with', 'a', 'whiting', '.', 'Now', 'you', 'know', '.', \"'\", \"'And\", 'what', 'are', 'they', 'made', 'of', '?', \"'\", 'Alice', 'asked', 'in', 'a', 'tone', 'of', 'great', 'curiosity', '.', \"'Soles\", 'and', 'eels', ',', 'of', 'course', ',', \"'\", 'the', 'Gryphon', 'replied', 'rather', 'impatiently', ':', \"'any\", 'shrimp', 'could', 'have', 'told', 'you', 'that', '.', \"'\", \"'If\", 'I', \"'d\", 'been', 'the', 'whiting', ',', \"'\", 'said', 'Alice', ',', 'whose', 'thoughts', 'were', 'still', 'running', 'on', 'the', 'song', ',', \"'\", 'I', \"'d\", 'have', 'said', 'to', 'the', 'porpoise', ',', '``', 'Keep', 'back', ',', 'please', ':', 'we', 'do', \"n't\", 'want', 'YOU', 'with', 'us', '!', \"''\", \"'\", \"'They\", 'were', 'obliged', 'to', 'have', 'him', 'with', 'them', ',', \"'\", 'the', 'Mock', 'Turtle', 'said', ':', \"'no\", 'wise', 'fish', 'would', 'go', 'anywhere', 'without', 'a', 'porpoise', '.', \"'\", \"'Would\", \"n't\", 'it', 'really', '?', \"'\", 'said', 'Alice', 'in', 'a', 'tone', 'of', 'great', 'surprise', '.', \"'Of\", 'course', 'not', ',', \"'\", 'said', 'the', 'Mock', 'Turtle', ':', \"'why\", ',', 'if', 'a', 'fish', 'came', 'to', 'ME', ',', 'and', 'told', 'me', 'he', 'was', 'going', 'a', 'journey', ',', 'I', 'should', 'say', '``', 'With', 'what', 'porpoise', '?', \"''\", \"'\", \"'Do\", \"n't\", 'you', 'mean', '``', 'purpose', \"''\", '?', \"'\", 'said', 'Alice', '.', \"'\", 'I', 'mean', 'what', 'I', 'say', ',', \"'\", 'the', 'Mock', 'Turtle', 'replied', 'in', 'an', 'offended', 'tone', '.', 'And', 'the', 'Gryphon', 'added', \"'Come\", ',', 'let', \"'s\", 'hear', 'some', 'of', 'YOUR', 'adventures', '.', \"'\", \"'\", 'I', 'could', 'tell', 'you', 'my', 'adventures', '--', 'beginning', 'from', 'this', 'morning', ',', \"'\", 'said', 'Alice', 'a', 'little', 'timidly', ':', \"'but\", 'it', \"'s\", 'no', 'use', 'going', 'back', 'to', 'yesterday', ',', 'because', 'I', 'was', 'a', 'different', 'person', 'then', '.', \"'\", \"'Explain\", 'all', 'that', ',', \"'\", 'said', 'the', 'Mock', 'Turtle', '.', \"'No\", ',', 'no', '!', 'The', 'adventures', 'first', ',', \"'\", 'said', 'the', 'Gryphon', 'in', 'an', 'impatient', 'tone', ':', \"'explanations\", 'take', 'such', 'a', 'dreadful', 'time', '.', \"'\", 'So', 'Alice', 'began', 'telling', 'them', 'her', 'adventures', 'from', 'the', 'time', 'when', 'she', 'first', 'saw', 'the', 'White', 'Rabbit', '.', 'She', 'was', 'a', 'little', 'nervous', 'about', 'it', 'just', 'at', 'first', ',', 'the', 'two', 'creatures', 'got', 'so', 'close', 'to', 'her', ',', 'one', 'on', 'each', 'side', ',', 'and', 'opened', 'their', 'eyes', 'and', 'mouths', 'so', 'VERY', 'wide', ',', 'but', 'she', 'gained', 'courage', 'as', 'she', 'went', 'on', '.', 'Her', 'listeners', 'were', 'perfectly', 'quiet', 'till', 'she', 'got', 'to', 'the', 'part', 'about', 'her', 'repeating', \"'YOU\", 'ARE', 'OLD', ',', 'FATHER', 'WILLIAM', ',', \"'\", 'to', 'the', 'Caterpillar', ',', 'and', 'the', 'words', 'all', 'coming', 'different', ',', 'and', 'then', 'the', 'Mock', 'Turtle', 'drew', 'a', 'long', 'breath', ',', 'and', 'said', \"'That\", \"'s\", 'very', 'curious', '.', \"'\", \"'It\", \"'s\", 'all', 'about', 'as', 'curious', 'as', 'it', 'can', 'be', ',', \"'\", 'said', 'the', 'Gryphon', '.', \"'It\", 'all', 'came', 'different', '!', \"'\", 'the', 'Mock', 'Turtle', 'repeated', 'thoughtfully', '.', \"'\", 'I', 'should', 'like', 'to', 'hear', 'her', 'try', 'and', 'repeat', 'something', 'now', '.', 'Tell', 'her', 'to', 'begin', '.', \"'\", 'He', 'looked', 'at', 'the', 'Gryphon', 'as', 'if', 'he', 'thought', 'it', 'had', 'some', 'kind', 'of', 'authority', 'over', 'Alice', '.', \"'Stand\", 'up', 'and', 'repeat', '``', \"'T\", 'IS', 'THE', 'VOICE', 'OF', 'THE', 'SLUGGARD', ',', \"''\", \"'\", 'said', 'the', 'Gryphon', '.', \"'How\", 'the', 'creatures', 'order', 'one', 'about', ',', 'and', 'make', 'one', 'repeat', 'lessons', '!', \"'\", 'thought', 'Alice', ';', \"'\", 'I', 'might', 'as', 'well', 'be', 'at', 'school', 'at', 'once', '.', \"'\", 'However', ',', 'she', 'got', 'up', ',', 'and', 'began', 'to', 'repeat', 'it', ',', 'but', 'her', 'head', 'was', 'so', 'full', 'of', 'the', 'Lobster', 'Quadrille', ',', 'that', 'she', 'hardly', 'knew', 'what', 'she', 'was', 'saying', ',', 'and', 'the', 'words', 'came', 'very', 'queer', 'indeed', ':', '--', '``', 'Tis', 'the', 'voice', 'of', 'the', 'Lobster', ';', 'I', 'heard', 'him', 'declare', ',', '``', 'You', 'have', 'baked', 'me', 'too', 'brown', ',', 'I', 'must', 'sugar', 'my', 'hair', '.', \"''\", 'As', 'a', 'duck', 'with', 'its', 'eyelids', ',', 'so', 'he', 'with', 'his', 'nose', 'Trims', 'his', 'belt', 'and', 'his', 'buttons', ',', 'and', 'turns', 'out', 'his', 'toes', '.', \"'\", '[', 'later', 'editions', 'continued', 'as', 'follows', 'When', 'the', 'sands', 'are', 'all', 'dry', ',', 'he', 'is', 'gay', 'as', 'a', 'lark', ',', 'And', 'will', 'talk', 'in', 'contemptuous', 'tones', 'of', 'the', 'Shark', ',', 'But', ',', 'when', 'the', 'tide', 'rises', 'and', 'sharks', 'are', 'around', ',', 'His', 'voice', 'has', 'a', 'timid', 'and', 'tremulous', 'sound', '.', ']', \"'That\", \"'s\", 'different', 'from', 'what', 'I', 'used', 'to', 'say', 'when', 'I', 'was', 'a', 'child', ',', \"'\", 'said', 'the', 'Gryphon', '.', \"'Well\", ',', 'I', 'never', 'heard', 'it', 'before', ',', \"'\", 'said', 'the', 'Mock', 'Turtle', ';', \"'but\", 'it', 'sounds', 'uncommon', 'nonsense', '.', \"'\", 'Alice', 'said', 'nothing', ';', 'she', 'had', 'sat', 'down', 'with', 'her', 'face', 'in', 'her', 'hands', ',', 'wondering', 'if', 'anything', 'would', 'EVER', 'happen', 'in', 'a', 'natural', 'way', 'again', '.', \"'\", 'I', 'should', 'like', 'to', 'have', 'it', 'explained', ',', \"'\", 'said', 'the', 'Mock', 'Turtle', '.', \"'She\", 'ca', \"n't\", 'explain', 'it', ',', \"'\", 'said', 'the', 'Gryphon', 'hastily', '.', \"'Go\", 'on', 'with', 'the', 'next', 'verse', '.', \"'\", \"'But\", 'about', 'his', 'toes', '?', \"'\", 'the', 'Mock', 'Turtle', 'persisted', '.', \"'How\", 'COULD', 'he', 'turn', 'them', 'out', 'with', 'his', 'nose', ',', 'you', 'know', '?', \"'\", \"'It\", \"'s\", 'the', 'first', 'position', 'in', 'dancing', '.', \"'\", 'Alice', 'said', ';', 'but', 'was', 'dreadfully', 'puzzled', 'by', 'the', 'whole', 'thing', ',', 'and', 'longed', 'to', 'change', 'the', 'subject', '.', \"'Go\", 'on', 'with', 'the', 'next', 'verse', ',', \"'\", 'the', 'Gryphon', 'repeated', 'impatiently', ':', \"'it\", 'begins', '``', 'I', 'passed', 'by', 'his', 'garden', '.', \"''\", \"'\", 'Alice', 'did', 'not', 'dare', 'to', 'disobey', ',', 'though', 'she', 'felt', 'sure', 'it', 'would', 'all', 'come', 'wrong', ',', 'and', 'she', 'went', 'on', 'in', 'a', 'trembling', 'voice', ':', '--', \"'\", 'I', 'passed', 'by', 'his', 'garden', ',', 'and', 'marked', ',', 'with', 'one', 'eye', ',', 'How', 'the', 'Owl', 'and', 'the', 'Panther', 'were', 'sharing', 'a', 'pie', '--', \"'\", '[', 'later', 'editions', 'continued', 'as', 'follows', 'The', 'Panther', 'took', 'pie-crust', ',', 'and', 'gravy', ',', 'and', 'meat', ',', 'While', 'the', 'Owl', 'had', 'the', 'dish', 'as', 'its', 'share', 'of', 'the', 'treat', '.', 'When', 'the', 'pie', 'was', 'all', 'finished', ',', 'the', 'Owl', ',', 'as', 'a', 'boon', ',', 'Was', 'kindly', 'permitted', 'to', 'pocket', 'the', 'spoon', ':', 'While', 'the', 'Panther', 'received', 'knife', 'and', 'fork', 'with', 'a', 'growl', ',', 'And', 'concluded', 'the', 'banquet', '--', ']', \"'What\", 'IS', 'the', 'use', 'of', 'repeating', 'all', 'that', 'stuff', ',', \"'\", 'the', 'Mock', 'Turtle', 'interrupted', ',', \"'if\", 'you', 'do', \"n't\", 'explain', 'it', 'as', 'you', 'go', 'on', '?', 'It', \"'s\", 'by', 'far', 'the', 'most', 'confusing', 'thing', 'I', 'ever', 'heard', '!', \"'\", \"'Yes\", ',', 'I', 'think', 'you', \"'d\", 'better', 'leave', 'off', ',', \"'\", 'said', 'the', 'Gryphon', ':', 'and', 'Alice', 'was', 'only', 'too', 'glad', 'to', 'do', 'so', '.', \"'Shall\", 'we', 'try', 'another', 'figure', 'of', 'the', 'Lobster', 'Quadrille', '?', \"'\", 'the', 'Gryphon', 'went', 'on', '.', \"'Or\", 'would', 'you', 'like', 'the', 'Mock', 'Turtle', 'to', 'sing', 'you', 'a', 'song', '?', \"'\", \"'Oh\", ',', 'a', 'song', ',', 'please', ',', 'if', 'the', 'Mock', 'Turtle', 'would', 'be', 'so', 'kind', ',', \"'\", 'Alice', 'replied', ',', 'so', 'eagerly', 'that', 'the', 'Gryphon', 'said', ',', 'in', 'a', 'rather', 'offended', 'tone', ',', \"'Hm\", '!', 'No', 'accounting', 'for', 'tastes', '!', 'Sing', 'her', '``', 'Turtle', 'Soup', ',', \"''\", 'will', 'you', ',', 'old', 'fellow', '?', \"'\", 'The', 'Mock', 'Turtle', 'sighed', 'deeply', ',', 'and', 'began', ',', 'in', 'a', 'voice', 'sometimes', 'choked', 'with', 'sobs', ',', 'to', 'sing', 'this', ':', '--', \"'Beautiful\", 'Soup', ',', 'so', 'rich', 'and', 'green', ',', 'Waiting', 'in', 'a', 'hot', 'tureen', '!', 'Who', 'for', 'such', 'dainties', 'would', 'not', 'stoop', '?', 'Soup', 'of', 'the', 'evening', ',', 'beautiful', 'Soup', '!', 'Soup', 'of', 'the', 'evening', ',', 'beautiful', 'Soup', '!', 'Beau', '--', 'ootiful', 'Soo', '--', 'oop', '!', 'Beau', '--', 'ootiful', 'Soo', '--', 'oop', '!', 'Soo', '--', 'oop', 'of', 'the', 'e', '--', 'e', '--', 'evening', ',', 'Beautiful', ',', 'beautiful', 'Soup', '!', \"'Beautiful\", 'Soup', '!', 'Who', 'cares', 'for', 'fish', ',', 'Game', ',', 'or', 'any', 'other', 'dish', '?', 'Who', 'would', 'not', 'give', 'all', 'else', 'for', 'two', 'Pennyworth', 'only', 'of', 'beautiful', 'Soup', '?', 'Pennyworth', 'only', 'of', 'beautiful', 'Soup', '?', 'Beau', '--', 'ootiful', 'Soo', '--', 'oop', '!', 'Beau', '--', 'ootiful', 'Soo', '--', 'oop', '!', 'Soo', '--', 'oop', 'of', 'the', 'e', '--', 'e', '--', 'evening', ',', 'Beautiful', ',', 'beauti', '--', 'FUL', 'SOUP', '!', \"'\", \"'Chorus\", 'again', '!', \"'\", 'cried', 'the', 'Gryphon', ',', 'and', 'the', 'Mock', 'Turtle', 'had', 'just', 'begun', 'to', 'repeat', 'it', ',', 'when', 'a', 'cry', 'of', \"'The\", 'trial', \"'s\", 'beginning', '!', \"'\", 'was', 'heard', 'in', 'the', 'distance', '.', \"'Come\", 'on', '!', \"'\", 'cried', 'the', 'Gryphon', ',', 'and', ',', 'taking', 'Alice', 'by', 'the', 'hand', ',', 'it', 'hurried', 'off', ',', 'without', 'waiting', 'for', 'the', 'end', 'of', 'the', 'song', '.', \"'What\", 'trial', 'is', 'it', '?', \"'\", 'Alice', 'panted', 'as', 'she', 'ran', ';', 'but', 'the', 'Gryphon', 'only', 'answered', \"'Come\", 'on', '!', \"'\", 'and', 'ran', 'the', 'faster', ',', 'while', 'more', 'and', 'more', 'faintly', 'came', ',', 'carried', 'on', 'the', 'breeze', 'that', 'followed', 'them', ',', 'the', 'melancholy', 'words', ':', '--', \"'Soo\", '--', 'oop', 'of', 'the', 'e', '--', 'e', '--', 'evening', ',', 'Beautiful', ',', 'beautiful', 'Soup', '!', \"'\", 'CHAPTER', 'XI', '.', 'Who', 'Stole', 'the', 'Tarts', '?', 'The', 'King', 'and', 'Queen', 'of', 'Hearts', 'were', 'seated', 'on', 'their', 'throne', 'when', 'they', 'arrived', ',', 'with', 'a', 'great', 'crowd', 'assembled', 'about', 'them', '--', 'all', 'sorts', 'of', 'little', 'birds', 'and', 'beasts', ',', 'as', 'well', 'as', 'the', 'whole', 'pack', 'of', 'cards', ':', 'the', 'Knave', 'was', 'standing', 'before', 'them', ',', 'in', 'chains', ',', 'with', 'a', 'soldier', 'on', 'each', 'side', 'to', 'guard', 'him', ';', 'and', 'near', 'the', 'King', 'was', 'the', 'White', 'Rabbit', ',', 'with', 'a', 'trumpet', 'in', 'one', 'hand', ',', 'and', 'a', 'scroll', 'of', 'parchment', 'in', 'the', 'other', '.', 'In', 'the', 'very', 'middle', 'of', 'the', 'court', 'was', 'a', 'table', ',', 'with', 'a', 'large', 'dish', 'of', 'tarts', 'upon', 'it', ':', 'they', 'looked', 'so', 'good', ',', 'that', 'it', 'made', 'Alice', 'quite', 'hungry', 'to', 'look', 'at', 'them', '--', \"'\", 'I', 'wish', 'they', \"'d\", 'get', 'the', 'trial', 'done', ',', \"'\", 'she', 'thought', ',', \"'and\", 'hand', 'round', 'the', 'refreshments', '!', \"'\", 'But', 'there', 'seemed', 'to', 'be', 'no', 'chance', 'of', 'this', ',', 'so', 'she', 'began', 'looking', 'at', 'everything', 'about', 'her', ',', 'to', 'pass', 'away', 'the', 'time', '.', 'Alice', 'had', 'never', 'been', 'in', 'a', 'court', 'of', 'justice', 'before', ',', 'but', 'she', 'had', 'read', 'about', 'them', 'in', 'books', ',', 'and', 'she', 'was', 'quite', 'pleased', 'to', 'find', 'that', 'she', 'knew', 'the', 'name', 'of', 'nearly', 'everything', 'there', '.', \"'That\", \"'s\", 'the', 'judge', ',', \"'\", 'she', 'said', 'to', 'herself', ',', \"'because\", 'of', 'his', 'great', 'wig', '.', \"'\", 'The', 'judge', ',', 'by', 'the', 'way', ',', 'was', 'the', 'King', ';', 'and', 'as', 'he', 'wore', 'his', 'crown', 'over', 'the', 'wig', ',', '(', 'look', 'at', 'the', 'frontispiece', 'if', 'you', 'want', 'to', 'see', 'how', 'he', 'did', 'it', ',', ')', 'he', 'did', 'not', 'look', 'at', 'all', 'comfortable', ',', 'and', 'it', 'was', 'certainly', 'not', 'becoming', '.', \"'And\", 'that', \"'s\", 'the', 'jury-box', ',', \"'\", 'thought', 'Alice', ',', \"'and\", 'those', 'twelve', 'creatures', ',', \"'\", '(', 'she', 'was', 'obliged', 'to', 'say', \"'creatures\", ',', \"'\", 'you', 'see', ',', 'because', 'some', 'of', 'them', 'were', 'animals', ',', 'and', 'some', 'were', 'birds', ',', ')', \"'\", 'I', 'suppose', 'they', 'are', 'the', 'jurors', '.', \"'\", 'She', 'said', 'this', 'last', 'word', 'two', 'or', 'three', 'times', 'over', 'to', 'herself', ',', 'being', 'rather', 'proud', 'of', 'it', ':', 'for', 'she', 'thought', ',', 'and', 'rightly', 'too', ',', 'that', 'very', 'few', 'little', 'girls', 'of', 'her', 'age', 'knew', 'the', 'meaning', 'of', 'it', 'at', 'all', '.', 'However', ',', \"'jury-men\", \"'\", 'would', 'have', 'done', 'just', 'as', 'well', '.', 'The', 'twelve', 'jurors', 'were', 'all', 'writing', 'very', 'busily', 'on', 'slates', '.', \"'What\", 'are', 'they', 'doing', '?', \"'\", 'Alice', 'whispered', 'to', 'the', 'Gryphon', '.', \"'They\", 'ca', \"n't\", 'have', 'anything', 'to', 'put', 'down', 'yet', ',', 'before', 'the', 'trial', \"'s\", 'begun', '.', \"'\", \"'They\", \"'re\", 'putting', 'down', 'their', 'names', ',', \"'\", 'the', 'Gryphon', 'whispered', 'in', 'reply', ',', \"'for\", 'fear', 'they', 'should', 'forget', 'them', 'before', 'the', 'end', 'of', 'the', 'trial', '.', \"'\", \"'Stupid\", 'things', '!', \"'\", 'Alice', 'began', 'in', 'a', 'loud', ',', 'indignant', 'voice', ',', 'but', 'she', 'stopped', 'hastily', ',', 'for', 'the', 'White', 'Rabbit', 'cried', 'out', ',', \"'Silence\", 'in', 'the', 'court', '!', \"'\", 'and', 'the', 'King', 'put', 'on', 'his', 'spectacles', 'and', 'looked', 'anxiously', 'round', ',', 'to', 'make', 'out', 'who', 'was', 'talking', '.', 'Alice', 'could', 'see', ',', 'as', 'well', 'as', 'if', 'she', 'were', 'looking', 'over', 'their', 'shoulders', ',', 'that', 'all', 'the', 'jurors', 'were', 'writing', 'down', \"'stupid\", 'things', '!', \"'\", 'on', 'their', 'slates', ',', 'and', 'she', 'could', 'even', 'make', 'out', 'that', 'one', 'of', 'them', 'did', \"n't\", 'know', 'how', 'to', 'spell', \"'stupid\", ',', \"'\", 'and', 'that', 'he', 'had', 'to', 'ask', 'his', 'neighbour', 'to', 'tell', 'him', '.', \"'\", 'A', 'nice', 'muddle', 'their', 'slates', \"'ll\", 'be', 'in', 'before', 'the', 'trial', \"'s\", 'over', '!', \"'\", 'thought', 'Alice', '.', 'One', 'of', 'the', 'jurors', 'had', 'a', 'pencil', 'that', 'squeaked', '.', 'This', 'of', 'course', ',', 'Alice', 'could', 'not', 'stand', ',', 'and', 'she', 'went', 'round', 'the', 'court', 'and', 'got', 'behind', 'him', ',', 'and', 'very', 'soon', 'found', 'an', 'opportunity', 'of', 'taking', 'it', 'away', '.', 'She', 'did', 'it', 'so', 'quickly', 'that', 'the', 'poor', 'little', 'juror', '(', 'it', 'was', 'Bill', ',', 'the', 'Lizard', ')', 'could', 'not', 'make', 'out', 'at', 'all', 'what', 'had', 'become', 'of', 'it', ';', 'so', ',', 'after', 'hunting', 'all', 'about', 'for', 'it', ',', 'he', 'was', 'obliged', 'to', 'write', 'with', 'one', 'finger', 'for', 'the', 'rest', 'of', 'the', 'day', ';', 'and', 'this', 'was', 'of', 'very', 'little', 'use', ',', 'as', 'it', 'left', 'no', 'mark', 'on', 'the', 'slate', '.', \"'Herald\", ',', 'read', 'the', 'accusation', '!', \"'\", 'said', 'the', 'King', '.', 'On', 'this', 'the', 'White', 'Rabbit', 'blew', 'three', 'blasts', 'on', 'the', 'trumpet', ',', 'and', 'then', 'unrolled', 'the', 'parchment', 'scroll', ',', 'and', 'read', 'as', 'follows', ':', '--', \"'The\", 'Queen', 'of', 'Hearts', ',', 'she', 'made', 'some', 'tarts', ',', 'All', 'on', 'a', 'summer', 'day', ':', 'The', 'Knave', 'of', 'Hearts', ',', 'he', 'stole', 'those', 'tarts', ',', 'And', 'took', 'them', 'quite', 'away', '!', \"'\", \"'Consider\", 'your', 'verdict', ',', \"'\", 'the', 'King', 'said', 'to', 'the', 'jury', '.', \"'Not\", 'yet', ',', 'not', 'yet', '!', \"'\", 'the', 'Rabbit', 'hastily', 'interrupted', '.', \"'There\", \"'s\", 'a', 'great', 'deal', 'to', 'come', 'before', 'that', '!', \"'\", \"'Call\", 'the', 'first', 'witness', ',', \"'\", 'said', 'the', 'King', ';', 'and', 'the', 'White', 'Rabbit', 'blew', 'three', 'blasts', 'on', 'the', 'trumpet', ',', 'and', 'called', 'out', ',', \"'First\", 'witness', '!', \"'\", 'The', 'first', 'witness', 'was', 'the', 'Hatter', '.', 'He', 'came', 'in', 'with', 'a', 'teacup', 'in', 'one', 'hand', 'and', 'a', 'piece', 'of', 'bread-and-butter', 'in', 'the', 'other', '.', \"'\", 'I', 'beg', 'pardon', ',', 'your', 'Majesty', ',', \"'\", 'he', 'began', ',', \"'for\", 'bringing', 'these', 'in', ':', 'but', 'I', 'had', \"n't\", 'quite', 'finished', 'my', 'tea', 'when', 'I', 'was', 'sent', 'for', '.', \"'\", \"'You\", 'ought', 'to', 'have', 'finished', ',', \"'\", 'said', 'the', 'King', '.', \"'When\", 'did', 'you', 'begin', '?', \"'\", 'The', 'Hatter', 'looked', 'at', 'the', 'March', 'Hare', ',', 'who', 'had', 'followed', 'him', 'into', 'the', 'court', ',', 'arm-in-arm', 'with', 'the', 'Dormouse', '.', \"'Fourteenth\", 'of', 'March', ',', 'I', 'think', 'it', 'was', ',', \"'\", 'he', 'said', '.', \"'Fifteenth\", ',', \"'\", 'said', 'the', 'March', 'Hare', '.', \"'Sixteenth\", ',', \"'\", 'added', 'the', 'Dormouse', '.', \"'Write\", 'that', 'down', ',', \"'\", 'the', 'King', 'said', 'to', 'the', 'jury', ',', 'and', 'the', 'jury', 'eagerly', 'wrote', 'down', 'all', 'three', 'dates', 'on', 'their', 'slates', ',', 'and', 'then', 'added', 'them', 'up', ',', 'and', 'reduced', 'the', 'answer', 'to', 'shillings', 'and', 'pence', '.', \"'Take\", 'off', 'your', 'hat', ',', \"'\", 'the', 'King', 'said', 'to', 'the', 'Hatter', '.', \"'It\", 'is', \"n't\", 'mine', ',', \"'\", 'said', 'the', 'Hatter', '.', \"'Stolen\", '!', \"'\", 'the', 'King', 'exclaimed', ',', 'turning', 'to', 'the', 'jury', ',', 'who', 'instantly', 'made', 'a', 'memorandum', 'of', 'the', 'fact', '.', \"'\", 'I', 'keep', 'them', 'to', 'sell', ',', \"'\", 'the', 'Hatter', 'added', 'as', 'an', 'explanation', ';', \"'\", 'I', \"'ve\", 'none', 'of', 'my', 'own', '.', 'I', \"'m\", 'a', 'hatter', '.', \"'\", 'Here', 'the', 'Queen', 'put', 'on', 'her', 'spectacles', ',', 'and', 'began', 'staring', 'at', 'the', 'Hatter', ',', 'who', 'turned', 'pale', 'and', 'fidgeted', '.', \"'Give\", 'your', 'evidence', ',', \"'\", 'said', 'the', 'King', ';', \"'and\", 'do', \"n't\", 'be', 'nervous', ',', 'or', 'I', \"'ll\", 'have', 'you', 'executed', 'on', 'the', 'spot', '.', \"'\", 'This', 'did', 'not', 'seem', 'to', 'encourage', 'the', 'witness', 'at', 'all', ':', 'he', 'kept', 'shifting', 'from', 'one', 'foot', 'to', 'the', 'other', ',', 'looking', 'uneasily', 'at', 'the', 'Queen', ',', 'and', 'in', 'his', 'confusion', 'he', 'bit', 'a', 'large', 'piece', 'out', 'of', 'his', 'teacup', 'instead', 'of', 'the', 'bread-and-butter', '.', 'Just', 'at', 'this', 'moment', 'Alice', 'felt', 'a', 'very', 'curious', 'sensation', ',', 'which', 'puzzled', 'her', 'a', 'good', 'deal', 'until', 'she', 'made', 'out', 'what', 'it', 'was', ':', 'she', 'was', 'beginning', 'to', 'grow', 'larger', 'again', ',', 'and', 'she', 'thought', 'at', 'first', 'she', 'would', 'get', 'up', 'and', 'leave', 'the', 'court', ';', 'but', 'on', 'second', 'thoughts', 'she', 'decided', 'to', 'remain', 'where', 'she', 'was', 'as', 'long', 'as', 'there', 'was', 'room', 'for', 'her', '.', \"'\", 'I', 'wish', 'you', 'would', \"n't\", 'squeeze', 'so', '.', \"'\", 'said', 'the', 'Dormouse', ',', 'who', 'was', 'sitting', 'next', 'to', 'her', '.', \"'\", 'I', 'can', 'hardly', 'breathe', '.', \"'\", \"'\", 'I', 'ca', \"n't\", 'help', 'it', ',', \"'\", 'said', 'Alice', 'very', 'meekly', ':', \"'\", 'I', \"'m\", 'growing', '.', \"'\", \"'You\", \"'ve\", 'no', 'right', 'to', 'grow', 'here', ',', \"'\", 'said', 'the', 'Dormouse', '.', \"'Do\", \"n't\", 'talk', 'nonsense', ',', \"'\", 'said', 'Alice', 'more', 'boldly', ':', \"'you\", 'know', 'you', \"'re\", 'growing', 'too', '.', \"'\", \"'Yes\", ',', 'but', 'I', 'grow', 'at', 'a', 'reasonable', 'pace', ',', \"'\", 'said', 'the', 'Dormouse', ':', \"'not\", 'in', 'that', 'ridiculous', 'fashion', '.', \"'\", 'And', 'he', 'got', 'up', 'very', 'sulkily', 'and', 'crossed', 'over', 'to', 'the', 'other', 'side', 'of', 'the', 'court', '.', 'All', 'this', 'time', 'the', 'Queen', 'had', 'never', 'left', 'off', 'staring', 'at', 'the', 'Hatter', ',', 'and', ',', 'just', 'as', 'the', 'Dormouse', 'crossed', 'the', 'court', ',', 'she', 'said', 'to', 'one', 'of', 'the', 'officers', 'of', 'the', 'court', ',', \"'Bring\", 'me', 'the', 'list', 'of', 'the', 'singers', 'in', 'the', 'last', 'concert', '!', \"'\", 'on', 'which', 'the', 'wretched', 'Hatter', 'trembled', 'so', ',', 'that', 'he', 'shook', 'both', 'his', 'shoes', 'off', '.', \"'Give\", 'your', 'evidence', ',', \"'\", 'the', 'King', 'repeated', 'angrily', ',', \"'or\", 'I', \"'ll\", 'have', 'you', 'executed', ',', 'whether', 'you', \"'re\", 'nervous', 'or', 'not', '.', \"'\", \"'\", 'I', \"'m\", 'a', 'poor', 'man', ',', 'your', 'Majesty', ',', \"'\", 'the', 'Hatter', 'began', ',', 'in', 'a', 'trembling', 'voice', ',', \"'\", '--', 'and', 'I', 'had', \"n't\", 'begun', 'my', 'tea', '--', 'not', 'above', 'a', 'week', 'or', 'so', '--', 'and', 'what', 'with', 'the', 'bread-and-butter', 'getting', 'so', 'thin', '--', 'and', 'the', 'twinkling', 'of', 'the', 'tea', '--', \"'\", \"'The\", 'twinkling', 'of', 'the', 'what', '?', \"'\", 'said', 'the', 'King', '.', \"'It\", 'began', 'with', 'the', 'tea', ',', \"'\", 'the', 'Hatter', 'replied', '.', \"'Of\", 'course', 'twinkling', 'begins', 'with', 'a', 'T', '!', \"'\", 'said', 'the', 'King', 'sharply', '.', \"'Do\", 'you', 'take', 'me', 'for', 'a', 'dunce', '?', 'Go', 'on', '!', \"'\", \"'\", 'I', \"'m\", 'a', 'poor', 'man', ',', \"'\", 'the', 'Hatter', 'went', 'on', ',', \"'and\", 'most', 'things', 'twinkled', 'after', 'that', '--', 'only', 'the', 'March', 'Hare', 'said', '--', \"'\", \"'\", 'I', 'did', \"n't\", '!', \"'\", 'the', 'March', 'Hare', 'interrupted', 'in', 'a', 'great', 'hurry', '.', \"'You\", 'did', '!', \"'\", 'said', 'the', 'Hatter', '.', \"'\", 'I', 'deny', 'it', '!', \"'\", 'said', 'the', 'March', 'Hare', '.', \"'He\", 'denies', 'it', ',', \"'\", 'said', 'the', 'King', ':', \"'leave\", 'out', 'that', 'part', '.', \"'\", \"'Well\", ',', 'at', 'any', 'rate', ',', 'the', 'Dormouse', 'said', '--', \"'\", 'the', 'Hatter', 'went', 'on', ',', 'looking', 'anxiously', 'round', 'to', 'see', 'if', 'he', 'would', 'deny', 'it', 'too', ':', 'but', 'the', 'Dormouse', 'denied', 'nothing', ',', 'being', 'fast', 'asleep', '.', \"'After\", 'that', ',', \"'\", 'continued', 'the', 'Hatter', ',', \"'\", 'I', 'cut', 'some', 'more', 'bread-and-butter', '--', \"'\", \"'But\", 'what', 'did', 'the', 'Dormouse', 'say', '?', \"'\", 'one', 'of', 'the', 'jury', 'asked', '.', \"'That\", 'I', 'ca', \"n't\", 'remember', ',', \"'\", 'said', 'the', 'Hatter', '.', \"'You\", 'MUST', 'remember', ',', \"'\", 'remarked', 'the', 'King', ',', \"'or\", 'I', \"'ll\", 'have', 'you', 'executed', '.', \"'\", 'The', 'miserable', 'Hatter', 'dropped', 'his', 'teacup', 'and', 'bread-and-butter', ',', 'and', 'went', 'down', 'on', 'one', 'knee', '.', \"'\", 'I', \"'m\", 'a', 'poor', 'man', ',', 'your', 'Majesty', ',', \"'\", 'he', 'began', '.', \"'You\", \"'re\", 'a', 'very', 'poor', 'speaker', ',', \"'\", 'said', 'the', 'King', '.', 'Here', 'one', 'of', 'the', 'guinea-pigs', 'cheered', ',', 'and', 'was', 'immediately', 'suppressed', 'by', 'the', 'officers', 'of', 'the', 'court', '.', '(', 'As', 'that', 'is', 'rather', 'a', 'hard', 'word', ',', 'I', 'will', 'just', 'explain', 'to', 'you', 'how', 'it', 'was', 'done', '.', 'They', 'had', 'a', 'large', 'canvas', 'bag', ',', 'which', 'tied', 'up', 'at', 'the', 'mouth', 'with', 'strings', ':', 'into', 'this', 'they', 'slipped', 'the', 'guinea-pig', ',', 'head', 'first', ',', 'and', 'then', 'sat', 'upon', 'it', '.', ')', \"'\", 'I', \"'m\", 'glad', 'I', \"'ve\", 'seen', 'that', 'done', ',', \"'\", 'thought', 'Alice', '.', \"'\", 'I', \"'ve\", 'so', 'often', 'read', 'in', 'the', 'newspapers', ',', 'at', 'the', 'end', 'of', 'trials', ',', '``', 'There', 'was', 'some', 'attempts', 'at', 'applause', ',', 'which', 'was', 'immediately', 'suppressed', 'by', 'the', 'officers', 'of', 'the', 'court', ',', \"''\", 'and', 'I', 'never', 'understood', 'what', 'it', 'meant', 'till', 'now', '.', \"'\", \"'If\", 'that', \"'s\", 'all', 'you', 'know', 'about', 'it', ',', 'you', 'may', 'stand', 'down', ',', \"'\", 'continued', 'the', 'King', '.', \"'\", 'I', 'ca', \"n't\", 'go', 'no', 'lower', ',', \"'\", 'said', 'the', 'Hatter', ':', \"'\", 'I', \"'m\", 'on', 'the', 'floor', ',', 'as', 'it', 'is', '.', \"'\", \"'Then\", 'you', 'may', 'SIT', 'down', ',', \"'\", 'the', 'King', 'replied', '.', 'Here', 'the', 'other', 'guinea-pig', 'cheered', ',', 'and', 'was', 'suppressed', '.', \"'Come\", ',', 'that', 'finished', 'the', 'guinea-pigs', '!', \"'\", 'thought', 'Alice', '.', \"'Now\", 'we', 'shall', 'get', 'on', 'better', '.', \"'\", \"'\", 'I', \"'d\", 'rather', 'finish', 'my', 'tea', ',', \"'\", 'said', 'the', 'Hatter', ',', 'with', 'an', 'anxious', 'look', 'at', 'the', 'Queen', ',', 'who', 'was', 'reading', 'the', 'list', 'of', 'singers', '.', \"'You\", 'may', 'go', ',', \"'\", 'said', 'the', 'King', ',', 'and', 'the', 'Hatter', 'hurriedly', 'left', 'the', 'court', ',', 'without', 'even', 'waiting', 'to', 'put', 'his', 'shoes', 'on.', \"'\", '--', 'and', 'just', 'take', 'his', 'head', 'off', 'outside', ',', \"'\", 'the', 'Queen', 'added', 'to', 'one', 'of', 'the', 'officers', ':', 'but', 'the', 'Hatter', 'was', 'out', 'of', 'sight', 'before', 'the', 'officer', 'could', 'get', 'to', 'the', 'door', '.', \"'Call\", 'the', 'next', 'witness', '!', \"'\", 'said', 'the', 'King', '.', 'The', 'next', 'witness', 'was', 'the', 'Duchess', \"'s\", 'cook', '.', 'She', 'carried', 'the', 'pepper-box', 'in', 'her', 'hand', ',', 'and', 'Alice', 'guessed', 'who', 'it', 'was', ',', 'even', 'before', 'she', 'got', 'into', 'the', 'court', ',', 'by', 'the', 'way', 'the', 'people', 'near', 'the', 'door', 'began', 'sneezing', 'all', 'at', 'once', '.', \"'Give\", 'your', 'evidence', ',', \"'\", 'said', 'the', 'King', '.', \"'Sha\", \"n't\", ',', \"'\", 'said', 'the', 'cook', '.', 'The', 'King', 'looked', 'anxiously', 'at', 'the', 'White', 'Rabbit', ',', 'who', 'said', 'in', 'a', 'low', 'voice', ',', \"'Your\", 'Majesty', 'must', 'cross-examine', 'THIS', 'witness', '.', \"'\", \"'Well\", ',', 'if', 'I', 'must', ',', 'I', 'must', ',', \"'\", 'the', 'King', 'said', ',', 'with', 'a', 'melancholy', 'air', ',', 'and', ',', 'after', 'folding', 'his', 'arms', 'and', 'frowning', 'at', 'the', 'cook', 'till', 'his', 'eyes', 'were', 'nearly', 'out', 'of', 'sight', ',', 'he', 'said', 'in', 'a', 'deep', 'voice', ',', \"'What\", 'are', 'tarts', 'made', 'of', '?', \"'\", \"'Pepper\", ',', 'mostly', ',', \"'\", 'said', 'the', 'cook', '.', \"'Treacle\", ',', \"'\", 'said', 'a', 'sleepy', 'voice', 'behind', 'her', '.', \"'Collar\", 'that', 'Dormouse', ',', \"'\", 'the', 'Queen', 'shrieked', 'out', '.', \"'Behead\", 'that', 'Dormouse', '!', 'Turn', 'that', 'Dormouse', 'out', 'of', 'court', '!', 'Suppress', 'him', '!', 'Pinch', 'him', '!', 'Off', 'with', 'his', 'whiskers', '!', \"'\", 'For', 'some', 'minutes', 'the', 'whole', 'court', 'was', 'in', 'confusion', ',', 'getting', 'the', 'Dormouse', 'turned', 'out', ',', 'and', ',', 'by', 'the', 'time', 'they', 'had', 'settled', 'down', 'again', ',', 'the', 'cook', 'had', 'disappeared', '.', \"'Never\", 'mind', '!', \"'\", 'said', 'the', 'King', ',', 'with', 'an', 'air', 'of', 'great', 'relief', '.', \"'Call\", 'the', 'next', 'witness', '.', \"'\", 'And', 'he', 'added', 'in', 'an', 'undertone', 'to', 'the', 'Queen', ',', \"'Really\", ',', 'my', 'dear', ',', 'YOU', 'must', 'cross-examine', 'the', 'next', 'witness', '.', 'It', 'quite', 'makes', 'my', 'forehead', 'ache', '!', \"'\", 'Alice', 'watched', 'the', 'White', 'Rabbit', 'as', 'he', 'fumbled', 'over', 'the', 'list', ',', 'feeling', 'very', 'curious', 'to', 'see', 'what', 'the', 'next', 'witness', 'would', 'be', 'like', ',', \"'\", '--', 'for', 'they', \"haven't\", 'got', 'much', 'evidence', 'YET', ',', \"'\", 'she', 'said', 'to', 'herself', '.', 'Imagine', 'her', 'surprise', ',', 'when', 'the', 'White', 'Rabbit', 'read', 'out', ',', 'at', 'the', 'top', 'of', 'his', 'shrill', 'little', 'voice', ',', 'the', 'name', \"'Alice\", '!', \"'\", 'CHAPTER', 'XII', 'Alice', \"'s\", 'Evidence', \"'Here\", '!', \"'\", 'cried', 'Alice', ',', 'quite', 'forgetting', 'in', 'the', 'flurry', 'of', 'the', 'moment', 'how', 'large', 'she', 'had', 'grown', 'in', 'the', 'last', 'few', 'minutes', ',', 'and', 'she', 'jumped', 'up', 'in', 'such', 'a', 'hurry', 'that', 'she', 'tipped', 'over', 'the', 'jury-box', 'with', 'the', 'edge', 'of', 'her', 'skirt', ',', 'upsetting', 'all', 'the', 'jurymen', 'on', 'to', 'the', 'heads', 'of', 'the', 'crowd', 'below', ',', 'and', 'there', 'they', 'lay', 'sprawling', 'about', ',', 'reminding', 'her', 'very', 'much', 'of', 'a', 'globe', 'of', 'goldfish', 'she', 'had', 'accidentally', 'upset', 'the', 'week', 'before', '.', \"'Oh\", ',', 'I', 'BEG', 'your', 'pardon', '!', \"'\", 'she', 'exclaimed', 'in', 'a', 'tone', 'of', 'great', 'dismay', ',', 'and', 'began', 'picking', 'them', 'up', 'again', 'as', 'quickly', 'as', 'she', 'could', ',', 'for', 'the', 'accident', 'of', 'the', 'goldfish', 'kept', 'running', 'in', 'her', 'head', ',', 'and', 'she', 'had', 'a', 'vague', 'sort', 'of', 'idea', 'that', 'they', 'must', 'be', 'collected', 'at', 'once', 'and', 'put', 'back', 'into', 'the', 'jury-box', ',', 'or', 'they', 'would', 'die', '.', \"'The\", 'trial', 'can', 'not', 'proceed', ',', \"'\", 'said', 'the', 'King', 'in', 'a', 'very', 'grave', 'voice', ',', \"'until\", 'all', 'the', 'jurymen', 'are', 'back', 'in', 'their', 'proper', 'places', '--', 'ALL', ',', \"'\", 'he', 'repeated', 'with', 'great', 'emphasis', ',', 'looking', 'hard', 'at', 'Alice', 'as', 'he', 'said', 'do', '.', 'Alice', 'looked', 'at', 'the', 'jury-box', ',', 'and', 'saw', 'that', ',', 'in', 'her', 'haste', ',', 'she', 'had', 'put', 'the', 'Lizard', 'in', 'head', 'downwards', ',', 'and', 'the', 'poor', 'little', 'thing', 'was', 'waving', 'its', 'tail', 'about', 'in', 'a', 'melancholy', 'way', ',', 'being', 'quite', 'unable', 'to', 'move', '.', 'She', 'soon', 'got', 'it', 'out', 'again', ',', 'and', 'put', 'it', 'right', ';', \"'not\", 'that', 'it', 'signifies', 'much', ',', \"'\", 'she', 'said', 'to', 'herself', ';', \"'\", 'I', 'should', 'think', 'it', 'would', 'be', 'QUITE', 'as', 'much', 'use', 'in', 'the', 'trial', 'one', 'way', 'up', 'as', 'the', 'other', '.', \"'\", 'As', 'soon', 'as', 'the', 'jury', 'had', 'a', 'little', 'recovered', 'from', 'the', 'shock', 'of', 'being', 'upset', ',', 'and', 'their', 'slates', 'and', 'pencils', 'had', 'been', 'found', 'and', 'handed', 'back', 'to', 'them', ',', 'they', 'set', 'to', 'work', 'very', 'diligently', 'to', 'write', 'out', 'a', 'history', 'of', 'the', 'accident', ',', 'all', 'except', 'the', 'Lizard', ',', 'who', 'seemed', 'too', 'much', 'overcome', 'to', 'do', 'anything', 'but', 'sit', 'with', 'its', 'mouth', 'open', ',', 'gazing', 'up', 'into', 'the', 'roof', 'of', 'the', 'court', '.', \"'What\", 'do', 'you', 'know', 'about', 'this', 'business', '?', \"'\", 'the', 'King', 'said', 'to', 'Alice', '.', \"'Nothing\", ',', \"'\", 'said', 'Alice', '.', \"'Nothing\", 'WHATEVER', '?', \"'\", 'persisted', 'the', 'King', '.', \"'Nothing\", 'whatever', ',', \"'\", 'said', 'Alice', '.', \"'That\", \"'s\", 'very', 'important', ',', \"'\", 'the', 'King', 'said', ',', 'turning', 'to', 'the', 'jury', '.', 'They', 'were', 'just', 'beginning', 'to', 'write', 'this', 'down', 'on', 'their', 'slates', ',', 'when', 'the', 'White', 'Rabbit', 'interrupted', ':', \"'UNimportant\", ',', 'your', 'Majesty', 'means', ',', 'of', 'course', ',', \"'\", 'he', 'said', 'in', 'a', 'very', 'respectful', 'tone', ',', 'but', 'frowning', 'and', 'making', 'faces', 'at', 'him', 'as', 'he', 'spoke', '.', \"'UNimportant\", ',', 'of', 'course', ',', 'I', 'meant', ',', \"'\", 'the', 'King', 'hastily', 'said', ',', 'and', 'went', 'on', 'to', 'himself', 'in', 'an', 'undertone', ',', \"'important\", '--', 'unimportant', '--', 'unimportant', '--', 'important', '--', \"'\", 'as', 'if', 'he', 'were', 'trying', 'which', 'word', 'sounded', 'best', '.', 'Some', 'of', 'the', 'jury', 'wrote', 'it', 'down', \"'important\", ',', \"'\", 'and', 'some', \"'unimportant\", '.', \"'\", 'Alice', 'could', 'see', 'this', ',', 'as', 'she', 'was', 'near', 'enough', 'to', 'look', 'over', 'their', 'slates', ';', \"'but\", 'it', 'does', \"n't\", 'matter', 'a', 'bit', ',', \"'\", 'she', 'thought', 'to', 'herself', '.', 'At', 'this', 'moment', 'the', 'King', ',', 'who', 'had', 'been', 'for', 'some', 'time', 'busily', 'writing', 'in', 'his', 'note-book', ',', 'cackled', 'out', \"'Silence\", '!', \"'\", 'and', 'read', 'out', 'from', 'his', 'book', ',', \"'Rule\", 'Forty-two', '.', 'ALL', 'PERSONS', 'MORE', 'THAN', 'A', 'MILE', 'HIGH', 'TO', 'LEAVE', 'THE', 'COURT', '.', \"'\", 'Everybody', 'looked', 'at', 'Alice', '.', \"'\", 'I', \"'M\", 'not', 'a', 'mile', 'high', ',', \"'\", 'said', 'Alice', '.', \"'You\", 'are', ',', \"'\", 'said', 'the', 'King', '.', \"'Nearly\", 'two', 'miles', 'high', ',', \"'\", 'added', 'the', 'Queen', '.', \"'Well\", ',', 'I', 'sha', \"n't\", 'go', ',', 'at', 'any', 'rate', ',', \"'\", 'said', 'Alice', ':', \"'besides\", ',', 'that', \"'s\", 'not', 'a', 'regular', 'rule', ':', 'you', 'invented', 'it', 'just', 'now', '.', \"'\", \"'It\", \"'s\", 'the', 'oldest', 'rule', 'in', 'the', 'book', ',', \"'\", 'said', 'the', 'King', '.', \"'Then\", 'it', 'ought', 'to', 'be', 'Number', 'One', ',', \"'\", 'said', 'Alice', '.', 'The', 'King', 'turned', 'pale', ',', 'and', 'shut', 'his', 'note-book', 'hastily', '.', \"'Consider\", 'your', 'verdict', ',', \"'\", 'he', 'said', 'to', 'the', 'jury', ',', 'in', 'a', 'low', ',', 'trembling', 'voice', '.', \"'There\", \"'s\", 'more', 'evidence', 'to', 'come', 'yet', ',', 'please', 'your', 'Majesty', ',', \"'\", 'said', 'the', 'White', 'Rabbit', ',', 'jumping', 'up', 'in', 'a', 'great', 'hurry', ';', \"'this\", 'paper', 'has', 'just', 'been', 'picked', 'up', '.', \"'\", \"'What\", \"'s\", 'in', 'it', '?', \"'\", 'said', 'the', 'Queen', '.', \"'\", 'I', 'have', \"n't\", 'opened', 'it', 'yet', ',', \"'\", 'said', 'the', 'White', 'Rabbit', ',', \"'but\", 'it', 'seems', 'to', 'be', 'a', 'letter', ',', 'written', 'by', 'the', 'prisoner', 'to', '--', 'to', 'somebody', '.', \"'\", \"'It\", 'must', 'have', 'been', 'that', ',', \"'\", 'said', 'the', 'King', ',', \"'unless\", 'it', 'was', 'written', 'to', 'nobody', ',', 'which', 'is', \"n't\", 'usual', ',', 'you', 'know', '.', \"'\", \"'Who\", 'is', 'it', 'directed', 'to', '?', \"'\", 'said', 'one', 'of', 'the', 'jurymen', '.', \"'It\", 'is', \"n't\", 'directed', 'at', 'all', ',', \"'\", 'said', 'the', 'White', 'Rabbit', ';', \"'in\", 'fact', ',', \"there's\", 'nothing', 'written', 'on', 'the', 'OUTSIDE', '.', \"'\", 'He', 'unfolded', 'the', 'paper', 'as', 'he', 'spoke', ',', 'and', 'added', \"'It\", 'is', \"n't\", 'a', 'letter', ',', 'after', 'all', ':', 'it', \"'s\", 'a', 'set', 'of', 'verses', '.', \"'\", \"'Are\", 'they', 'in', 'the', 'prisoner', \"'s\", 'handwriting', '?', \"'\", 'asked', 'another', 'of', 'the', 'jurymen', '.', \"'No\", ',', 'they', \"'re\", 'not', ',', \"'\", 'said', 'the', 'White', 'Rabbit', ',', \"'and\", 'that', \"'s\", 'the', 'queerest', 'thing', 'about', 'it', '.', \"'\", '(', 'The', 'jury', 'all', 'looked', 'puzzled', '.', ')', \"'He\", 'must', 'have', 'imitated', 'somebody', 'else', \"'s\", 'hand', ',', \"'\", 'said', 'the', 'King', '.', '(', 'The', 'jury', 'all', 'brightened', 'up', 'again', '.', ')', \"'Please\", 'your', 'Majesty', ',', \"'\", 'said', 'the', 'Knave', ',', \"'\", 'I', 'did', \"n't\", 'write', 'it', ',', 'and', 'they', 'ca', \"n't\", 'prove', 'I', 'did', ':', 'there', \"'s\", 'no', 'name', 'signed', 'at', 'the', 'end', '.', \"'\", \"'If\", 'you', 'did', \"n't\", 'sign', 'it', ',', \"'\", 'said', 'the', 'King', ',', \"'that\", 'only', 'makes', 'the', 'matter', 'worse', '.', 'You', 'MUST', 'have', 'meant', 'some', 'mischief', ',', 'or', 'else', 'you', \"'d\", 'have', 'signed', 'your', 'name', 'like', 'an', 'honest', 'man', '.', \"'\", 'There', 'was', 'a', 'general', 'clapping', 'of', 'hands', 'at', 'this', ':', 'it', 'was', 'the', 'first', 'really', 'clever', 'thing', 'the', 'King', 'had', 'said', 'that', 'day', '.', \"'That\", 'PROVES', 'his', 'guilt', ',', \"'\", 'said', 'the', 'Queen', '.', \"'It\", 'proves', 'nothing', 'of', 'the', 'sort', '!', \"'\", 'said', 'Alice', '.', \"'Why\", ',', 'you', 'do', \"n't\", 'even', 'know', 'what', 'they', \"'re\", 'about', '!', \"'\", \"'Read\", 'them', ',', \"'\", 'said', 'the', 'King', '.', 'The', 'White', 'Rabbit', 'put', 'on', 'his', 'spectacles', '.', \"'Where\", 'shall', 'I', 'begin', ',', 'please', 'your', 'Majesty', '?', \"'\", 'he', 'asked', '.', \"'Begin\", 'at', 'the', 'beginning', ',', \"'\", 'the', 'King', 'said', 'gravely', ',', \"'and\", 'go', 'on', 'till', 'you', 'come', 'to', 'the', 'end', ':', 'then', 'stop', '.', \"'\", 'These', 'were', 'the', 'verses', 'the', 'White', 'Rabbit', 'read', ':', '--', \"'They\", 'told', 'me', 'you', 'had', 'been', 'to', 'her', ',', 'And', 'mentioned', 'me', 'to', 'him', ':', 'She', 'gave', 'me', 'a', 'good', 'character', ',', 'But', 'said', 'I', 'could', 'not', 'swim', '.', 'He', 'sent', 'them', 'word', 'I', 'had', 'not', 'gone', '(', 'We', 'know', 'it', 'to', 'be', 'true', ')', ':', 'If', 'she', 'should', 'push', 'the', 'matter', 'on', ',', 'What', 'would', 'become', 'of', 'you', '?', 'I', 'gave', 'her', 'one', ',', 'they', 'gave', 'him', 'two', ',', 'You', 'gave', 'us', 'three', 'or', 'more', ';', 'They', 'all', 'returned', 'from', 'him', 'to', 'you', ',', 'Though', 'they', 'were', 'mine', 'before', '.', 'If', 'I', 'or', 'she', 'should', 'chance', 'to', 'be', 'Involved', 'in', 'this', 'affair', ',', 'He', 'trusts', 'to', 'you', 'to', 'set', 'them', 'free', ',', 'Exactly', 'as', 'we', 'were', '.', 'My', 'notion', 'was', 'that', 'you', 'had', 'been', '(', 'Before', 'she', 'had', 'this', 'fit', ')', 'An', 'obstacle', 'that', 'came', 'between', 'Him', ',', 'and', 'ourselves', ',', 'and', 'it', '.', 'Do', \"n't\", 'let', 'him', 'know', 'she', 'liked', 'them', 'best', ',', 'For', 'this', 'must', 'ever', 'be', 'A', 'secret', ',', 'kept', 'from', 'all', 'the', 'rest', ',', 'Between', 'yourself', 'and', 'me', '.', \"'\", \"'That\", \"'s\", 'the', 'most', 'important', 'piece', 'of', 'evidence', 'we', \"'ve\", 'heard', 'yet', ',', \"'\", 'said', 'the', 'King', ',', 'rubbing', 'his', 'hands', ';', \"'so\", 'now', 'let', 'the', 'jury', '--', \"'\", \"'If\", 'any', 'one', 'of', 'them', 'can', 'explain', 'it', ',', \"'\", 'said', 'Alice', ',', '(', 'she', 'had', 'grown', 'so', 'large', 'in', 'the', 'last', 'few', 'minutes', 'that', 'she', 'was', \"n't\", 'a', 'bit', 'afraid', 'of', 'interrupting', 'him', ',', ')', \"'\", 'I', \"'ll\", 'give', 'him', 'sixpence', '.', '_I_', 'do', \"n't\", 'believe', 'there', \"'s\", 'an', 'atom', 'of', 'meaning', 'in', 'it', '.', \"'\", 'The', 'jury', 'all', 'wrote', 'down', 'on', 'their', 'slates', ',', \"'SHE\", 'does', \"n't\", 'believe', 'there', \"'s\", 'an', 'atom', 'of', 'meaning', 'in', 'it', ',', \"'\", 'but', 'none', 'of', 'them', 'attempted', 'to', 'explain', 'the', 'paper', '.', \"'If\", 'there', \"'s\", 'no', 'meaning', 'in', 'it', ',', \"'\", 'said', 'the', 'King', ',', \"'that\", 'saves', 'a', 'world', 'of', 'trouble', ',', 'you', 'know', ',', 'as', 'we', 'need', \"n't\", 'try', 'to', 'find', 'any', '.', 'And', 'yet', 'I', 'do', \"n't\", 'know', ',', \"'\", 'he', 'went', 'on', ',', 'spreading', 'out', 'the', 'verses', 'on', 'his', 'knee', ',', 'and', 'looking', 'at', 'them', 'with', 'one', 'eye', ';', \"'\", 'I', 'seem', 'to', 'see', 'some', 'meaning', 'in', 'them', ',', 'after', 'all.', '``', '--', 'SAID', 'I', 'COULD', 'NOT', 'SWIM', '--', \"''\", 'you', 'ca', \"n't\", 'swim', ',', 'can', 'you', '?', \"'\", 'he', 'added', ',', 'turning', 'to', 'the', 'Knave', '.', 'The', 'Knave', 'shook', 'his', 'head', 'sadly', '.', \"'Do\", 'I', 'look', 'like', 'it', '?', \"'\", 'he', 'said', '.', '(', 'Which', 'he', 'certainly', 'did', 'NOT', ',', 'being', 'made', 'entirely', 'of', 'cardboard', '.', ')', \"'All\", 'right', ',', 'so', 'far', ',', \"'\", 'said', 'the', 'King', ',', 'and', 'he', 'went', 'on', 'muttering', 'over', 'the', 'verses', 'to', 'himself', ':', \"'\", \"''\", 'WE', 'KNOW', 'IT', 'TO', 'BE', 'TRUE', '--', \"''\", 'that', \"'s\", 'the', 'jury', ',', 'of', 'course', '--', \"''\", 'I', 'GAVE', 'HER', 'ONE', ',', 'THEY', 'GAVE', 'HIM', 'TWO', '--', \"''\", 'why', ',', 'that', 'must', 'be', 'what', 'he', 'did', 'with', 'the', 'tarts', ',', 'you', 'know', '--', \"'\", \"'But\", ',', 'it', 'goes', 'on', '``', 'THEY', 'ALL', 'RETURNED', 'FROM', 'HIM', 'TO', 'YOU', ',', \"''\", \"'\", 'said', 'Alice', '.', \"'Why\", ',', 'there', 'they', 'are', '!', \"'\", 'said', 'the', 'King', 'triumphantly', ',', 'pointing', 'to', 'the', 'tarts', 'on', 'the', 'table', '.', \"'Nothing\", 'can', 'be', 'clearer', 'than', 'THAT', '.', 'Then', 'again', '--', \"''\", 'BEFORE', 'SHE', 'HAD', 'THIS', 'FIT', '--', \"''\", 'you', 'never', 'had', 'fits', ',', 'my', 'dear', ',', 'I', 'think', '?', \"'\", 'he', 'said', 'to', 'the', 'Queen', '.', \"'Never\", '!', \"'\", 'said', 'the', 'Queen', 'furiously', ',', 'throwing', 'an', 'inkstand', 'at', 'the', 'Lizard', 'as', 'she', 'spoke', '.', '(', 'The', 'unfortunate', 'little', 'Bill', 'had', 'left', 'off', 'writing', 'on', 'his', 'slate', 'with', 'one', 'finger', ',', 'as', 'he', 'found', 'it', 'made', 'no', 'mark', ';', 'but', 'he', 'now', 'hastily', 'began', 'again', ',', 'using', 'the', 'ink', ',', 'that', 'was', 'trickling', 'down', 'his', 'face', ',', 'as', 'long', 'as', 'it', 'lasted', '.', ')', \"'Then\", 'the', 'words', 'do', \"n't\", 'FIT', 'you', ',', \"'\", 'said', 'the', 'King', ',', 'looking', 'round', 'the', 'court', 'with', 'a', 'smile', '.', 'There', 'was', 'a', 'dead', 'silence', '.', \"'It\", \"'s\", 'a', 'pun', '!', \"'\", 'the', 'King', 'added', 'in', 'an', 'offended', 'tone', ',', 'and', 'everybody', 'laughed', ',', \"'Let\", 'the', 'jury', 'consider', 'their', 'verdict', ',', \"'\", 'the', 'King', 'said', ',', 'for', 'about', 'the', 'twentieth', 'time', 'that', 'day', '.', \"'No\", ',', 'no', '!', \"'\", 'said', 'the', 'Queen', '.', \"'Sentence\", 'first', '--', 'verdict', 'afterwards', '.', \"'\", \"'Stuff\", 'and', 'nonsense', '!', \"'\", 'said', 'Alice', 'loudly', '.', \"'The\", 'idea', 'of', 'having', 'the', 'sentence', 'first', '!', \"'\", \"'Hold\", 'your', 'tongue', '!', \"'\", 'said', 'the', 'Queen', ',', 'turning', 'purple', '.', \"'\", 'I', 'wo', \"n't\", '!', \"'\", 'said', 'Alice', '.', \"'Off\", 'with', 'her', 'head', '!', \"'\", 'the', 'Queen', 'shouted', 'at', 'the', 'top', 'of', 'her', 'voice', '.', 'Nobody', 'moved', '.', \"'Who\", 'cares', 'for', 'you', '?', \"'\", 'said', 'Alice', ',', '(', 'she', 'had', 'grown', 'to', 'her', 'full', 'size', 'by', 'this', 'time', '.', ')', \"'You\", \"'re\", 'nothing', 'but', 'a', 'pack', 'of', 'cards', '!', \"'\", 'At', 'this', 'the', 'whole', 'pack', 'rose', 'up', 'into', 'the', 'air', ',', 'and', 'came', 'flying', 'down', 'upon', 'her', ':', 'she', 'gave', 'a', 'little', 'scream', ',', 'half', 'of', 'fright', 'and', 'half', 'of', 'anger', ',', 'and', 'tried', 'to', 'beat', 'them', 'off', ',', 'and', 'found', 'herself', 'lying', 'on', 'the', 'bank', ',', 'with', 'her', 'head', 'in', 'the', 'lap', 'of', 'her', 'sister', ',', 'who', 'was', 'gently', 'brushing', 'away', 'some', 'dead', 'leaves', 'that', 'had', 'fluttered', 'down', 'from', 'the', 'trees', 'upon', 'her', 'face', '.', \"'Wake\", 'up', ',', 'Alice', 'dear', '!', \"'\", 'said', 'her', 'sister', ';', \"'Why\", ',', 'what', 'a', 'long', 'sleep', \"you've\", 'had', '!', \"'\", \"'Oh\", ',', 'I', \"'ve\", 'had', 'such', 'a', 'curious', 'dream', '!', \"'\", 'said', 'Alice', ',', 'and', 'she', 'told', 'her', 'sister', ',', 'as', 'well', 'as', 'she', 'could', 'remember', 'them', ',', 'all', 'these', 'strange', 'Adventures', 'of', 'hers', 'that', 'you', 'have', 'just', 'been', 'reading', 'about', ';', 'and', 'when', 'she', 'had', 'finished', ',', 'her', 'sister', 'kissed', 'her', ',', 'and', 'said', ',', \"'It\", 'WAS', 'a', 'curious', 'dream', ',', 'dear', ',', 'certainly', ':', 'but', 'now', 'run', 'in', 'to', 'your', 'tea', ';', 'it', \"'s\", 'getting', 'late', '.', \"'\", 'So', 'Alice', 'got', 'up', 'and', 'ran', 'off', ',', 'thinking', 'while', 'she', 'ran', ',', 'as', 'well', 'she', 'might', ',', 'what', 'a', 'wonderful', 'dream', 'it', 'had', 'been', '.', 'But', 'her', 'sister', 'sat', 'still', 'just', 'as', 'she', 'left', 'her', ',', 'leaning', 'her', 'head', 'on', 'her', 'hand', ',', 'watching', 'the', 'setting', 'sun', ',', 'and', 'thinking', 'of', 'little', 'Alice', 'and', 'all', 'her', 'wonderful', 'Adventures', ',', 'till', 'she', 'too', 'began', 'dreaming', 'after', 'a', 'fashion', ',', 'and', 'this', 'was', 'her', 'dream', ':', '--', 'First', ',', 'she', 'dreamed', 'of', 'little', 'Alice', 'herself', ',', 'and', 'once', 'again', 'the', 'tiny', 'hands', 'were', 'clasped', 'upon', 'her', 'knee', ',', 'and', 'the', 'bright', 'eager', 'eyes', 'were', 'looking', 'up', 'into', 'hers', '--', 'she', 'could', 'hear', 'the', 'very', 'tones', 'of', 'her', 'voice', ',', 'and', 'see', 'that', 'queer', 'little', 'toss', 'of', 'her', 'head', 'to', 'keep', 'back', 'the', 'wandering', 'hair', 'that', 'WOULD', 'always', 'get', 'into', 'her', 'eyes', '--', 'and', 'still', 'as', 'she', 'listened', ',', 'or', 'seemed', 'to', 'listen', ',', 'the', 'whole', 'place', 'around', 'her', 'became', 'alive', 'the', 'strange', 'creatures', 'of', 'her', 'little', 'sister', \"'s\", 'dream', '.', 'The', 'long', 'grass', 'rustled', 'at', 'her', 'feet', 'as', 'the', 'White', 'Rabbit', 'hurried', 'by', '--', 'the', 'frightened', 'Mouse', 'splashed', 'his', 'way', 'through', 'the', 'neighbouring', 'pool', '--', 'she', 'could', 'hear', 'the', 'rattle', 'of', 'the', 'teacups', 'as', 'the', 'March', 'Hare', 'and', 'his', 'friends', 'shared', 'their', 'never-ending', 'meal', ',', 'and', 'the', 'shrill', 'voice', 'of', 'the', 'Queen', 'ordering', 'off', 'her', 'unfortunate', 'guests', 'to', 'execution', '--', 'once', 'more', 'the', 'pig-baby', 'was', 'sneezing', 'on', 'the', 'Duchess', \"'s\", 'knee', ',', 'while', 'plates', 'and', 'dishes', 'crashed', 'around', 'it', '--', 'once', 'more', 'the', 'shriek', 'of', 'the', 'Gryphon', ',', 'the', 'squeaking', 'of', 'the', 'Lizard', \"'s\", 'slate-pencil', ',', 'and', 'the', 'choking', 'of', 'the', 'suppressed', 'guinea-pigs', ',', 'filled', 'the', 'air', ',', 'mixed', 'up', 'with', 'the', 'distant', 'sobs', 'of', 'the', 'miserable', 'Mock', 'Turtle', '.', 'So', 'she', 'sat', 'on', ',', 'with', 'closed', 'eyes', ',', 'and', 'half', 'believed', 'herself', 'in', 'Wonderland', ',', 'though', 'she', 'knew', 'she', 'had', 'but', 'to', 'open', 'them', 'again', ',', 'and', 'all', 'would', 'change', 'to', 'dull', 'reality', '--', 'the', 'grass', 'would', 'be', 'only', 'rustling', 'in', 'the', 'wind', ',', 'and', 'the', 'pool', 'rippling', 'to', 'the', 'waving', 'of', 'the', 'reeds', '--', 'the', 'rattling', 'teacups', 'would', 'change', 'to', 'tinkling', 'sheep-bells', ',', 'and', 'the', 'Queen', \"'s\", 'shrill', 'cries', 'to', 'the', 'voice', 'of', 'the', 'shepherd', 'boy', '--', 'and', 'the', 'sneeze', 'of', 'the', 'baby', ',', 'the', 'shriek', 'of', 'the', 'Gryphon', ',', 'and', 'all', 'the', 'other', 'queer', 'noises', ',', 'would', 'change', '(', 'she', 'knew', ')', 'to', 'the', 'confused', 'clamour', 'of', 'the', 'busy', 'farm-yard', '--', 'while', 'the', 'lowing', 'of', 'the', 'cattle', 'in', 'the', 'distance', 'would', 'take', 'the', 'place', 'of', 'the', 'Mock', \"Turtle's\", 'heavy', 'sobs', '.', 'Lastly', ',', 'she', 'pictured', 'to', 'herself', 'how', 'this', 'same', 'little', 'sister', 'of', 'hers', 'would', ',', 'in', 'the', 'after-time', ',', 'be', 'herself', 'a', 'grown', 'woman', ';', 'and', 'how', 'she', 'would', 'keep', ',', 'through', 'all', 'her', 'riper', 'years', ',', 'the', 'simple', 'and', 'loving', 'heart', 'of', 'her', 'childhood', ':', 'and', 'how', 'she', 'would', 'gather', 'about', 'her', 'other', 'little', 'children', ',', 'and', 'make', 'THEIR', 'eyes', 'bright', 'and', 'eager', 'with', 'many', 'a', 'strange', 'tale', ',', 'perhaps', 'even', 'with', 'the', 'dream', 'of', 'Wonderland', 'of', 'long', 'ago', ':', 'and', 'how', 'she', 'would', 'feel', 'with', 'all', 'their', 'simple', 'sorrows', ',', 'and', 'find', 'a', 'pleasure', 'in', 'all', 'their', 'simple', 'joys', ',', 'remembering', 'her', 'own', 'child-life', ',', 'and', 'the', 'happy', 'summer', 'days', '.']\n"
     ]
    }
   ],
   "source": [
    "import nltk\n",
    "nltk.download('punkt')\n",
    "\n",
    "nltk_tokens = nltk.word_tokenize(alice)\n",
    "print (nltk_tokens)"
   ]
  },
  {
   "cell_type": "code",
   "execution_count": 112,
   "metadata": {
    "colab": {
     "base_uri": "https://localhost:8080/"
    },
    "executionInfo": {
     "elapsed": 513,
     "status": "ok",
     "timestamp": 1613144027670,
     "user": {
      "displayName": "Darth Maul",
      "photoUrl": "https://lh3.googleusercontent.com/a-/AOh14Gh5xqmxd78KGBkmKiP4Zt50OzFOZWcHeKbnR3Gl=s64",
      "userId": "09460696119666831892"
     },
     "user_tz": -60
    },
    "id": "rw4Iblyfwziv",
    "outputId": "1ca5aa79-de55-4ea5-917f-75fd749473a1"
   },
   "outputs": [
    {
     "name": "stdout",
     "output_type": "stream",
     "text": [
      "10.51585557299843\n"
     ]
    }
   ],
   "source": [
    "print(lexical_diversity(nltk_tokens))"
   ]
  },
  {
   "cell_type": "code",
   "execution_count": 113,
   "metadata": {
    "colab": {
     "base_uri": "https://localhost:8080/"
    },
    "executionInfo": {
     "elapsed": 500,
     "status": "ok",
     "timestamp": 1613144029745,
     "user": {
      "displayName": "Darth Maul",
      "photoUrl": "https://lh3.googleusercontent.com/a-/AOh14Gh5xqmxd78KGBkmKiP4Zt50OzFOZWcHeKbnR3Gl=s64",
      "userId": "09460696119666831892"
     },
     "user_tz": -60
    },
    "id": "5sHj-tO-wziw",
    "outputId": "6cedc1c8-07d6-4138-d8be-662f6e214e70"
   },
   "outputs": [
    {
     "data": {
      "text/plain": [
       "3185"
      ]
     },
     "execution_count": 113,
     "metadata": {},
     "output_type": "execute_result"
    }
   ],
   "source": [
    "len(set(nltk_tokens))"
   ]
  },
  {
   "cell_type": "code",
   "execution_count": 114,
   "metadata": {
    "id": "1lGPoTfFwziw"
   },
   "outputs": [
    {
     "name": "stdout",
     "output_type": "stream",
     "text": [
      "{\"'Do\", 'table', 'ask', 'Imagine', \"'lives\", 'IN', 'shrieks', 'cupboards', 'Longitude', \"'Mine\", 'Mercia', 'chorus', \"'Take\", \"'Silence\", 'loving', 'soon', 'getting', 'began', 'Frog-Footman', ']', 'sun', 'partners', 'Tell', 'eyelids', 'EVER', 'exclaimed', 'earnestly', 'kills', 'toast', 'height', 'croquet', 'squeeze', 'held', 'however', 'caterpillar', 'sob', 'Pepper', 'difficulties', \"'Never\", 'rapidly', 'quietly', \"'Pepper\", 'swim', 'voices', \"'Cheshire\", 'drunk', 'puzzled', 'smoke', 'piteous', 'somehow', 'respectable', 'wore', 'could', 'good', \"N'T\", 'star-fish', 'PRECIOUS', 'things', 'ending', 'Story', 'alone', \"'Are\", 'chimney', 'fun', 'altogether', 'Tarts', 'knot', 'plainly', \"'Sentence\", 'tea-party', 'shepherd', 'curious', 'close', 'tulip-roots', ':', \"'leave\", 'while', 'C', 'telescopes', 'holiday', 'ourselves', 'bowed', 'pressed', 'letters', 'Stop', 'trying', 'dark', 'spoon', 'bite', 'our', 'loose', \"'At\", 'IX', 'upset', 'softly', 'shilling', 'Suddenly', 'resource', 'Elsie', 'readily', 'shriek', 'elbow', 'shorter', 'HEARTHRUG', 'trotting', 'treading', 'rat-hole', 'bristling', 'balanced', 'evidence', \"'Two\", 'except', 'interest', 'cry', 'sometimes', 'XII', 'not', 'pence', 'riddles.', 'low-spirited', 'hear', 'disappeared', 'took', 'brushing', 'written', \"'Nobody\", \"'his\", 'Advice', \"'Change\", 'LEAVE', 'ONE', 'HIGH', 'book-shelves', 'ache', 'oop', 'William', 'insolence', 'cakes', 'M', 'flamingoes', 'A', 'screaming', 'without', 'conversations', 'girl', 'crept', 'yelled', 'growing', 'save', 'about', 'nibbling', 'questions', 'Too', 'takes', \"'Soles\", 'THROUGH', 'creatures', 'murder', 'banquet', 'simple', 'leading', 'Quick', 'signed', 'arguments', 'Pig', 'At', \"'Wow\", 'list', 'Sends', \"'One\", 'another', 'remembered', 'interesting', 'rises', 'sink', 'T', \"'Sha\", 'tail', 'shingle', 'Classics', 'water', 'presented', 'extremely', 'good-natured', 'labelled', \"'until\", 'hoarsely', 'brother', 'pointing', 'timidly', 'suddenly', 'croqueted', \"'jury-men\", 'upright', 'imitated', \"'flamingoes\", 'lines', 'Knave', 'mice', 'master', 'lost', 'meet', 'lived', 'baked', 'BUSY', 'beast', \"'Boots\", 'Which', 'Will', 'morsel', 'flappers', 'full', 'buttercup', 'undo', \"'An\", 'friends', 'Queen', \"'T\", \"'DRINK\", 'lesson-books', 'brightened', 'less', 'HOW', 'sky-rocket', 'standing', 'Exactly', 'break', 'mustard', 'attempted', \"'Not\", \"o'clock\", 'given', 'crocodile', 'managed', 'likely', 'neatly', 'cherry-tart', 'birthday', 'top', 'Everything', 'paused', 'undoing', 'minutes', \"'Seals\", 'proves', 'hurried', 'face', 'shrieked', 'We', 'chrysalis', 'grew', 'White', 'weak', 'speaker', 'HIS', 'YOU', 'blown', 'last', 'wrote', \"'For\", 'procession', 'invent', \"'You\", 'hid', 'schoolroom', 'contradicted', 'mallets', 'clamour', 'advise', 'usual', \"'Who\", 'dog', 'coast', 'trot', \"'Reeling\", 'instance', 'already', \"'do\", \"'some\", 'faint', 'footman', 'daughter', 'quickly', 'rules', 'here', 'quarrelling', 'THIS', \"'Ou\", 'introduced', 'thank', 'clean', 'back', 'unless', 'fall', 'enjoy', 'forget', 'alternately', 'understood', 'No', \"'By-the-bye\", 'know', 'stop', 'wriggling', 'jury-box', \"'Well\", 'pretty', 'neither', \"'But\", 'Crab', 'rose', 'piece', 'garden', 'venture', 'broke', 'beautify', 'dreaming', 'really', 'broken', 'best', 'trampled', 'picture', 'oldest', 'seen', 'dressed', 'skurried', 'impatient', 'driest', 'archbishop', 'minded', 'emphasis', 'turning', 'week', 'cold', 'narrow', 'respectful', \"'Please\", 'Mock', 'pink', 'considering', 'ARE', 'immediately', 'unfolded', 'Once', 'frog', \"'unimportant\", 'looking', 'clock', 'DOTH', 'pleasure', 'Long', \"'Whoever\", 'returned', 'pencil', 'lazy', 'Now', 'yes', 'mixed', 'such', 'treated', \"'D\", 'front', 'ground', 'aloud', \"'advance\", 'join', 'Her', \"'VE\", 'suppressed', \"'Did\", \"you'd\", \"'May\", 'SIT', 'race-course', 'Zealand', 'sobbed', 'Beautiful', 'INSIDE', 'direction', 'whispers', 'sing', 'never', 'when', 'herself', 'pleasing', \"'It\", 'branch', 'silence', 'lullaby', '[', 'thump', 'sulky', 'twinkle', \"'Talking\", 'paw', 'favoured', 'choked', 'beautiful', 'found', 'dry', 'verse', 'ravens', 'character', 'sound', 'Tillie', 'fighting', 'Tea-Party', 'blades', 'dive', 'justice', 'natural', 'wow', 'settling', 'tones', 'knife', 'prosecute', 'V.', 'lie', 'answered', 'did', 'saucepan', 'him', 'THESE', 'me', 'drive', \"'THAT\", 'thunderstorm', 'dunce', 'dripping', 'wherever', 'kettle', \"'Call\", 'pulled', 'ancient', \"'Drive\", 'sobs', 'passing', 'salmon', \"'Stolen\", 'fountains', 'cook', 'energetic', 'annoy', 'sir', 'sticks', 'key', \"'ll\", 'twenty', 'stirring', 'jurors', 'marked', 'felt', 'crawling', 'cautiously', 'heart', 'dead', 'Cat', 'THAN', 'Distraction', 'ring', 'bark', 'whether', 'tasted', 'Multiplication', 'expressing', 'In', 'world', 'But', 'remained', 'CHORUS', 'barrowful', 'taking', 'locks', 'better', 'smiled', 'bright', \"they've\", 'land', 'evening', 'pieces', 'ESQ', \"won't\", 'MORE', \"I've\", 'edge', 'hurriedly', 'peeping', 'safe', 'squeezed', 'uglifying', 'red-hot', \"'Fourteenth\", 'people', 'Our', 'what', 'begin', 'zigzag', 'SAID', 'in', 'lodging', 'earls', 'MYSELF', 'March', 'crimson', 'birds', 'threw', 'unfortunate', \"'not\", 'twist', 'BEFORE', 'shall', 'off', 'bat', 'wine', 'half-past', 'vinegar', 'before', 'plates', 'am', 'proved', 'legs', 'nearly', 'clinging', 'tidy', 'stairs', \"'one\", 'SLUGGARD', 'seems', 'grass', 'modern', 'have', 'witness', 'flashed', 'feathers', \"'that\", 'Puss', 'doth', \"I'm\", 'PLEASE', 'persisted', 'one', 'conquest', 'wants', 'inquisitively', 'cried', 'position', 'watching', 'strength', 'waistcoat-pocket', 'sands', 'struck', 'triumphantly', 'maybe', 'courtiers', 'overcome', 'teeth', 'done', 'sizes', 'sleepy', 'flat', 'called', 'gave', 'might', 'An', 'SOME', 'comfortably', 'raven', 'QUITE', \"'Turn\", 'Never', 'happy', 'please', 'few', 'OURS', 'white', 'Pat', 'wood', 'barking', 'hedgehogs', 'flurry', 'reminding', 'sitting', 'Presently', \"'Ah\", 'theirs', 'Therefore', 'seem', \"'Prizes\", 'Number', 'depends', 'When', 'gained', 'since', 'steady', 'trembling', 'met', 'denial', \"'now\", 'hate', 'nicely', \"'Hm\", 'morning', 'never-ending', 'replied', \"'Anything\", 'serpent', 'tremulous', 'entangled', 'consultation', 'become', 'loud', 'with', 'soldiers', 'May', 'riddle', 'duck', 'Turn', 'going', 'Normans', \"don't\", 'own', 'else', 'label', 'ma', 'curls', 'paint', 'crowded', 'lovely', 'Twinkle', 'moved', 'listening', 'crab', 'feather', 'circumstances', \"'Herald\", 'muscular', 'YOU.', \"'They\", 'howling', 'scrambling', 'QUEEN', 'applause', 'scratching', 'prizes', 'riper', 'splash', 'bringing', 'breathe', \"''\", 'patience', 'a-piece', 'banks', 'win', 'mustard-mine', 'splashing', 'soup', 'beloved', 'passed', 'finishing', 'hat', 'verses', 'acceptance', 'empty', 'corner', 'Coils', 'fire', 'Soup', 'existence', 'again', 'children', 'Pool', 'extraordinary', 'mournful', 'gloves', 'partner', 'warning', 'straightened', 'die', 'too', 'ridiculous', 'speed', \"'em\", 'sharing', 'doorway', 'Mind', 'rude', 'at', 'fight', 'tumbling', 'incessantly', 'boldly', 'shyly', 'collected', 'machines', 'dozing', '.', 'Australia', 'bird', 'Soon', 'frightened', 'seven', \"'Is\", 'welcome', 'out', 'offer', 'WILLIAM', 'draw', \"'Nothing\", \"'Leave\", 'downward', 'alive', 'just', 'climb', 'shelves', 'vanished', 'candle', 'reply', 'jumped', 'There', 'eye', 'short', 'injure', \"'without\", 'EVEN', 'closely', 'afraid', 'RABBIT', 'water-well', 'double', 'playing', 'ventured', 'milk-jug', 'pattering', \"'Fury\", 'happen', 'flying', 'oblong', 'limbs', 'VIII', 'IF', 'thoughts', 'annoyed', 'age', 'looked', \"'Have\", 'cup', 'Improve', 'processions', 'strings', 'skirt', 'purring', 'hedge', 'Seven', 'sour', 'cunning', 'wider', 'WITH', 'door', 'Only', 'soothing', 'room', 'shining', 'solid', 'burning', 'Where', 'handwriting', 'muttered', 'trials', 'guess', 'keep', 'chimneys', 'bad', 'plate', 'MUST', 'violence', 'pause', 'left', \"'Now\", \"'are\", 'Yet', 'lamps', 'singing', 'merely', 'kick', 'deepest', 'grumbled', 'tremble', 'ear', 'hopeful', 'Table', 'whiskers', 'shower', 'ridge', 'FATHER', 'daresay', 'HATED', \"'My\", 'beginning', 'unusually', 'year', 'watched', 'perhaps', 'flung', 'Shakespeare', 'others', 'thought', 'jelly-fish', 'perfectly', 'oh', 'executed', 'winter', 'languid', 'song', 'decided', 'ledge', 'six', 'guests', 'suet', 'unjust', 'ca', 'crumbs', 'cutting', 'stopped', 'sister', 'ought', 'everything', 'sh', \"'Collar\", 'egg', 'sentence', 'Trims', 'extras', 'ootiful', 'Said', 'second', 'Seaography', 'Alas', 'MINE', 'wildly', 'surprised', 'Evidence', 'likes', 'evidently', 'FENDER', 'hundred', 'corners', 'shaped', 'sad', 'locked', 'speech', 'pun', 'sighing', 'YOUR', 'indignantly', 'Such', 'obliged', 'porpoise', 'busily', 'usually', 'Nobody', 'retire', 'manner', 'tale', 'Allow', 'fetch', 'Last', \"'Come\", 'atom', 'He', \"'Thinking\", 'out-of-the-way', \"'but\", 'Prizes', 'waters', \"'That\", 'hippopotamus', 'melancholy', 'HAVE', 'HIM', 'lady', 'handsome', 'Take', 'pressing', 'disobey', \"'when\", 'tiptoe', 'lose', 'repeating', 'bed', 'tight', 'smaller', 'meant', 'interrupt', 'spoke', 'pointed', 'French', \"'how\", 'showing', 'expecting', 'minute', 'learnt', \"'Oh\", 'able', 'faster', 'an', 'tea', 'relief', 'certainly', 'cheated', \"'In\", 'sounds', 'sorrowful', 'open', 'below', \"'let\", 'trouble', 'remain', 'Canterbury', 'dreadful', 'authority', 'neat', 'needs', 'beheading', 'losing', 'call', 'fast', 'soft', 'Bill', 'lark', 'hope', 'placed', 'write', 'sheep-bells', 'patted', 'Christmas', 'highest', 'home', 'turn-up', 'anything', 'disgust', 'more', 'clasped', 'consider', 'on.', 'give', 'words', 'WILL', 'Drawling', 'terribly', 'WE', 'asking', 'executions', 'half', 'help', 'repeat', 'run', 'how', 'solemnly', 'history', 'grin', 'worse', 'advance', 'whiting', 'directly', 'fact', 'beak', 'all', \"'How\", 'exclamation', 'The', 'CAN', 'work', 'beasts', 'pretend', 'finished', 'pretexts', 'whispered', \"Turtle's\", 'CHAPTER', 'squeaking', 'than', 'saying', 'to-day', 'fur', 'ready', 'guinea-pigs', 'writing-desks', 'unpleasant', 'Stretching', 'fireplace', 'II', 'wept', 'whistle', 'frontispiece', 'lobsters', 'THEIR', 'look', 'noticing', 'case', 'Two', 'knock', 'gather', 'Hearts', 'wondered', 'go', 'notion', 'hard', \"'Why\", 'quick', 'poured', 'after', \"'really\", 'are', \"'Nonsense\", 'FUL', 'several', 'wrapping', 'settle', 'possibly', 'apples', 'voice', 'slate-pencil', 'SOMEBODY', 'ceiling', 'hide', 'spades', 'produced', \"'it\", 'butterfly', 'dinn', 'prove', 'figure', 'pepper-box', 'get', 'ALICE', 'yawned', 'glanced', 'by', 'courage', 'play', 'custody', 'large', 'spot', 'laughing', 'Hush', 'talking', 'learn', 'bank', 'FROM', 'changing', 'panted', 'Between', 'lest', 'So', \"'s\", 'further', 'savage', 'checked', 'fury', 'VOICE', 'teaching', 'dates', 'love', 'beating', 'past', 'dreamy', 'housemaid', 'murdering', 'generally', 'having', 'stoop', 'poky', 'passionate', 'chance', \"'Ten\", 'Beau', \"'Exactly\", 'ashamed', \"'Stupid\", 'parchment', 'altered', 'raising', 'attends', 'England', 'shrink', 'shutting', 'sensation', 'somewhere', 'fitted', \"'Idiot\", 'hardly', 'mean', 'happens', 'odd', 'Those', 'dig', 'Waiting', 'TO', \"'Mouse\", 'THEY', 'desperate', 'calling', 'louder', 'moral', 'Caucus-race', 'GAVE', 'sits', 'One', 'underneath', 'Off', 'provoking', 'Brandy', 'fallen', 'growls', 'Oh', 'anxiously', 'explanation', 'thoroughly', \"'was\", 'various', 'brought', \"'Pray\", 'music', 'dipped', 'overhead', 'cheap', 'bowing', 'occasionally', 'treacle-well', 'do', 'favourite', 'executioner', \"'at\", \"'t\", 'encouraging', 'screamed', 'drop', 'worried', 'Like', 'day', 'no', 'dogs', \"I'd\", 'wits', 'eating', 'managing', 'brush', 'protection', \"'unless\", 'waited', 'printed', 'of', 'idiotic', 'saucepans', 'scroll', 'Majesty', 'moderate', 'Pigeon', 'shillings', 'belongs', 'conduct', 'comes', 'hearts', 'rubbing', \"'HE\", 'delightful', 'does', 'accusation', '(', 'sugar', 'answer', 'end', 'today', 'comfort', 'm', 'counting', 'advantage', 'abide', 'time', 'teapot', 'escape', 'ugly', \"'nine\", 'BOOTS', 'side', 'bawled', 'cries', \"'after\", 'putting', 'name', 'folding', \"'Explain\", 'VII', 'SHOES', 'rule', 'stretched', 'argued', 'gone', 'considered', \"'Hold\", 'eagerly', 'Lewis', 'Good-bye', 'spoken', 'Footman', 'uncommonly', 'been', \"King's\", 'within', 'swallow', \"''Tis\", 'shape', 'choosing', 'Very', 'remaining', 'nurse', 'meeting', 'note-book', 'tipped', 'sorrow', 'DO', 'elbows', 'shaking', 'distant', 'understand', 'away', 'jogged', 'Lory', 'remedies', 'talk', 'sharp', 'sulkily', 'With', 'stretching', 'histories', 'later', 'two', 'knocked', 'accidentally', 'succeeded', 'followed', 'WASHING', 'resting', 'respect', 'tells', 'because', 'air.', 'snout', 'Let', 'beauti', \"'No\", 'stingy', 'muddle', 'pop', 'backs', 'argue', 'Time', 'capering', 'flock', 'either', 'tone', 'wandering', 'cartwheels', 'Indeed', 'Stole', \"'just\", 'books', \"'this\", 'played', 'crashed', 'made', 'noticed', 'addressed', 'While', \"'stupid\", 'making', 'mine', 'tossing', \"'Thank\", 'suppose', 'feet', 'eh', 'sending', 'cause', 'speak', 'Just', \"'if\", 'Lastly', 'hastily', 'five', 'myself', 'unlocking', 'got', 'crying', 'loudly', 'should', \"'UNimportant\", 'miles', 'every', 'seemed', 'killing', 'jaw', 'salt', 'went', 'sure', 'walk', 'adding', 'fancy', 'taken', 'treat', 'roof', \"n't\", 'kid', 'avoid', 'see', \"'he\", \"'what\", 'smoking', 'pleased', 'Alice', 'fellow', \"'Only\", 'Paris', 'fortunately', 'change', 'sea', 'pencils', 'be', 'son', 'Some', 'Was', 'You', 'sternly', \"'Off\", 'guilt', \"'is\", 'Croquet-Ground', 'OLD', 'terms', 'RIGHT', 'simpleton', 'whistling', \"'we\", 'from', 'grinned', 'explained', 'Panther', 'laughed', 'leap', 'nevertheless', 'young', 'rising', 'cut', 'puppy', 'was', 'engaged', 'waste', 'day-school', 'use', 'messages', 'tea-time', 'race', 'chin', 'filled', 'NOT', 'pebbles', 'shook', 'she', 'added', 'SOUP', 'diligently', 'brown', \"'all\", 'yer', 'hatters', 'Lobster', 'crown', 'tiny', 'knuckles', '1865', 'appeared', 'lay', 'bottle', \"'Their\", 'stupid', 'scaly', 'linked', 'trusts', 'grey', 'heads', 'wooden', 'him.', 'cackled', 'bitter', 'attempts', 'heavy', 'For', 'tut', 'caught', 'carrying', 'pie', 'coming', 'hoping', 'plan', 'daisy-chain', 'prize', 'shoes', 'knew', \"'whenever\", 'disagree', 'She', 'LOVE', 'smile', 'arches', 'pace', 'his', \"'m\", 'stick', 'hollow', 'rush', 'pronounced', 'places', 'grave', 'looking-glass', \"'ARE\", 'still', 'oneself', 'dish', 'choice', \"'Can\", 'can', 'officers', 'denies', 'nothing', 'positively', 'shedding', 'doubtful', 'afterwards', \"'Dinah\", 'read', 'upsetting', 'bathing', 'parts', 'easy', 'whose', 'longer', 'changes', 'farther', 'subjects', 'insult', 'hour', 'TRUE', 'toys', 'proposal', 'pulling', 'difficulty', 'licking', \"'Fetch\", 'led', 'eager', 'forwards', 'grow', 'toss', 'RETURNED', 'Why', 'secret', 'well', 'mouse-traps', 'whom', 'slowly', 'boots', 'paws', 'sand', 'impertinent', 'turtles', 'way', 'larger', 'care', \"'explanations\", 'tastes', 'quite', 'Latitude', 'person', 'taller', 'little', 'presents', 'uneasy', 'confusion', 'confused', \"'they'd\", 'kill', \"'you\", 'mouths', \"'S\", 'immediate', 'gardeners', 'flower-beds', 'Shall', 'frighten', 'many', 'opinion', 'decidedly', 'them', 'secondly', 'They', 'feelings', 'First', 'furrow', 'chains', 'sort', 'dear', 'juror', \"'Somebody\", 'learning', \"'We\", 'missed', 'fish', \"'Just\", 'angry', 'flower-pot', 'denied', 'sat', 'THINK', 'or', 'custard', 'remarks', 'clear', 'stupidest', 'Has', 'severely', 'wo', 'sky', 'hurry', \"'ve\", 'Sing', 'exactly', \"Alice's\", 'farmer', 'delight', 'fluttered', 'vanishing', 'whiles', 'changed', 'falling', 'doze', 'Coming', 'livery', 'childhood', 'law', 'why', 'execute', \"'Where\", 'swallowing', 'inclined', 'reality', 'kind', 'spread', 'as', 'swallowed', 'tears', 'instantly', 'knocking', 'mischief', 'ink', 'rich', 'thick', 'explain', 'course', 'Because', 'opened', 'curly', 'twelfth', 'conclusion', \"it's\", 'almost', 'IT', 'worm', 'telling', 'finds', 'effect', 'same', 'life', 'has', \"'Drink\", 'temper', 'lately', 'rose-tree', 'ever', 'shouted', 'Mary', 'wish', 'condemn', 'denying', 'Cheshire', 'FIT', 'diamonds', 'seaside', \"'Wake\", 'jar', 'waiting', 'sooner', 'minding', 'neighbouring', 'nearer', 'reading', 'Pray', 'somebody', 'panting', 'over', 'delighted', 'harm', 'Hatter', 'answers', 'flame', 'washing', 'startled', 'thistle', 'bottom', 'it', 'thunder', 'THAT', 'brass', 'loveliest', 'maps', 'blows', 'forgot', 'party', 'pictured', 'remarkable', 'distance', 'reduced', \"'Tell\", 'offend', 'furious', \"'LL\", 'Duck', 'swimming', 'arm-chair', 'cattle', 'you', 'nodded', \"'Poor\", 'some', 'bring', 'right-hand', 'spell', 'worry', 'branches', 'dropped', 'newspapers', 'producing', 'slates', 'say', 'ago', 'awfully', 'deep', 'declared', 'actually', '?', 'think', 'queer-shaped', 'animal', \"'Twenty-four\", 'crazy', 'variations', 'YET', 'absurd', 'LESS', 'engraved', 'blow', 'fan', 'doubling', 'advisable', 'great', 'cardboard', 'boy', 'wags', 'tie', 'trial', 'heels', 'remark', 'absence', 'tureen', 'sneezes', 'started', 'miss', 'they', 'sha', 'indignant', 'pleasanter', 'four', 'Who', 'tougher', 'Then', 'gallons', 'dull', 'angrily', 'he', 'hookah', 'seeing', 'directed', 'honest', 'Five', \"'Sixteenth\", 'Wonderland', 'poison', 'bleeds', 'teases', 'Duchess', \"'because\", \"'arrum\", 'Drawling-master', ';', \"'re\", 'ten', 'rate', \"'Hjckrrh\", 'graceful', 'advice', 'barley-sugar', \"'important\", 'frowning', 'puzzling', 'Game', 'mistake', 'teacups', 'bats', 'MARMALADE', 'begun', 'coward', 'tumbled', 'inches', 'entirely', 'both', \"'they\", 'much', 'Mystery', 'nobody', 'repeated', 'pictures', 'cool', 'Latin', 'gloomily', 'all.', 'humbly', 'ordering', 'says', 'BEST', 'used', 'up', 'drawing', 'tinkling', 'farm-yard', \"'Write\", 'far', 'dodged', 'curving', 'unhappy', 'and', 'peering', 'burnt', 'deserved', 'only', \"'Hush\", \"'When\", 'giddy', 'beautifully', 'hall', 'skimming', 'became', 'watch', 'Miss', 'line', 'argument', 'Nile', 'X', \"'And\", 'turned', \"'Ahem\", 'conger-eel', 'push', 'signify', 'fork', 'come', 'carry', 'state', 'memorandum', 'sea-shore', 'happened', \"'Look\", 'grand', 'curtsey', 'BEE', 'violently', 'Dormouse', 'court', 'onions', 'Lacie', 'now', 'knowledge', 'carefully', 'creature', \"'ORANGE\", \"'besides\", 'promising', 'eaten', 'curiouser', '!', 'ornamented', 'measure', 'lad', 'comfortable', 'Jack-in-the-box', 'contemptuous', 'rosetree', 'rattle', 'guinea-pig', 'fit', 'accustomed', 'currants', \"'Sit\", 'WATCH', 'find', 'settled', 'works', 'meat', 'stupidly', 'uncommon', 'letter', 'sigh', 'foot', 'field', 'among', 'faces', 'pleases', 'O', 'after-time', 'est', 'hit', 'slipped', 'camomile', 'form', \"you've\", 'DOES', 'longed', 'chatte', 'Caucus-Race', 'ME', \"'which\", 'despair', 'lessons', 'introduce', 'gravy', 'Next', 'drew', 'RED', 'dears', 'shoulders', 'stool', \"'any\", 'Digging', 'nibbled', 'poor', 'anxious', 'rustled', 'father', \"'chop\", 'miserable', 'tea-things', 'imagine', 'Him', 'France', 'Gryphon', \"'Mary\", 'lap', 'prevent', 'rattling', 'body', 'creep', 'VI', \"'As\", 'joined', 'prisoner', 'OUTSIDE', 'Either', 'wife', \"'All\", 'years', 'Involved', 'must', 'believe', 'waving', 'dropping', \"'than\", 'paper', 'lifted', 'tops', 'beds', 'undertone', 'prettier', 'Tale', \"'She\", 'mentioned', 'hatter', \"'Or\", 'into', 'carrier', 'pool', \"'Behead\", 'pairs', 'breeze', 'toffee', 'Dinah', 'IS', 'ones', 'deny', 'beg', 'nonsense', 'important', 'wasting', 'that', 'nose', 'wonder', 'raw', 'their', 'arms', 'content', 'order', 'reasons', 'mark', 'above', 'grant', 'window', 'submitted', 'singers', 'furiously', \"'Begin\", 'forgotten', 'moment', 'right', 'fairy-tales', 'clubs', \"'Sh\", 'bursting', 'noises', 'couple', 'tomorrow', 'animals', 'scream', 'roots', 'writing', 'bright-eyed', 'stamping', 'Cat.', 'coaxing', 'NEAR', \"'Stand\", 'cats', 'HER', 'fanning', 'cucumber-frame', 'to-night', \"'why\", 'personal', 'immense', 'thing', 'mostly', 'unimportant', 'cares', 'adventures', 'Rabbit-Hole', 'KNOW', 'haste', 'glaring', 'means', 'shake', 'straightening', 'choke', 'setting', 'pretending', 'kindly', 'contempt', 'possible', 'Tears', 'accounts', 'someone', 'W', 'simply', \"'Up\", 'pair', 'ye', 'adoption', 'living', 'KING', 'begins', \"'Shy\", 'floor', 'pounds', 'curiosity', 'surprise', '_I_', 'alarmed', 'for', \"'no\", 'flinging', \"ill.'\", 'Edgar', 'listen', 'begged', \"'Shall\", 'exact', 'PERSONS', 'Though', 'crouched', 'idea', 'rather', 'sides', 'head', 'crossed', 'flavour', 'blasts', 'turkey', 'noise', 'so', \"there's\", \"'Found\", \"'EAT\", 'series', 'fourth', 'suit', 'Half-past', 'Hare', 'friend', 'agony', 'notice', 'anger', 'behind', 'draggled', \"'Read\", 'flapper', 'milk', 'Suppress', 'disappointment', 'handed', 'rushed', 'shiver', 'I', 'luckily', 'want', 'Serpent', 'humble', 'speaking', 'proud', \"'Of\", 'grins', \"'so\", 'ran', 'matters', 'busy', 'none', 'accounting', 'dishes', \"'Had\", 'snorting', 'fancying', 'instead', 'throat', 'twentieth', 'complained', 'mineral', 'burst', 'judging', 'scale', 'steam-engine', 'agree', 'Everybody', 'round', 'spite', 'follow', 'happening', 'themselves', 'yelp', 'stopping', 'Atheling', 'arm', 'circle', 'rumbling', 'fifth', 'cheeks', 'reasonable', 'if', 'rustling', 'your', 'drink', 'ways', \"'Same\", 'near', \"'there\", 'guard', 'queer', 'carried', 'silent', \"'Once\", 'drowned', 'anywhere', 'is', 'prison', 'Caterpillar', 'occasional', 'hung', \"'as\", 'lit', 'punished', 'bread-knife', 'baby', \"'What\", 'sneezed', 'act', 'snail', 'row', 'lower', 'Conqueror', 'usurpation', 'raised', 'tide', 'shared', 'upstairs', 'sit', \"'he's\", 'Tis', 'mile', 'wind', 'thirteen', 'lives', 'grunt', 'thousand', 'slippery', 'sense', 'good-naturedly', 'forgetting', 'hers', 'tittered', 'upon', 'times', 'stay', 'tricks', 'asleep', 'execution', 'thrown', 'fifteen', \"'Ugh\", 'fairly', 'deeply', 'LITTLE', 'like', 'cross', 'MILE', 'shifting', 'try', 'her', 'WHATEVER', \"'tis\", 'editions', 'moon', 'pleaded', 'choking', 'politely', 'mouth', 'mad', \"'Get\", 'bear', 'hoarse', 'cake', 'high', 'sisters', 'general', 'Magpie', 'knee', 'feared', 'Canary', 'were', \"'If\", 'part', 'truthful', 'meanwhile', 'eleventh', 'regular', 'fumbled', 'cleared', 'across', \"'d\", \"'Rule\", 'fine', 'saves', 'certain', 'shock', 'business', 'who', 'belong', 'even', \"'First\", 'beat', 'flamingo', 'first', 'Ah', 'real', 'whatever', \"'Keep\", 'London', 'small', 'sighed', 'Queens', 'inwards', 'fat', \"'This\", 'sell', 'fits', 'cat', 'Rome', 'What', \"'living\", 'my', 'question', \"'creatures\", 'meal', 'seriously', 'stays', 'night-air', 'appearing', 'thoughtfully', 'older', ',', 'down', 'stalk', 'woman', 'THE', 'eels', 'until', 'goes', 'wash', 'bones', 'inquired', 'came', 'shade', 'seated', 'However', 'This', 'sight', 'turn', 'rapped', 'fanned', 'painting', 'doubled-up', 'Shark', 'subject', 'then', 'Uglification', \"'Treacle\", 'dried', 'yours', 'journey', 'leaving', 'wanted', 'solemn', 'fixed', 'turns', 'funny', 'invitation', \"'to\", 'centre', 'SOMETHING', 'games', 'encouraged', 'something', 'Little', \"'Seven\", 'laugh', 'pope', \"'Here\", 'Ambition', \"'Bring\", 'Grammar', 'any', 'sharply', 'All', 'dismay', 'these', \"doesn't\", 'footsteps', \"'YOU\", 'Ugh', 'shouting', 'outside', 'dare', 'common', 'rudeness', 'yourself', 'red', 'finding', 'girls', 'YOURS', 'fig', 'thin', 'account', 'clever', 'shut', 'unwillingly', 'commotion', 'days', 'towards', 'AT', 'but', 'railway', 'educations', 'puzzle', 'comfits', 'interrupting', 'BEG', 'quiet', 'fills', 'doubt', \"'Hand\", \"'Ca\", \"'on\", 'Eaglet', 'fair', 'Lizard', 'remembering', 'cheerfully', 'poker', \"'After\", 'swam', 'civil', 'won', 'impossible', 'difficult', 'box', 'NO', 'eats', 'charges', 'Poor', 'questions.', 'catching', 'desperately', 'wink', 'entrance', 'listened', 'opening', 'Sir', 'fellows', 'around', 'dream', 'book', 'three-legged', 'mouse', 'cards', \"'fetch\", 'ignorant', 'cheered', 'Hardly', \"'Twinkle\", 'As', 'stood', 'where', 'wag', 'kissed', 'feeble', 'pale', 'fancied', 'would', 'terrier', 'tarts', 'Owl', \"'Everything\", 'royal', 'WAISTCOAT-POCKET', 'useful', 'treacle', 'attended', 'brain', 'neighbour', 'concluded', 'telescope', \"'Everybody\", 'died', 'expression', 'present', \"'only\", 'severity', 'need', 'examining', \"'He\", 'gay', \"'M\", 'wild', 'curled', 'uncivil', 'Grief', 'follows', 'Birds', 'heard', \"'Dear\", \"'Right\", 'fashion', 'will', 'breath', 'closer', 'hush', 'hearing', 'thanked', 'honour', 'concert', 'yet', 'holding', 'back-somersault', 'judge', 'roared', 'nowhere', 'daisies', 'leant', 'house', 'lesson', 'irritated', 'muchness', \"'tell\", 'may', 'vague', 'planning', \"they're\", \"'either\", 'received', 'allow', \"Ma'am\", 'ointment', 'lazily', 'lobster', 'Ada', 'yards', 'darkness', 'It', 'liked', 'sneeze', 'grunted', 'pegs', 'nest', 'recovered', 'velvet', 'wondering', 'fly', 'continued', \"'Does\", 'which', 'punching', 'Pinch', 'balls', 'obstacle', 'invented', 'removed', 'known', 'roses', 'nine', 'stole', 'New', 'calmly', 'seldom', 'to', 'cauldron', \"'shall\", 'doubtfully', 'three', 'wise', 'Do', 'least', 'quarrelled', 'SOMEWHERE', 'promise', 'Writhing', \"'Back\", \"'Your\", \"'Swim\", 'old', 'Northumbria', 'complaining', 'wrong', '--', 'quiver', 'set', 'ridges', 'timid', 'hint', 'twinkled', 'Here', 'night', 'appearance', 'till', 'sounded', 'ordered', 'Be', 'eggs', \"'Sure\", 'jumping', 'Soo', 'sang', \"'Would\", 'signifies', 'lock', 'moving', 'those', 'hot-tempered', 'pity', 'verdict', 'names', \"'Consider\", \"'There\", 'ringlets', 'Visit', 'length', 'between', 'OF', 'bough', 'sign', 'riddles', 'running', 'asked', 'crash', 'wearily', 'tea-tray', \"'crumbs\", 'free', 'lesson-book', 'neck', 'fright', 'walking', 'live', 'SHE', 'enormous', 'its', 'conversation', 'flown', 'directions', 'fix', 'opportunity', 'uncomfortable', 'Luckily', 'enough', 'shiny', 'flew', 'leaning', 'lasted', 'nice', 'quicker', 'Fainting', 'By', 'folded', 'appear', 'croqueting', 'strange', 'Adventures', \"'VERY\", 'officer', 'twice', 'late', 'violent', 'spreading', 'cur', 'AND', \"'Go\", 'take', 'true', 'cucumber-frames', 'though', 'hedges', 'hands', 'fading', 'through', 'capital', 'grown', 'Ann', 'TWO', 'cross-examine', 'Pennyworth', 'confusing', 'subdued', \"'Nor\", 'Would', \"'Speak\", 'learned', \"'in\", 'beheaded', 'COULD', 'unable', \"'or\", 'burn', 'a', 'OUT', 'afford', 'sobbing', 'globe', 'uglify', 'askance', 'saw', 'taste', \"hadn't\", 'rightly', \"'Give\", 'tails', 'audibly', 'make', 'sorrows', 'throne', 'oyster', 'chief', 'rabbit-hole', 'feebly', 'somersault', 'mind', 'splendidly', 'Go', \"'Beautiful\", 'PLENTY', 'had', 'Antipathies', 'magic', 'company', 'leave', 'manage', \"'Yes\", 'glass', 'crossly', 'curtain', 'brave', 'bit', 'hours', 'executes', \"'You're\", \"'EVERYBODY\", 'croquet-ground', 'expected', 'hopeless', \"'Nearly\", 'See', 'pleasant', 'familiarly', 'howled', 'meekly', 'throwing', 'recognised', 'joys', 'passion', 'dreadfully', 'Always', 'uncomfortably', 'alarm', 'Laughing', 'bent', 'unrolled', 'wig', 'trumpet', \"'and\", 'hurrying', 'manners', 'wander', \"'the\", 'meaning', 'wings', 'ALL', 'chose', 'WAS', 'FOOT', \"'With\", 'vote', 'Derision', 'hurt', 'very', 'ears', 'himself', 'encourage', 'buttons', 'PROVES', 'leaders', 'arrived', ')', 'rubbed', 'scolded', 'stiff', 'Please', 'accident', 'slate', 'shoulder', 'opposite', \"'Serpent\", 'finger', \"'Curiouser\", 'fear', 'tell', 'That', 'thimble', 'finish', 'indeed', 'airs', 'on', 'drinking', \"'poison\", 'also', 'His', 'woke', 'Besides', 'vegetable', 'ate', 'figures', 'buttered', 'whole', 'fishes', 'experiment', 'pocket', 'Fury', 'tunnel', 'lessen', 'snatch', 'heap', 'These', 'twinkling', 'purpose', \"'Perhaps\", 'pie-crust', 'shore', 'giving', 'ladder', 'mushroom', 'assembled', 'Father', 'supple', \"'till\", 'waist', 'canvas', 'shrill', \"'Repeat\", 'clapping', 'otherwise', 'afore', 'reaching', 'most', 'dispute', 'listeners', 'elegant', 'lying', 'ITS', 'straight', 'makes', 'vulgar', 'hearth', 'smiling', 'invited', 'Come', \"'Digging\", 'school', 'kiss', 'crowd', 'pardon', 'adjourn', 'tree', 'THEN', 'walrus', 'saucer', 'sixpence', 'Down', 'show', 'lips', 'matter', 'clearer', 'hoped', 'hot', 'whisper', '*', 'wait', 'tired', 'pepper', 'fidgeted', 'Run', 'raving', \"'Really\", 'pass', \"wasn't\", \"'From\", 'touch', 'reach', 'COURT', \"'Pat\", 'truth', 'long', 'patriotic', 'And', 'Sounds', 'plenty', 'picking', 'believed', 'WHAT', 'Gryphon.', 'gazing', 'How', \"'three\", 'boon', 'inkstand', 'IV', 'rope', 'us', 'forepaws', 'doing', 'kitchen', 'snappishly', 'itself', 'relieved', 'WOULD', \"'SHE\", \"'Catch\", 'blame', 'deal', 'eyes', \"can't\", 'Forty-two', 'righthand', 'chuckled', 'reeds', 'we', 'largest', 'keeping', 'Keep', 'offended', \"I'll\", 'hair', 'being', 'roughly', 'growling', 'knelt', 'number', 'axis', 'HAD', 'cart-horse', 'sorts', 'dinner', 'game', 'extra', \"they'll\", \"'for\", 'sage', 'queer-looking', 'remarked', 'month', 'yesterday', 'eyes.', 'Fish-Footman', 'soldier', 'middle', 'trembled', 'e', 'story', \"'So\", \"'The\", 'Silence', 'On', 'growl', 'HEARTS', 'cost', 'morals', 'wonderful', 'practice', 'attempt', 'closed', \"'Tut\", 'kept', 'gently', 'bill', 'each', 'leaves', 'nervous', 'gravely', 'squeaked', 'low', 'merrily', 'queerest', 'hold', 'axes', 'wet', 'often', \"'Which\", 'furrows', 'powdered', 'sent', 'youth', 'arrow', 'refused', 'ferrets', 'After', 'III', 'twenty-four', 'under', 'Mouse', 'sentenced', 'Before', \"she's\", 'feel', 'tied', 'sweet-tempered', 'blew', 'pardoned', 'walked', 'alas', 'CURTSEYING', 'digging', 'English', 'pig-baby', \"'Very\", 'interrupted', 'frying-pan', 'knows', \"'Then\", 'butter', 'roast', 'trickling', 'BE', 'jaws', 'king', 'pack', 'claws', 'said', 'other', 'there', 'child', 'new', 'Rabbit', 'mournfully', 'together', 'sleep', \"'Soo\", 'easily', 'result', 'pet', 'Quadrille', 'sprawling', 'green', 'air', 'search', 'picked', \"'Stuff\", 'summer', 'worth', 'Maybe', 'this', 'told', 'hungry', 'fire-irons', \"'she\", 'yawning', 'bore', 'wide', 'stand', 'couples', 'chanced', 'passage', 'quarrel', 'pigs', 'rabbit', 'bend', 'earth', 'faintly', \"'Suppose\", 'returning', 'rearing', 'doors', 'country', 'proceed', 'puffed', 'pine-apple', 'laughter', 'sorry', 'consented', 'XI', 'terror', 'Geography', 'tongue', 'muttering', 'reason', 'place', 'share', 'arranged', 'D', 'jury', 'goose', 'hanging', 'thatched', 'occurred', 'arm-in-arm', 'goldfish', 'thinking', 'shrinking', 'constant', 'lefthand', 'stuff', 'fell', 'rippling', 'promised', 'everybody', \"'Certainly\", 'send', 'rabbits', 'always', 'foolish', 'impatiently', 'besides', \"'\", 'growled', \"'Each\", 'crawled', 'slightest', \"'IT\", 'staring', 'downwards', 'THERE', \"'Chorus\", \"'Let\", 'Nay', 'jurymen', 'taught', 'uncorked', 'boxed', 'hatching', 'move', 'wandered', 'grinning', 'bag', 'affair', 'dainties', 'bone', 'Dinn', 'hand', 'footmen', \"shan't\", 'hedgehog', 'grazed', 'Edwin', 'lowing', 'pig', 'splashed', 'King', 'Carroll', 'using', 'helped', 'forehead', 'contemptuously', 'next', 'uneasily', 'man', \"'Alice\", 'rock', 'teacup', '``', 'smallest', \"'IF\", 'rest', 'Still', 'HE', 'declare', 'flustered', 'hiss', 'Up', 'marched', 'once', 'shrimp', 'patiently', 'whereupon', \"'To\", 'catch', 'peeped', 'Mabel', 'becoming', 'attending', 'glad', 'HERE', 'untwist', 'laid', 'NEVER', 'eat', \"'allow\", 'stockings', \"'however\", 'Tortoise', 'lonely', 'pitied', 'writing-desk', 'guessed', 'eel', 'clearly', 'bother', 'bread-and-butter', 'permitted', 'dancing', 'pattern', 'memory', 'Ma', 'dreamed', 'tucked', \"'Fifteenth\", 'the', 'throw', 'serpents', 'sharks', 'death', 'helpless', 'purple', 'tried', \"'sit\", 'blacking', 'addressing', 'cushion', 'fond', 'Kings', 'If', 'pour', 'nor', 'nursing', 'against', 'remarking', 'delay', 'put', 'rise', 'different', 'size', 'Dodo', 'hunting', 'feeling', 'flowers', 'nasty', 'bound', 'inside', 'toes', 'refreshments', 'excellent', 'pinch', 'family', 'affectionately', 'SWIM', 'kneel', 'houses', 'trees', 'Even', 'VERY', 'pinched', \"haven't\", 'rats', 'spectacles', 'look-out', 'wretched', 'sneezing', 'twelve', 'along', 'arch', 'word', 'Arithmetic', 'golden', 'sadly', \"'of\", 'caused', 'Morcar', 'station', 'Turtle', 'Mad', 'TOOK', 'sudden', 'particular', 'knowing', 'pigeon', 'proper', 'child-life', 'players', \"'moral\", 'completely', 'Heads', 'appealed', 'belt', 'remember', 'weeks', 'dance', 'let', 'failure', 'My', 'Stigand'}\n"
     ]
    }
   ],
   "source": [
    "print(set(nltk_tokens))"
   ]
  },
  {
   "cell_type": "markdown",
   "metadata": {
    "id": "2yOQ1C3Wwziw"
   },
   "source": [
    "To recap, we use or *call* a function such as `lexical_diversity()` by typing its name,\n",
    "followed by an open parenthesis, the name of the text, and then a close parenthesis.\n",
    "These parentheses will show up often; their role is to separate the name of a task—such\n",
    "as `lexical_diversity` from the data that the task is to be performed on—such as\n",
    "`nltk_tokens`. The data value that we place in the parentheses when we call a function is an\n",
    "**argument** to the function."
   ]
  },
  {
   "cell_type": "code",
   "execution_count": 115,
   "metadata": {
    "colab": {
     "base_uri": "https://localhost:8080/"
    },
    "executionInfo": {
     "elapsed": 494,
     "status": "ok",
     "timestamp": 1613144059121,
     "user": {
      "displayName": "Darth Maul",
      "photoUrl": "https://lh3.googleusercontent.com/a-/AOh14Gh5xqmxd78KGBkmKiP4Zt50OzFOZWcHeKbnR3Gl=s64",
      "userId": "09460696119666831892"
     },
     "user_tz": -60
    },
    "id": "gWE0v96kwziw",
    "outputId": "f73b40b8-b13b-4960-94db-06b11946dfb3"
   },
   "outputs": [
    {
     "data": {
      "text/plain": [
       "['WAISTCOAT-POCKET',\n",
       " 'waistcoat-pocket',\n",
       " 'bread-and-butter',\n",
       " 'bread-and-butter',\n",
       " 'bread-and-butter',\n",
       " 'bread-and-butter',\n",
       " 'bread-and-butter',\n",
       " 'bread-and-butter']"
      ]
     },
     "execution_count": 115,
     "metadata": {},
     "output_type": "execute_result"
    }
   ],
   "source": [
    "strange_words = [w for w in nltk_tokens if len(w) > 15]\n",
    "strange_words"
   ]
  },
  {
   "cell_type": "markdown",
   "metadata": {
    "id": "d9Jd_VbH428L"
   },
   "source": [
    "Try to make an advanced search with google with both \"waistcoat-pocket\" and \"bread-and-butter\" ... "
   ]
  },
  {
   "cell_type": "markdown",
   "metadata": {
    "id": "UBlV7XBEPaX3"
   },
   "source": [
    "# Conclusion \n",
    "\n",
    "Of course there's more to learn in Python, but these are standard things you need to know and they'll be good enough for you to jump into beginner projects. There's that tempting feeling that you need to finish lots of Python tutorials before you work on any project. Don't do it.\n",
    "\n",
    "Many fall into the trap of learning back to back Python tutorials waiting to feel super ready. Instead, learn the basics first. Next, build some tiny projects. Then return to learning with more tutorials. Trust me, you can finish 100 Python tutorials and still feel you're not ready to build any projects. Studying alone is not enough for this reason in the next notebook you will find 10 exercises. Good luck."
   ]
  },
  {
   "cell_type": "markdown",
   "metadata": {
    "id": "cqoQhfRMPaX3"
   },
   "source": [
    "# Credits & References\n",
    "\n",
    "*Steven Bird, Ewan Klein and Edward Loper*, **Natural Language Processing with Python**, O'REILLY\n",
    "\n",
    "*Andrea Gigli*, **Python Course for Data Science** [here the link to github](https://github.com/andrgig/Data-Science-for-Management/blob/master/1.%20Python%20Intro%20for%20Data%20Science.ipynb)\n"
   ]
  }
 ],
 "metadata": {
  "colab": {
   "collapsed_sections": [],
   "name": "pragmatic_introduction_to_python_language_1.ipynb",
   "provenance": [],
   "toc_visible": true
  },
  "kernelspec": {
   "display_name": "Python 3",
   "language": "python",
   "name": "python3"
  },
  "language_info": {
   "codemirror_mode": {
    "name": "ipython",
    "version": 3
   },
   "file_extension": ".py",
   "mimetype": "text/x-python",
   "name": "python",
   "nbconvert_exporter": "python",
   "pygments_lexer": "ipython3",
   "version": "3.7.4"
  },
  "toc": {
   "base_numbering": 1,
   "nav_menu": {},
   "number_sections": true,
   "sideBar": true,
   "skip_h1_title": false,
   "title_cell": "Table of Contents",
   "title_sidebar": "Contents",
   "toc_cell": false,
   "toc_position": {},
   "toc_section_display": true,
   "toc_window_display": false
  }
 },
 "nbformat": 4,
 "nbformat_minor": 1
}
