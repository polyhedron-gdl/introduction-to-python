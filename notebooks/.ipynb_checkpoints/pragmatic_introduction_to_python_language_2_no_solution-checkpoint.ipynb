{
 "cells": [
  {
   "cell_type": "markdown",
   "metadata": {},
   "source": [
    "# Coding Practice for Beginners"
   ]
  },
  {
   "cell_type": "markdown",
   "metadata": {},
   "source": [
    "## What's the target\n",
    "\n",
    "With the following exercises, you will learn to:\n",
    "\n",
    "- declare variables\n",
    "- collect user input\n",
    "- store information\n",
    "- repeat an action through loops\n",
    "- write functions to repeat blocks of code"
   ]
  },
  {
   "cell_type": "markdown",
   "metadata": {},
   "source": [
    "## How to use these projects\n",
    "\n",
    "First, read through the instructions and make sure you understand what you've read. Try to say what you read in your own words.\n",
    "Attempt to solve it on your own without going through YouTube tutorials or Google search. Push yourself. This is the idea of **deliberate practice** from Behavioral Psychology.\n",
    "\n",
    "If you haven't made any progress at all, watch a YouTube tutorial where available then look through the example code. You can also search online to see more example tutorials and Python code for the same problem. After going through, go back and try to write the code by yourself without looking at the tutorial. Again, push yourself. \n",
    "\n",
    "Whatever you do, do not blindly copy out the code in the tutorial. You may finish quickly but the reality is you haven't learned anything. If you feel you're completely stuck after lots of attempts, take a break. When you step away, we know from Neuroscience research that your subconscious will continue the learning. This is because your mind has shifted from **focused mode** to **diffused mode**.\n",
    "\n",
    "Finally pat yourself on the back (honestly I don't known if this is a correct english phrase)\n",
    "\n",
    "Repeat, repeat, repeat... and if you want to know more about *Deliberate Practice* click [here](https://www.sciencedirect.com/topics/psychology/deliberate-practice). You can find the source of many, if not all, of this\n",
    "projects [here](https://www.upgrad.com/blog/python-projects-ideas-topics-beginners/#9_Desktop_Notifier_App).\n",
    "\n",
    "**Question**: Why does the blog author describe exaclty **42** projects?"
   ]
  },
  {
   "cell_type": "markdown",
   "metadata": {},
   "source": [
    "## Word count\n",
    "\n",
    "Ask the user what's on their mind. Then after the user responds, count the number of words in the sentence and print that as an output.\n",
    "\n",
    ">*Example*:\n",
    ">\n",
    "> Prompt: what's on your mind today?\n",
    "> Input: well, it's just a day for me to be an expert in coding\n",
    "> Output: oh nice, you just told me what's on your mind in 13 words!"
   ]
  },
  {
   "cell_type": "code",
   "execution_count": 1,
   "metadata": {},
   "outputs": [],
   "source": [
    "# code your solution here!"
   ]
  },
  {
   "cell_type": "markdown",
   "metadata": {},
   "source": [
    "To take this a step further, open a file that is handed to you, count the number of words in there, then print it out."
   ]
  },
  {
   "cell_type": "markdown",
   "metadata": {},
   "source": [
    "## What's my acronym?\n",
    "\n",
    "Ask the user to enter the full meaning of an organization or concept and you'll provide the acronym to the user. \n",
    "\n",
    "For example:\n",
    "\n",
    ">- Input -> As Soon As Possible. Output -> ASAP.\n",
    ">- Input -> World Health Organization. Output -> WHO.\n",
    ">- Input -> Absent Without Leave. Output -> AWOL."
   ]
  },
  {
   "cell_type": "code",
   "execution_count": 2,
   "metadata": {},
   "outputs": [],
   "source": [
    "# code your solution here!"
   ]
  },
  {
   "cell_type": "markdown",
   "metadata": {},
   "source": [
    "## Leap Year\n",
    "\n",
    "### A little digression on time measure\n",
    "\n",
    "The date system currently in use is based on the Gregorian calendar, first established in 1582 by Pope Gregory XIII. This calendar was designed to correct the errors introduced by the less accurate Julian calendar. In the Gregorian calendar, a normal year consists of 365 days. Because the actual length of a sidereal year (the time required for the Earth to revolve once about the Sun) is actually 365.2425 days, a \"leap year\" of 366 days is used once every four years to eliminate the error caused by three normal (but short) years. Any year that is evenly divisible by 4 is a leap year: for example, 1988, 1992, and 1996 are leap years.\n",
    "\n",
    "However, there is still a small error that must be accounted for. To eliminate this error, the Gregorian calendar stipulates that a year that is evenly divisible by 100 (for example, 1900) is a leap year only if it is also evenly divisible by 400.\n",
    "\n",
    "For this reason, the following years **are not** leap years:\n",
    "\n",
    "*1700, 1800, 1900, 2100, 2200, 2300, 2500, 2600*\n",
    "\n",
    "This is because **they are evenly divisible by 100 but not by 400**.\n",
    "\n",
    "The following years **are** leap years: *1600, 2000, 2400*\n",
    "\n",
    "This is because **they are evenly divisible by both 100 and 400**.\n",
    "\n",
    "Ok, now let's do a simple python program to find leap years.\n",
    "\n",
    "To understand this example, you should have the knowledge of the following Python programming topics:\n",
    "\n",
    "- Python Operators\n",
    "- Python if...else Statement\n"
   ]
  },
  {
   "cell_type": "code",
   "execution_count": 3,
   "metadata": {},
   "outputs": [],
   "source": [
    "# Python program to check if year is a leap year or not\n",
    "# code your solution here!"
   ]
  },
  {
   "cell_type": "markdown",
   "metadata": {},
   "source": [
    "## Is it a Fibonacci number? \n",
    "\n",
    "You input a number and the function created checks whether the number belongs to the Fibonacci sequence or not. If you don't known what a Fibonacci number is and how to detect it, read [this page](https://en.wikipedia.org/wiki/Fibonacci_number#Recognizing_Fibonacci_numbers) to find out some suggestion."
   ]
  },
  {
   "cell_type": "code",
   "execution_count": 4,
   "metadata": {},
   "outputs": [],
   "source": [
    "# code your solution here!"
   ]
  },
  {
   "cell_type": "markdown",
   "metadata": {},
   "source": [
    "## Guess the number\n",
    "\n",
    "You ask a user to guess a number between 1 and 50. If they guess outside that range, you prompt with an error encouraging them to choose a number within the proper range. Whenever they guess the wrong number you ask if they want to keep playing or if they'd like to quit.\n",
    "\n",
    "Finally, when the user eventually guesses the right number you congratulate them and show the number of attempts they had.\n",
    "\n",
    "\n",
    ">**random module**\n",
    ">\n",
    ">Sometimes we want the computer to pick a random number in a given range, pick a random element from a list, pick a random card >from a deck, flip a coin, etc. The random module provides access to functions that support these types of operations. One such >operation is random.randrange(a, b) method (returns a random integer between a and b) that we are going to use in order to >select one random number."
   ]
  },
  {
   "cell_type": "code",
   "execution_count": 5,
   "metadata": {},
   "outputs": [],
   "source": [
    "# code your solution here!"
   ]
  },
  {
   "cell_type": "markdown",
   "metadata": {},
   "source": [
    "## Guess the word\n",
    "\n",
    "### First Game\n",
    "\n",
    "In this game, there is a list of words present, out of which python interpreter will choose 1 random word. The user first has to input their names and then, will be asked to guess any characters. If the random word contains that character, it will be shown as the output(with correct placement) else the program will ask you to guess another character. User will be given 12 turns(can be changed accordingly) to guess the complete word.\n",
    "\n",
    ">To understand this example, you should have the knowledge of the following Python programming topics:\n",
    ">\n",
    ">- using random numbers\n",
    ">- using strings\n",
    ">- loops and conditional(If, else) statements."
   ]
  },
  {
   "cell_type": "code",
   "execution_count": 6,
   "metadata": {},
   "outputs": [],
   "source": [
    "# code your solution here!"
   ]
  },
  {
   "cell_type": "markdown",
   "metadata": {},
   "source": [
    "### Second Game\n",
    "\n",
    "In the next we still focus on the user having to guess a randomly choosen word but the game is different from the previous one. You can create a list from which the word would have to be guessed. I propose to save the list in a txt file that you can load at the beginning of the game. In the example below I create two differente files with the 1000 most common used words in english and italian.\n",
    "\n",
    "The game starts with only the first character of the randomly chosen word and a list of ' * ' for the remaining characters.   After this, every time the user have a guess, another character of the secret word, at random, is shown until the complete word is revealed. \n",
    "\n",
    "You can improve the game setting a cap on the number of guesses allowed.\n",
    "\n",
    ">To understand this example, you should have the knowledge of the following Python programming topics:\n",
    ">\n",
    ">- using random numbers\n",
    ">- reading txt files\n",
    ">- loops and conditional(If, else) statements\n",
    "\n",
    "Click [here](https://ipywidgets.readthedocs.io/en/latest/index.html) for the documentation of the widgets library."
   ]
  },
  {
   "cell_type": "code",
   "execution_count": 7,
   "metadata": {},
   "outputs": [],
   "source": [
    "# code your solution here!"
   ]
  },
  {
   "cell_type": "markdown",
   "metadata": {},
   "source": [
    "## Rock, Paper, Scissors\n",
    "This is a popular game played between two people. Each player gets to form one of three shapes using their hand:\n",
    "\n",
    "- rock \n",
    "- paper \n",
    "- scissors \n",
    "\n",
    "below you can find a simple program that implements this game in python. However there is no check on input, please correct this gap!"
   ]
  },
  {
   "cell_type": "code",
   "execution_count": 8,
   "metadata": {},
   "outputs": [],
   "source": [
    "# code your solution here!"
   ]
  },
  {
   "cell_type": "markdown",
   "metadata": {},
   "source": [
    "## Mad Libs Game\n",
    "\n",
    "The idea is very simple: ask the user for an input, this could be anything such as a name, an adjective, a pronoun or even an action. Once you get the input, you can rearrange it to build up your own story. **Primarily focused on strings, variables, and concatenation, this project will teach you how to manipulate user-inputted data**. Of course you need a template to start with, for example, in the [wikipedia mad libs page](https://en.wikipedia.org/wiki/Mad_Libs) you can find this one:\n",
    "<!--\n",
    "![image.png](attachment:image.png)\n",
    "-->"
   ]
  },
  {
   "cell_type": "code",
   "execution_count": 9,
   "metadata": {},
   "outputs": [],
   "source": [
    "# code your solution here!"
   ]
  },
  {
   "cell_type": "markdown",
   "metadata": {},
   "source": [
    "[Here](https://www.madlibs.com/printables/) you can find much more examples. You can download a pdf with the template of a Mad Lib and try to complete, for example ... "
   ]
  },
  {
   "cell_type": "markdown",
   "metadata": {},
   "source": [
    "## Biography info\n",
    "\n",
    "Ask a user for their personal information one question at a time. Then check that the information they entered is valid. Finally, print a summary of all the information they entered back to them.\n",
    "\n",
    ">*Example*: What is your name? If the user enters * you prompt them that the input is wrong, and ask them to enter a valid name.\n",
    "\n",
    "It mandatory that you check the validity of the input data! At the end, if the input data are ok, you should print a short summary, otherwise you should print an error message with a guess on the probable error."
   ]
  },
  {
   "cell_type": "code",
   "execution_count": 10,
   "metadata": {},
   "outputs": [],
   "source": [
    "# code your solution here!"
   ]
  },
  {
   "cell_type": "markdown",
   "metadata": {},
   "source": [
    "### Check a date format\n",
    "\n",
    "First of all, we check if the date is valid or not. A date is called valid if it actually exists in the calendar. For checking the validity of the date, we will use one python module called ‘datetime’. This module doesn’t provide any dedicated method to check if a date is valid or not but we will use this module with a simple trick to find out if a date is valid or not. Before going into details, let me quickly introduce you to the datetime module.\n",
    "\n",
    "#### Python datetime module\n",
    "\n",
    "Python datetime module is one of the most useful modules to work with simple and complex time. We can import this module to a python program by using the ‘import datetime’ statement at the beginning of the program. This module provides a lot of different methods to work with time. For example, we can use this module to print the current time, add days to the current time, add hours to the current time, add minutes to the current time etc. ‘datetime’ module can work with ‘naive’ and ‘aware’ kind of date time objects. ‘aware’ objects can hold additional information with the date time value like daylight saving information etc. As I have explained above, it doesn’t provide any method to check the validity of a date. We will use its constructor to create one ‘datetime’ object using the user provided values. If the constructor fails, it will throw one error. We will assume that the input values are not valid in that case.\n",
    "\n",
    "#### The The Algorithm to use \n",
    "\n",
    "- Get the input from the user\n",
    "- Input should be in the form of yyyy/mm/dd\n",
    "- Extract the inputs in different variables. e.g. if the user input is 02/04/99, we will extract the numbers 02, 04, and 99 and store them in three different variables.\n",
    "- Use the constructor of ‘datetime’ module to check if the date is valid or not."
   ]
  },
  {
   "cell_type": "code",
   "execution_count": 11,
   "metadata": {},
   "outputs": [],
   "source": [
    "# code your solution here!"
   ]
  },
  {
   "cell_type": "markdown",
   "metadata": {},
   "source": [
    "Let's transform this code into a function..."
   ]
  },
  {
   "cell_type": "code",
   "execution_count": 12,
   "metadata": {},
   "outputs": [],
   "source": [
    "# code your solution here!"
   ]
  },
  {
   "cell_type": "markdown",
   "metadata": {},
   "source": [
    "Improve the validation phase checking if the input year is a leap year."
   ]
  },
  {
   "cell_type": "markdown",
   "metadata": {},
   "source": [
    "## Is it a palindrome?\n",
    "\n",
    "Ask the user to give you a few words. Then check if any of the words is a palindrome. A palindrome is a word that remains the same whether it's read forward or backward."
   ]
  },
  {
   "cell_type": "code",
   "execution_count": 13,
   "metadata": {},
   "outputs": [],
   "source": [
    "# code your solution here!"
   ]
  },
  {
   "cell_type": "markdown",
   "metadata": {},
   "source": [
    "## Conclusion and References\n",
    "\n",
    "- The documentation for the ipywidgets library is [here](https://ipywidgets.readthedocs.io/en/latest/index.html)\n",
    "- *42 Exciting Python Project Ideas & Topics for Beginners* by Rohit Sharma [link](https://www.upgrad.com/blog/python-projects-ideas-topics-beginners/#9_Desktop_Notifier_App)"
   ]
  }
 ],
 "metadata": {
  "kernelspec": {
   "display_name": "Python 3",
   "language": "python",
   "name": "python3"
  },
  "language_info": {
   "codemirror_mode": {
    "name": "ipython",
    "version": 3
   },
   "file_extension": ".py",
   "mimetype": "text/x-python",
   "name": "python",
   "nbconvert_exporter": "python",
   "pygments_lexer": "ipython3",
   "version": "3.7.4"
  },
  "toc": {
   "base_numbering": 1,
   "nav_menu": {},
   "number_sections": true,
   "sideBar": true,
   "skip_h1_title": false,
   "title_cell": "Table of Contents",
   "title_sidebar": "Contents",
   "toc_cell": false,
   "toc_position": {},
   "toc_section_display": true,
   "toc_window_display": false
  }
 },
 "nbformat": 4,
 "nbformat_minor": 4
}
